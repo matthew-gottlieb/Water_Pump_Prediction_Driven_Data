{
 "cells": [
  {
   "cell_type": "code",
   "execution_count": 2300,
   "metadata": {},
   "outputs": [],
   "source": [
    "import pandas as pd\n",
    "import numpy as np\n",
    "import matplotlib.pyplot as plt\n",
    "import seaborn as sns\n",
    "\n",
    "%matplotlib inline"
   ]
  },
  {
   "cell_type": "code",
   "execution_count": 2301,
   "metadata": {},
   "outputs": [],
   "source": [
    "#Importing Data\n",
    "train_features = pd.read_csv(r'C:\\Users\\Matth\\Desktop\\Matthew\\Smith MMA\\MMA 869 - Machine Learning & AI\\Final Team Project\\Training Set Features.csv')\n",
    "train_labs = pd.read_csv(r'C:\\Users\\Matth\\Desktop\\Matthew\\Smith MMA\\MMA 869 - Machine Learning & AI\\Final Team Project\\Training Set Labels.csv')\n",
    "\n",
    "test_features = pd.read_csv(r'C:\\Users\\Matth\\Desktop\\Matthew\\Smith MMA\\MMA 869 - Machine Learning & AI\\Final Team Project\\Test Set Features.csv')"
   ]
  },
  {
   "cell_type": "code",
   "execution_count": 2302,
   "metadata": {},
   "outputs": [
    {
     "data": {
      "text/html": [
       "<div>\n",
       "<style scoped>\n",
       "    .dataframe tbody tr th:only-of-type {\n",
       "        vertical-align: middle;\n",
       "    }\n",
       "\n",
       "    .dataframe tbody tr th {\n",
       "        vertical-align: top;\n",
       "    }\n",
       "\n",
       "    .dataframe thead th {\n",
       "        text-align: right;\n",
       "    }\n",
       "</style>\n",
       "<table border=\"1\" class=\"dataframe\">\n",
       "  <thead>\n",
       "    <tr style=\"text-align: right;\">\n",
       "      <th></th>\n",
       "      <th>id</th>\n",
       "      <th>amount_tsh</th>\n",
       "      <th>date_recorded</th>\n",
       "      <th>funder</th>\n",
       "      <th>gps_height</th>\n",
       "      <th>installer</th>\n",
       "      <th>longitude</th>\n",
       "      <th>latitude</th>\n",
       "      <th>wpt_name</th>\n",
       "      <th>num_private</th>\n",
       "      <th>...</th>\n",
       "      <th>payment_type</th>\n",
       "      <th>water_quality</th>\n",
       "      <th>quality_group</th>\n",
       "      <th>quantity</th>\n",
       "      <th>quantity_group</th>\n",
       "      <th>source</th>\n",
       "      <th>source_type</th>\n",
       "      <th>source_class</th>\n",
       "      <th>waterpoint_type</th>\n",
       "      <th>waterpoint_type_group</th>\n",
       "    </tr>\n",
       "  </thead>\n",
       "  <tbody>\n",
       "    <tr>\n",
       "      <th>0</th>\n",
       "      <td>69572</td>\n",
       "      <td>6000.0</td>\n",
       "      <td>2011-03-14</td>\n",
       "      <td>Roman</td>\n",
       "      <td>1390</td>\n",
       "      <td>Roman</td>\n",
       "      <td>34.938093</td>\n",
       "      <td>-9.856322</td>\n",
       "      <td>none</td>\n",
       "      <td>0</td>\n",
       "      <td>...</td>\n",
       "      <td>annually</td>\n",
       "      <td>soft</td>\n",
       "      <td>good</td>\n",
       "      <td>enough</td>\n",
       "      <td>enough</td>\n",
       "      <td>spring</td>\n",
       "      <td>spring</td>\n",
       "      <td>groundwater</td>\n",
       "      <td>communal standpipe</td>\n",
       "      <td>communal standpipe</td>\n",
       "    </tr>\n",
       "    <tr>\n",
       "      <th>1</th>\n",
       "      <td>8776</td>\n",
       "      <td>0.0</td>\n",
       "      <td>2013-03-06</td>\n",
       "      <td>Grumeti</td>\n",
       "      <td>1399</td>\n",
       "      <td>GRUMETI</td>\n",
       "      <td>34.698766</td>\n",
       "      <td>-2.147466</td>\n",
       "      <td>Zahanati</td>\n",
       "      <td>0</td>\n",
       "      <td>...</td>\n",
       "      <td>never pay</td>\n",
       "      <td>soft</td>\n",
       "      <td>good</td>\n",
       "      <td>insufficient</td>\n",
       "      <td>insufficient</td>\n",
       "      <td>rainwater harvesting</td>\n",
       "      <td>rainwater harvesting</td>\n",
       "      <td>surface</td>\n",
       "      <td>communal standpipe</td>\n",
       "      <td>communal standpipe</td>\n",
       "    </tr>\n",
       "    <tr>\n",
       "      <th>2</th>\n",
       "      <td>34310</td>\n",
       "      <td>25.0</td>\n",
       "      <td>2013-02-25</td>\n",
       "      <td>Lottery Club</td>\n",
       "      <td>686</td>\n",
       "      <td>World vision</td>\n",
       "      <td>37.460664</td>\n",
       "      <td>-3.821329</td>\n",
       "      <td>Kwa Mahundi</td>\n",
       "      <td>0</td>\n",
       "      <td>...</td>\n",
       "      <td>per bucket</td>\n",
       "      <td>soft</td>\n",
       "      <td>good</td>\n",
       "      <td>enough</td>\n",
       "      <td>enough</td>\n",
       "      <td>dam</td>\n",
       "      <td>dam</td>\n",
       "      <td>surface</td>\n",
       "      <td>communal standpipe multiple</td>\n",
       "      <td>communal standpipe</td>\n",
       "    </tr>\n",
       "    <tr>\n",
       "      <th>3</th>\n",
       "      <td>67743</td>\n",
       "      <td>0.0</td>\n",
       "      <td>2013-01-28</td>\n",
       "      <td>Unicef</td>\n",
       "      <td>263</td>\n",
       "      <td>UNICEF</td>\n",
       "      <td>38.486161</td>\n",
       "      <td>-11.155298</td>\n",
       "      <td>Zahanati Ya Nanyumbu</td>\n",
       "      <td>0</td>\n",
       "      <td>...</td>\n",
       "      <td>never pay</td>\n",
       "      <td>soft</td>\n",
       "      <td>good</td>\n",
       "      <td>dry</td>\n",
       "      <td>dry</td>\n",
       "      <td>machine dbh</td>\n",
       "      <td>borehole</td>\n",
       "      <td>groundwater</td>\n",
       "      <td>communal standpipe multiple</td>\n",
       "      <td>communal standpipe</td>\n",
       "    </tr>\n",
       "    <tr>\n",
       "      <th>4</th>\n",
       "      <td>19728</td>\n",
       "      <td>0.0</td>\n",
       "      <td>2011-07-13</td>\n",
       "      <td>Action In A</td>\n",
       "      <td>0</td>\n",
       "      <td>Artisan</td>\n",
       "      <td>31.130847</td>\n",
       "      <td>-1.825359</td>\n",
       "      <td>Shuleni</td>\n",
       "      <td>0</td>\n",
       "      <td>...</td>\n",
       "      <td>never pay</td>\n",
       "      <td>soft</td>\n",
       "      <td>good</td>\n",
       "      <td>seasonal</td>\n",
       "      <td>seasonal</td>\n",
       "      <td>rainwater harvesting</td>\n",
       "      <td>rainwater harvesting</td>\n",
       "      <td>surface</td>\n",
       "      <td>communal standpipe</td>\n",
       "      <td>communal standpipe</td>\n",
       "    </tr>\n",
       "  </tbody>\n",
       "</table>\n",
       "<p>5 rows × 40 columns</p>\n",
       "</div>"
      ],
      "text/plain": [
       "      id  amount_tsh date_recorded        funder  gps_height     installer  \\\n",
       "0  69572      6000.0    2011-03-14         Roman        1390         Roman   \n",
       "1   8776         0.0    2013-03-06       Grumeti        1399       GRUMETI   \n",
       "2  34310        25.0    2013-02-25  Lottery Club         686  World vision   \n",
       "3  67743         0.0    2013-01-28        Unicef         263        UNICEF   \n",
       "4  19728         0.0    2011-07-13   Action In A           0       Artisan   \n",
       "\n",
       "   longitude   latitude              wpt_name  num_private  ... payment_type  \\\n",
       "0  34.938093  -9.856322                  none            0  ...     annually   \n",
       "1  34.698766  -2.147466              Zahanati            0  ...    never pay   \n",
       "2  37.460664  -3.821329           Kwa Mahundi            0  ...   per bucket   \n",
       "3  38.486161 -11.155298  Zahanati Ya Nanyumbu            0  ...    never pay   \n",
       "4  31.130847  -1.825359               Shuleni            0  ...    never pay   \n",
       "\n",
       "  water_quality quality_group      quantity  quantity_group  \\\n",
       "0          soft          good        enough          enough   \n",
       "1          soft          good  insufficient    insufficient   \n",
       "2          soft          good        enough          enough   \n",
       "3          soft          good           dry             dry   \n",
       "4          soft          good      seasonal        seasonal   \n",
       "\n",
       "                 source           source_type  source_class  \\\n",
       "0                spring                spring   groundwater   \n",
       "1  rainwater harvesting  rainwater harvesting       surface   \n",
       "2                   dam                   dam       surface   \n",
       "3           machine dbh              borehole   groundwater   \n",
       "4  rainwater harvesting  rainwater harvesting       surface   \n",
       "\n",
       "               waterpoint_type waterpoint_type_group  \n",
       "0           communal standpipe    communal standpipe  \n",
       "1           communal standpipe    communal standpipe  \n",
       "2  communal standpipe multiple    communal standpipe  \n",
       "3  communal standpipe multiple    communal standpipe  \n",
       "4           communal standpipe    communal standpipe  \n",
       "\n",
       "[5 rows x 40 columns]"
      ]
     },
     "execution_count": 2302,
     "metadata": {},
     "output_type": "execute_result"
    }
   ],
   "source": [
    "train_features.head()"
   ]
  },
  {
   "cell_type": "code",
   "execution_count": 2303,
   "metadata": {},
   "outputs": [
    {
     "data": {
      "text/plain": [
       "(59400, 40)"
      ]
     },
     "execution_count": 2303,
     "metadata": {},
     "output_type": "execute_result"
    }
   ],
   "source": [
    "train_features.shape"
   ]
  },
  {
   "cell_type": "code",
   "execution_count": 2304,
   "metadata": {},
   "outputs": [
    {
     "data": {
      "text/html": [
       "<div>\n",
       "<style scoped>\n",
       "    .dataframe tbody tr th:only-of-type {\n",
       "        vertical-align: middle;\n",
       "    }\n",
       "\n",
       "    .dataframe tbody tr th {\n",
       "        vertical-align: top;\n",
       "    }\n",
       "\n",
       "    .dataframe thead th {\n",
       "        text-align: right;\n",
       "    }\n",
       "</style>\n",
       "<table border=\"1\" class=\"dataframe\">\n",
       "  <thead>\n",
       "    <tr style=\"text-align: right;\">\n",
       "      <th></th>\n",
       "      <th>id</th>\n",
       "      <th>status_group</th>\n",
       "    </tr>\n",
       "  </thead>\n",
       "  <tbody>\n",
       "    <tr>\n",
       "      <th>0</th>\n",
       "      <td>69572</td>\n",
       "      <td>functional</td>\n",
       "    </tr>\n",
       "    <tr>\n",
       "      <th>1</th>\n",
       "      <td>8776</td>\n",
       "      <td>functional</td>\n",
       "    </tr>\n",
       "    <tr>\n",
       "      <th>2</th>\n",
       "      <td>34310</td>\n",
       "      <td>functional</td>\n",
       "    </tr>\n",
       "    <tr>\n",
       "      <th>3</th>\n",
       "      <td>67743</td>\n",
       "      <td>non functional</td>\n",
       "    </tr>\n",
       "    <tr>\n",
       "      <th>4</th>\n",
       "      <td>19728</td>\n",
       "      <td>functional</td>\n",
       "    </tr>\n",
       "  </tbody>\n",
       "</table>\n",
       "</div>"
      ],
      "text/plain": [
       "      id    status_group\n",
       "0  69572      functional\n",
       "1   8776      functional\n",
       "2  34310      functional\n",
       "3  67743  non functional\n",
       "4  19728      functional"
      ]
     },
     "execution_count": 2304,
     "metadata": {},
     "output_type": "execute_result"
    }
   ],
   "source": [
    "train_labs.head()"
   ]
  },
  {
   "cell_type": "code",
   "execution_count": 2305,
   "metadata": {},
   "outputs": [
    {
     "data": {
      "text/plain": [
       "(59400, 2)"
      ]
     },
     "execution_count": 2305,
     "metadata": {},
     "output_type": "execute_result"
    }
   ],
   "source": [
    "#Matches up with train set # of cols and also ID\n",
    "train_labs.shape"
   ]
  },
  {
   "cell_type": "code",
   "execution_count": 2306,
   "metadata": {},
   "outputs": [],
   "source": [
    "combined_df = pd.concat((train_features, train_labs['status_group']), axis =1)"
   ]
  },
  {
   "cell_type": "code",
   "execution_count": 2307,
   "metadata": {},
   "outputs": [
    {
     "data": {
      "text/html": [
       "<div>\n",
       "<style scoped>\n",
       "    .dataframe tbody tr th:only-of-type {\n",
       "        vertical-align: middle;\n",
       "    }\n",
       "\n",
       "    .dataframe tbody tr th {\n",
       "        vertical-align: top;\n",
       "    }\n",
       "\n",
       "    .dataframe thead th {\n",
       "        text-align: right;\n",
       "    }\n",
       "</style>\n",
       "<table border=\"1\" class=\"dataframe\">\n",
       "  <thead>\n",
       "    <tr style=\"text-align: right;\">\n",
       "      <th></th>\n",
       "      <th>id</th>\n",
       "      <th>amount_tsh</th>\n",
       "      <th>date_recorded</th>\n",
       "      <th>funder</th>\n",
       "      <th>gps_height</th>\n",
       "      <th>installer</th>\n",
       "      <th>longitude</th>\n",
       "      <th>latitude</th>\n",
       "      <th>wpt_name</th>\n",
       "      <th>num_private</th>\n",
       "      <th>...</th>\n",
       "      <th>water_quality</th>\n",
       "      <th>quality_group</th>\n",
       "      <th>quantity</th>\n",
       "      <th>quantity_group</th>\n",
       "      <th>source</th>\n",
       "      <th>source_type</th>\n",
       "      <th>source_class</th>\n",
       "      <th>waterpoint_type</th>\n",
       "      <th>waterpoint_type_group</th>\n",
       "      <th>status_group</th>\n",
       "    </tr>\n",
       "  </thead>\n",
       "  <tbody>\n",
       "    <tr>\n",
       "      <th>0</th>\n",
       "      <td>69572</td>\n",
       "      <td>6000.0</td>\n",
       "      <td>2011-03-14</td>\n",
       "      <td>Roman</td>\n",
       "      <td>1390</td>\n",
       "      <td>Roman</td>\n",
       "      <td>34.938093</td>\n",
       "      <td>-9.856322</td>\n",
       "      <td>none</td>\n",
       "      <td>0</td>\n",
       "      <td>...</td>\n",
       "      <td>soft</td>\n",
       "      <td>good</td>\n",
       "      <td>enough</td>\n",
       "      <td>enough</td>\n",
       "      <td>spring</td>\n",
       "      <td>spring</td>\n",
       "      <td>groundwater</td>\n",
       "      <td>communal standpipe</td>\n",
       "      <td>communal standpipe</td>\n",
       "      <td>functional</td>\n",
       "    </tr>\n",
       "    <tr>\n",
       "      <th>1</th>\n",
       "      <td>8776</td>\n",
       "      <td>0.0</td>\n",
       "      <td>2013-03-06</td>\n",
       "      <td>Grumeti</td>\n",
       "      <td>1399</td>\n",
       "      <td>GRUMETI</td>\n",
       "      <td>34.698766</td>\n",
       "      <td>-2.147466</td>\n",
       "      <td>Zahanati</td>\n",
       "      <td>0</td>\n",
       "      <td>...</td>\n",
       "      <td>soft</td>\n",
       "      <td>good</td>\n",
       "      <td>insufficient</td>\n",
       "      <td>insufficient</td>\n",
       "      <td>rainwater harvesting</td>\n",
       "      <td>rainwater harvesting</td>\n",
       "      <td>surface</td>\n",
       "      <td>communal standpipe</td>\n",
       "      <td>communal standpipe</td>\n",
       "      <td>functional</td>\n",
       "    </tr>\n",
       "    <tr>\n",
       "      <th>2</th>\n",
       "      <td>34310</td>\n",
       "      <td>25.0</td>\n",
       "      <td>2013-02-25</td>\n",
       "      <td>Lottery Club</td>\n",
       "      <td>686</td>\n",
       "      <td>World vision</td>\n",
       "      <td>37.460664</td>\n",
       "      <td>-3.821329</td>\n",
       "      <td>Kwa Mahundi</td>\n",
       "      <td>0</td>\n",
       "      <td>...</td>\n",
       "      <td>soft</td>\n",
       "      <td>good</td>\n",
       "      <td>enough</td>\n",
       "      <td>enough</td>\n",
       "      <td>dam</td>\n",
       "      <td>dam</td>\n",
       "      <td>surface</td>\n",
       "      <td>communal standpipe multiple</td>\n",
       "      <td>communal standpipe</td>\n",
       "      <td>functional</td>\n",
       "    </tr>\n",
       "    <tr>\n",
       "      <th>3</th>\n",
       "      <td>67743</td>\n",
       "      <td>0.0</td>\n",
       "      <td>2013-01-28</td>\n",
       "      <td>Unicef</td>\n",
       "      <td>263</td>\n",
       "      <td>UNICEF</td>\n",
       "      <td>38.486161</td>\n",
       "      <td>-11.155298</td>\n",
       "      <td>Zahanati Ya Nanyumbu</td>\n",
       "      <td>0</td>\n",
       "      <td>...</td>\n",
       "      <td>soft</td>\n",
       "      <td>good</td>\n",
       "      <td>dry</td>\n",
       "      <td>dry</td>\n",
       "      <td>machine dbh</td>\n",
       "      <td>borehole</td>\n",
       "      <td>groundwater</td>\n",
       "      <td>communal standpipe multiple</td>\n",
       "      <td>communal standpipe</td>\n",
       "      <td>non functional</td>\n",
       "    </tr>\n",
       "    <tr>\n",
       "      <th>4</th>\n",
       "      <td>19728</td>\n",
       "      <td>0.0</td>\n",
       "      <td>2011-07-13</td>\n",
       "      <td>Action In A</td>\n",
       "      <td>0</td>\n",
       "      <td>Artisan</td>\n",
       "      <td>31.130847</td>\n",
       "      <td>-1.825359</td>\n",
       "      <td>Shuleni</td>\n",
       "      <td>0</td>\n",
       "      <td>...</td>\n",
       "      <td>soft</td>\n",
       "      <td>good</td>\n",
       "      <td>seasonal</td>\n",
       "      <td>seasonal</td>\n",
       "      <td>rainwater harvesting</td>\n",
       "      <td>rainwater harvesting</td>\n",
       "      <td>surface</td>\n",
       "      <td>communal standpipe</td>\n",
       "      <td>communal standpipe</td>\n",
       "      <td>functional</td>\n",
       "    </tr>\n",
       "  </tbody>\n",
       "</table>\n",
       "<p>5 rows × 41 columns</p>\n",
       "</div>"
      ],
      "text/plain": [
       "      id  amount_tsh date_recorded        funder  gps_height     installer  \\\n",
       "0  69572      6000.0    2011-03-14         Roman        1390         Roman   \n",
       "1   8776         0.0    2013-03-06       Grumeti        1399       GRUMETI   \n",
       "2  34310        25.0    2013-02-25  Lottery Club         686  World vision   \n",
       "3  67743         0.0    2013-01-28        Unicef         263        UNICEF   \n",
       "4  19728         0.0    2011-07-13   Action In A           0       Artisan   \n",
       "\n",
       "   longitude   latitude              wpt_name  num_private  ... water_quality  \\\n",
       "0  34.938093  -9.856322                  none            0  ...          soft   \n",
       "1  34.698766  -2.147466              Zahanati            0  ...          soft   \n",
       "2  37.460664  -3.821329           Kwa Mahundi            0  ...          soft   \n",
       "3  38.486161 -11.155298  Zahanati Ya Nanyumbu            0  ...          soft   \n",
       "4  31.130847  -1.825359               Shuleni            0  ...          soft   \n",
       "\n",
       "  quality_group      quantity  quantity_group                source  \\\n",
       "0          good        enough          enough                spring   \n",
       "1          good  insufficient    insufficient  rainwater harvesting   \n",
       "2          good        enough          enough                   dam   \n",
       "3          good           dry             dry           machine dbh   \n",
       "4          good      seasonal        seasonal  rainwater harvesting   \n",
       "\n",
       "            source_type source_class              waterpoint_type  \\\n",
       "0                spring  groundwater           communal standpipe   \n",
       "1  rainwater harvesting      surface           communal standpipe   \n",
       "2                   dam      surface  communal standpipe multiple   \n",
       "3              borehole  groundwater  communal standpipe multiple   \n",
       "4  rainwater harvesting      surface           communal standpipe   \n",
       "\n",
       "  waterpoint_type_group    status_group  \n",
       "0    communal standpipe      functional  \n",
       "1    communal standpipe      functional  \n",
       "2    communal standpipe      functional  \n",
       "3    communal standpipe  non functional  \n",
       "4    communal standpipe      functional  \n",
       "\n",
       "[5 rows x 41 columns]"
      ]
     },
     "execution_count": 2307,
     "metadata": {},
     "output_type": "execute_result"
    }
   ],
   "source": [
    "combined_df.head()"
   ]
  },
  {
   "cell_type": "code",
   "execution_count": 2308,
   "metadata": {},
   "outputs": [
    {
     "data": {
      "text/plain": [
       "(59400, 41)"
      ]
     },
     "execution_count": 2308,
     "metadata": {},
     "output_type": "execute_result"
    }
   ],
   "source": [
    "#Succesfully combined both dfs; 59,400 instances and 41 cols\n",
    "combined_df.shape"
   ]
  },
  {
   "cell_type": "code",
   "execution_count": 2309,
   "metadata": {},
   "outputs": [],
   "source": [
    "#Also going to add in the test data set as we will do feature engineering & add/remove features\n",
    "#Will break off before modelling process\n",
    "\n",
    "combined_df = pd.concat([combined_df, test_features], axis = 0, ignore_index=True)"
   ]
  },
  {
   "cell_type": "code",
   "execution_count": 2310,
   "metadata": {},
   "outputs": [
    {
     "name": "stdout",
     "output_type": "stream",
     "text": [
      "(74250, 41)\n",
      "<class 'pandas.core.frame.DataFrame'>\n",
      "RangeIndex: 74250 entries, 0 to 74249\n",
      "Data columns (total 41 columns):\n",
      " #   Column                 Non-Null Count  Dtype  \n",
      "---  ------                 --------------  -----  \n",
      " 0   id                     74250 non-null  int64  \n",
      " 1   amount_tsh             74250 non-null  float64\n",
      " 2   date_recorded          74250 non-null  object \n",
      " 3   funder                 69746 non-null  object \n",
      " 4   gps_height             74250 non-null  int64  \n",
      " 5   installer              69718 non-null  object \n",
      " 6   longitude              74250 non-null  float64\n",
      " 7   latitude               74250 non-null  float64\n",
      " 8   wpt_name               74250 non-null  object \n",
      " 9   num_private            74250 non-null  int64  \n",
      " 10  basin                  74250 non-null  object \n",
      " 11  subvillage             73780 non-null  object \n",
      " 12  region                 74250 non-null  object \n",
      " 13  region_code            74250 non-null  int64  \n",
      " 14  district_code          74250 non-null  int64  \n",
      " 15  lga                    74250 non-null  object \n",
      " 16  ward                   74250 non-null  object \n",
      " 17  population             74250 non-null  int64  \n",
      " 18  public_meeting         70095 non-null  object \n",
      " 19  recorded_by            74250 non-null  object \n",
      " 20  scheme_management      69404 non-null  object \n",
      " 21  scheme_name            38992 non-null  object \n",
      " 22  permit                 70457 non-null  object \n",
      " 23  construction_year      74250 non-null  int64  \n",
      " 24  extraction_type        74250 non-null  object \n",
      " 25  extraction_type_group  74250 non-null  object \n",
      " 26  extraction_type_class  74250 non-null  object \n",
      " 27  management             74250 non-null  object \n",
      " 28  management_group       74250 non-null  object \n",
      " 29  payment                74250 non-null  object \n",
      " 30  payment_type           74250 non-null  object \n",
      " 31  water_quality          74250 non-null  object \n",
      " 32  quality_group          74250 non-null  object \n",
      " 33  quantity               74250 non-null  object \n",
      " 34  quantity_group         74250 non-null  object \n",
      " 35  source                 74250 non-null  object \n",
      " 36  source_type            74250 non-null  object \n",
      " 37  source_class           74250 non-null  object \n",
      " 38  waterpoint_type        74250 non-null  object \n",
      " 39  waterpoint_type_group  74250 non-null  object \n",
      " 40  status_group           59400 non-null  object \n",
      "dtypes: float64(3), int64(7), object(31)\n",
      "memory usage: 23.2+ MB\n"
     ]
    }
   ],
   "source": [
    "#Added an exta 14,850 rows from final test data; will remove prior to modelling process\n",
    "print(combined_df.shape)\n",
    "combined_df.info()"
   ]
  },
  {
   "cell_type": "code",
   "execution_count": 2311,
   "metadata": {},
   "outputs": [
    {
     "data": {
      "text/html": [
       "<div>\n",
       "<style scoped>\n",
       "    .dataframe tbody tr th:only-of-type {\n",
       "        vertical-align: middle;\n",
       "    }\n",
       "\n",
       "    .dataframe tbody tr th {\n",
       "        vertical-align: top;\n",
       "    }\n",
       "\n",
       "    .dataframe thead th {\n",
       "        text-align: right;\n",
       "    }\n",
       "</style>\n",
       "<table border=\"1\" class=\"dataframe\">\n",
       "  <thead>\n",
       "    <tr style=\"text-align: right;\">\n",
       "      <th></th>\n",
       "      <th>id</th>\n",
       "      <th>amount_tsh</th>\n",
       "      <th>date_recorded</th>\n",
       "      <th>funder</th>\n",
       "      <th>gps_height</th>\n",
       "      <th>installer</th>\n",
       "      <th>longitude</th>\n",
       "      <th>latitude</th>\n",
       "      <th>wpt_name</th>\n",
       "      <th>num_private</th>\n",
       "      <th>...</th>\n",
       "      <th>water_quality</th>\n",
       "      <th>quality_group</th>\n",
       "      <th>quantity</th>\n",
       "      <th>quantity_group</th>\n",
       "      <th>source</th>\n",
       "      <th>source_type</th>\n",
       "      <th>source_class</th>\n",
       "      <th>waterpoint_type</th>\n",
       "      <th>waterpoint_type_group</th>\n",
       "      <th>status_group</th>\n",
       "    </tr>\n",
       "  </thead>\n",
       "  <tbody>\n",
       "    <tr>\n",
       "      <th>0</th>\n",
       "      <td>69572</td>\n",
       "      <td>6000.0</td>\n",
       "      <td>2011-03-14</td>\n",
       "      <td>Roman</td>\n",
       "      <td>1390</td>\n",
       "      <td>Roman</td>\n",
       "      <td>34.938093</td>\n",
       "      <td>-9.856322</td>\n",
       "      <td>none</td>\n",
       "      <td>0</td>\n",
       "      <td>...</td>\n",
       "      <td>soft</td>\n",
       "      <td>good</td>\n",
       "      <td>enough</td>\n",
       "      <td>enough</td>\n",
       "      <td>spring</td>\n",
       "      <td>spring</td>\n",
       "      <td>groundwater</td>\n",
       "      <td>communal standpipe</td>\n",
       "      <td>communal standpipe</td>\n",
       "      <td>functional</td>\n",
       "    </tr>\n",
       "    <tr>\n",
       "      <th>1</th>\n",
       "      <td>8776</td>\n",
       "      <td>0.0</td>\n",
       "      <td>2013-03-06</td>\n",
       "      <td>Grumeti</td>\n",
       "      <td>1399</td>\n",
       "      <td>GRUMETI</td>\n",
       "      <td>34.698766</td>\n",
       "      <td>-2.147466</td>\n",
       "      <td>Zahanati</td>\n",
       "      <td>0</td>\n",
       "      <td>...</td>\n",
       "      <td>soft</td>\n",
       "      <td>good</td>\n",
       "      <td>insufficient</td>\n",
       "      <td>insufficient</td>\n",
       "      <td>rainwater harvesting</td>\n",
       "      <td>rainwater harvesting</td>\n",
       "      <td>surface</td>\n",
       "      <td>communal standpipe</td>\n",
       "      <td>communal standpipe</td>\n",
       "      <td>functional</td>\n",
       "    </tr>\n",
       "    <tr>\n",
       "      <th>2</th>\n",
       "      <td>34310</td>\n",
       "      <td>25.0</td>\n",
       "      <td>2013-02-25</td>\n",
       "      <td>Lottery Club</td>\n",
       "      <td>686</td>\n",
       "      <td>World vision</td>\n",
       "      <td>37.460664</td>\n",
       "      <td>-3.821329</td>\n",
       "      <td>Kwa Mahundi</td>\n",
       "      <td>0</td>\n",
       "      <td>...</td>\n",
       "      <td>soft</td>\n",
       "      <td>good</td>\n",
       "      <td>enough</td>\n",
       "      <td>enough</td>\n",
       "      <td>dam</td>\n",
       "      <td>dam</td>\n",
       "      <td>surface</td>\n",
       "      <td>communal standpipe multiple</td>\n",
       "      <td>communal standpipe</td>\n",
       "      <td>functional</td>\n",
       "    </tr>\n",
       "    <tr>\n",
       "      <th>3</th>\n",
       "      <td>67743</td>\n",
       "      <td>0.0</td>\n",
       "      <td>2013-01-28</td>\n",
       "      <td>Unicef</td>\n",
       "      <td>263</td>\n",
       "      <td>UNICEF</td>\n",
       "      <td>38.486161</td>\n",
       "      <td>-11.155298</td>\n",
       "      <td>Zahanati Ya Nanyumbu</td>\n",
       "      <td>0</td>\n",
       "      <td>...</td>\n",
       "      <td>soft</td>\n",
       "      <td>good</td>\n",
       "      <td>dry</td>\n",
       "      <td>dry</td>\n",
       "      <td>machine dbh</td>\n",
       "      <td>borehole</td>\n",
       "      <td>groundwater</td>\n",
       "      <td>communal standpipe multiple</td>\n",
       "      <td>communal standpipe</td>\n",
       "      <td>non functional</td>\n",
       "    </tr>\n",
       "    <tr>\n",
       "      <th>4</th>\n",
       "      <td>19728</td>\n",
       "      <td>0.0</td>\n",
       "      <td>2011-07-13</td>\n",
       "      <td>Action In A</td>\n",
       "      <td>0</td>\n",
       "      <td>Artisan</td>\n",
       "      <td>31.130847</td>\n",
       "      <td>-1.825359</td>\n",
       "      <td>Shuleni</td>\n",
       "      <td>0</td>\n",
       "      <td>...</td>\n",
       "      <td>soft</td>\n",
       "      <td>good</td>\n",
       "      <td>seasonal</td>\n",
       "      <td>seasonal</td>\n",
       "      <td>rainwater harvesting</td>\n",
       "      <td>rainwater harvesting</td>\n",
       "      <td>surface</td>\n",
       "      <td>communal standpipe</td>\n",
       "      <td>communal standpipe</td>\n",
       "      <td>functional</td>\n",
       "    </tr>\n",
       "  </tbody>\n",
       "</table>\n",
       "<p>5 rows × 41 columns</p>\n",
       "</div>"
      ],
      "text/plain": [
       "      id  amount_tsh date_recorded        funder  gps_height     installer  \\\n",
       "0  69572      6000.0    2011-03-14         Roman        1390         Roman   \n",
       "1   8776         0.0    2013-03-06       Grumeti        1399       GRUMETI   \n",
       "2  34310        25.0    2013-02-25  Lottery Club         686  World vision   \n",
       "3  67743         0.0    2013-01-28        Unicef         263        UNICEF   \n",
       "4  19728         0.0    2011-07-13   Action In A           0       Artisan   \n",
       "\n",
       "   longitude   latitude              wpt_name  num_private  ... water_quality  \\\n",
       "0  34.938093  -9.856322                  none            0  ...          soft   \n",
       "1  34.698766  -2.147466              Zahanati            0  ...          soft   \n",
       "2  37.460664  -3.821329           Kwa Mahundi            0  ...          soft   \n",
       "3  38.486161 -11.155298  Zahanati Ya Nanyumbu            0  ...          soft   \n",
       "4  31.130847  -1.825359               Shuleni            0  ...          soft   \n",
       "\n",
       "  quality_group      quantity  quantity_group                source  \\\n",
       "0          good        enough          enough                spring   \n",
       "1          good  insufficient    insufficient  rainwater harvesting   \n",
       "2          good        enough          enough                   dam   \n",
       "3          good           dry             dry           machine dbh   \n",
       "4          good      seasonal        seasonal  rainwater harvesting   \n",
       "\n",
       "            source_type source_class              waterpoint_type  \\\n",
       "0                spring  groundwater           communal standpipe   \n",
       "1  rainwater harvesting      surface           communal standpipe   \n",
       "2                   dam      surface  communal standpipe multiple   \n",
       "3              borehole  groundwater  communal standpipe multiple   \n",
       "4  rainwater harvesting      surface           communal standpipe   \n",
       "\n",
       "  waterpoint_type_group    status_group  \n",
       "0    communal standpipe      functional  \n",
       "1    communal standpipe      functional  \n",
       "2    communal standpipe      functional  \n",
       "3    communal standpipe  non functional  \n",
       "4    communal standpipe      functional  \n",
       "\n",
       "[5 rows x 41 columns]"
      ]
     },
     "execution_count": 2311,
     "metadata": {},
     "output_type": "execute_result"
    }
   ],
   "source": [
    "combined_df.head()"
   ]
  },
  {
   "cell_type": "code",
   "execution_count": 2312,
   "metadata": {},
   "outputs": [
    {
     "data": {
      "text/plain": [
       "id                           0\n",
       "amount_tsh                   0\n",
       "date_recorded                0\n",
       "funder                    4504\n",
       "gps_height                   0\n",
       "installer                 4532\n",
       "longitude                    0\n",
       "latitude                     0\n",
       "wpt_name                     0\n",
       "num_private                  0\n",
       "basin                        0\n",
       "subvillage                 470\n",
       "region                       0\n",
       "region_code                  0\n",
       "district_code                0\n",
       "lga                          0\n",
       "ward                         0\n",
       "population                   0\n",
       "public_meeting            4155\n",
       "recorded_by                  0\n",
       "scheme_management         4846\n",
       "scheme_name              35258\n",
       "permit                    3793\n",
       "construction_year            0\n",
       "extraction_type              0\n",
       "extraction_type_group        0\n",
       "extraction_type_class        0\n",
       "management                   0\n",
       "management_group             0\n",
       "payment                      0\n",
       "payment_type                 0\n",
       "water_quality                0\n",
       "quality_group                0\n",
       "quantity                     0\n",
       "quantity_group               0\n",
       "source                       0\n",
       "source_type                  0\n",
       "source_class                 0\n",
       "waterpoint_type              0\n",
       "waterpoint_type_group        0\n",
       "status_group             14850\n",
       "dtype: int64"
      ]
     },
     "execution_count": 2312,
     "metadata": {},
     "output_type": "execute_result"
    }
   ],
   "source": [
    "#Lets check for any null values to see if we are missing data\n",
    "combined_df.isnull().sum()\n",
    "\n",
    "#3,635 missing values in both funder & installer; possible connected?\n",
    "#371 in sub village\n",
    "#Public meeting 3,334 missing\n",
    "#Scheme management similar at 3,877\n",
    "#Permit 3,056 missing\n",
    "#Scheme_name 28,166 missing vals; this could be significant problem"
   ]
  },
  {
   "cell_type": "code",
   "execution_count": 2313,
   "metadata": {},
   "outputs": [
    {
     "data": {
      "text/html": [
       "<div>\n",
       "<style scoped>\n",
       "    .dataframe tbody tr th:only-of-type {\n",
       "        vertical-align: middle;\n",
       "    }\n",
       "\n",
       "    .dataframe tbody tr th {\n",
       "        vertical-align: top;\n",
       "    }\n",
       "\n",
       "    .dataframe thead th {\n",
       "        text-align: right;\n",
       "    }\n",
       "</style>\n",
       "<table border=\"1\" class=\"dataframe\">\n",
       "  <thead>\n",
       "    <tr style=\"text-align: right;\">\n",
       "      <th></th>\n",
       "      <th>scheme_name</th>\n",
       "    </tr>\n",
       "  </thead>\n",
       "  <tbody>\n",
       "    <tr>\n",
       "      <th>NaN</th>\n",
       "      <td>35258</td>\n",
       "    </tr>\n",
       "    <tr>\n",
       "      <th>K</th>\n",
       "      <td>858</td>\n",
       "    </tr>\n",
       "    <tr>\n",
       "      <th>None</th>\n",
       "      <td>794</td>\n",
       "    </tr>\n",
       "    <tr>\n",
       "      <th>Borehole</th>\n",
       "      <td>704</td>\n",
       "    </tr>\n",
       "    <tr>\n",
       "      <th>Chalinze wate</th>\n",
       "      <td>501</td>\n",
       "    </tr>\n",
       "  </tbody>\n",
       "</table>\n",
       "</div>"
      ],
      "text/plain": [
       "               scheme_name\n",
       "NaN                  35258\n",
       "K                      858\n",
       "None                   794\n",
       "Borehole               704\n",
       "Chalinze wate          501"
      ]
     },
     "execution_count": 2313,
     "metadata": {},
     "output_type": "execute_result"
    }
   ],
   "source": [
    "#Lets first look at scheme name as has by far the highest amount of missing vals\n",
    "#A few possible strategies: 1) impute mode or create new class called \"missing\" (preferred) or 2) delete instances of missing vals (would throw away ~50% of data so not viable)\n",
    "pd.options.display.max_rows = 100\n",
    "\n",
    "scheme_nams_vals = pd.DataFrame(combined_df['scheme_name'].value_counts(dropna = False))\n",
    "scheme_nams_vals.head()"
   ]
  },
  {
   "cell_type": "code",
   "execution_count": 2314,
   "metadata": {},
   "outputs": [
    {
     "data": {
      "text/plain": [
       "2828"
      ]
     },
     "execution_count": 2314,
     "metadata": {},
     "output_type": "execute_result"
    }
   ],
   "source": [
    "#Checking how many values are under 50\n",
    "scheme_nams_vals_under_100 = scheme_nams_vals.loc[scheme_nams_vals['scheme_name'] <100]\n",
    "\n",
    "scheme_nams_vals_under_100['scheme_name'].count()"
   ]
  },
  {
   "cell_type": "code",
   "execution_count": 2315,
   "metadata": {},
   "outputs": [
    {
     "data": {
      "text/html": [
       "<div>\n",
       "<style scoped>\n",
       "    .dataframe tbody tr th:only-of-type {\n",
       "        vertical-align: middle;\n",
       "    }\n",
       "\n",
       "    .dataframe tbody tr th {\n",
       "        vertical-align: top;\n",
       "    }\n",
       "\n",
       "    .dataframe thead th {\n",
       "        text-align: right;\n",
       "    }\n",
       "</style>\n",
       "<table border=\"1\" class=\"dataframe\">\n",
       "  <thead>\n",
       "    <tr style=\"text-align: right;\">\n",
       "      <th></th>\n",
       "      <th>scheme_name</th>\n",
       "    </tr>\n",
       "  </thead>\n",
       "  <tbody>\n",
       "    <tr>\n",
       "      <th>D</th>\n",
       "      <td>98</td>\n",
       "    </tr>\n",
       "    <tr>\n",
       "      <th>Mitema</th>\n",
       "      <td>97</td>\n",
       "    </tr>\n",
       "    <tr>\n",
       "      <th>Mradi wa maji wa peramiho</th>\n",
       "      <td>96</td>\n",
       "    </tr>\n",
       "    <tr>\n",
       "      <th>Olkokola pipe line</th>\n",
       "      <td>96</td>\n",
       "    </tr>\n",
       "    <tr>\n",
       "      <th>Sinyanga  water supplied sc</th>\n",
       "      <td>95</td>\n",
       "    </tr>\n",
       "  </tbody>\n",
       "</table>\n",
       "</div>"
      ],
      "text/plain": [
       "                             scheme_name\n",
       "D                                     98\n",
       "Mitema                                97\n",
       "Mradi wa maji wa peramiho             96\n",
       "Olkokola pipe line                    96\n",
       "Sinyanga  water supplied sc           95"
      ]
     },
     "execution_count": 2315,
     "metadata": {},
     "output_type": "execute_result"
    }
   ],
   "source": [
    "scheme_nams_vals_under_100.head()"
   ]
  },
  {
   "cell_type": "code",
   "execution_count": 2316,
   "metadata": {},
   "outputs": [
    {
     "name": "stderr",
     "output_type": "stream",
     "text": [
      "<ipython-input-2316-e020a85b746a>:2: SettingWithCopyWarning: \n",
      "A value is trying to be set on a copy of a slice from a DataFrame.\n",
      "Try using .loc[row_indexer,col_indexer] = value instead\n",
      "\n",
      "See the caveats in the documentation: https://pandas.pydata.org/pandas-docs/stable/user_guide/indexing.html#returning-a-view-versus-a-copy\n",
      "  scheme_nams_vals_under_100['col_names'] = scheme_nams_vals_under_100.index\n"
     ]
    }
   ],
   "source": [
    "#Pulling out column names and creating a list of them\n",
    "scheme_nams_vals_under_100['col_names'] = scheme_nams_vals_under_100.index\n",
    "\n",
    "scheme_name_under100_list = scheme_nams_vals_under_100['col_names'].tolist()\n",
    "\n",
    "\n",
    "\n"
   ]
  },
  {
   "cell_type": "code",
   "execution_count": 2317,
   "metadata": {},
   "outputs": [],
   "source": [
    "#Function to bin <50\n",
    "combined_df['scheme_name_2'] = combined_df['scheme_name'].apply(lambda x: 'other' if x in scheme_name_under100_list else x)\n",
    "\n",
    "combined_df[['scheme_name', 'scheme_name_2']].head() #now drop scheme_name to be replaced by scheme_name_2\n",
    "\n",
    "combined_df.drop('scheme_name', axis = 1, inplace=True)"
   ]
  },
  {
   "cell_type": "code",
   "execution_count": 2318,
   "metadata": {},
   "outputs": [
    {
     "data": {
      "text/plain": [
       "other                                    28727\n",
       "K                                          858\n",
       "None                                       794\n",
       "Borehole                                   704\n",
       "Chalinze wate                              501\n",
       "M                                          490\n",
       "DANIDA                                     483\n",
       "Government                                 395\n",
       "Ngana water supplied scheme                335\n",
       "wanging'ombe water supply s                323\n",
       "Bagamoyo wate                              296\n",
       "wanging'ombe supply scheme                 284\n",
       "I                                          281\n",
       "Uroki-Bomang'ombe water sup                266\n",
       "N                                          258\n",
       "Kirua kahe gravity water supply trust      237\n",
       "Machumba estate pipe line                  225\n",
       "Makwale water supplied sche                209\n",
       "Kijiji                                     205\n",
       "Handeni Trunk Main(H                       204\n",
       "S                                          188\n",
       "Losaa-Kia water supply                     184\n",
       "mtwango water supply scheme                183\n",
       "Mkongoro Two                               179\n",
       "Roman                                      171\n",
       "Mkongoro One                               159\n",
       "Lyamungo umbwe water supply                154\n",
       "Maambreni gravity water supply             149\n",
       "Kirua kahe pumping water trust             136\n",
       "Ki                                         133\n",
       "Nabaiye pipe line                          127\n",
       "Nasula gravity water supply                126\n",
       "upper Ruvu                                 122\n",
       "Sinyanga water supplied sch                122\n",
       "Mradi wa maji wa wino                      117\n",
       "Kidia kilemapunda                          116\n",
       "Lyamungo-Umbwe water supply                114\n",
       "imalinyi supply scheme                     113\n",
       "Ikela Wa                                   113\n",
       "Una mkolowoni                              109\n",
       "Shallow well                               102\n",
       "Name: scheme_name_2, dtype: int64"
      ]
     },
     "execution_count": 2318,
     "metadata": {},
     "output_type": "execute_result"
    }
   ],
   "source": [
    "#Ensuring that it worked\n",
    "combined_df['scheme_name_2'].value_counts()"
   ]
  },
  {
   "cell_type": "code",
   "execution_count": 2319,
   "metadata": {},
   "outputs": [
    {
     "data": {
      "text/html": [
       "<div>\n",
       "<style scoped>\n",
       "    .dataframe tbody tr th:only-of-type {\n",
       "        vertical-align: middle;\n",
       "    }\n",
       "\n",
       "    .dataframe tbody tr th {\n",
       "        vertical-align: top;\n",
       "    }\n",
       "\n",
       "    .dataframe thead th {\n",
       "        text-align: right;\n",
       "    }\n",
       "</style>\n",
       "<table border=\"1\" class=\"dataframe\">\n",
       "  <thead>\n",
       "    <tr style=\"text-align: right;\">\n",
       "      <th></th>\n",
       "      <th>id_install</th>\n",
       "      <th>installer</th>\n",
       "    </tr>\n",
       "  </thead>\n",
       "  <tbody>\n",
       "    <tr>\n",
       "      <th>34</th>\n",
       "      <td>41583</td>\n",
       "      <td>NaN</td>\n",
       "    </tr>\n",
       "    <tr>\n",
       "      <th>43</th>\n",
       "      <td>19282</td>\n",
       "      <td>NaN</td>\n",
       "    </tr>\n",
       "    <tr>\n",
       "      <th>47</th>\n",
       "      <td>13620</td>\n",
       "      <td>NaN</td>\n",
       "    </tr>\n",
       "    <tr>\n",
       "      <th>65</th>\n",
       "      <td>51072</td>\n",
       "      <td>NaN</td>\n",
       "    </tr>\n",
       "    <tr>\n",
       "      <th>71</th>\n",
       "      <td>17386</td>\n",
       "      <td>NaN</td>\n",
       "    </tr>\n",
       "    <tr>\n",
       "      <th>...</th>\n",
       "      <td>...</td>\n",
       "      <td>...</td>\n",
       "    </tr>\n",
       "    <tr>\n",
       "      <th>74171</th>\n",
       "      <td>4250</td>\n",
       "      <td>NaN</td>\n",
       "    </tr>\n",
       "    <tr>\n",
       "      <th>74172</th>\n",
       "      <td>56000</td>\n",
       "      <td>NaN</td>\n",
       "    </tr>\n",
       "    <tr>\n",
       "      <th>74195</th>\n",
       "      <td>52726</td>\n",
       "      <td>NaN</td>\n",
       "    </tr>\n",
       "    <tr>\n",
       "      <th>74223</th>\n",
       "      <td>21131</td>\n",
       "      <td>NaN</td>\n",
       "    </tr>\n",
       "    <tr>\n",
       "      <th>74247</th>\n",
       "      <td>28749</td>\n",
       "      <td>NaN</td>\n",
       "    </tr>\n",
       "  </tbody>\n",
       "</table>\n",
       "<p>4532 rows × 2 columns</p>\n",
       "</div>"
      ],
      "text/plain": [
       "       id_install installer\n",
       "34          41583       NaN\n",
       "43          19282       NaN\n",
       "47          13620       NaN\n",
       "65          51072       NaN\n",
       "71          17386       NaN\n",
       "...           ...       ...\n",
       "74171        4250       NaN\n",
       "74172       56000       NaN\n",
       "74195       52726       NaN\n",
       "74223       21131       NaN\n",
       "74247       28749       NaN\n",
       "\n",
       "[4532 rows x 2 columns]"
      ]
     },
     "execution_count": 2319,
     "metadata": {},
     "output_type": "execute_result"
    }
   ],
   "source": [
    "#Next look at funder & installer\n",
    "#Both have similar amount of nan values, so will check to see if id's match up\n",
    "\n",
    "funder_null_vals = combined_df[['id', 'funder']]\n",
    "funder_null_vals = funder_null_vals.loc[funder_null_vals['funder'].isnull()]\n",
    "funder_null_vals\n",
    "\n",
    "installer_null_vals = combined_df[['id', 'installer']]\n",
    "installer_null_vals = installer_null_vals.loc[installer_null_vals['installer'].isnull()]\n",
    "installer_null_vals.rename(columns={'id':'id_install'}, inplace=True)\n",
    "installer_null_vals"
   ]
  },
  {
   "cell_type": "code",
   "execution_count": 2320,
   "metadata": {},
   "outputs": [
    {
     "data": {
      "text/html": [
       "<div>\n",
       "<style scoped>\n",
       "    .dataframe tbody tr th:only-of-type {\n",
       "        vertical-align: middle;\n",
       "    }\n",
       "\n",
       "    .dataframe tbody tr th {\n",
       "        vertical-align: top;\n",
       "    }\n",
       "\n",
       "    .dataframe thead th {\n",
       "        text-align: right;\n",
       "    }\n",
       "</style>\n",
       "<table border=\"1\" class=\"dataframe\">\n",
       "  <thead>\n",
       "    <tr style=\"text-align: right;\">\n",
       "      <th></th>\n",
       "      <th>id_install</th>\n",
       "      <th>installer</th>\n",
       "    </tr>\n",
       "  </thead>\n",
       "  <tbody>\n",
       "    <tr>\n",
       "      <th>34</th>\n",
       "      <td>41583</td>\n",
       "      <td>NaN</td>\n",
       "    </tr>\n",
       "    <tr>\n",
       "      <th>43</th>\n",
       "      <td>19282</td>\n",
       "      <td>NaN</td>\n",
       "    </tr>\n",
       "    <tr>\n",
       "      <th>47</th>\n",
       "      <td>13620</td>\n",
       "      <td>NaN</td>\n",
       "    </tr>\n",
       "    <tr>\n",
       "      <th>65</th>\n",
       "      <td>51072</td>\n",
       "      <td>NaN</td>\n",
       "    </tr>\n",
       "    <tr>\n",
       "      <th>71</th>\n",
       "      <td>17386</td>\n",
       "      <td>NaN</td>\n",
       "    </tr>\n",
       "  </tbody>\n",
       "</table>\n",
       "</div>"
      ],
      "text/plain": [
       "    id_install installer\n",
       "34       41583       NaN\n",
       "43       19282       NaN\n",
       "47       13620       NaN\n",
       "65       51072       NaN\n",
       "71       17386       NaN"
      ]
     },
     "execution_count": 2320,
     "metadata": {},
     "output_type": "execute_result"
    }
   ],
   "source": [
    "installer_null_vals.head()"
   ]
  },
  {
   "cell_type": "code",
   "execution_count": 2321,
   "metadata": {},
   "outputs": [
    {
     "data": {
      "text/html": [
       "<div>\n",
       "<style scoped>\n",
       "    .dataframe tbody tr th:only-of-type {\n",
       "        vertical-align: middle;\n",
       "    }\n",
       "\n",
       "    .dataframe tbody tr th {\n",
       "        vertical-align: top;\n",
       "    }\n",
       "\n",
       "    .dataframe thead th {\n",
       "        text-align: right;\n",
       "    }\n",
       "</style>\n",
       "<table border=\"1\" class=\"dataframe\">\n",
       "  <thead>\n",
       "    <tr style=\"text-align: right;\">\n",
       "      <th></th>\n",
       "      <th>id</th>\n",
       "      <th>id_install</th>\n",
       "    </tr>\n",
       "  </thead>\n",
       "  <tbody>\n",
       "    <tr>\n",
       "      <th>34</th>\n",
       "      <td>41583.0</td>\n",
       "      <td>41583.0</td>\n",
       "    </tr>\n",
       "    <tr>\n",
       "      <th>43</th>\n",
       "      <td>19282.0</td>\n",
       "      <td>19282.0</td>\n",
       "    </tr>\n",
       "    <tr>\n",
       "      <th>47</th>\n",
       "      <td>13620.0</td>\n",
       "      <td>13620.0</td>\n",
       "    </tr>\n",
       "    <tr>\n",
       "      <th>65</th>\n",
       "      <td>51072.0</td>\n",
       "      <td>51072.0</td>\n",
       "    </tr>\n",
       "    <tr>\n",
       "      <th>71</th>\n",
       "      <td>17386.0</td>\n",
       "      <td>17386.0</td>\n",
       "    </tr>\n",
       "  </tbody>\n",
       "</table>\n",
       "</div>"
      ],
      "text/plain": [
       "         id  id_install\n",
       "34  41583.0     41583.0\n",
       "43  19282.0     19282.0\n",
       "47  13620.0     13620.0\n",
       "65  51072.0     51072.0\n",
       "71  17386.0     17386.0"
      ]
     },
     "execution_count": 2321,
     "metadata": {},
     "output_type": "execute_result"
    }
   ],
   "source": [
    "funder_installer_df = pd.concat((funder_null_vals['id'], installer_null_vals['id_install']), axis = 1).apply(pd.to_numeric) #merging together and converting to numeric\n",
    "funder_installer_df.head()"
   ]
  },
  {
   "cell_type": "code",
   "execution_count": 2322,
   "metadata": {},
   "outputs": [
    {
     "data": {
      "text/plain": [
       "4439"
      ]
     },
     "execution_count": 2322,
     "metadata": {},
     "output_type": "execute_result"
    }
   ],
   "source": [
    "matches = np.intersect1d(funder_installer_df['id'], funder_installer_df['id_install']).tolist()\n",
    "len(matches) \n",
    "\n",
    "#this tells us that of approx. 3,645 total missing vals, 3,582 of them are the same ID (98.2%)"
   ]
  },
  {
   "cell_type": "code",
   "execution_count": 2323,
   "metadata": {},
   "outputs": [
    {
     "data": {
      "text/plain": [
       "Government Of Tanzania          11299\n",
       "Danida                           3907\n",
       "Hesawa                           2782\n",
       "Rwssp                            1703\n",
       "World Bank                       1701\n",
       "                                ...  \n",
       "Mzee Matiti Edwin                   1\n",
       "Diocese Of Mount Kilimanjaro        1\n",
       "Wanginyi Water                      1\n",
       "Mzee Smith                          1\n",
       "Arabi                               1\n",
       "Name: funder, Length: 2140, dtype: int64"
      ]
     },
     "execution_count": 2323,
     "metadata": {},
     "output_type": "execute_result"
    }
   ],
   "source": [
    "#Lets do the same and bin any value under 50\n",
    "combined_df['funder'].value_counts()"
   ]
  },
  {
   "cell_type": "code",
   "execution_count": 2324,
   "metadata": {},
   "outputs": [
    {
     "data": {
      "text/plain": [
       "2083"
      ]
     },
     "execution_count": 2324,
     "metadata": {},
     "output_type": "execute_result"
    }
   ],
   "source": [
    "#Pulling out funders that appear <50 times\n",
    "funder_under_50 = combined_df['funder'].value_counts().loc[lambda x: x<=200].index.tolist()\n",
    "\n",
    "len(funder_under_50)\n"
   ]
  },
  {
   "cell_type": "code",
   "execution_count": 2325,
   "metadata": {},
   "outputs": [],
   "source": [
    "#Now modifying the actual df\n",
    "combined_df['funder'] = combined_df['funder'].apply(lambda x: 'other' if x in funder_under_50 else x)"
   ]
  },
  {
   "cell_type": "code",
   "execution_count": 2326,
   "metadata": {},
   "outputs": [
    {
     "data": {
      "text/plain": [
       "other                             20661\n",
       "Government Of Tanzania            11299\n",
       "Danida                             3907\n",
       "Hesawa                             2782\n",
       "Rwssp                              1703\n",
       "World Bank                         1701\n",
       "Kkkt                               1623\n",
       "World Vision                       1562\n",
       "Unicef                             1324\n",
       "Tasaf                              1136\n",
       "Dhv                                1065\n",
       "District Council                   1037\n",
       "Private Individual                 1034\n",
       "Dwsp                               1012\n",
       "0                                   980\n",
       "Norad                               949\n",
       "Germany Republi                     765\n",
       "Water                               739\n",
       "Tcrs                                735\n",
       "Ministry Of Water                   728\n",
       "Dwe                                 605\n",
       "Netherlands                         592\n",
       "Hifab                               577\n",
       "Adb                                 551\n",
       "Lga                                 546\n",
       "Amref                               525\n",
       "Fini Water                          474\n",
       "Oxfam                               436\n",
       "Wateraid                            416\n",
       "Rc Church                           410\n",
       "Rudep                               390\n",
       "Isf                                 388\n",
       "Private                             380\n",
       "Mission                             379\n",
       "Jaica                               353\n",
       "Rural Water Supply And Sanitat      338\n",
       "Roman                               336\n",
       "Adra                                327\n",
       "Jica                                317\n",
       "Ces(gmbh)                           316\n",
       "Wsdp                                309\n",
       "Shipo                               301\n",
       "Rc                                  291\n",
       "Finw                                281\n",
       "Dh                                  261\n",
       "Kiliwater                           243\n",
       "Ded                                 237\n",
       "Dmdd                                237\n",
       "Plan Int                            234\n",
       "Lawatefuka Water Supply             229\n",
       "Magadini-makiwaru Water             226\n",
       "Oxfarm                              223\n",
       "W.B                                 223\n",
       "Go                                  214\n",
       "Fw                                  214\n",
       "Ces (gmbh)                          210\n",
       "Kkkt_makwale                        209\n",
       "Wvt                                 206\n",
       "Name: funder, dtype: int64"
      ]
     },
     "execution_count": 2326,
     "metadata": {},
     "output_type": "execute_result"
    }
   ],
   "source": [
    "#Worked successfully \n",
    "combined_df['funder'].value_counts()"
   ]
  },
  {
   "cell_type": "code",
   "execution_count": 2327,
   "metadata": {},
   "outputs": [],
   "source": [
    "#Creating a feature to signify if the Gov of Tanzania was the funder; possible that their projects go smoother?\n",
    "\n",
    "#def gov_funder(df):\n",
    "#    if df['funder'] == 'Government Of Tanzania':\n",
    "#        return 1\n",
    "#    else:\n",
    "#        return 0\n",
    "    \n",
    "#combined_df['gov_funder'] = combined_df.apply(gov_funder, axis =1)\n"
   ]
  },
  {
   "cell_type": "code",
   "execution_count": 2328,
   "metadata": {},
   "outputs": [],
   "source": [
    "#Changing to type object\n",
    "#combined_df['gov_funder'] = combined_df['gov_funder'].astype('object')\n",
    "#combined_df[['gov_funder', 'funder']]"
   ]
  },
  {
   "cell_type": "code",
   "execution_count": 2329,
   "metadata": {},
   "outputs": [
    {
     "data": {
      "text/plain": [
       "2361"
      ]
     },
     "execution_count": 2329,
     "metadata": {},
     "output_type": "execute_result"
    }
   ],
   "source": [
    "#Now lets do the same with Installer\n",
    "installer_under_50 = combined_df['installer'].value_counts().loc[lambda x: x<=200].index.tolist()\n",
    "\n",
    "len(installer_under_50)"
   ]
  },
  {
   "cell_type": "code",
   "execution_count": 2330,
   "metadata": {},
   "outputs": [
    {
     "data": {
      "text/plain": [
       "other                         22494\n",
       "DWE                           21751\n",
       "Government                     2282\n",
       "RWE                            1498\n",
       "Commu                          1347\n",
       "DANIDA                         1305\n",
       "KKKT                           1120\n",
       "Hesawa                         1070\n",
       "0                               980\n",
       "TCRS                            887\n",
       "CES                             765\n",
       "Central government              764\n",
       "DANID                           690\n",
       "Community                       687\n",
       "HESAWA                          679\n",
       "District Council                663\n",
       "World vision                    517\n",
       "TASAF                           504\n",
       "LGA                             501\n",
       "WEDECO                          496\n",
       "District council                490\n",
       "Gover                           483\n",
       "AMREF                           398\n",
       "TWESA                           395\n",
       "WU                              377\n",
       "Dmdd                            356\n",
       "ACRA                            346\n",
       "World Vision                    326\n",
       "SEMA                            311\n",
       "DW                              308\n",
       "OXFAM                           288\n",
       "Da                              287\n",
       "UNICEF                          285\n",
       "Gove                            276\n",
       "Kiliwater                       271\n",
       "FinW                            267\n",
       "Villagers                       262\n",
       "NORAD                           260\n",
       "Sengerema Water Department      258\n",
       "Idara ya maji                   254\n",
       "DH                              246\n",
       "DWSP                            239\n",
       "Lawatefuka water sup            229\n",
       "Magadini-Makiwaru wa            226\n",
       "Distri                          224\n",
       "RC                              219\n",
       "FW                              214\n",
       "KKKT _ Konde and DWE            209\n",
       "Handeni Trunk Main(             208\n",
       "WVT                             206\n",
       "Name: installer, dtype: int64"
      ]
     },
     "execution_count": 2330,
     "metadata": {},
     "output_type": "execute_result"
    }
   ],
   "source": [
    "#Binning <50 into 'other' category \n",
    "combined_df['installer'] = combined_df['installer'].apply(lambda x: 'other' if x in installer_under_50 else x)\n",
    "\n",
    "combined_df['installer'].value_counts()"
   ]
  },
  {
   "cell_type": "code",
   "execution_count": 2331,
   "metadata": {},
   "outputs": [],
   "source": [
    "#Similar to above, creating deature signifying if Government installed it\n",
    "#def gov_installer(df):\n",
    "#    if df['installer'] == 'Government':\n",
    "#        return 1\n",
    "#    else:\n",
    "#        return 0\n",
    "#    \n",
    "#combined_df['gov_installer'] = combined_df.apply(gov_installer, axis =1)"
   ]
  },
  {
   "cell_type": "code",
   "execution_count": 2332,
   "metadata": {},
   "outputs": [],
   "source": [
    "#Changing to type object\n",
    "#combined_df['gov_installer']= combined_df['gov_installer'].astype('object')\n",
    "#combined_df[['gov_installer', 'installer']]"
   ]
  },
  {
   "cell_type": "code",
   "execution_count": 2333,
   "metadata": {},
   "outputs": [
    {
     "name": "stdout",
     "output_type": "stream",
     "text": [
      "['id', 'amount_tsh', 'gps_height', 'longitude', 'latitude', 'num_private', 'region_code', 'district_code', 'population', 'construction_year']\n",
      "There are  10 numeric features\n"
     ]
    }
   ],
   "source": [
    "#Lets segment all the categorical cols and numeric cols so we know which ones we still have to deal with\n",
    "numeric_feats_combined = combined_df.select_dtypes(include='number').columns.tolist()\n",
    "\n",
    "print(numeric_feats_combined)\n",
    "print('There are ', len(numeric_feats_combined), 'numeric features')"
   ]
  },
  {
   "cell_type": "code",
   "execution_count": 2334,
   "metadata": {},
   "outputs": [
    {
     "name": "stdout",
     "output_type": "stream",
     "text": [
      "['date_recorded', 'funder', 'installer', 'wpt_name', 'basin', 'subvillage', 'region', 'lga', 'ward', 'public_meeting', 'recorded_by', 'scheme_management', 'permit', 'extraction_type', 'extraction_type_group', 'extraction_type_class', 'management', 'management_group', 'payment', 'payment_type', 'water_quality', 'quality_group', 'quantity', 'quantity_group', 'source', 'source_type', 'source_class', 'waterpoint_type', 'waterpoint_type_group', 'status_group', 'scheme_name_2']\n",
      "There are  31 categorical features\n"
     ]
    }
   ],
   "source": [
    "categorical_feats_combined = combined_df.select_dtypes(exclude='number').columns.tolist()\n",
    "\n",
    "print(categorical_feats_combined)\n",
    "print('There are ', len(categorical_feats_combined), 'categorical features')"
   ]
  },
  {
   "cell_type": "code",
   "execution_count": 2335,
   "metadata": {},
   "outputs": [
    {
     "name": "stdout",
     "output_type": "stream",
     "text": [
      "<class 'pandas.core.frame.DataFrame'>\n",
      "RangeIndex: 74250 entries, 0 to 74249\n",
      "Data columns (total 41 columns):\n",
      " #   Column                 Non-Null Count  Dtype  \n",
      "---  ------                 --------------  -----  \n",
      " 0   id                     74250 non-null  int64  \n",
      " 1   amount_tsh             74250 non-null  float64\n",
      " 2   date_recorded          74250 non-null  object \n",
      " 3   funder                 69746 non-null  object \n",
      " 4   gps_height             74250 non-null  int64  \n",
      " 5   installer              69718 non-null  object \n",
      " 6   longitude              74250 non-null  float64\n",
      " 7   latitude               74250 non-null  float64\n",
      " 8   wpt_name               74250 non-null  object \n",
      " 9   num_private            74250 non-null  int64  \n",
      " 10  basin                  74250 non-null  object \n",
      " 11  subvillage             73780 non-null  object \n",
      " 12  region                 74250 non-null  object \n",
      " 13  region_code            74250 non-null  int64  \n",
      " 14  district_code          74250 non-null  int64  \n",
      " 15  lga                    74250 non-null  object \n",
      " 16  ward                   74250 non-null  object \n",
      " 17  population             74250 non-null  int64  \n",
      " 18  public_meeting         70095 non-null  object \n",
      " 19  recorded_by            74250 non-null  object \n",
      " 20  scheme_management      69404 non-null  object \n",
      " 21  permit                 70457 non-null  object \n",
      " 22  construction_year      74250 non-null  int64  \n",
      " 23  extraction_type        74250 non-null  object \n",
      " 24  extraction_type_group  74250 non-null  object \n",
      " 25  extraction_type_class  74250 non-null  object \n",
      " 26  management             74250 non-null  object \n",
      " 27  management_group       74250 non-null  object \n",
      " 28  payment                74250 non-null  object \n",
      " 29  payment_type           74250 non-null  object \n",
      " 30  water_quality          74250 non-null  object \n",
      " 31  quality_group          74250 non-null  object \n",
      " 32  quantity               74250 non-null  object \n",
      " 33  quantity_group         74250 non-null  object \n",
      " 34  source                 74250 non-null  object \n",
      " 35  source_type            74250 non-null  object \n",
      " 36  source_class           74250 non-null  object \n",
      " 37  waterpoint_type        74250 non-null  object \n",
      " 38  waterpoint_type_group  74250 non-null  object \n",
      " 39  status_group           59400 non-null  object \n",
      " 40  scheme_name_2          38992 non-null  object \n",
      "dtypes: float64(3), int64(7), object(31)\n",
      "memory usage: 23.2+ MB\n"
     ]
    }
   ],
   "source": [
    "combined_df.info()"
   ]
  },
  {
   "cell_type": "code",
   "execution_count": 2336,
   "metadata": {},
   "outputs": [
    {
     "data": {
      "text/plain": [
       "Shuleni       646\n",
       "Majengo       631\n",
       "Madukani      629\n",
       "NaN           470\n",
       "Kati          467\n",
       "Mtakuja       322\n",
       "Sokoni        294\n",
       "M             243\n",
       "Muungano      215\n",
       "Mbuyuni       210\n",
       "Songambele    194\n",
       "Mlimani       190\n",
       "Miembeni      168\n",
       "Msikitini     164\n",
       "1             157\n",
       "Kanisani      146\n",
       "Kibaoni       143\n",
       "Mjini         131\n",
       "Mjimwema      129\n",
       "Mapinduzi     126\n",
       "Name: subvillage, dtype: int64"
      ]
     },
     "execution_count": 2336,
     "metadata": {},
     "output_type": "execute_result"
    }
   ],
   "source": [
    "#Lots of different values\n",
    "#NA is only 371 of the total, so can impute NaN using mode or KNN\n",
    "combined_df['subvillage'].value_counts(dropna = False).head(20)"
   ]
  },
  {
   "cell_type": "code",
   "execution_count": 2337,
   "metadata": {},
   "outputs": [
    {
     "data": {
      "text/plain": [
       "21389"
      ]
     },
     "execution_count": 2337,
     "metadata": {},
     "output_type": "execute_result"
    }
   ],
   "source": [
    "#Lets bin values from above under 50\n",
    "\n",
    "subvillage_under_50 = combined_df['subvillage'].value_counts().loc[lambda x: x<=100].index.tolist()\n",
    "len(subvillage_under_50)\n"
   ]
  },
  {
   "cell_type": "code",
   "execution_count": 2338,
   "metadata": {},
   "outputs": [
    {
     "data": {
      "text/plain": [
       "other                   66663\n",
       "Shuleni                   646\n",
       "Majengo                   631\n",
       "Madukani                  629\n",
       "Kati                      467\n",
       "Mtakuja                   322\n",
       "Sokoni                    294\n",
       "M                         243\n",
       "Muungano                  215\n",
       "Mbuyuni                   210\n",
       "Songambele                194\n",
       "Mlimani                   190\n",
       "Miembeni                  168\n",
       "Msikitini                 164\n",
       "1                         157\n",
       "Kanisani                  146\n",
       "Kibaoni                   143\n",
       "Mjini                     131\n",
       "Mjimwema                  129\n",
       "Mapinduzi                 126\n",
       "Mwenge                    125\n",
       "Mkwajuni                  125\n",
       "I                         124\n",
       "Bondeni                   121\n",
       "Azimio                    116\n",
       "Amani                     115\n",
       "Mabatini                  114\n",
       "Mbugani                   113\n",
       "Senta                     111\n",
       "Mission                   110\n",
       "Kichangani                110\n",
       "Mtaa Wa Kitunda Kati      108\n",
       "Chang'Ombe                108\n",
       "Zahanati                  104\n",
       "Nyerere                   103\n",
       "Bwawani                   103\n",
       "Misufini                  102\n",
       "Name: subvillage, dtype: int64"
      ]
     },
     "execution_count": 2338,
     "metadata": {},
     "output_type": "execute_result"
    }
   ],
   "source": [
    "#Function to bin values <50\n",
    "combined_df['subvillage'] = combined_df['subvillage'].apply(lambda x: 'other' if x in subvillage_under_50 else x)\n",
    "combined_df['subvillage'].value_counts()"
   ]
  },
  {
   "cell_type": "code",
   "execution_count": 2339,
   "metadata": {},
   "outputs": [
    {
     "data": {
      "text/plain": [
       "0       25969\n",
       "2010     3314\n",
       "2008     3243\n",
       "2009     3196\n",
       "2000     2578\n",
       "2007     1960\n",
       "2006     1892\n",
       "2011     1591\n",
       "2003     1579\n",
       "2004     1417\n",
       "2012     1347\n",
       "2002     1343\n",
       "1995     1283\n",
       "2005     1275\n",
       "1978     1267\n",
       "1999     1222\n",
       "1998     1190\n",
       "1985     1177\n",
       "1990     1176\n",
       "1996     1020\n",
       "1980     1005\n",
       "1984      970\n",
       "1994      940\n",
       "1982      926\n",
       "1972      892\n",
       "1997      821\n",
       "1974      814\n",
       "1992      807\n",
       "1993      745\n",
       "2001      680\n",
       "1988      657\n",
       "1983      594\n",
       "1975      561\n",
       "1986      553\n",
       "1976      525\n",
       "1970      493\n",
       "1991      407\n",
       "1989      396\n",
       "1987      370\n",
       "1981      291\n",
       "1977      247\n",
       "1979      245\n",
       "1973      227\n",
       "2013      209\n",
       "1971      177\n",
       "1960      124\n",
       "1963      107\n",
       "1967      106\n",
       "1968       93\n",
       "1969       77\n",
       "1964       48\n",
       "1962       36\n",
       "1961       28\n",
       "1965       21\n",
       "1966       19\n",
       "Name: construction_year, dtype: int64"
      ]
     },
     "execution_count": 2339,
     "metadata": {},
     "output_type": "execute_result"
    }
   ],
   "source": [
    "#Obvious issue here with 0 being predominant construction year\n",
    "#Change 0's to NAN to impute\n",
    "combined_df['construction_year'].value_counts(dropna = False)"
   ]
  },
  {
   "cell_type": "code",
   "execution_count": 2340,
   "metadata": {},
   "outputs": [
    {
     "data": {
      "text/html": [
       "<div>\n",
       "<style scoped>\n",
       "    .dataframe tbody tr th:only-of-type {\n",
       "        vertical-align: middle;\n",
       "    }\n",
       "\n",
       "    .dataframe tbody tr th {\n",
       "        vertical-align: top;\n",
       "    }\n",
       "\n",
       "    .dataframe thead th {\n",
       "        text-align: right;\n",
       "    }\n",
       "</style>\n",
       "<table border=\"1\" class=\"dataframe\">\n",
       "  <thead>\n",
       "    <tr style=\"text-align: right;\">\n",
       "      <th></th>\n",
       "      <th>waterpoint_age</th>\n",
       "      <th>construction_year</th>\n",
       "    </tr>\n",
       "  </thead>\n",
       "  <tbody>\n",
       "    <tr>\n",
       "      <th>0</th>\n",
       "      <td>16</td>\n",
       "      <td>1999</td>\n",
       "    </tr>\n",
       "    <tr>\n",
       "      <th>1</th>\n",
       "      <td>5</td>\n",
       "      <td>2010</td>\n",
       "    </tr>\n",
       "    <tr>\n",
       "      <th>2</th>\n",
       "      <td>6</td>\n",
       "      <td>2009</td>\n",
       "    </tr>\n",
       "    <tr>\n",
       "      <th>3</th>\n",
       "      <td>29</td>\n",
       "      <td>1986</td>\n",
       "    </tr>\n",
       "    <tr>\n",
       "      <th>4</th>\n",
       "      <td>0</td>\n",
       "      <td>0</td>\n",
       "    </tr>\n",
       "    <tr>\n",
       "      <th>...</th>\n",
       "      <td>...</td>\n",
       "      <td>...</td>\n",
       "    </tr>\n",
       "    <tr>\n",
       "      <th>74245</th>\n",
       "      <td>27</td>\n",
       "      <td>1988</td>\n",
       "    </tr>\n",
       "    <tr>\n",
       "      <th>74246</th>\n",
       "      <td>21</td>\n",
       "      <td>1994</td>\n",
       "    </tr>\n",
       "    <tr>\n",
       "      <th>74247</th>\n",
       "      <td>5</td>\n",
       "      <td>2010</td>\n",
       "    </tr>\n",
       "    <tr>\n",
       "      <th>74248</th>\n",
       "      <td>6</td>\n",
       "      <td>2009</td>\n",
       "    </tr>\n",
       "    <tr>\n",
       "      <th>74249</th>\n",
       "      <td>7</td>\n",
       "      <td>2008</td>\n",
       "    </tr>\n",
       "  </tbody>\n",
       "</table>\n",
       "<p>74250 rows × 2 columns</p>\n",
       "</div>"
      ],
      "text/plain": [
       "       waterpoint_age  construction_year\n",
       "0                  16               1999\n",
       "1                   5               2010\n",
       "2                   6               2009\n",
       "3                  29               1986\n",
       "4                   0                  0\n",
       "...               ...                ...\n",
       "74245              27               1988\n",
       "74246              21               1994\n",
       "74247               5               2010\n",
       "74248               6               2009\n",
       "74249               7               2008\n",
       "\n",
       "[74250 rows x 2 columns]"
      ]
     },
     "execution_count": 2340,
     "metadata": {},
     "output_type": "execute_result"
    }
   ],
   "source": [
    "#Adding in feature to represent age of Waterpoint Type\n",
    "\n",
    "combined_df['waterpoint_age'] = combined_df['construction_year'].apply(lambda x: 2015 - x if x > 0 else x)\n",
    "\n",
    "combined_df[['waterpoint_age', 'construction_year']]"
   ]
  },
  {
   "cell_type": "code",
   "execution_count": 2341,
   "metadata": {},
   "outputs": [
    {
     "name": "stdout",
     "output_type": "stream",
     "text": [
      "Total NA vals 25969\n",
      "NaN       25969\n",
      "2010.0     3314\n",
      "2008.0     3243\n",
      "2009.0     3196\n",
      "2000.0     2578\n",
      "2007.0     1960\n",
      "2006.0     1892\n",
      "2011.0     1591\n",
      "2003.0     1579\n",
      "2004.0     1417\n",
      "2012.0     1347\n",
      "2002.0     1343\n",
      "1995.0     1283\n",
      "2005.0     1275\n",
      "1978.0     1267\n",
      "1999.0     1222\n",
      "1998.0     1190\n",
      "1985.0     1177\n",
      "1990.0     1176\n",
      "1996.0     1020\n",
      "1980.0     1005\n",
      "1984.0      970\n",
      "1994.0      940\n",
      "1982.0      926\n",
      "1972.0      892\n",
      "1997.0      821\n",
      "1974.0      814\n",
      "1992.0      807\n",
      "1993.0      745\n",
      "2001.0      680\n",
      "1988.0      657\n",
      "1983.0      594\n",
      "1975.0      561\n",
      "1986.0      553\n",
      "1976.0      525\n",
      "1970.0      493\n",
      "1991.0      407\n",
      "1989.0      396\n",
      "1987.0      370\n",
      "1981.0      291\n",
      "1977.0      247\n",
      "1979.0      245\n",
      "1973.0      227\n",
      "2013.0      209\n",
      "1971.0      177\n",
      "1960.0      124\n",
      "1963.0      107\n",
      "1967.0      106\n",
      "1968.0       93\n",
      "1969.0       77\n",
      "1964.0       48\n",
      "1962.0       36\n",
      "1961.0       28\n",
      "1965.0       21\n",
      "1966.0       19\n",
      "Name: construction_year, dtype: int64\n"
     ]
    }
   ],
   "source": [
    "#Converting 0 vals into NA for future imputation\n",
    "combined_df['construction_year'] = combined_df['construction_year'].replace({0:np.nan})\n",
    "combined_df['waterpoint_age'] = combined_df['waterpoint_age'].replace({0:np.nan})\n",
    "\n",
    "print('Total NA vals', combined_df['construction_year'].isnull().sum())\n",
    "print(combined_df['construction_year'].value_counts(dropna=False))"
   ]
  },
  {
   "cell_type": "code",
   "execution_count": 2342,
   "metadata": {},
   "outputs": [],
   "source": [
    "#Lets also convert year into a categorical feature rather than leave as numeric\n",
    "#Bin if under 100 val\n",
    "\n",
    "combined_df['construction_year'] = combined_df['construction_year'].astype('object')"
   ]
  },
  {
   "cell_type": "code",
   "execution_count": 2343,
   "metadata": {},
   "outputs": [
    {
     "name": "stdout",
     "output_type": "stream",
     "text": [
      "7\n",
      "2010.0    3314\n",
      "2008.0    3243\n",
      "2009.0    3196\n",
      "2000.0    2578\n",
      "2007.0    1960\n",
      "2006.0    1892\n",
      "2011.0    1591\n",
      "2003.0    1579\n",
      "2004.0    1417\n",
      "2012.0    1347\n",
      "2002.0    1343\n",
      "1995.0    1283\n",
      "2005.0    1275\n",
      "1978.0    1267\n",
      "1999.0    1222\n",
      "1998.0    1190\n",
      "1985.0    1177\n",
      "1990.0    1176\n",
      "1996.0    1020\n",
      "1980.0    1005\n",
      "1984.0     970\n",
      "1994.0     940\n",
      "1982.0     926\n",
      "1972.0     892\n",
      "1997.0     821\n",
      "1974.0     814\n",
      "1992.0     807\n",
      "1993.0     745\n",
      "2001.0     680\n",
      "1988.0     657\n",
      "1983.0     594\n",
      "1975.0     561\n",
      "1986.0     553\n",
      "1976.0     525\n",
      "1970.0     493\n",
      "1991.0     407\n",
      "1989.0     396\n",
      "1987.0     370\n",
      "other      322\n",
      "1981.0     291\n",
      "1977.0     247\n",
      "1979.0     245\n",
      "1973.0     227\n",
      "2013.0     209\n",
      "1971.0     177\n",
      "1960.0     124\n",
      "1963.0     107\n",
      "1967.0     106\n",
      "Name: construction_year, dtype: int64\n"
     ]
    }
   ],
   "source": [
    "constructionyear_under_100 = combined_df['construction_year'].value_counts().loc[lambda x: x<=100].index.tolist()\n",
    "print(len(constructionyear_under_100))\n",
    "\n",
    "combined_df['construction_year'] = combined_df['construction_year'].apply(lambda x: 'other' if x in constructionyear_under_100 else x)\n",
    "print(combined_df['construction_year'].value_counts())"
   ]
  },
  {
   "cell_type": "code",
   "execution_count": 2344,
   "metadata": {},
   "outputs": [
    {
     "data": {
      "text/plain": [
       "11    6608\n",
       "17    6334\n",
       "12    5759\n",
       "3     5494\n",
       "5     5079\n",
       "18    4183\n",
       "19    3824\n",
       "2     3709\n",
       "16    3533\n",
       "10    3306\n",
       "4     3145\n",
       "1     2779\n",
       "13    2536\n",
       "14    2488\n",
       "20    2451\n",
       "15    2242\n",
       "6     2032\n",
       "21    1972\n",
       "80    1536\n",
       "60    1298\n",
       "90    1133\n",
       "7     1020\n",
       "99     512\n",
       "9      499\n",
       "24     402\n",
       "8      375\n",
       "40       1\n",
       "Name: region_code, dtype: int64"
      ]
     },
     "execution_count": 2344,
     "metadata": {},
     "output_type": "execute_result"
    }
   ],
   "source": [
    "#Not too much issue here; just change to object type\n",
    "#On second thought, that 1 off 40 value can cause issues; lets bin into class under 500\n",
    "combined_df['region_code'].value_counts(dropna=False)"
   ]
  },
  {
   "cell_type": "code",
   "execution_count": 2345,
   "metadata": {},
   "outputs": [
    {
     "name": "stdout",
     "output_type": "stream",
     "text": [
      "1\n",
      "11       6608\n",
      "17       6334\n",
      "12       5759\n",
      "3        5494\n",
      "5        5079\n",
      "18       4183\n",
      "19       3824\n",
      "2        3709\n",
      "16       3533\n",
      "10       3306\n",
      "4        3145\n",
      "1        2779\n",
      "13       2536\n",
      "14       2488\n",
      "20       2451\n",
      "15       2242\n",
      "6        2032\n",
      "21       1972\n",
      "80       1536\n",
      "60       1298\n",
      "90       1133\n",
      "7        1020\n",
      "99        512\n",
      "9         499\n",
      "24        402\n",
      "8         375\n",
      "other       1\n",
      "Name: region_code, dtype: int64\n"
     ]
    }
   ],
   "source": [
    "#Changing to object type\n",
    "combined_df['region_code'] = combined_df['region_code'].astype('object')\n",
    "\n",
    "#Binng region code 40 with region code 8\n",
    "regioncode_under_300 = combined_df['region_code'].value_counts().loc[lambda x: x<=300].index.tolist()\n",
    "print(len(regioncode_under_300))\n",
    "\n",
    "combined_df['region_code'] = combined_df['region_code'].apply(lambda x: 'other' if x in regioncode_under_300 else x)\n",
    "print(combined_df['region_code'].value_counts())"
   ]
  },
  {
   "cell_type": "code",
   "execution_count": 2346,
   "metadata": {},
   "outputs": [
    {
     "data": {
      "text/plain": [
       "1     15299\n",
       "2     13929\n",
       "3     12521\n",
       "4     11253\n",
       "5      5428\n",
       "6      5108\n",
       "7      4166\n",
       "8      1282\n",
       "30     1256\n",
       "33     1063\n",
       "53      921\n",
       "43      653\n",
       "13      496\n",
       "23      360\n",
       "63      264\n",
       "62      127\n",
       "60       76\n",
       "0        27\n",
       "80       13\n",
       "67        8\n",
       "Name: district_code, dtype: int64"
      ]
     },
     "execution_count": 2346,
     "metadata": {},
     "output_type": "execute_result"
    }
   ],
   "source": [
    "#Does not have any missing values\n",
    "combined_df['district_code'].value_counts()"
   ]
  },
  {
   "cell_type": "code",
   "execution_count": 2347,
   "metadata": {},
   "outputs": [
    {
     "name": "stdout",
     "output_type": "stream",
     "text": [
      "6\n",
      "1        15299\n",
      "2        13929\n",
      "3        12521\n",
      "4        11253\n",
      "5         5428\n",
      "6         5108\n",
      "7         4166\n",
      "8         1282\n",
      "30        1256\n",
      "33        1063\n",
      "53         921\n",
      "43         653\n",
      "other      515\n",
      "13         496\n",
      "23         360\n",
      "Name: district_code, dtype: int64\n"
     ]
    }
   ],
   "source": [
    "#Do the same with district code\n",
    "combined_df['district_code'] = combined_df['district_code'].astype('object')\n",
    "\n",
    "#Binng district codes uner 300\n",
    "districtcode_under_300 = combined_df['district_code'].value_counts().loc[lambda x: x<=300].index.tolist()\n",
    "print(len(districtcode_under_300))\n",
    "\n",
    "combined_df['district_code'] = combined_df['district_code'].apply(lambda x: 'other' if x in districtcode_under_300 else x)\n",
    "print(combined_df['district_code'].value_counts())\n"
   ]
  },
  {
   "cell_type": "code",
   "execution_count": 2348,
   "metadata": {},
   "outputs": [
    {
     "data": {
      "text/plain": [
       "2011-03-17    695\n",
       "2011-03-15    694\n",
       "2013-02-03    684\n",
       "2011-03-16    650\n",
       "2011-03-14    649\n",
       "             ... \n",
       "2011-09-27      1\n",
       "2004-01-12      1\n",
       "2011-09-21      1\n",
       "2011-09-09      1\n",
       "2011-09-25      1\n",
       "Name: date_recorded, Length: 369, dtype: int64"
      ]
     },
     "execution_count": 2348,
     "metadata": {},
     "output_type": "execute_result"
    }
   ],
   "source": [
    "#Lets take a look at the date column\n",
    "#High cardinality; change to a year variable\n",
    "combined_df['date_recorded'].isnull().sum()\n",
    "\n",
    "combined_df['date_recorded'].value_counts()"
   ]
  },
  {
   "cell_type": "code",
   "execution_count": 2349,
   "metadata": {},
   "outputs": [
    {
     "data": {
      "text/plain": [
       "0    2011\n",
       "1    2013\n",
       "2    2013\n",
       "3    2013\n",
       "4    2011\n",
       "Name: year_of_inspection, dtype: int32"
      ]
     },
     "execution_count": 2349,
     "metadata": {},
     "output_type": "execute_result"
    }
   ],
   "source": [
    "#Year of inspection is taking the year and dropping the day/month of inspection to reduce cardinality\n",
    "combined_df['year_of_inspection'] = combined_df['date_recorded'].apply(lambda x: x[0:4]).astype('int')\n",
    "combined_df['year_of_inspection'].head()\n"
   ]
  },
  {
   "cell_type": "code",
   "execution_count": 2350,
   "metadata": {},
   "outputs": [
    {
     "data": {
      "text/plain": [
       "4     35908\n",
       "2     30210\n",
       "3      8089\n",
       "11       41\n",
       "14        1\n",
       "13        1\n",
       "Name: years_since_inspected, dtype: int64"
      ]
     },
     "execution_count": 2350,
     "metadata": {},
     "output_type": "execute_result"
    }
   ],
   "source": [
    "#Creating final variable call years since inspected which is subtracting 2015 from year of inspection\n",
    "#Assuming data was collected in 2015\n",
    "combined_df['years_since_inspected'] = combined_df['year_of_inspection'].apply(lambda x: 2015 - x)\n",
    "\n",
    "combined_df['years_since_inspected'].value_counts()"
   ]
  },
  {
   "cell_type": "code",
   "execution_count": 2351,
   "metadata": {},
   "outputs": [
    {
     "name": "stdout",
     "output_type": "stream",
     "text": [
      "<class 'pandas.core.frame.DataFrame'>\n",
      "RangeIndex: 74250 entries, 0 to 74249\n",
      "Data columns (total 42 columns):\n",
      " #   Column                 Non-Null Count  Dtype  \n",
      "---  ------                 --------------  -----  \n",
      " 0   id                     74250 non-null  int64  \n",
      " 1   amount_tsh             74250 non-null  float64\n",
      " 2   funder                 69746 non-null  object \n",
      " 3   gps_height             74250 non-null  int64  \n",
      " 4   installer              69718 non-null  object \n",
      " 5   longitude              74250 non-null  float64\n",
      " 6   latitude               74250 non-null  float64\n",
      " 7   wpt_name               74250 non-null  object \n",
      " 8   num_private            74250 non-null  int64  \n",
      " 9   basin                  74250 non-null  object \n",
      " 10  subvillage             73780 non-null  object \n",
      " 11  region                 74250 non-null  object \n",
      " 12  region_code            74250 non-null  object \n",
      " 13  district_code          74250 non-null  object \n",
      " 14  lga                    74250 non-null  object \n",
      " 15  ward                   74250 non-null  object \n",
      " 16  population             74250 non-null  int64  \n",
      " 17  public_meeting         70095 non-null  object \n",
      " 18  recorded_by            74250 non-null  object \n",
      " 19  scheme_management      69404 non-null  object \n",
      " 20  permit                 70457 non-null  object \n",
      " 21  construction_year      48281 non-null  object \n",
      " 22  extraction_type        74250 non-null  object \n",
      " 23  extraction_type_group  74250 non-null  object \n",
      " 24  extraction_type_class  74250 non-null  object \n",
      " 25  management             74250 non-null  object \n",
      " 26  management_group       74250 non-null  object \n",
      " 27  payment                74250 non-null  object \n",
      " 28  payment_type           74250 non-null  object \n",
      " 29  water_quality          74250 non-null  object \n",
      " 30  quality_group          74250 non-null  object \n",
      " 31  quantity               74250 non-null  object \n",
      " 32  quantity_group         74250 non-null  object \n",
      " 33  source                 74250 non-null  object \n",
      " 34  source_type            74250 non-null  object \n",
      " 35  source_class           74250 non-null  object \n",
      " 36  waterpoint_type        74250 non-null  object \n",
      " 37  waterpoint_type_group  74250 non-null  object \n",
      " 38  status_group           59400 non-null  object \n",
      " 39  scheme_name_2          38992 non-null  object \n",
      " 40  waterpoint_age         48281 non-null  float64\n",
      " 41  years_since_inspected  74250 non-null  int64  \n",
      "dtypes: float64(4), int64(5), object(33)\n",
      "memory usage: 23.8+ MB\n"
     ]
    }
   ],
   "source": [
    "#Now lets drop date_recorded and year of inspection features; keeping years_since_inspected\n",
    "combined_df.drop('date_recorded', axis = 1, inplace=True)\n",
    "combined_df.drop('year_of_inspection', axis = 1, inplace=True)\n",
    "\n",
    "combined_df.info()"
   ]
  },
  {
   "cell_type": "code",
   "execution_count": 2352,
   "metadata": {},
   "outputs": [
    {
     "data": {
      "text/plain": [
       "['date_recorded',\n",
       " 'funder',\n",
       " 'installer',\n",
       " 'wpt_name',\n",
       " 'basin',\n",
       " 'subvillage',\n",
       " 'region',\n",
       " 'lga',\n",
       " 'ward',\n",
       " 'public_meeting',\n",
       " 'recorded_by',\n",
       " 'scheme_management',\n",
       " 'permit',\n",
       " 'extraction_type',\n",
       " 'extraction_type_group',\n",
       " 'extraction_type_class',\n",
       " 'management',\n",
       " 'management_group',\n",
       " 'payment',\n",
       " 'payment_type',\n",
       " 'water_quality',\n",
       " 'quality_group',\n",
       " 'quantity',\n",
       " 'quantity_group',\n",
       " 'source',\n",
       " 'source_type',\n",
       " 'source_class',\n",
       " 'waterpoint_type',\n",
       " 'waterpoint_type_group',\n",
       " 'status_group',\n",
       " 'scheme_name_2']"
      ]
     },
     "execution_count": 2352,
     "metadata": {},
     "output_type": "execute_result"
    }
   ],
   "source": [
    "#Checking which categorical features are still left to deal with\n",
    "categorical_feats_combined"
   ]
  },
  {
   "cell_type": "code",
   "execution_count": 2353,
   "metadata": {},
   "outputs": [
    {
     "data": {
      "text/plain": [
       "none                    4440\n",
       "Shuleni                 2183\n",
       "Zahanati                1034\n",
       "Msikitini                647\n",
       "Kanisani                 390\n",
       "                        ... \n",
       "Kwa Said Ramadhani         1\n",
       "Zahanati Ya Mwankoko       1\n",
       "Mahelelo Groups            1\n",
       "Kidiaunga                  1\n",
       "Kwa Kuminyapi              1\n",
       "Name: wpt_name, Length: 45684, dtype: int64"
      ]
     },
     "execution_count": 2353,
     "metadata": {},
     "output_type": "execute_result"
    }
   ],
   "source": [
    "#High Cardinality again; similar binning procedure <50\n",
    "combined_df['wpt_name'].value_counts()"
   ]
  },
  {
   "cell_type": "code",
   "execution_count": 2354,
   "metadata": {},
   "outputs": [
    {
     "name": "stdout",
     "output_type": "stream",
     "text": [
      "45664\n",
      "other              62712\n",
      "none                4440\n",
      "Shuleni             2183\n",
      "Zahanati            1034\n",
      "Msikitini            647\n",
      "Kanisani             390\n",
      "Sokoni               328\n",
      "Bombani              323\n",
      "Ofisini              321\n",
      "School               260\n",
      "Shule Ya Msingi      247\n",
      "Shule                191\n",
      "Sekondari            178\n",
      "Muungano             159\n",
      "Mkombozi             145\n",
      "Upendo               130\n",
      "Madukani             128\n",
      "Mbugani              113\n",
      "Kituo Cha Afya       113\n",
      "Umoja                105\n",
      "Mkuyuni              103\n",
      "Name: wpt_name, dtype: int64\n"
     ]
    }
   ],
   "source": [
    "#Function to bin under 100\n",
    "wpt_under_100 = combined_df['wpt_name'].value_counts().loc[lambda x: x<=100].index.tolist()\n",
    "print(len(wpt_under_100))\n",
    "\n",
    "combined_df['wpt_name'] = combined_df['wpt_name'].apply(lambda x: 'other' if x in wpt_under_100 else x)\n",
    "print(combined_df['wpt_name'].value_counts())"
   ]
  },
  {
   "cell_type": "code",
   "execution_count": 2355,
   "metadata": {},
   "outputs": [
    {
     "name": "stdout",
     "output_type": "stream",
     "text": [
      "0\n"
     ]
    },
    {
     "data": {
      "text/plain": [
       "Lake Victoria              12871\n",
       "Pangani                    11143\n",
       "Rufiji                      9987\n",
       "Internal                    9642\n",
       "Lake Tanganyika             8052\n",
       "Wami / Ruvu                 7577\n",
       "Lake Nyasa                  6332\n",
       "Ruvuma / Southern Coast     5587\n",
       "Lake Rukwa                  3059\n",
       "Name: basin, dtype: int64"
      ]
     },
     "execution_count": 2355,
     "metadata": {},
     "output_type": "execute_result"
    }
   ],
   "source": [
    "#Basin looks fine; no missing vals and <10 categories\n",
    "print(combined_df['basin'].isnull().sum())\n",
    "combined_df['basin'].value_counts()"
   ]
  },
  {
   "cell_type": "code",
   "execution_count": 2356,
   "metadata": {},
   "outputs": [
    {
     "name": "stdout",
     "output_type": "stream",
     "text": [
      "0\n"
     ]
    },
    {
     "data": {
      "text/plain": [
       "Iringa           6599\n",
       "Shinyanga        6293\n",
       "Mbeya            5758\n",
       "Kilimanjaro      5494\n",
       "Morogoro         5038\n",
       "Kagera           4174\n",
       "Arusha           4111\n",
       "Mwanza           3897\n",
       "Kigoma           3533\n",
       "Pwani            3331\n",
       "Ruvuma           3306\n",
       "Tanga            3186\n",
       "Dodoma           2779\n",
       "Singida          2536\n",
       "Tabora           2466\n",
       "Mara             2451\n",
       "Rukwa            2242\n",
       "Mtwara           2144\n",
       "Manyara          1972\n",
       "Lindi            1920\n",
       "Dar es Salaam    1020\n",
       "Name: region, dtype: int64"
      ]
     },
     "execution_count": 2356,
     "metadata": {},
     "output_type": "execute_result"
    }
   ],
   "source": [
    "#Similar to above; no missing vals and not too many categories - can leave as is\n",
    "print(combined_df['region'].isnull().sum())\n",
    "combined_df['region'].value_counts()"
   ]
  },
  {
   "cell_type": "code",
   "execution_count": 2357,
   "metadata": {},
   "outputs": [
    {
     "name": "stdout",
     "output_type": "stream",
     "text": [
      "0\n"
     ]
    },
    {
     "data": {
      "text/plain": [
       "Njombe          3128\n",
       "Moshi Rural     1566\n",
       "Arusha Rural    1521\n",
       "Bariadi         1485\n",
       "Rungwe          1381\n",
       "                ... \n",
       "Songea Urban     103\n",
       "Kigoma Urban      95\n",
       "Arusha Urban      82\n",
       "Lindi Urban       24\n",
       "Nyamagana          2\n",
       "Name: lga, Length: 125, dtype: int64"
      ]
     },
     "execution_count": 2357,
     "metadata": {},
     "output_type": "execute_result"
    }
   ],
   "source": [
    "#No missing vals by high cardinality; will bin vals under 50\n",
    "print(combined_df['lga'].isnull().sum())\n",
    "combined_df['lga'].value_counts()"
   ]
  },
  {
   "cell_type": "code",
   "execution_count": 2358,
   "metadata": {},
   "outputs": [
    {
     "name": "stdout",
     "output_type": "stream",
     "text": [
      "74\n",
      "52\n"
     ]
    }
   ],
   "source": [
    "#Function to bin under 300\n",
    "#Tried 100 initially but cardianlity still too high\n",
    "lga_under_300 = combined_df['lga'].value_counts().loc[lambda x: x<=600].index.tolist()\n",
    "print(len(lga_under_300))\n",
    "\n",
    "combined_df['lga'] = combined_df['lga'].apply(lambda x: 'other' if x in lga_under_300 else x)\n",
    "print(combined_df['lga'].nunique()) #Still 84 unique vals after binning; may revisit to reduce later on "
   ]
  },
  {
   "cell_type": "code",
   "execution_count": 2359,
   "metadata": {},
   "outputs": [
    {
     "name": "stdout",
     "output_type": "stream",
     "text": [
      "0\n"
     ]
    },
    {
     "data": {
      "text/plain": [
       "Igosi        386\n",
       "Imalinyi     318\n",
       "Siha Kati    297\n",
       "Mdandu       292\n",
       "Nduruma      261\n",
       "            ... \n",
       "Sungwisi       1\n",
       "Linda          1\n",
       "Chinugulu      1\n",
       "Mlimani        1\n",
       "Themi          1\n",
       "Name: ward, Length: 2098, dtype: int64"
      ]
     },
     "execution_count": 2359,
     "metadata": {},
     "output_type": "execute_result"
    }
   ],
   "source": [
    "#Similar issue here; highest val goes up to 307, so will only try to bin up to 50\n",
    "#No missing vals \n",
    "print(combined_df['ward'].isnull().sum())\n",
    "combined_df['ward'].value_counts()"
   ]
  },
  {
   "cell_type": "code",
   "execution_count": 2360,
   "metadata": {},
   "outputs": [
    {
     "name": "stdout",
     "output_type": "stream",
     "text": [
      "2057\n",
      "42\n"
     ]
    }
   ],
   "source": [
    "#Function to bin under 50\n",
    "#Tried 50 but still too high; went with 100 in the end\n",
    "ward_under_100 = combined_df['ward'].value_counts().loc[lambda x: x<=135].index.tolist()\n",
    "print(len(ward_under_100))\n",
    "\n",
    "combined_df['ward'] = combined_df['ward'].apply(lambda x: 'other' if x in ward_under_100 else x)\n",
    "print(combined_df['ward'].nunique()) "
   ]
  },
  {
   "cell_type": "code",
   "execution_count": 2361,
   "metadata": {},
   "outputs": [
    {
     "name": "stdout",
     "output_type": "stream",
     "text": [
      "4155\n"
     ]
    },
    {
     "data": {
      "text/plain": [
       "True     63749\n",
       "False     6346\n",
       "NaN       4155\n",
       "Name: public_meeting, dtype: int64"
      ]
     },
     "execution_count": 2361,
     "metadata": {},
     "output_type": "execute_result"
    }
   ],
   "source": [
    "#Will impute missing vals with mode; other than that leave as is\n",
    "print(combined_df['public_meeting'].isnull().sum())\n",
    "combined_df['public_meeting'].value_counts(dropna=False)"
   ]
  },
  {
   "cell_type": "code",
   "execution_count": 2362,
   "metadata": {},
   "outputs": [
    {
     "name": "stdout",
     "output_type": "stream",
     "text": [
      "0\n"
     ]
    },
    {
     "data": {
      "text/plain": [
       "GeoData Consultants Ltd    74250\n",
       "Name: recorded_by, dtype: int64"
      ]
     },
     "execution_count": 2362,
     "metadata": {},
     "output_type": "execute_result"
    }
   ],
   "source": [
    "#None missing and all by same company; may remove later as probably does not add any value to model\n",
    "print(combined_df['recorded_by'].isnull().sum())\n",
    "combined_df['recorded_by'].value_counts()"
   ]
  },
  {
   "cell_type": "code",
   "execution_count": 2363,
   "metadata": {},
   "outputs": [
    {
     "name": "stdout",
     "output_type": "stream",
     "text": [
      "4846\n"
     ]
    },
    {
     "data": {
      "text/plain": [
       "VWC                 45917\n",
       "WUG                  6496\n",
       "Water authority      3975\n",
       "WUA                  3551\n",
       "Water Board          3462\n",
       "Parastatal           2124\n",
       "Company              1341\n",
       "Private operator     1326\n",
       "Other                 996\n",
       "SWC                   123\n",
       "Trust                  92\n",
       "None                    1\n",
       "Name: scheme_management, dtype: int64"
      ]
     },
     "execution_count": 2363,
     "metadata": {},
     "output_type": "execute_result"
    }
   ],
   "source": [
    "#3877 missing vals; will impute in pipeline\n",
    "#Bin bottom 3 categories in already existing 'Other' column\n",
    "print(combined_df['scheme_management'].isnull().sum())\n",
    "combined_df['scheme_management'].value_counts()"
   ]
  },
  {
   "cell_type": "code",
   "execution_count": 2364,
   "metadata": {},
   "outputs": [
    {
     "name": "stdout",
     "output_type": "stream",
     "text": [
      "3\n",
      "9\n",
      "VWC                 45917\n",
      "WUG                  6496\n",
      "Water authority      3975\n",
      "WUA                  3551\n",
      "Water Board          3462\n",
      "Parastatal           2124\n",
      "Company              1341\n",
      "Private operator     1326\n",
      "Other                1212\n",
      "Name: scheme_management, dtype: int64\n"
     ]
    }
   ],
   "source": [
    "#Function to bin bottom 3 categories with already existing 'Other' column\n",
    "schememan_under_766 = combined_df['scheme_management'].value_counts().loc[lambda x: x<=766].index.tolist()\n",
    "print(len(schememan_under_766))\n",
    "\n",
    "combined_df['scheme_management'] = combined_df['scheme_management'].apply(lambda x: 'Other' if x in schememan_under_766 else x)\n",
    "print(combined_df['scheme_management'].nunique()) \n",
    "print(combined_df['scheme_management'].value_counts())"
   ]
  },
  {
   "cell_type": "code",
   "execution_count": 2365,
   "metadata": {},
   "outputs": [
    {
     "data": {
      "text/plain": [
       "['date_recorded',\n",
       " 'funder',\n",
       " 'installer',\n",
       " 'wpt_name',\n",
       " 'basin',\n",
       " 'subvillage',\n",
       " 'region',\n",
       " 'lga',\n",
       " 'ward',\n",
       " 'public_meeting',\n",
       " 'recorded_by',\n",
       " 'scheme_management',\n",
       " 'permit',\n",
       " 'extraction_type',\n",
       " 'extraction_type_group',\n",
       " 'extraction_type_class',\n",
       " 'management',\n",
       " 'management_group',\n",
       " 'payment',\n",
       " 'payment_type',\n",
       " 'water_quality',\n",
       " 'quality_group',\n",
       " 'quantity',\n",
       " 'quantity_group',\n",
       " 'source',\n",
       " 'source_type',\n",
       " 'source_class',\n",
       " 'waterpoint_type',\n",
       " 'waterpoint_type_group',\n",
       " 'status_group',\n",
       " 'scheme_name_2']"
      ]
     },
     "execution_count": 2365,
     "metadata": {},
     "output_type": "execute_result"
    }
   ],
   "source": [
    "#Checking which categorical features are still left to deal with\n",
    "categorical_feats_combined"
   ]
  },
  {
   "cell_type": "code",
   "execution_count": 2366,
   "metadata": {},
   "outputs": [
    {
     "name": "stdout",
     "output_type": "stream",
     "text": [
      "3793\n"
     ]
    },
    {
     "data": {
      "text/plain": [
       "True     48606\n",
       "False    21851\n",
       "Name: permit, dtype: int64"
      ]
     },
     "execution_count": 2366,
     "metadata": {},
     "output_type": "execute_result"
    }
   ],
   "source": [
    "#Mostly T/F responses; will impute missing vals\n",
    "print(combined_df['permit'].isnull().sum())\n",
    "combined_df['permit'].value_counts()"
   ]
  },
  {
   "cell_type": "code",
   "execution_count": 2367,
   "metadata": {},
   "outputs": [
    {
     "name": "stdout",
     "output_type": "stream",
     "text": [
      "0\n"
     ]
    },
    {
     "data": {
      "text/plain": [
       "gravity                      33263\n",
       "nira/tanira                  10205\n",
       "other                         8102\n",
       "submersible                   5982\n",
       "swn 80                        4588\n",
       "mono                          3628\n",
       "india mark ii                 3029\n",
       "afridev                       2208\n",
       "ksb                           1790\n",
       "other - rope pump              572\n",
       "other - swn 81                 284\n",
       "windmill                       152\n",
       "india mark iii                 135\n",
       "cemo                           108\n",
       "other - play pump              101\n",
       "walimi                          60\n",
       "climax                          41\n",
       "other - mkulima/shinyanga        2\n",
       "Name: extraction_type, dtype: int64"
      ]
     },
     "execution_count": 2367,
     "metadata": {},
     "output_type": "execute_result"
    }
   ],
   "source": [
    "#No missing vals, but will bin <50 together into other_2 since other already exists\n",
    "print(combined_df['extraction_type'].isnull().sum())\n",
    "combined_df['extraction_type'].value_counts()"
   ]
  },
  {
   "cell_type": "code",
   "execution_count": 2368,
   "metadata": {},
   "outputs": [
    {
     "name": "stdout",
     "output_type": "stream",
     "text": [
      "2\n",
      "17\n",
      "gravity              33263\n",
      "nira/tanira          10205\n",
      "other                 8102\n",
      "submersible           5982\n",
      "swn 80                4588\n",
      "mono                  3628\n",
      "india mark ii         3029\n",
      "afridev               2208\n",
      "ksb                   1790\n",
      "other - rope pump      572\n",
      "other - swn 81         284\n",
      "windmill               152\n",
      "india mark iii         135\n",
      "cemo                   108\n",
      "other - play pump      101\n",
      "walimi                  60\n",
      "other_2                 43\n",
      "Name: extraction_type, dtype: int64\n"
     ]
    }
   ],
   "source": [
    "#Binning vals <50 together\n",
    "ex_type_under50 = combined_df['extraction_type'].value_counts().loc[lambda x: x<=50].index.tolist()\n",
    "print(len(ex_type_under50))\n",
    "\n",
    "combined_df['extraction_type'] = combined_df['extraction_type'].apply(lambda x: 'other_2' if x in ex_type_under50 else x)\n",
    "print(combined_df['extraction_type'].nunique()) \n",
    "print(combined_df['extraction_type'].value_counts())"
   ]
  },
  {
   "cell_type": "code",
   "execution_count": 2369,
   "metadata": {},
   "outputs": [
    {
     "name": "stdout",
     "output_type": "stream",
     "text": [
      "0\n",
      "13\n"
     ]
    },
    {
     "data": {
      "text/plain": [
       "gravity            33263\n",
       "nira/tanira        10205\n",
       "other               8102\n",
       "submersible         7772\n",
       "swn 80              4588\n",
       "mono                3628\n",
       "india mark ii       3029\n",
       "afridev             2208\n",
       "rope pump            572\n",
       "other handpump       447\n",
       "wind-powered         152\n",
       "other motorpump      149\n",
       "india mark iii       135\n",
       "Name: extraction_type_group, dtype: int64"
      ]
     },
     "execution_count": 2369,
     "metadata": {},
     "output_type": "execute_result"
    }
   ],
   "source": [
    "#Very similar to above class although missing 3 categories in comparison; potential to remove later on\n",
    "print(combined_df['extraction_type_group'].isnull().sum())\n",
    "print(combined_df['extraction_type_group'].nunique()) \n",
    "combined_df['extraction_type_group'].value_counts()"
   ]
  },
  {
   "cell_type": "code",
   "execution_count": 2370,
   "metadata": {},
   "outputs": [
    {
     "name": "stdout",
     "output_type": "stream",
     "text": [
      "0\n",
      "7\n"
     ]
    },
    {
     "data": {
      "text/plain": [
       "gravity         33263\n",
       "handpump        20612\n",
       "other            8102\n",
       "submersible      7772\n",
       "motorpump        3777\n",
       "rope pump         572\n",
       "wind-powered      152\n",
       "Name: extraction_type_class, dtype: int64"
      ]
     },
     "execution_count": 2370,
     "metadata": {},
     "output_type": "execute_result"
    }
   ],
   "source": [
    "#Again similar to above features although this only has 7 categories in comparison to 13 and 16 above\n",
    "#Potential to remove one or two of these features later on\n",
    "print(combined_df['extraction_type_class'].isnull().sum())\n",
    "print(combined_df['extraction_type_class'].nunique()) \n",
    "combined_df['extraction_type_class'].value_counts()"
   ]
  },
  {
   "cell_type": "code",
   "execution_count": 2371,
   "metadata": {},
   "outputs": [],
   "source": [
    "#Creating feature that indicates whether or not a pump was used\n",
    "\n",
    "def used_pump(df):\n",
    "    if df['extraction_type_class'] == 'handpump' or df['extraction_type_class'] == 'motorpump' or df['extraction_type_class'] == 'rope pump':\n",
    "        return 1\n",
    "    else:\n",
    "        return 0\n",
    "    \n",
    "combined_df['used_pump'] = combined_df.apply(used_pump, axis = 1)"
   ]
  },
  {
   "cell_type": "code",
   "execution_count": 2372,
   "metadata": {},
   "outputs": [
    {
     "name": "stdout",
     "output_type": "stream",
     "text": [
      "      used_pump extraction_type_class\n",
      "0             0               gravity\n",
      "1             0               gravity\n",
      "2             0               gravity\n",
      "3             0           submersible\n",
      "4             0               gravity\n",
      "...         ...                   ...\n",
      "74245         1             motorpump\n",
      "74246         1              handpump\n",
      "74247         0               gravity\n",
      "74248         0               gravity\n",
      "74249         0               gravity\n",
      "\n",
      "[74250 rows x 2 columns]\n"
     ]
    }
   ],
   "source": [
    "#Changing to type object\n",
    "combined_df['used_pump'] = combined_df['used_pump'].astype('object')\n",
    "print(combined_df[['used_pump', 'extraction_type_class']])"
   ]
  },
  {
   "cell_type": "code",
   "execution_count": 2373,
   "metadata": {},
   "outputs": [
    {
     "name": "stdout",
     "output_type": "stream",
     "text": [
      "0\n",
      "12\n"
     ]
    },
    {
     "data": {
      "text/plain": [
       "vwc                 50624\n",
       "wug                  8108\n",
       "water board          3688\n",
       "wua                  3118\n",
       "private operator     2504\n",
       "parastatal           2229\n",
       "water authority      1123\n",
       "other                1083\n",
       "company               859\n",
       "unknown               683\n",
       "other - school        126\n",
       "trust                 105\n",
       "Name: management, dtype: int64"
      ]
     },
     "execution_count": 2373,
     "metadata": {},
     "output_type": "execute_result"
    }
   ],
   "source": [
    "#No missing vals and 12 categories; can prob remain as is for now\n",
    "print(combined_df['management'].isnull().sum())\n",
    "print(combined_df['management'].nunique()) \n",
    "combined_df['management'].value_counts()"
   ]
  },
  {
   "cell_type": "code",
   "execution_count": 2374,
   "metadata": {},
   "outputs": [
    {
     "name": "stdout",
     "output_type": "stream",
     "text": [
      "0\n",
      "5\n"
     ]
    },
    {
     "data": {
      "text/plain": [
       "user-group    65538\n",
       "commercial     4591\n",
       "parastatal     2229\n",
       "other          1209\n",
       "unknown         683\n",
       "Name: management_group, dtype: int64"
      ]
     },
     "execution_count": 2374,
     "metadata": {},
     "output_type": "execute_result"
    }
   ],
   "source": [
    "#No missing vals and 5 categories; leave as is\n",
    "print(combined_df['management_group'].isnull().sum())\n",
    "print(combined_df['management_group'].nunique()) \n",
    "combined_df['management_group'].value_counts()"
   ]
  },
  {
   "cell_type": "code",
   "execution_count": 2375,
   "metadata": {},
   "outputs": [
    {
     "name": "stdout",
     "output_type": "stream",
     "text": [
      "0\n",
      "7\n"
     ]
    },
    {
     "data": {
      "text/plain": [
       "never pay                31712\n",
       "pay per bucket           11266\n",
       "pay monthly              10397\n",
       "unknown                  10149\n",
       "pay when scheme fails     4842\n",
       "pay annually              4570\n",
       "other                     1314\n",
       "Name: payment, dtype: int64"
      ]
     },
     "execution_count": 2375,
     "metadata": {},
     "output_type": "execute_result"
    }
   ],
   "source": [
    "#No missing vals and 7 categories; leave as is\n",
    "print(combined_df['payment'].isnull().sum())\n",
    "print(combined_df['payment'].nunique()) \n",
    "combined_df['payment'].value_counts()"
   ]
  },
  {
   "cell_type": "code",
   "execution_count": 2376,
   "metadata": {},
   "outputs": [
    {
     "name": "stdout",
     "output_type": "stream",
     "text": [
      "0\n",
      "7\n"
     ]
    },
    {
     "data": {
      "text/plain": [
       "never pay     31712\n",
       "per bucket    11266\n",
       "monthly       10397\n",
       "unknown       10149\n",
       "on failure     4842\n",
       "annually       4570\n",
       "other          1314\n",
       "Name: payment_type, dtype: int64"
      ]
     },
     "execution_count": 2376,
     "metadata": {},
     "output_type": "execute_result"
    }
   ],
   "source": [
    "#No missing vals and 7 categories; looks to be EXACT match as above payment feature\n",
    "print(combined_df['payment_type'].isnull().sum())\n",
    "print(combined_df['payment_type'].nunique()) \n",
    "combined_df['payment_type'].value_counts()"
   ]
  },
  {
   "cell_type": "code",
   "execution_count": 2377,
   "metadata": {},
   "outputs": [
    {
     "name": "stdout",
     "output_type": "stream",
     "text": [
      "<class 'pandas.core.frame.DataFrame'>\n",
      "RangeIndex: 74250 entries, 0 to 74249\n",
      "Data columns (total 42 columns):\n",
      " #   Column                 Non-Null Count  Dtype  \n",
      "---  ------                 --------------  -----  \n",
      " 0   id                     74250 non-null  int64  \n",
      " 1   amount_tsh             74250 non-null  float64\n",
      " 2   funder                 69746 non-null  object \n",
      " 3   gps_height             74250 non-null  int64  \n",
      " 4   installer              69718 non-null  object \n",
      " 5   longitude              74250 non-null  float64\n",
      " 6   latitude               74250 non-null  float64\n",
      " 7   wpt_name               74250 non-null  object \n",
      " 8   num_private            74250 non-null  int64  \n",
      " 9   basin                  74250 non-null  object \n",
      " 10  subvillage             73780 non-null  object \n",
      " 11  region                 74250 non-null  object \n",
      " 12  region_code            74250 non-null  object \n",
      " 13  district_code          74250 non-null  object \n",
      " 14  lga                    74250 non-null  object \n",
      " 15  ward                   74250 non-null  object \n",
      " 16  population             74250 non-null  int64  \n",
      " 17  public_meeting         70095 non-null  object \n",
      " 18  recorded_by            74250 non-null  object \n",
      " 19  scheme_management      69404 non-null  object \n",
      " 20  permit                 70457 non-null  object \n",
      " 21  construction_year      48281 non-null  object \n",
      " 22  extraction_type        74250 non-null  object \n",
      " 23  extraction_type_group  74250 non-null  object \n",
      " 24  extraction_type_class  74250 non-null  object \n",
      " 25  management             74250 non-null  object \n",
      " 26  management_group       74250 non-null  object \n",
      " 27  payment_type           74250 non-null  object \n",
      " 28  water_quality          74250 non-null  object \n",
      " 29  quality_group          74250 non-null  object \n",
      " 30  quantity               74250 non-null  object \n",
      " 31  quantity_group         74250 non-null  object \n",
      " 32  source                 74250 non-null  object \n",
      " 33  source_type            74250 non-null  object \n",
      " 34  source_class           74250 non-null  object \n",
      " 35  waterpoint_type        74250 non-null  object \n",
      " 36  waterpoint_type_group  74250 non-null  object \n",
      " 37  status_group           59400 non-null  object \n",
      " 38  scheme_name_2          38992 non-null  object \n",
      " 39  waterpoint_age         48281 non-null  float64\n",
      " 40  years_since_inspected  74250 non-null  int64  \n",
      " 41  used_pump              74250 non-null  object \n",
      "dtypes: float64(4), int64(5), object(33)\n",
      "memory usage: 23.8+ MB\n"
     ]
    }
   ],
   "source": [
    "#Going to drop PAYMENT column, as I like how payment_type is worded better\n",
    "combined_df.drop('payment', axis=1, inplace=True)\n",
    "combined_df.info()"
   ]
  },
  {
   "cell_type": "code",
   "execution_count": 2378,
   "metadata": {},
   "outputs": [],
   "source": [
    "#Lets also combine 'uknown' and 'other' together as they represent the same thing\n",
    "combined_df['payment_type'] = combined_df['payment_type'].replace({'other': 'unknown'})"
   ]
  },
  {
   "cell_type": "code",
   "execution_count": 2379,
   "metadata": {},
   "outputs": [
    {
     "data": {
      "text/plain": [
       "never pay     31712\n",
       "unknown       11463\n",
       "per bucket    11266\n",
       "monthly       10397\n",
       "on failure     4842\n",
       "annually       4570\n",
       "Name: payment_type, dtype: int64"
      ]
     },
     "execution_count": 2379,
     "metadata": {},
     "output_type": "execute_result"
    }
   ],
   "source": [
    "combined_df['payment_type'].value_counts()"
   ]
  },
  {
   "cell_type": "code",
   "execution_count": 2380,
   "metadata": {},
   "outputs": [],
   "source": [
    "#Creating a payment_type option to indicate a consistent income stream\n",
    "\n",
    "def consistent_income(df):\n",
    "    if df['payment_type'] == 'monthly' or df['payment_type'] == 'annually' or df['payment_type'] == 'per bucket':\n",
    "        return 1\n",
    "    else:\n",
    "        return 0\n",
    "    \n",
    "combined_df['consistent_payment'] = combined_df.apply(consistent_income, axis =1)"
   ]
  },
  {
   "cell_type": "code",
   "execution_count": 2381,
   "metadata": {},
   "outputs": [
    {
     "name": "stdout",
     "output_type": "stream",
     "text": [
      "      consistent_payment payment_type\n",
      "0                      1     annually\n",
      "1                      0    never pay\n",
      "2                      1   per bucket\n",
      "3                      0    never pay\n",
      "4                      0    never pay\n",
      "...                  ...          ...\n",
      "74245                  0    never pay\n",
      "74246                  1     annually\n",
      "74247                  0    never pay\n",
      "74248                  0    never pay\n",
      "74249                  0    never pay\n",
      "\n",
      "[74250 rows x 2 columns]\n"
     ]
    }
   ],
   "source": [
    "combined_df['consistent_payment'] = combined_df['consistent_payment'].astype('object')\n",
    "\n",
    "print(combined_df[['consistent_payment', 'payment_type']])"
   ]
  },
  {
   "cell_type": "code",
   "execution_count": 2382,
   "metadata": {},
   "outputs": [
    {
     "data": {
      "text/plain": [
       "['date_recorded',\n",
       " 'funder',\n",
       " 'installer',\n",
       " 'wpt_name',\n",
       " 'basin',\n",
       " 'subvillage',\n",
       " 'region',\n",
       " 'lga',\n",
       " 'ward',\n",
       " 'public_meeting',\n",
       " 'recorded_by',\n",
       " 'scheme_management',\n",
       " 'permit',\n",
       " 'extraction_type',\n",
       " 'extraction_type_group',\n",
       " 'extraction_type_class',\n",
       " 'management',\n",
       " 'management_group',\n",
       " 'payment',\n",
       " 'payment_type',\n",
       " 'water_quality',\n",
       " 'quality_group',\n",
       " 'quantity',\n",
       " 'quantity_group',\n",
       " 'source',\n",
       " 'source_type',\n",
       " 'source_class',\n",
       " 'waterpoint_type',\n",
       " 'waterpoint_type_group',\n",
       " 'status_group',\n",
       " 'scheme_name_2']"
      ]
     },
     "execution_count": 2382,
     "metadata": {},
     "output_type": "execute_result"
    }
   ],
   "source": [
    "#Checking which categorical features are still left to deal with\n",
    "categorical_feats_combined"
   ]
  },
  {
   "cell_type": "code",
   "execution_count": 2383,
   "metadata": {},
   "outputs": [
    {
     "name": "stdout",
     "output_type": "stream",
     "text": [
      "0\n",
      "8\n"
     ]
    },
    {
     "data": {
      "text/plain": [
       "soft                  63505\n",
       "salty                  6082\n",
       "unknown                2345\n",
       "milky                  1005\n",
       "coloured                623\n",
       "salty abandoned         423\n",
       "fluoride                244\n",
       "fluoride abandoned       23\n",
       "Name: water_quality, dtype: int64"
      ]
     },
     "execution_count": 2383,
     "metadata": {},
     "output_type": "execute_result"
    }
   ],
   "source": [
    "#No missing vals and 8 categories; last one only has 17 vals but will keep as is for now\n",
    "print(combined_df['water_quality'].isnull().sum())\n",
    "print(combined_df['water_quality'].nunique()) \n",
    "combined_df['water_quality'].value_counts()"
   ]
  },
  {
   "cell_type": "code",
   "execution_count": 2384,
   "metadata": {},
   "outputs": [
    {
     "name": "stdout",
     "output_type": "stream",
     "text": [
      "0\n",
      "6\n"
     ]
    },
    {
     "data": {
      "text/plain": [
       "good        63505\n",
       "salty        6505\n",
       "unknown      2345\n",
       "milky        1005\n",
       "colored       623\n",
       "fluoride      267\n",
       "Name: quality_group, dtype: int64"
      ]
     },
     "execution_count": 2384,
     "metadata": {},
     "output_type": "execute_result"
    }
   ],
   "source": [
    "#No missing vals and 6 categories; looks similar to feature above with 'good' and 'soft' aligning\n",
    "#Will leave as is for now, potential to remove one of these features later one\n",
    "print(combined_df['quality_group'].isnull().sum())\n",
    "print(combined_df['quality_group'].nunique()) \n",
    "combined_df['quality_group'].value_counts()"
   ]
  },
  {
   "cell_type": "code",
   "execution_count": 2385,
   "metadata": {},
   "outputs": [
    {
     "name": "stdout",
     "output_type": "stream",
     "text": [
      "0\n",
      "5\n"
     ]
    },
    {
     "data": {
      "text/plain": [
       "enough          41522\n",
       "insufficient    18896\n",
       "dry              7782\n",
       "seasonal         5075\n",
       "unknown           975\n",
       "Name: quantity, dtype: int64"
      ]
     },
     "execution_count": 2385,
     "metadata": {},
     "output_type": "execute_result"
    }
   ],
   "source": [
    "#No missing vals and 5 categories; leave as is\n",
    "print(combined_df['quantity'].isnull().sum())\n",
    "print(combined_df['quantity'].nunique()) \n",
    "combined_df['quantity'].value_counts()"
   ]
  },
  {
   "cell_type": "code",
   "execution_count": 2386,
   "metadata": {},
   "outputs": [
    {
     "name": "stdout",
     "output_type": "stream",
     "text": [
      "0\n",
      "5\n"
     ]
    },
    {
     "data": {
      "text/plain": [
       "enough          41522\n",
       "insufficient    18896\n",
       "dry              7782\n",
       "seasonal         5075\n",
       "unknown           975\n",
       "Name: quantity_group, dtype: int64"
      ]
     },
     "execution_count": 2386,
     "metadata": {},
     "output_type": "execute_result"
    }
   ],
   "source": [
    "#Exactly the same as above; dropping feature above\n",
    "print(combined_df['quantity_group'].isnull().sum())\n",
    "print(combined_df['quantity_group'].nunique()) \n",
    "combined_df['quantity_group'].value_counts()"
   ]
  },
  {
   "cell_type": "code",
   "execution_count": 2387,
   "metadata": {},
   "outputs": [
    {
     "name": "stdout",
     "output_type": "stream",
     "text": [
      "      water_quant_class quantity_group\n",
      "0            sufficient         enough\n",
      "1                  poor   insufficient\n",
      "2            sufficient         enough\n",
      "3                  poor            dry\n",
      "4            sufficient       seasonal\n",
      "...                 ...            ...\n",
      "74245        sufficient         enough\n",
      "74246              poor   insufficient\n",
      "74247              poor   insufficient\n",
      "74248              poor   insufficient\n",
      "74249              poor            dry\n",
      "\n",
      "[74250 rows x 2 columns]\n"
     ]
    }
   ],
   "source": [
    "#Creating a feature that indicates if quantity is bad\n",
    "#ie includes insufficient and dry\n",
    "\n",
    "def water_quantity(df):\n",
    "    if df['quantity_group'] == 'insufficient' or df['quantity_group'] == 'dry':\n",
    "        return 'poor'\n",
    "    elif df['quantity_group'] == 'unknown':\n",
    "        return 'unknown'\n",
    "    else:\n",
    "        return 'sufficient'\n",
    "\n",
    "combined_df['water_quant_class'] = combined_df.apply(water_quantity, axis=1)\n",
    "\n",
    "print(combined_df[['water_quant_class', 'quantity_group']])"
   ]
  },
  {
   "cell_type": "code",
   "execution_count": 2388,
   "metadata": {},
   "outputs": [],
   "source": [
    "#Creating another feature indicating if an instance has enough water and good water quality\n",
    "\n",
    "def good_qual_sufficient(df):\n",
    "    if df['quantity_group'] == 'enough' and df['quality_group'] == 'good':\n",
    "        return 1\n",
    "    else:\n",
    "        return 0\n"
   ]
  },
  {
   "cell_type": "code",
   "execution_count": 2389,
   "metadata": {},
   "outputs": [
    {
     "name": "stdout",
     "output_type": "stream",
     "text": [
      "       good_qual_sufficient quantity_group quality_group\n",
      "0                         1         enough          good\n",
      "1                         0   insufficient          good\n",
      "2                         1         enough          good\n",
      "3                         0            dry          good\n",
      "4                         0       seasonal          good\n",
      "...                     ...            ...           ...\n",
      "74245                     1         enough          good\n",
      "74246                     0   insufficient         salty\n",
      "74247                     0   insufficient          good\n",
      "74248                     0   insufficient          good\n",
      "74249                     0            dry          good\n",
      "\n",
      "[74250 rows x 3 columns]\n"
     ]
    }
   ],
   "source": [
    "combined_df['good_qual_sufficient'] = combined_df.apply(good_qual_sufficient, axis = 1)\n",
    "\n",
    "print(combined_df[['good_qual_sufficient', 'quantity_group', 'quality_group']])"
   ]
  },
  {
   "cell_type": "code",
   "execution_count": 2390,
   "metadata": {},
   "outputs": [],
   "source": [
    "#Converting indicator to object class\n",
    "combined_df['good_qual_sufficient'] = combined_df['good_qual_sufficient'].astype('category')\n"
   ]
  },
  {
   "cell_type": "code",
   "execution_count": 2391,
   "metadata": {},
   "outputs": [
    {
     "name": "stdout",
     "output_type": "stream",
     "text": [
      "<class 'pandas.core.frame.DataFrame'>\n",
      "RangeIndex: 74250 entries, 0 to 74249\n",
      "Data columns (total 44 columns):\n",
      " #   Column                 Non-Null Count  Dtype   \n",
      "---  ------                 --------------  -----   \n",
      " 0   id                     74250 non-null  int64   \n",
      " 1   amount_tsh             74250 non-null  float64 \n",
      " 2   funder                 69746 non-null  object  \n",
      " 3   gps_height             74250 non-null  int64   \n",
      " 4   installer              69718 non-null  object  \n",
      " 5   longitude              74250 non-null  float64 \n",
      " 6   latitude               74250 non-null  float64 \n",
      " 7   wpt_name               74250 non-null  object  \n",
      " 8   num_private            74250 non-null  int64   \n",
      " 9   basin                  74250 non-null  object  \n",
      " 10  subvillage             73780 non-null  object  \n",
      " 11  region                 74250 non-null  object  \n",
      " 12  region_code            74250 non-null  object  \n",
      " 13  district_code          74250 non-null  object  \n",
      " 14  lga                    74250 non-null  object  \n",
      " 15  ward                   74250 non-null  object  \n",
      " 16  population             74250 non-null  int64   \n",
      " 17  public_meeting         70095 non-null  object  \n",
      " 18  recorded_by            74250 non-null  object  \n",
      " 19  scheme_management      69404 non-null  object  \n",
      " 20  permit                 70457 non-null  object  \n",
      " 21  construction_year      48281 non-null  object  \n",
      " 22  extraction_type        74250 non-null  object  \n",
      " 23  extraction_type_group  74250 non-null  object  \n",
      " 24  extraction_type_class  74250 non-null  object  \n",
      " 25  management             74250 non-null  object  \n",
      " 26  management_group       74250 non-null  object  \n",
      " 27  payment_type           74250 non-null  object  \n",
      " 28  water_quality          74250 non-null  object  \n",
      " 29  quality_group          74250 non-null  object  \n",
      " 30  quantity_group         74250 non-null  object  \n",
      " 31  source                 74250 non-null  object  \n",
      " 32  source_type            74250 non-null  object  \n",
      " 33  source_class           74250 non-null  object  \n",
      " 34  waterpoint_type        74250 non-null  object  \n",
      " 35  waterpoint_type_group  74250 non-null  object  \n",
      " 36  status_group           59400 non-null  object  \n",
      " 37  scheme_name_2          38992 non-null  object  \n",
      " 38  waterpoint_age         48281 non-null  float64 \n",
      " 39  years_since_inspected  74250 non-null  int64   \n",
      " 40  used_pump              74250 non-null  object  \n",
      " 41  consistent_payment     74250 non-null  object  \n",
      " 42  water_quant_class      74250 non-null  object  \n",
      " 43  good_qual_sufficient   74250 non-null  category\n",
      "dtypes: category(1), float64(4), int64(5), object(34)\n",
      "memory usage: 24.4+ MB\n"
     ]
    }
   ],
   "source": [
    "combined_df.drop('quantity', axis =1, inplace=True)\n",
    "combined_df.info()"
   ]
  },
  {
   "cell_type": "code",
   "execution_count": 2392,
   "metadata": {},
   "outputs": [
    {
     "name": "stdout",
     "output_type": "stream",
     "text": [
      "0\n",
      "10\n"
     ]
    },
    {
     "data": {
      "text/plain": [
       "spring                  21216\n",
       "shallow well            21140\n",
       "machine dbh             13822\n",
       "river                   11964\n",
       "rainwater harvesting     2863\n",
       "hand dtw                 1108\n",
       "lake                      950\n",
       "dam                       840\n",
       "other                     261\n",
       "unknown                    86\n",
       "Name: source, dtype: int64"
      ]
     },
     "execution_count": 2392,
     "metadata": {},
     "output_type": "execute_result"
    }
   ],
   "source": [
    "#No missing vals and 10 categories; combine unknown with other\n",
    "print(combined_df['source'].isnull().sum())\n",
    "print(combined_df['source'].nunique()) \n",
    "combined_df['source'].value_counts()"
   ]
  },
  {
   "cell_type": "code",
   "execution_count": 2393,
   "metadata": {},
   "outputs": [
    {
     "name": "stdout",
     "output_type": "stream",
     "text": [
      "1\n",
      "9\n",
      "spring                  21216\n",
      "shallow well            21140\n",
      "machine dbh             13822\n",
      "river                   11964\n",
      "rainwater harvesting     2863\n",
      "hand dtw                 1108\n",
      "lake                      950\n",
      "dam                       840\n",
      "other                     347\n",
      "Name: source, dtype: int64\n"
     ]
    }
   ],
   "source": [
    "#Binning vals <50 together\n",
    "source_under212 = combined_df['source'].value_counts().loc[lambda x: x<=212].index.tolist()\n",
    "print(len(source_under212))\n",
    "\n",
    "combined_df['source'] = combined_df['source'].apply(lambda x: 'other' if x in source_under212 else x)\n",
    "print(combined_df['source'].nunique()) \n",
    "print(combined_df['source'].value_counts())"
   ]
  },
  {
   "cell_type": "code",
   "execution_count": 2394,
   "metadata": {},
   "outputs": [
    {
     "name": "stdout",
     "output_type": "stream",
     "text": [
      "0\n",
      "7\n"
     ]
    },
    {
     "data": {
      "text/plain": [
       "spring                  21216\n",
       "shallow well            21140\n",
       "borehole                14930\n",
       "river/lake              12914\n",
       "rainwater harvesting     2863\n",
       "dam                       840\n",
       "other                     347\n",
       "Name: source_type, dtype: int64"
      ]
     },
     "execution_count": 2394,
     "metadata": {},
     "output_type": "execute_result"
    }
   ],
   "source": [
    "#No missing vals and 7 categories; Looks almost completely the same as above; might drop this one as has less variation\n",
    "print(combined_df['source_type'].isnull().sum())\n",
    "print(combined_df['source_type'].nunique()) \n",
    "combined_df['source_type'].value_counts()"
   ]
  },
  {
   "cell_type": "code",
   "execution_count": 2395,
   "metadata": {},
   "outputs": [
    {
     "name": "stdout",
     "output_type": "stream",
     "text": [
      "0\n",
      "3\n"
     ]
    },
    {
     "data": {
      "text/plain": [
       "groundwater    57286\n",
       "surface        16617\n",
       "unknown          347\n",
       "Name: source_class, dtype: int64"
      ]
     },
     "execution_count": 2395,
     "metadata": {},
     "output_type": "execute_result"
    }
   ],
   "source": [
    "#No missing vals and 3 categories; leave as is\n",
    "print(combined_df['source_class'].isnull().sum())\n",
    "print(combined_df['source_class'].nunique()) \n",
    "combined_df['source_class'].value_counts()"
   ]
  },
  {
   "cell_type": "code",
   "execution_count": 2396,
   "metadata": {},
   "outputs": [
    {
     "name": "stdout",
     "output_type": "stream",
     "text": [
      "<class 'pandas.core.frame.DataFrame'>\n",
      "RangeIndex: 74250 entries, 0 to 74249\n",
      "Data columns (total 43 columns):\n",
      " #   Column                 Non-Null Count  Dtype   \n",
      "---  ------                 --------------  -----   \n",
      " 0   id                     74250 non-null  int64   \n",
      " 1   amount_tsh             74250 non-null  float64 \n",
      " 2   funder                 69746 non-null  object  \n",
      " 3   gps_height             74250 non-null  int64   \n",
      " 4   installer              69718 non-null  object  \n",
      " 5   longitude              74250 non-null  float64 \n",
      " 6   latitude               74250 non-null  float64 \n",
      " 7   wpt_name               74250 non-null  object  \n",
      " 8   num_private            74250 non-null  int64   \n",
      " 9   basin                  74250 non-null  object  \n",
      " 10  subvillage             73780 non-null  object  \n",
      " 11  region                 74250 non-null  object  \n",
      " 12  region_code            74250 non-null  object  \n",
      " 13  district_code          74250 non-null  object  \n",
      " 14  lga                    74250 non-null  object  \n",
      " 15  ward                   74250 non-null  object  \n",
      " 16  population             74250 non-null  int64   \n",
      " 17  public_meeting         70095 non-null  object  \n",
      " 18  recorded_by            74250 non-null  object  \n",
      " 19  scheme_management      69404 non-null  object  \n",
      " 20  permit                 70457 non-null  object  \n",
      " 21  construction_year      48281 non-null  object  \n",
      " 22  extraction_type        74250 non-null  object  \n",
      " 23  extraction_type_group  74250 non-null  object  \n",
      " 24  extraction_type_class  74250 non-null  object  \n",
      " 25  management             74250 non-null  object  \n",
      " 26  management_group       74250 non-null  object  \n",
      " 27  payment_type           74250 non-null  object  \n",
      " 28  water_quality          74250 non-null  object  \n",
      " 29  quality_group          74250 non-null  object  \n",
      " 30  quantity_group         74250 non-null  object  \n",
      " 31  source                 74250 non-null  object  \n",
      " 32  source_class           74250 non-null  object  \n",
      " 33  waterpoint_type        74250 non-null  object  \n",
      " 34  waterpoint_type_group  74250 non-null  object  \n",
      " 35  status_group           59400 non-null  object  \n",
      " 36  scheme_name_2          38992 non-null  object  \n",
      " 37  waterpoint_age         48281 non-null  float64 \n",
      " 38  years_since_inspected  74250 non-null  int64   \n",
      " 39  used_pump              74250 non-null  object  \n",
      " 40  consistent_payment     74250 non-null  object  \n",
      " 41  water_quant_class      74250 non-null  object  \n",
      " 42  good_qual_sufficient   74250 non-null  category\n",
      "dtypes: category(1), float64(4), int64(5), object(33)\n",
      "memory usage: 23.9+ MB\n"
     ]
    }
   ],
   "source": [
    "#Dropping source_type variable and keeping source\n",
    "combined_df.drop('source_type', axis = 1, inplace=True)\n",
    "\n",
    "combined_df.info()"
   ]
  },
  {
   "cell_type": "code",
   "execution_count": 2397,
   "metadata": {},
   "outputs": [
    {
     "data": {
      "text/plain": [
       "['date_recorded',\n",
       " 'funder',\n",
       " 'installer',\n",
       " 'wpt_name',\n",
       " 'basin',\n",
       " 'subvillage',\n",
       " 'region',\n",
       " 'lga',\n",
       " 'ward',\n",
       " 'public_meeting',\n",
       " 'recorded_by',\n",
       " 'scheme_management',\n",
       " 'permit',\n",
       " 'extraction_type',\n",
       " 'extraction_type_group',\n",
       " 'extraction_type_class',\n",
       " 'management',\n",
       " 'management_group',\n",
       " 'payment',\n",
       " 'payment_type',\n",
       " 'water_quality',\n",
       " 'quality_group',\n",
       " 'quantity',\n",
       " 'quantity_group',\n",
       " 'source',\n",
       " 'source_type',\n",
       " 'source_class',\n",
       " 'waterpoint_type',\n",
       " 'waterpoint_type_group',\n",
       " 'status_group',\n",
       " 'scheme_name_2']"
      ]
     },
     "execution_count": 2397,
     "metadata": {},
     "output_type": "execute_result"
    }
   ],
   "source": [
    "#Checking which categorical features are still left to deal with\n",
    "#2 more left\n",
    "categorical_feats_combined"
   ]
  },
  {
   "cell_type": "code",
   "execution_count": 2398,
   "metadata": {},
   "outputs": [
    {
     "name": "stdout",
     "output_type": "stream",
     "text": [
      "0\n",
      "7\n"
     ]
    },
    {
     "data": {
      "text/plain": [
       "communal standpipe             35628\n",
       "hand pump                      21884\n",
       "other                           8010\n",
       "communal standpipe multiple     7611\n",
       "improved spring                  959\n",
       "cattle trough                    150\n",
       "dam                                8\n",
       "Name: waterpoint_type, dtype: int64"
      ]
     },
     "execution_count": 2398,
     "metadata": {},
     "output_type": "execute_result"
    }
   ],
   "source": [
    "#No missing vals and 7 categories; add damn category to other as only 7 obs\n",
    "print(combined_df['waterpoint_type'].isnull().sum())\n",
    "print(combined_df['waterpoint_type'].nunique()) \n",
    "combined_df['waterpoint_type'].value_counts()"
   ]
  },
  {
   "cell_type": "code",
   "execution_count": 2399,
   "metadata": {},
   "outputs": [
    {
     "name": "stdout",
     "output_type": "stream",
     "text": [
      "0\n",
      "6\n"
     ]
    },
    {
     "data": {
      "text/plain": [
       "communal standpipe             35628\n",
       "hand pump                      21884\n",
       "other                           8018\n",
       "communal standpipe multiple     7611\n",
       "improved spring                  959\n",
       "cattle trough                    150\n",
       "Name: waterpoint_type, dtype: int64"
      ]
     },
     "execution_count": 2399,
     "metadata": {},
     "output_type": "execute_result"
    }
   ],
   "source": [
    "#Adding 'dam' to 'other' category\n",
    "combined_df['waterpoint_type'].replace('dam', 'other', inplace=True)\n",
    "\n",
    "print(combined_df['waterpoint_type'].isnull().sum())\n",
    "print(combined_df['waterpoint_type'].nunique()) \n",
    "combined_df['waterpoint_type'].value_counts()"
   ]
  },
  {
   "cell_type": "code",
   "execution_count": 2400,
   "metadata": {},
   "outputs": [
    {
     "name": "stdout",
     "output_type": "stream",
     "text": [
      "0\n",
      "6\n"
     ]
    },
    {
     "data": {
      "text/plain": [
       "communal standpipe    43239\n",
       "hand pump             21884\n",
       "other                  8010\n",
       "improved spring         959\n",
       "cattle trough           150\n",
       "dam                       8\n",
       "Name: waterpoint_type_group, dtype: int64"
      ]
     },
     "execution_count": 2400,
     "metadata": {},
     "output_type": "execute_result"
    }
   ],
   "source": [
    "#No missing vals and 6 categories; looks very similar to 'waterpoint_type' feature; will drop this one as slightly less variation and don't need both\n",
    "print(combined_df['waterpoint_type_group'].isnull().sum())\n",
    "print(combined_df['waterpoint_type_group'].nunique()) \n",
    "combined_df['waterpoint_type_group'].value_counts()"
   ]
  },
  {
   "cell_type": "code",
   "execution_count": 2401,
   "metadata": {},
   "outputs": [
    {
     "name": "stdout",
     "output_type": "stream",
     "text": [
      "<class 'pandas.core.frame.DataFrame'>\n",
      "RangeIndex: 74250 entries, 0 to 74249\n",
      "Data columns (total 42 columns):\n",
      " #   Column                 Non-Null Count  Dtype   \n",
      "---  ------                 --------------  -----   \n",
      " 0   id                     74250 non-null  int64   \n",
      " 1   amount_tsh             74250 non-null  float64 \n",
      " 2   funder                 69746 non-null  object  \n",
      " 3   gps_height             74250 non-null  int64   \n",
      " 4   installer              69718 non-null  object  \n",
      " 5   longitude              74250 non-null  float64 \n",
      " 6   latitude               74250 non-null  float64 \n",
      " 7   wpt_name               74250 non-null  object  \n",
      " 8   num_private            74250 non-null  int64   \n",
      " 9   basin                  74250 non-null  object  \n",
      " 10  subvillage             73780 non-null  object  \n",
      " 11  region                 74250 non-null  object  \n",
      " 12  region_code            74250 non-null  object  \n",
      " 13  district_code          74250 non-null  object  \n",
      " 14  lga                    74250 non-null  object  \n",
      " 15  ward                   74250 non-null  object  \n",
      " 16  population             74250 non-null  int64   \n",
      " 17  public_meeting         70095 non-null  object  \n",
      " 18  recorded_by            74250 non-null  object  \n",
      " 19  scheme_management      69404 non-null  object  \n",
      " 20  permit                 70457 non-null  object  \n",
      " 21  construction_year      48281 non-null  object  \n",
      " 22  extraction_type        74250 non-null  object  \n",
      " 23  extraction_type_group  74250 non-null  object  \n",
      " 24  extraction_type_class  74250 non-null  object  \n",
      " 25  management             74250 non-null  object  \n",
      " 26  management_group       74250 non-null  object  \n",
      " 27  payment_type           74250 non-null  object  \n",
      " 28  water_quality          74250 non-null  object  \n",
      " 29  quality_group          74250 non-null  object  \n",
      " 30  quantity_group         74250 non-null  object  \n",
      " 31  source                 74250 non-null  object  \n",
      " 32  source_class           74250 non-null  object  \n",
      " 33  waterpoint_type        74250 non-null  object  \n",
      " 34  status_group           59400 non-null  object  \n",
      " 35  scheme_name_2          38992 non-null  object  \n",
      " 36  waterpoint_age         48281 non-null  float64 \n",
      " 37  years_since_inspected  74250 non-null  int64   \n",
      " 38  used_pump              74250 non-null  object  \n",
      " 39  consistent_payment     74250 non-null  object  \n",
      " 40  water_quant_class      74250 non-null  object  \n",
      " 41  good_qual_sufficient   74250 non-null  category\n",
      "dtypes: category(1), float64(4), int64(5), object(32)\n",
      "memory usage: 23.3+ MB\n"
     ]
    }
   ],
   "source": [
    "combined_df.drop('waterpoint_type_group', axis = 1, inplace=True)\n",
    "\n",
    "combined_df.info()"
   ]
  },
  {
   "cell_type": "code",
   "execution_count": 2402,
   "metadata": {},
   "outputs": [
    {
     "data": {
      "text/plain": [
       "['id',\n",
       " 'amount_tsh',\n",
       " 'gps_height',\n",
       " 'longitude',\n",
       " 'latitude',\n",
       " 'num_private',\n",
       " 'region_code',\n",
       " 'district_code',\n",
       " 'population',\n",
       " 'construction_year']"
      ]
     },
     "execution_count": 2402,
     "metadata": {},
     "output_type": "execute_result"
    }
   ],
   "source": [
    "#Now lets take a look at all of the numeric features\n",
    "numeric_feats_combined"
   ]
  },
  {
   "cell_type": "code",
   "execution_count": 2403,
   "metadata": {},
   "outputs": [
    {
     "data": {
      "text/plain": [
       "0.0       52049\n",
       "500.0      3874\n",
       "50.0       3103\n",
       "1000.0     1858\n",
       "20.0       1812\n",
       "          ...  \n",
       "5400.0        1\n",
       "59.0          1\n",
       "12.0          1\n",
       "220.0         1\n",
       "2550.0        1\n",
       "Name: amount_tsh, Length: 102, dtype: int64"
      ]
     },
     "execution_count": 2403,
     "metadata": {},
     "output_type": "execute_result"
    }
   ],
   "source": [
    "#Checking on amount_tsh col\n",
    "#looks like tons of 0 vals; will change to na so can impute\n",
    "combined_df['amount_tsh'].value_counts()"
   ]
  },
  {
   "cell_type": "code",
   "execution_count": 2404,
   "metadata": {},
   "outputs": [
    {
     "name": "stdout",
     "output_type": "stream",
     "text": [
      "52049\n"
     ]
    }
   ],
   "source": [
    "#Replacing 0 vals with Nan to impute for later\n",
    "combined_df['amount_tsh'] = combined_df['amount_tsh'].replace({0.0: np.nan})\n",
    "combined_df['amount_tsh'].value_counts()\n",
    "\n",
    "print(combined_df['amount_tsh'].isnull().sum())"
   ]
  },
  {
   "cell_type": "code",
   "execution_count": 2405,
   "metadata": {},
   "outputs": [
    {
     "name": "stdout",
     "output_type": "stream",
     "text": [
      "0\n"
     ]
    },
    {
     "data": {
      "text/plain": [
       " 0       25649\n",
       "-16         71\n",
       "-15         69\n",
       "-13         68\n",
       "-19         65\n",
       "         ...  \n",
       " 2457        1\n",
       " 2091        1\n",
       " 2536        1\n",
       " 2408        1\n",
       " 2015        1\n",
       "Name: gps_height, Length: 2456, dtype: int64"
      ]
     },
     "execution_count": 2405,
     "metadata": {},
     "output_type": "execute_result"
    }
   ],
   "source": [
    "#Same issue here; replace 0 vals with NaN to impute later\n",
    "print(combined_df['gps_height'].isnull().sum())\n",
    "combined_df['gps_height'].value_counts()\n"
   ]
  },
  {
   "cell_type": "code",
   "execution_count": 2406,
   "metadata": {},
   "outputs": [
    {
     "name": "stdout",
     "output_type": "stream",
     "text": [
      "25649\n"
     ]
    }
   ],
   "source": [
    "#Replacing 0 with NaN\n",
    "combined_df['gps_height'] = combined_df['gps_height'].replace({0: np.nan})\n",
    "print(combined_df['gps_height'].isnull().sum())"
   ]
  },
  {
   "cell_type": "code",
   "execution_count": 2407,
   "metadata": {},
   "outputs": [
    {
     "data": {
      "text/plain": [
       "0.000000     2269\n",
       "37.540805       2\n",
       "32.967009       2\n",
       "32.924886       2\n",
       "37.236326       2\n",
       "             ... \n",
       "37.656457       1\n",
       "36.820653       1\n",
       "39.415032       1\n",
       "33.884180       1\n",
       "34.658638       1\n",
       "Name: longitude, Length: 71870, dtype: int64"
      ]
     },
     "execution_count": 2407,
     "metadata": {},
     "output_type": "execute_result"
    }
   ],
   "source": [
    "#Lets look at longitude & latitiude now\n",
    "#Same issues with 0 being predominant value\n",
    "#This also appears to have very high cardinality; may have to round values to bring it down\n",
    "combined_df['longitude'].value_counts()"
   ]
  },
  {
   "cell_type": "code",
   "execution_count": 2408,
   "metadata": {},
   "outputs": [
    {
     "name": "stdout",
     "output_type": "stream",
     "text": [
      "2269\n"
     ]
    }
   ],
   "source": [
    "#Replacing 0 with NaN\n",
    "combined_df['longitude'] = combined_df['longitude'].replace({0.000000 : np.nan})\n",
    "print(combined_df['longitude'].isnull().sum())"
   ]
  },
  {
   "cell_type": "code",
   "execution_count": 2409,
   "metadata": {},
   "outputs": [
    {
     "data": {
      "text/plain": [
       "-2.000000e-08    2269\n",
       "-6.957328e+00       2\n",
       "-2.516047e+00       2\n",
       "-7.104625e+00       2\n",
       "-6.990549e+00       2\n",
       "                 ... \n",
       "-6.964752e+00       1\n",
       "-5.522756e+00       1\n",
       "-6.803584e+00       1\n",
       "-3.361066e+00       1\n",
       "-3.024882e+00       1\n",
       "Name: latitude, Length: 71869, dtype: int64"
      ]
     },
     "execution_count": 2409,
     "metadata": {},
     "output_type": "execute_result"
    }
   ],
   "source": [
    "#Doing the same w lattitude\n",
    "#looks like its probably the same instances above which are showing -2.0000000 for lattitude; can leave as is\n",
    "#This also appears to have very high cardinality; may have to round values to bring it down\n",
    "combined_df['latitude'].value_counts()"
   ]
  },
  {
   "cell_type": "code",
   "execution_count": 2410,
   "metadata": {},
   "outputs": [
    {
     "data": {
      "text/plain": [
       "0       73299\n",
       "1          94\n",
       "6          92\n",
       "5          60\n",
       "8          58\n",
       "15         47\n",
       "32         45\n",
       "45         41\n",
       "3          38\n",
       "93         37\n",
       "39         34\n",
       "2          31\n",
       "7          31\n",
       "4          30\n",
       "102        28\n",
       "47         27\n",
       "65         27\n",
       "17         24\n",
       "11         18\n",
       "80         17\n",
       "20         14\n",
       "25         14\n",
       "34         13\n",
       "16         13\n",
       "41         12\n",
       "22         11\n",
       "120         9\n",
       "12          7\n",
       "50          7\n",
       "150         6\n",
       "24          5\n",
       "10          5\n",
       "38          4\n",
       "9           4\n",
       "58          4\n",
       "14          3\n",
       "26          3\n",
       "61          3\n",
       "180         3\n",
       "23          2\n",
       "27          2\n",
       "141         2\n",
       "280         1\n",
       "131         1\n",
       "240         1\n",
       "1776        1\n",
       "755         1\n",
       "450         1\n",
       "55          1\n",
       "136         1\n",
       "698         1\n",
       "1402        1\n",
       "60          1\n",
       "111         1\n",
       "420         1\n",
       "300         1\n",
       "42          1\n",
       "87          1\n",
       "35          1\n",
       "13          1\n",
       "672         1\n",
       "160         1\n",
       "94          1\n",
       "30          1\n",
       "669         1\n",
       "668         1\n",
       "213         1\n",
       "62          1\n",
       "Name: num_private, dtype: int64"
      ]
     },
     "execution_count": 2410,
     "metadata": {},
     "output_type": "execute_result"
    }
   ],
   "source": [
    "#Same kinda issue here with tons of 0's; would leave as is as could actually represent not having something\n",
    "#Going to create classes and bin these nums\n",
    "combined_df['num_private'].value_counts()"
   ]
  },
  {
   "cell_type": "code",
   "execution_count": 2411,
   "metadata": {},
   "outputs": [
    {
     "data": {
      "text/plain": [
       "0        73299\n",
       "1-100      886\n",
       "100+        65\n",
       "Name: num_private_binned, dtype: int64"
      ]
     },
     "execution_count": 2411,
     "metadata": {},
     "output_type": "execute_result"
    }
   ],
   "source": [
    "#Binning items to reduce cardinality; 0 is in a group of its own as its majority value\n",
    "\n",
    "combined_df['num_private_binned'] = pd.cut(combined_df.num_private, bins = [0,0.1,100,10000], labels=['0','1-100','100+'], include_lowest=True)\n",
    "\n",
    "combined_df['num_private_binned'].value_counts()"
   ]
  },
  {
   "cell_type": "code",
   "execution_count": 2412,
   "metadata": {},
   "outputs": [],
   "source": [
    "######\n",
    "#Converting to type object\n",
    "combined_df['num_private_binned'] = combined_df['num_private_binned'].apply(lambda x: str(x))"
   ]
  },
  {
   "cell_type": "code",
   "execution_count": 2413,
   "metadata": {},
   "outputs": [
    {
     "data": {
      "text/plain": [
       "CategoricalDtype(categories=['0', '1-100', '100+'], ordered=True)"
      ]
     },
     "execution_count": 2413,
     "metadata": {},
     "output_type": "execute_result"
    }
   ],
   "source": [
    "combined_df['num_private_binned'].value_counts()\n",
    "combined_df['num_private_binned'].dtype\n"
   ]
  },
  {
   "cell_type": "code",
   "execution_count": 2414,
   "metadata": {},
   "outputs": [],
   "source": [
    "#Drop original num_private feature\n",
    "combined_df.drop('num_private', axis=1, inplace=True)"
   ]
  },
  {
   "cell_type": "code",
   "execution_count": 2415,
   "metadata": {},
   "outputs": [
    {
     "data": {
      "text/plain": [
       "['id',\n",
       " 'amount_tsh',\n",
       " 'gps_height',\n",
       " 'longitude',\n",
       " 'latitude',\n",
       " 'num_private',\n",
       " 'region_code',\n",
       " 'district_code',\n",
       " 'population',\n",
       " 'construction_year']"
      ]
     },
     "execution_count": 2415,
     "metadata": {},
     "output_type": "execute_result"
    }
   ],
   "source": [
    "#Seeing whats left of the numeric features\n",
    "#Dealt with region_code, district_code and construction_year prior\n",
    "#This leaves the last variable, population\n",
    "numeric_feats_combined"
   ]
  },
  {
   "cell_type": "code",
   "execution_count": 2416,
   "metadata": {},
   "outputs": [
    {
     "name": "stdout",
     "output_type": "stream",
     "text": [
      "0\n"
     ]
    },
    {
     "data": {
      "text/plain": [
       "0       26834\n",
       "1        8782\n",
       "200      2370\n",
       "150      2328\n",
       "250      2087\n",
       "        ...  \n",
       "1193        1\n",
       "593         1\n",
       "1065        1\n",
       "785         1\n",
       "895         1\n",
       "Name: population, Length: 1128, dtype: int64"
      ]
     },
     "execution_count": 2416,
     "metadata": {},
     "output_type": "execute_result"
    }
   ],
   "source": [
    "#No missing vals; will leave as is\n",
    "print(combined_df['population'].isnull().sum())\n",
    "combined_df['population'].value_counts()"
   ]
  },
  {
   "cell_type": "code",
   "execution_count": 2417,
   "metadata": {},
   "outputs": [
    {
     "data": {
      "text/plain": [
       "26834"
      ]
     },
     "execution_count": 2417,
     "metadata": {},
     "output_type": "execute_result"
    }
   ],
   "source": [
    "#0 vals don't make much sense; replace with na\n",
    "\n",
    "combined_df['population'] = combined_df['population'].replace({0:np.nan})\n",
    "\n",
    "combined_df['population'].isnull().sum()"
   ]
  },
  {
   "cell_type": "code",
   "execution_count": 2418,
   "metadata": {},
   "outputs": [
    {
     "data": {
      "text/plain": [
       "35616"
      ]
     },
     "execution_count": 2418,
     "metadata": {},
     "output_type": "execute_result"
    }
   ],
   "source": [
    "#Also replacing population vals of 1 with nan; same idea\n",
    "\n",
    "combined_df['population'] = combined_df['population'].replace({1:np.nan})\n",
    "\n",
    "combined_df['population'].isnull().sum()"
   ]
  },
  {
   "cell_type": "code",
   "execution_count": 2419,
   "metadata": {},
   "outputs": [
    {
     "data": {
      "text/plain": [
       "count    38634.000000\n",
       "mean       347.154501\n",
       "std        607.276783\n",
       "min          2.000000\n",
       "25%         98.000000\n",
       "50%        200.000000\n",
       "75%        380.000000\n",
       "max      30500.000000\n",
       "Name: population, dtype: float64"
      ]
     },
     "execution_count": 2419,
     "metadata": {},
     "output_type": "execute_result"
    }
   ],
   "source": [
    "#Lets understand population a little bit better\n",
    "#Obviously very small if avg population is 179 (not thousand?) people\n",
    "combined_df['population'].describe()"
   ]
  },
  {
   "cell_type": "code",
   "execution_count": 2420,
   "metadata": {},
   "outputs": [],
   "source": [
    "#Lets create an indicator if the population size is above average\n",
    "def above_avg_pop(df):\n",
    "    mean = 179.909983\n",
    "    if df['population'] >= mean:\n",
    "        return 1     \n",
    "    else:\n",
    "        return 0\n",
    "        \n",
    "combined_df['above_avg_pop'] = combined_df.apply(above_avg_pop, axis =1)"
   ]
  },
  {
   "cell_type": "code",
   "execution_count": 2421,
   "metadata": {},
   "outputs": [
    {
     "data": {
      "text/html": [
       "<div>\n",
       "<style scoped>\n",
       "    .dataframe tbody tr th:only-of-type {\n",
       "        vertical-align: middle;\n",
       "    }\n",
       "\n",
       "    .dataframe tbody tr th {\n",
       "        vertical-align: top;\n",
       "    }\n",
       "\n",
       "    .dataframe thead th {\n",
       "        text-align: right;\n",
       "    }\n",
       "</style>\n",
       "<table border=\"1\" class=\"dataframe\">\n",
       "  <thead>\n",
       "    <tr style=\"text-align: right;\">\n",
       "      <th></th>\n",
       "      <th>above_avg_pop</th>\n",
       "      <th>population</th>\n",
       "    </tr>\n",
       "  </thead>\n",
       "  <tbody>\n",
       "    <tr>\n",
       "      <th>0</th>\n",
       "      <td>0</td>\n",
       "      <td>109.0</td>\n",
       "    </tr>\n",
       "    <tr>\n",
       "      <th>1</th>\n",
       "      <td>1</td>\n",
       "      <td>280.0</td>\n",
       "    </tr>\n",
       "    <tr>\n",
       "      <th>2</th>\n",
       "      <td>1</td>\n",
       "      <td>250.0</td>\n",
       "    </tr>\n",
       "    <tr>\n",
       "      <th>3</th>\n",
       "      <td>0</td>\n",
       "      <td>58.0</td>\n",
       "    </tr>\n",
       "    <tr>\n",
       "      <th>4</th>\n",
       "      <td>0</td>\n",
       "      <td>NaN</td>\n",
       "    </tr>\n",
       "    <tr>\n",
       "      <th>...</th>\n",
       "      <td>...</td>\n",
       "      <td>...</td>\n",
       "    </tr>\n",
       "    <tr>\n",
       "      <th>74245</th>\n",
       "      <td>0</td>\n",
       "      <td>20.0</td>\n",
       "    </tr>\n",
       "    <tr>\n",
       "      <th>74246</th>\n",
       "      <td>1</td>\n",
       "      <td>2960.0</td>\n",
       "    </tr>\n",
       "    <tr>\n",
       "      <th>74247</th>\n",
       "      <td>1</td>\n",
       "      <td>200.0</td>\n",
       "    </tr>\n",
       "    <tr>\n",
       "      <th>74248</th>\n",
       "      <td>0</td>\n",
       "      <td>150.0</td>\n",
       "    </tr>\n",
       "    <tr>\n",
       "      <th>74249</th>\n",
       "      <td>0</td>\n",
       "      <td>40.0</td>\n",
       "    </tr>\n",
       "  </tbody>\n",
       "</table>\n",
       "<p>74250 rows × 2 columns</p>\n",
       "</div>"
      ],
      "text/plain": [
       "      above_avg_pop  population\n",
       "0                 0       109.0\n",
       "1                 1       280.0\n",
       "2                 1       250.0\n",
       "3                 0        58.0\n",
       "4                 0         NaN\n",
       "...             ...         ...\n",
       "74245             0        20.0\n",
       "74246             1      2960.0\n",
       "74247             1       200.0\n",
       "74248             0       150.0\n",
       "74249             0        40.0\n",
       "\n",
       "[74250 rows x 2 columns]"
      ]
     },
     "execution_count": 2421,
     "metadata": {},
     "output_type": "execute_result"
    }
   ],
   "source": [
    "combined_df['above_avg_pop'] = combined_df['above_avg_pop'].astype('object')\n",
    "\n",
    "combined_df[['above_avg_pop', 'population']]"
   ]
  },
  {
   "cell_type": "code",
   "execution_count": 2422,
   "metadata": {},
   "outputs": [
    {
     "data": {
      "text/plain": [
       "2047     1\n",
       "72310    1\n",
       "14994    1\n",
       "12947    1\n",
       "2708     1\n",
       "        ..\n",
       "19811    1\n",
       "30052    1\n",
       "32101    1\n",
       "25958    1\n",
       "0        1\n",
       "Name: id, Length: 74250, dtype: int64"
      ]
     },
     "execution_count": 2422,
     "metadata": {},
     "output_type": "execute_result"
    }
   ],
   "source": [
    "#Probably does not bring anything of value\n",
    "#Will drop as feature\n",
    "combined_df['id'].value_counts()"
   ]
  },
  {
   "cell_type": "code",
   "execution_count": 2423,
   "metadata": {},
   "outputs": [],
   "source": [
    "#combined_df.drop('id', axis=1, inplace=True)"
   ]
  },
  {
   "cell_type": "code",
   "execution_count": 2424,
   "metadata": {},
   "outputs": [],
   "source": [
    "#Converting all numeric categories to numeric dtype\n",
    "combined_df['amount_tsh'] = pd.to_numeric(combined_df['amount_tsh'])\n",
    "combined_df['gps_height'] = pd.to_numeric(combined_df['gps_height'])\n",
    "combined_df['longitude'] = pd.to_numeric(combined_df['longitude'])\n",
    "combined_df['latitude'] = pd.to_numeric(combined_df['latitude'])\n",
    "combined_df['population'] = pd.to_numeric(combined_df['population'])\n",
    "combined_df['years_since_inspected'] = pd.to_numeric(combined_df['years_since_inspected'])"
   ]
  },
  {
   "cell_type": "code",
   "execution_count": 2425,
   "metadata": {},
   "outputs": [],
   "source": [
    "#Doing the same for categorical variables\n",
    "for col in combined_df.columns:\n",
    "    if combined_df[col].dtype == 'object':\n",
    "        combined_df[col] = combined_df[col].astype('category')\n"
   ]
  },
  {
   "cell_type": "code",
   "execution_count": 2426,
   "metadata": {},
   "outputs": [
    {
     "name": "stdout",
     "output_type": "stream",
     "text": [
      "<class 'pandas.core.frame.DataFrame'>\n",
      "RangeIndex: 74250 entries, 0 to 74249\n",
      "Data columns (total 43 columns):\n",
      " #   Column                 Non-Null Count  Dtype   \n",
      "---  ------                 --------------  -----   \n",
      " 0   id                     74250 non-null  int64   \n",
      " 1   amount_tsh             22201 non-null  float64 \n",
      " 2   funder                 69746 non-null  category\n",
      " 3   gps_height             48601 non-null  float64 \n",
      " 4   installer              69718 non-null  category\n",
      " 5   longitude              71981 non-null  float64 \n",
      " 6   latitude               74250 non-null  float64 \n",
      " 7   wpt_name               74250 non-null  category\n",
      " 8   basin                  74250 non-null  category\n",
      " 9   subvillage             73780 non-null  category\n",
      " 10  region                 74250 non-null  category\n",
      " 11  region_code            74250 non-null  category\n",
      " 12  district_code          74250 non-null  category\n",
      " 13  lga                    74250 non-null  category\n",
      " 14  ward                   74250 non-null  category\n",
      " 15  population             38634 non-null  float64 \n",
      " 16  public_meeting         70095 non-null  category\n",
      " 17  recorded_by            74250 non-null  category\n",
      " 18  scheme_management      69404 non-null  category\n",
      " 19  permit                 70457 non-null  category\n",
      " 20  construction_year      48281 non-null  category\n",
      " 21  extraction_type        74250 non-null  category\n",
      " 22  extraction_type_group  74250 non-null  category\n",
      " 23  extraction_type_class  74250 non-null  category\n",
      " 24  management             74250 non-null  category\n",
      " 25  management_group       74250 non-null  category\n",
      " 26  payment_type           74250 non-null  category\n",
      " 27  water_quality          74250 non-null  category\n",
      " 28  quality_group          74250 non-null  category\n",
      " 29  quantity_group         74250 non-null  category\n",
      " 30  source                 74250 non-null  category\n",
      " 31  source_class           74250 non-null  category\n",
      " 32  waterpoint_type        74250 non-null  category\n",
      " 33  status_group           59400 non-null  category\n",
      " 34  scheme_name_2          38992 non-null  category\n",
      " 35  waterpoint_age         48281 non-null  float64 \n",
      " 36  years_since_inspected  74250 non-null  int64   \n",
      " 37  used_pump              74250 non-null  category\n",
      " 38  consistent_payment     74250 non-null  category\n",
      " 39  water_quant_class      74250 non-null  category\n",
      " 40  good_qual_sufficient   74250 non-null  category\n",
      " 41  num_private_binned     74250 non-null  category\n",
      " 42  above_avg_pop          74250 non-null  category\n",
      "dtypes: category(35), float64(6), int64(2)\n",
      "memory usage: 7.0 MB\n"
     ]
    }
   ],
   "source": [
    "#Looks good to proceed\n",
    "combined_df.info()"
   ]
  },
  {
   "cell_type": "code",
   "execution_count": 2427,
   "metadata": {},
   "outputs": [],
   "source": [
    "#Attempting to drop some columns w issues that might improve performance\n",
    "\n",
    "             \n",
    "#As per 07/28\n",
    "def remove(df):\n",
    "        cols = ['id', 'num_private_binned', 'wpt_name', \n",
    "          'recorded_by', 'subvillage', 'scheme_name_2', 'extraction_type', 'extraction_type_class']       \n",
    "        for x in cols:\n",
    "            del df[x]\n",
    "        return df\n",
    "\n",
    "#subvillage' - taking out briefly for final impact analysis\n",
    "\n",
    "#(original as per 07/27 working condition)\n",
    "#def remove(df):\n",
    "#        cols = ['id', 'amount_tsh', 'funder', 'installer', 'num_private_binned', 'wpt_name', \n",
    "#          'recorded_by', 'subvillage', 'scheme_name_2', 'region', 'extraction_type_group']       \n",
    "#        for x in cols:\n",
    "#            del df[x]\n",
    "#        return df\n"
   ]
  },
  {
   "cell_type": "code",
   "execution_count": 2428,
   "metadata": {},
   "outputs": [],
   "source": [
    "#Adding in new features as per Mahendar\n",
    "\n"
   ]
  },
  {
   "cell_type": "code",
   "execution_count": 2429,
   "metadata": {},
   "outputs": [],
   "source": [
    "#Removing unwanted cols\n",
    "combined_df = combined_df.apply(remove, axis = 1)"
   ]
  },
  {
   "cell_type": "code",
   "execution_count": 2430,
   "metadata": {},
   "outputs": [
    {
     "name": "stdout",
     "output_type": "stream",
     "text": [
      "<class 'pandas.core.frame.DataFrame'>\n",
      "RangeIndex: 74250 entries, 0 to 74249\n",
      "Data columns (total 36 columns):\n",
      " #   Column                 Non-Null Count  Dtype  \n",
      "---  ------                 --------------  -----  \n",
      " 0   amount_tsh             22201 non-null  float64\n",
      " 1   funder                 69746 non-null  object \n",
      " 2   gps_height             48601 non-null  float64\n",
      " 3   installer              69718 non-null  object \n",
      " 4   longitude              71981 non-null  float64\n",
      " 5   latitude               74250 non-null  float64\n",
      " 6   basin                  74250 non-null  object \n",
      " 7   subvillage             73780 non-null  object \n",
      " 8   region                 74250 non-null  object \n",
      " 9   region_code            74250 non-null  object \n",
      " 10  district_code          74250 non-null  object \n",
      " 11  lga                    74250 non-null  object \n",
      " 12  ward                   74250 non-null  object \n",
      " 13  population             38634 non-null  float64\n",
      " 14  public_meeting         70095 non-null  object \n",
      " 15  scheme_management      69404 non-null  object \n",
      " 16  permit                 70457 non-null  object \n",
      " 17  construction_year      48281 non-null  object \n",
      " 18  extraction_type_group  74250 non-null  object \n",
      " 19  management             74250 non-null  object \n",
      " 20  management_group       74250 non-null  object \n",
      " 21  payment_type           74250 non-null  object \n",
      " 22  water_quality          74250 non-null  object \n",
      " 23  quality_group          74250 non-null  object \n",
      " 24  quantity_group         74250 non-null  object \n",
      " 25  source                 74250 non-null  object \n",
      " 26  source_class           74250 non-null  object \n",
      " 27  waterpoint_type        74250 non-null  object \n",
      " 28  status_group           59400 non-null  object \n",
      " 29  waterpoint_age         48281 non-null  float64\n",
      " 30  years_since_inspected  74250 non-null  int64  \n",
      " 31  used_pump              74250 non-null  int64  \n",
      " 32  consistent_payment     74250 non-null  int64  \n",
      " 33  water_quant_class      74250 non-null  object \n",
      " 34  good_qual_sufficient   74250 non-null  int64  \n",
      " 35  above_avg_pop          74250 non-null  int64  \n",
      "dtypes: float64(6), int64(5), object(25)\n",
      "memory usage: 20.4+ MB\n"
     ]
    }
   ],
   "source": [
    "combined_df.info()"
   ]
  },
  {
   "cell_type": "code",
   "execution_count": 2431,
   "metadata": {},
   "outputs": [
    {
     "data": {
      "text/plain": [
       "functional                 0.543\n",
       "non functional             0.384\n",
       "functional needs repair    0.073\n",
       "Name: status_group, dtype: float64"
      ]
     },
     "execution_count": 2431,
     "metadata": {},
     "output_type": "execute_result"
    }
   ],
   "source": [
    "#Now lets look at the balance of the target variable\n",
    "#No NA values which is a good sign\n",
    "\n",
    "round(combined_df['status_group'].value_counts().apply(lambda x: x / 59400),3)"
   ]
  },
  {
   "cell_type": "code",
   "execution_count": 2432,
   "metadata": {},
   "outputs": [
    {
     "data": {
      "text/plain": [
       "<matplotlib.axes._subplots.AxesSubplot at 0x25472254400>"
      ]
     },
     "execution_count": 2432,
     "metadata": {},
     "output_type": "execute_result"
    },
    {
     "data": {
      "image/png": "[encoded data removed]",
      "text/plain": [
       "<Figure size 432x288 with 1 Axes>"
      ]
     },
     "metadata": {
      "needs_background": "light"
     },
     "output_type": "display_data"
    }
   ],
   "source": [
    "#This helps to visualize the split among classes \n",
    "#Will use a SMOTE technique to balance classes \n",
    "#Can also try cost-sensitive learning since this is a multi-class problem; can specifiy custom weights to apply to the classifier itself\n",
    "sns.countplot(x = 'status_group', data = combined_df)"
   ]
  },
  {
   "cell_type": "code",
   "execution_count": 2433,
   "metadata": {},
   "outputs": [
    {
     "data": {
      "text/plain": [
       "0.0    32259\n",
       "1.0    22824\n",
       "2.0     4317\n",
       "Name: status_group, dtype: int64"
      ]
     },
     "execution_count": 2433,
     "metadata": {},
     "output_type": "execute_result"
    }
   ],
   "source": [
    "#Lets now replace functional, nonfunctional and fucntional needs repair with integers\n",
    "combined_df['status_group'] = combined_df['status_group'].replace({'functional' : 0, 'non functional':1, 'functional needs repair':2})\n",
    "\n",
    "combined_df['status_group'].value_counts()"
   ]
  },
  {
   "cell_type": "code",
   "execution_count": 2434,
   "metadata": {},
   "outputs": [
    {
     "name": "stdout",
     "output_type": "stream",
     "text": [
      "<class 'pandas.core.frame.DataFrame'>\n",
      "RangeIndex: 74250 entries, 0 to 74249\n",
      "Data columns (total 36 columns):\n",
      " #   Column                 Non-Null Count  Dtype  \n",
      "---  ------                 --------------  -----  \n",
      " 0   amount_tsh             22201 non-null  float64\n",
      " 1   funder                 69746 non-null  object \n",
      " 2   gps_height             48601 non-null  float64\n",
      " 3   installer              69718 non-null  object \n",
      " 4   longitude              71981 non-null  float64\n",
      " 5   latitude               74250 non-null  float64\n",
      " 6   basin                  74250 non-null  object \n",
      " 7   subvillage             73780 non-null  object \n",
      " 8   region                 74250 non-null  object \n",
      " 9   region_code            74250 non-null  object \n",
      " 10  district_code          74250 non-null  object \n",
      " 11  lga                    74250 non-null  object \n",
      " 12  ward                   74250 non-null  object \n",
      " 13  population             38634 non-null  float64\n",
      " 14  public_meeting         70095 non-null  object \n",
      " 15  scheme_management      69404 non-null  object \n",
      " 16  permit                 70457 non-null  object \n",
      " 17  construction_year      48281 non-null  object \n",
      " 18  extraction_type_group  74250 non-null  object \n",
      " 19  management             74250 non-null  object \n",
      " 20  management_group       74250 non-null  object \n",
      " 21  payment_type           74250 non-null  object \n",
      " 22  water_quality          74250 non-null  object \n",
      " 23  quality_group          74250 non-null  object \n",
      " 24  quantity_group         74250 non-null  object \n",
      " 25  source                 74250 non-null  object \n",
      " 26  source_class           74250 non-null  object \n",
      " 27  waterpoint_type        74250 non-null  object \n",
      " 28  status_group           59400 non-null  float64\n",
      " 29  waterpoint_age         48281 non-null  float64\n",
      " 30  years_since_inspected  74250 non-null  int64  \n",
      " 31  used_pump              74250 non-null  int64  \n",
      " 32  consistent_payment     74250 non-null  int64  \n",
      " 33  water_quant_class      74250 non-null  object \n",
      " 34  good_qual_sufficient   74250 non-null  int64  \n",
      " 35  above_avg_pop          74250 non-null  int64  \n",
      "dtypes: float64(7), int64(5), object(24)\n",
      "memory usage: 20.4+ MB\n"
     ]
    }
   ],
   "source": [
    "#Viewing data before splitting\n",
    "#Now 35 features + Target\n",
    "combined_df.info()"
   ]
  },
  {
   "cell_type": "code",
   "execution_count": 2435,
   "metadata": {},
   "outputs": [
    {
     "data": {
      "text/html": [
       "<div>\n",
       "<style scoped>\n",
       "    .dataframe tbody tr th:only-of-type {\n",
       "        vertical-align: middle;\n",
       "    }\n",
       "\n",
       "    .dataframe tbody tr th {\n",
       "        vertical-align: top;\n",
       "    }\n",
       "\n",
       "    .dataframe thead th {\n",
       "        text-align: right;\n",
       "    }\n",
       "</style>\n",
       "<table border=\"1\" class=\"dataframe\">\n",
       "  <thead>\n",
       "    <tr style=\"text-align: right;\">\n",
       "      <th></th>\n",
       "      <th>amount_tsh</th>\n",
       "      <th>funder</th>\n",
       "      <th>gps_height</th>\n",
       "      <th>installer</th>\n",
       "      <th>longitude</th>\n",
       "      <th>latitude</th>\n",
       "      <th>basin</th>\n",
       "      <th>subvillage</th>\n",
       "      <th>region</th>\n",
       "      <th>region_code</th>\n",
       "      <th>...</th>\n",
       "      <th>source_class</th>\n",
       "      <th>waterpoint_type</th>\n",
       "      <th>status_group</th>\n",
       "      <th>waterpoint_age</th>\n",
       "      <th>years_since_inspected</th>\n",
       "      <th>used_pump</th>\n",
       "      <th>consistent_payment</th>\n",
       "      <th>water_quant_class</th>\n",
       "      <th>good_qual_sufficient</th>\n",
       "      <th>above_avg_pop</th>\n",
       "    </tr>\n",
       "  </thead>\n",
       "  <tbody>\n",
       "    <tr>\n",
       "      <th>59400</th>\n",
       "      <td>NaN</td>\n",
       "      <td>Dmdd</td>\n",
       "      <td>1996.0</td>\n",
       "      <td>other</td>\n",
       "      <td>35.290799</td>\n",
       "      <td>-4.059696</td>\n",
       "      <td>Internal</td>\n",
       "      <td>other</td>\n",
       "      <td>Manyara</td>\n",
       "      <td>21</td>\n",
       "      <td>...</td>\n",
       "      <td>surface</td>\n",
       "      <td>other</td>\n",
       "      <td>NaN</td>\n",
       "      <td>3.0</td>\n",
       "      <td>2</td>\n",
       "      <td>0</td>\n",
       "      <td>0</td>\n",
       "      <td>sufficient</td>\n",
       "      <td>0</td>\n",
       "      <td>1</td>\n",
       "    </tr>\n",
       "    <tr>\n",
       "      <th>59401</th>\n",
       "      <td>NaN</td>\n",
       "      <td>Government Of Tanzania</td>\n",
       "      <td>1569.0</td>\n",
       "      <td>DWE</td>\n",
       "      <td>36.656709</td>\n",
       "      <td>-3.309214</td>\n",
       "      <td>Pangani</td>\n",
       "      <td>other</td>\n",
       "      <td>Arusha</td>\n",
       "      <td>2</td>\n",
       "      <td>...</td>\n",
       "      <td>groundwater</td>\n",
       "      <td>communal standpipe</td>\n",
       "      <td>NaN</td>\n",
       "      <td>15.0</td>\n",
       "      <td>2</td>\n",
       "      <td>0</td>\n",
       "      <td>0</td>\n",
       "      <td>poor</td>\n",
       "      <td>0</td>\n",
       "      <td>1</td>\n",
       "    </tr>\n",
       "    <tr>\n",
       "      <th>59402</th>\n",
       "      <td>NaN</td>\n",
       "      <td>NaN</td>\n",
       "      <td>1567.0</td>\n",
       "      <td>NaN</td>\n",
       "      <td>34.767863</td>\n",
       "      <td>-5.004344</td>\n",
       "      <td>Internal</td>\n",
       "      <td>other</td>\n",
       "      <td>Singida</td>\n",
       "      <td>13</td>\n",
       "      <td>...</td>\n",
       "      <td>surface</td>\n",
       "      <td>other</td>\n",
       "      <td>NaN</td>\n",
       "      <td>5.0</td>\n",
       "      <td>2</td>\n",
       "      <td>0</td>\n",
       "      <td>0</td>\n",
       "      <td>poor</td>\n",
       "      <td>0</td>\n",
       "      <td>1</td>\n",
       "    </tr>\n",
       "    <tr>\n",
       "      <th>59403</th>\n",
       "      <td>NaN</td>\n",
       "      <td>other</td>\n",
       "      <td>267.0</td>\n",
       "      <td>other</td>\n",
       "      <td>38.058046</td>\n",
       "      <td>-9.418672</td>\n",
       "      <td>Ruvuma / Southern Coast</td>\n",
       "      <td>other</td>\n",
       "      <td>Lindi</td>\n",
       "      <td>80</td>\n",
       "      <td>...</td>\n",
       "      <td>groundwater</td>\n",
       "      <td>other</td>\n",
       "      <td>NaN</td>\n",
       "      <td>28.0</td>\n",
       "      <td>2</td>\n",
       "      <td>0</td>\n",
       "      <td>0</td>\n",
       "      <td>poor</td>\n",
       "      <td>0</td>\n",
       "      <td>1</td>\n",
       "    </tr>\n",
       "    <tr>\n",
       "      <th>59404</th>\n",
       "      <td>500.0</td>\n",
       "      <td>other</td>\n",
       "      <td>1260.0</td>\n",
       "      <td>other</td>\n",
       "      <td>35.006123</td>\n",
       "      <td>-10.950412</td>\n",
       "      <td>Ruvuma / Southern Coast</td>\n",
       "      <td>other</td>\n",
       "      <td>Ruvuma</td>\n",
       "      <td>10</td>\n",
       "      <td>...</td>\n",
       "      <td>groundwater</td>\n",
       "      <td>communal standpipe</td>\n",
       "      <td>NaN</td>\n",
       "      <td>15.0</td>\n",
       "      <td>2</td>\n",
       "      <td>0</td>\n",
       "      <td>1</td>\n",
       "      <td>sufficient</td>\n",
       "      <td>1</td>\n",
       "      <td>0</td>\n",
       "    </tr>\n",
       "  </tbody>\n",
       "</table>\n",
       "<p>5 rows × 36 columns</p>\n",
       "</div>"
      ],
      "text/plain": [
       "       amount_tsh                  funder  gps_height installer  longitude  \\\n",
       "59400         NaN                    Dmdd      1996.0     other  35.290799   \n",
       "59401         NaN  Government Of Tanzania      1569.0       DWE  36.656709   \n",
       "59402         NaN                     NaN      1567.0       NaN  34.767863   \n",
       "59403         NaN                   other       267.0     other  38.058046   \n",
       "59404       500.0                   other      1260.0     other  35.006123   \n",
       "\n",
       "        latitude                    basin subvillage   region region_code  \\\n",
       "59400  -4.059696                 Internal      other  Manyara          21   \n",
       "59401  -3.309214                  Pangani      other   Arusha           2   \n",
       "59402  -5.004344                 Internal      other  Singida          13   \n",
       "59403  -9.418672  Ruvuma / Southern Coast      other    Lindi          80   \n",
       "59404 -10.950412  Ruvuma / Southern Coast      other   Ruvuma          10   \n",
       "\n",
       "       ... source_class     waterpoint_type status_group  waterpoint_age  \\\n",
       "59400  ...      surface               other          NaN             3.0   \n",
       "59401  ...  groundwater  communal standpipe          NaN            15.0   \n",
       "59402  ...      surface               other          NaN             5.0   \n",
       "59403  ...  groundwater               other          NaN            28.0   \n",
       "59404  ...  groundwater  communal standpipe          NaN            15.0   \n",
       "\n",
       "      years_since_inspected used_pump consistent_payment water_quant_class  \\\n",
       "59400                     2         0                  0        sufficient   \n",
       "59401                     2         0                  0              poor   \n",
       "59402                     2         0                  0              poor   \n",
       "59403                     2         0                  0              poor   \n",
       "59404                     2         0                  1        sufficient   \n",
       "\n",
       "      good_qual_sufficient above_avg_pop  \n",
       "59400                    0             1  \n",
       "59401                    0             1  \n",
       "59402                    0             1  \n",
       "59403                    0             1  \n",
       "59404                    1             0  \n",
       "\n",
       "[5 rows x 36 columns]"
      ]
     },
     "execution_count": 2435,
     "metadata": {},
     "output_type": "execute_result"
    }
   ],
   "source": [
    "#Splitting off final test data\n",
    "#Ids match up\n",
    "final_test_features = combined_df.iloc[59400:74250].copy()\n",
    "final_test_features.head()"
   ]
  },
  {
   "cell_type": "code",
   "execution_count": 2436,
   "metadata": {},
   "outputs": [
    {
     "data": {
      "text/html": [
       "<div>\n",
       "<style scoped>\n",
       "    .dataframe tbody tr th:only-of-type {\n",
       "        vertical-align: middle;\n",
       "    }\n",
       "\n",
       "    .dataframe tbody tr th {\n",
       "        vertical-align: top;\n",
       "    }\n",
       "\n",
       "    .dataframe thead th {\n",
       "        text-align: right;\n",
       "    }\n",
       "</style>\n",
       "<table border=\"1\" class=\"dataframe\">\n",
       "  <thead>\n",
       "    <tr style=\"text-align: right;\">\n",
       "      <th></th>\n",
       "      <th>amount_tsh</th>\n",
       "      <th>funder</th>\n",
       "      <th>gps_height</th>\n",
       "      <th>installer</th>\n",
       "      <th>longitude</th>\n",
       "      <th>latitude</th>\n",
       "      <th>basin</th>\n",
       "      <th>subvillage</th>\n",
       "      <th>region</th>\n",
       "      <th>region_code</th>\n",
       "      <th>...</th>\n",
       "      <th>source_class</th>\n",
       "      <th>waterpoint_type</th>\n",
       "      <th>status_group</th>\n",
       "      <th>waterpoint_age</th>\n",
       "      <th>years_since_inspected</th>\n",
       "      <th>used_pump</th>\n",
       "      <th>consistent_payment</th>\n",
       "      <th>water_quant_class</th>\n",
       "      <th>good_qual_sufficient</th>\n",
       "      <th>above_avg_pop</th>\n",
       "    </tr>\n",
       "  </thead>\n",
       "  <tbody>\n",
       "    <tr>\n",
       "      <th>0</th>\n",
       "      <td>6000.0</td>\n",
       "      <td>Roman</td>\n",
       "      <td>1390.0</td>\n",
       "      <td>other</td>\n",
       "      <td>34.938093</td>\n",
       "      <td>-9.856322</td>\n",
       "      <td>Lake Nyasa</td>\n",
       "      <td>other</td>\n",
       "      <td>Iringa</td>\n",
       "      <td>11</td>\n",
       "      <td>...</td>\n",
       "      <td>groundwater</td>\n",
       "      <td>communal standpipe</td>\n",
       "      <td>0.0</td>\n",
       "      <td>16.0</td>\n",
       "      <td>4</td>\n",
       "      <td>0</td>\n",
       "      <td>1</td>\n",
       "      <td>sufficient</td>\n",
       "      <td>1</td>\n",
       "      <td>0</td>\n",
       "    </tr>\n",
       "    <tr>\n",
       "      <th>1</th>\n",
       "      <td>NaN</td>\n",
       "      <td>other</td>\n",
       "      <td>1399.0</td>\n",
       "      <td>other</td>\n",
       "      <td>34.698766</td>\n",
       "      <td>-2.147466</td>\n",
       "      <td>Lake Victoria</td>\n",
       "      <td>other</td>\n",
       "      <td>Mara</td>\n",
       "      <td>20</td>\n",
       "      <td>...</td>\n",
       "      <td>surface</td>\n",
       "      <td>communal standpipe</td>\n",
       "      <td>0.0</td>\n",
       "      <td>5.0</td>\n",
       "      <td>2</td>\n",
       "      <td>0</td>\n",
       "      <td>0</td>\n",
       "      <td>poor</td>\n",
       "      <td>0</td>\n",
       "      <td>1</td>\n",
       "    </tr>\n",
       "    <tr>\n",
       "      <th>2</th>\n",
       "      <td>25.0</td>\n",
       "      <td>other</td>\n",
       "      <td>686.0</td>\n",
       "      <td>World vision</td>\n",
       "      <td>37.460664</td>\n",
       "      <td>-3.821329</td>\n",
       "      <td>Pangani</td>\n",
       "      <td>Majengo</td>\n",
       "      <td>Manyara</td>\n",
       "      <td>21</td>\n",
       "      <td>...</td>\n",
       "      <td>surface</td>\n",
       "      <td>communal standpipe multiple</td>\n",
       "      <td>0.0</td>\n",
       "      <td>6.0</td>\n",
       "      <td>2</td>\n",
       "      <td>0</td>\n",
       "      <td>1</td>\n",
       "      <td>sufficient</td>\n",
       "      <td>1</td>\n",
       "      <td>1</td>\n",
       "    </tr>\n",
       "    <tr>\n",
       "      <th>3</th>\n",
       "      <td>NaN</td>\n",
       "      <td>Unicef</td>\n",
       "      <td>263.0</td>\n",
       "      <td>UNICEF</td>\n",
       "      <td>38.486161</td>\n",
       "      <td>-11.155298</td>\n",
       "      <td>Ruvuma / Southern Coast</td>\n",
       "      <td>other</td>\n",
       "      <td>Mtwara</td>\n",
       "      <td>90</td>\n",
       "      <td>...</td>\n",
       "      <td>groundwater</td>\n",
       "      <td>communal standpipe multiple</td>\n",
       "      <td>1.0</td>\n",
       "      <td>29.0</td>\n",
       "      <td>2</td>\n",
       "      <td>0</td>\n",
       "      <td>0</td>\n",
       "      <td>poor</td>\n",
       "      <td>0</td>\n",
       "      <td>0</td>\n",
       "    </tr>\n",
       "    <tr>\n",
       "      <th>4</th>\n",
       "      <td>NaN</td>\n",
       "      <td>other</td>\n",
       "      <td>NaN</td>\n",
       "      <td>other</td>\n",
       "      <td>31.130847</td>\n",
       "      <td>-1.825359</td>\n",
       "      <td>Lake Victoria</td>\n",
       "      <td>other</td>\n",
       "      <td>Kagera</td>\n",
       "      <td>18</td>\n",
       "      <td>...</td>\n",
       "      <td>surface</td>\n",
       "      <td>communal standpipe</td>\n",
       "      <td>0.0</td>\n",
       "      <td>NaN</td>\n",
       "      <td>4</td>\n",
       "      <td>0</td>\n",
       "      <td>0</td>\n",
       "      <td>sufficient</td>\n",
       "      <td>0</td>\n",
       "      <td>0</td>\n",
       "    </tr>\n",
       "  </tbody>\n",
       "</table>\n",
       "<p>5 rows × 36 columns</p>\n",
       "</div>"
      ],
      "text/plain": [
       "   amount_tsh  funder  gps_height     installer  longitude   latitude  \\\n",
       "0      6000.0   Roman      1390.0         other  34.938093  -9.856322   \n",
       "1         NaN   other      1399.0         other  34.698766  -2.147466   \n",
       "2        25.0   other       686.0  World vision  37.460664  -3.821329   \n",
       "3         NaN  Unicef       263.0        UNICEF  38.486161 -11.155298   \n",
       "4         NaN   other         NaN         other  31.130847  -1.825359   \n",
       "\n",
       "                     basin subvillage   region region_code  ... source_class  \\\n",
       "0               Lake Nyasa      other   Iringa          11  ...  groundwater   \n",
       "1            Lake Victoria      other     Mara          20  ...      surface   \n",
       "2                  Pangani    Majengo  Manyara          21  ...      surface   \n",
       "3  Ruvuma / Southern Coast      other   Mtwara          90  ...  groundwater   \n",
       "4            Lake Victoria      other   Kagera          18  ...      surface   \n",
       "\n",
       "               waterpoint_type status_group  waterpoint_age  \\\n",
       "0           communal standpipe          0.0            16.0   \n",
       "1           communal standpipe          0.0             5.0   \n",
       "2  communal standpipe multiple          0.0             6.0   \n",
       "3  communal standpipe multiple          1.0            29.0   \n",
       "4           communal standpipe          0.0             NaN   \n",
       "\n",
       "  years_since_inspected used_pump consistent_payment water_quant_class  \\\n",
       "0                     4         0                  1        sufficient   \n",
       "1                     2         0                  0              poor   \n",
       "2                     2         0                  1        sufficient   \n",
       "3                     2         0                  0              poor   \n",
       "4                     4         0                  0        sufficient   \n",
       "\n",
       "  good_qual_sufficient above_avg_pop  \n",
       "0                    1             0  \n",
       "1                    0             1  \n",
       "2                    1             1  \n",
       "3                    0             0  \n",
       "4                    0             0  \n",
       "\n",
       "[5 rows x 36 columns]"
      ]
     },
     "execution_count": 2436,
     "metadata": {},
     "output_type": "execute_result"
    }
   ],
   "source": [
    "#Now taking final combined df without final test features\n",
    "#Ids match up\n",
    "combined_df = combined_df.iloc[0:59400].copy()\n",
    "combined_df.head()"
   ]
  },
  {
   "cell_type": "code",
   "execution_count": 2437,
   "metadata": {},
   "outputs": [],
   "source": [
    "#Now lets remove the id column as we've confirmed that the ids match up\n",
    "\n",
    "#combined_df.drop('id', axis=1, inplace=True)\n",
    "#final_test_features.drop('id', axis=1, inplace=True)"
   ]
  },
  {
   "cell_type": "code",
   "execution_count": 2438,
   "metadata": {},
   "outputs": [
    {
     "name": "stdout",
     "output_type": "stream",
     "text": [
      "<class 'pandas.core.frame.DataFrame'>\n",
      "RangeIndex: 59400 entries, 0 to 59399\n",
      "Data columns (total 36 columns):\n",
      " #   Column                 Non-Null Count  Dtype  \n",
      "---  ------                 --------------  -----  \n",
      " 0   amount_tsh             17761 non-null  float64\n",
      " 1   funder                 55765 non-null  object \n",
      " 2   gps_height             38962 non-null  float64\n",
      " 3   installer              55745 non-null  object \n",
      " 4   longitude              57588 non-null  float64\n",
      " 5   latitude               59400 non-null  float64\n",
      " 6   basin                  59400 non-null  object \n",
      " 7   subvillage             59029 non-null  object \n",
      " 8   region                 59400 non-null  object \n",
      " 9   region_code            59400 non-null  object \n",
      " 10  district_code          59400 non-null  object \n",
      " 11  lga                    59400 non-null  object \n",
      " 12  ward                   59400 non-null  object \n",
      " 13  population             30994 non-null  float64\n",
      " 14  public_meeting         56066 non-null  object \n",
      " 15  scheme_management      55523 non-null  object \n",
      " 16  permit                 56344 non-null  object \n",
      " 17  construction_year      38691 non-null  object \n",
      " 18  extraction_type_group  59400 non-null  object \n",
      " 19  management             59400 non-null  object \n",
      " 20  management_group       59400 non-null  object \n",
      " 21  payment_type           59400 non-null  object \n",
      " 22  water_quality          59400 non-null  object \n",
      " 23  quality_group          59400 non-null  object \n",
      " 24  quantity_group         59400 non-null  object \n",
      " 25  source                 59400 non-null  object \n",
      " 26  source_class           59400 non-null  object \n",
      " 27  waterpoint_type        59400 non-null  object \n",
      " 28  status_group           59400 non-null  float64\n",
      " 29  waterpoint_age         38691 non-null  float64\n",
      " 30  years_since_inspected  59400 non-null  int64  \n",
      " 31  used_pump              59400 non-null  int64  \n",
      " 32  consistent_payment     59400 non-null  int64  \n",
      " 33  water_quant_class      59400 non-null  object \n",
      " 34  good_qual_sufficient   59400 non-null  int64  \n",
      " 35  above_avg_pop          59400 non-null  int64  \n",
      "dtypes: float64(7), int64(5), object(24)\n",
      "memory usage: 16.3+ MB\n"
     ]
    }
   ],
   "source": [
    "#Confirming ID is now gone from combined df\n",
    "combined_df.info()"
   ]
  },
  {
   "cell_type": "code",
   "execution_count": 2439,
   "metadata": {},
   "outputs": [],
   "source": [
    "#Confirming ID is now gone from final test features\n",
    "#final_test_features.info()"
   ]
  },
  {
   "cell_type": "code",
   "execution_count": 2440,
   "metadata": {},
   "outputs": [
    {
     "data": {
      "text/plain": [
       "(59400, 35)"
      ]
     },
     "execution_count": 2440,
     "metadata": {},
     "output_type": "execute_result"
    }
   ],
   "source": [
    "#Now lets split the data and begin preprocessing\n",
    "\n",
    "X = combined_df.drop('status_group', axis=1)\n",
    "y = combined_df['status_group']\n",
    "\n",
    "X.shape"
   ]
  },
  {
   "cell_type": "code",
   "execution_count": 2441,
   "metadata": {},
   "outputs": [
    {
     "name": "stdout",
     "output_type": "stream",
     "text": [
      "(47520, 35) (47520,)\n"
     ]
    }
   ],
   "source": [
    "from sklearn.model_selection import train_test_split\n",
    "\n",
    "#The idea here is to split into train/validation/test data sets (80/10/10 since have ample data)\n",
    "#Will do initial train/test split \n",
    "\n",
    "#First breaking off training data, and 'other' data will be further broken off into validation & test in next split\n",
    "X_train, X_other, y_train, y_other = train_test_split(X, y, test_size=0.2, stratify=y, random_state=42)\n",
    "\n",
    "#Now split other into validation & test 50/50\n",
    "X_val, X_test, y_val, y_test = train_test_split(X_other, y_other, test_size=0.5, random_state=42)\n",
    "\n",
    "print(X_train.shape, y_train.shape)"
   ]
  },
  {
   "cell_type": "code",
   "execution_count": 2442,
   "metadata": {},
   "outputs": [
    {
     "data": {
      "text/html": [
       "<div>\n",
       "<style scoped>\n",
       "    .dataframe tbody tr th:only-of-type {\n",
       "        vertical-align: middle;\n",
       "    }\n",
       "\n",
       "    .dataframe tbody tr th {\n",
       "        vertical-align: top;\n",
       "    }\n",
       "\n",
       "    .dataframe thead th {\n",
       "        text-align: right;\n",
       "    }\n",
       "</style>\n",
       "<table border=\"1\" class=\"dataframe\">\n",
       "  <thead>\n",
       "    <tr style=\"text-align: right;\">\n",
       "      <th></th>\n",
       "      <th>Train</th>\n",
       "      <th>Validation</th>\n",
       "      <th>Test</th>\n",
       "    </tr>\n",
       "  </thead>\n",
       "  <tbody>\n",
       "    <tr>\n",
       "      <th>0</th>\n",
       "      <td>47520</td>\n",
       "      <td>5940</td>\n",
       "      <td>5940</td>\n",
       "    </tr>\n",
       "  </tbody>\n",
       "</table>\n",
       "</div>"
      ],
      "text/plain": [
       "   Train  Validation  Test\n",
       "0  47520        5940  5940"
      ]
     },
     "execution_count": 2442,
     "metadata": {},
     "output_type": "execute_result"
    }
   ],
   "source": [
    "#Lets view the splits of our data in a df\n",
    "#This should give us appropriate data to train, validate and test on \n",
    "\n",
    "splits = pd.DataFrame({'Train': [X_train.shape[0]], 'Validation': [X_val.shape[0]],\n",
    "                       'Test': [X_test.shape[0]]})\n",
    "\n",
    "splits"
   ]
  },
  {
   "cell_type": "code",
   "execution_count": 2443,
   "metadata": {},
   "outputs": [
    {
     "data": {
      "text/plain": [
       "0.0    0.543\n",
       "1.0    0.384\n",
       "2.0    0.073\n",
       "Name: status_group, dtype: float64"
      ]
     },
     "execution_count": 2443,
     "metadata": {},
     "output_type": "execute_result"
    }
   ],
   "source": [
    "#Now lets check y vals to ensure they have been stratified\n",
    "#Train Y\n",
    "#Good\n",
    "round(y_train.value_counts().apply(lambda x: x/47520),3)"
   ]
  },
  {
   "cell_type": "code",
   "execution_count": 2444,
   "metadata": {},
   "outputs": [
    {
     "data": {
      "text/plain": [
       "0.0    0.548\n",
       "1.0    0.382\n",
       "2.0    0.071\n",
       "Name: status_group, dtype: float64"
      ]
     },
     "execution_count": 2444,
     "metadata": {},
     "output_type": "execute_result"
    }
   ],
   "source": [
    "#Validation Y\n",
    "#Good\n",
    "round(y_val.value_counts().apply(lambda x: x/5940),3)"
   ]
  },
  {
   "cell_type": "code",
   "execution_count": 2445,
   "metadata": {},
   "outputs": [
    {
     "data": {
      "text/plain": [
       "0.0    0.539\n",
       "1.0    0.387\n",
       "2.0    0.075\n",
       "Name: status_group, dtype: float64"
      ]
     },
     "execution_count": 2445,
     "metadata": {},
     "output_type": "execute_result"
    }
   ],
   "source": [
    "#Test Y\n",
    "#Good\n",
    "round(y_test.value_counts().apply(lambda x: x/5940),3)"
   ]
  },
  {
   "cell_type": "code",
   "execution_count": 2446,
   "metadata": {},
   "outputs": [],
   "source": [
    "#Lets start by creating a pipeline and our first classifier\n",
    "\n",
    "#from imblearn.pipeline import Pipeline\n",
    "from imblearn.pipeline import make_pipeline, Pipeline\n",
    "from sklearn.preprocessing import StandardScaler, OneHotEncoder, OrdinalEncoder\n",
    "from sklearn.model_selection import GridSearchCV, cross_validate\n",
    "from sklearn.experimental import enable_iterative_imputer\n",
    "from sklearn.impute import IterativeImputer\n",
    "from sklearn.impute import SimpleImputer\n",
    "from sklearn.compose import ColumnTransformer\n",
    "from sklearn.compose import make_column_transformer\n",
    "from sklearn.compose import make_column_selector as selector\n",
    "from sklearn.ensemble import RandomForestClassifier\n",
    "from imblearn.over_sampling import SMOTE\n",
    "from sklearn.metrics import confusion_matrix, classification_report, accuracy_score, f1_score\n",
    "import category_encoders as ce\n",
    "from sklearn.decomposition import PCA\n",
    "from sklearn.feature_selection import VarianceThreshold\n",
    "from sklearn.feature_selection import RFE\n"
   ]
  },
  {
   "cell_type": "code",
   "execution_count": 2447,
   "metadata": {},
   "outputs": [],
   "source": [
    "#Lets use Target encoding and fit to train data\n",
    "cbe_encoder = ce.CatBoostEncoder()\n",
    "\n",
    "#cbe_encoder.fit(X_train, y_train)\n",
    "\n",
    "#X_train_cbe = cbe_encoder.transform(X_train)\n",
    "#X_val_cbe = cbe_encoder.transform(X_val)\n",
    "#X_test_cbe = cbe_encoder.transform(X_test)"
   ]
  },
  {
   "cell_type": "code",
   "execution_count": 2448,
   "metadata": {},
   "outputs": [],
   "source": [
    "#Can see that it our categorical features have been transformed\n",
    "#X_train_cbe.head()"
   ]
  },
  {
   "cell_type": "code",
   "execution_count": 2449,
   "metadata": {},
   "outputs": [],
   "source": [
    "#Can see the that transformatiom above worked when compared to below\n",
    "#X_train.head()"
   ]
  },
  {
   "cell_type": "code",
   "execution_count": 2450,
   "metadata": {},
   "outputs": [
    {
     "data": {
      "text/plain": [
       "6067     1.0\n",
       "40148    2.0\n",
       "54201    1.0\n",
       "17897    1.0\n",
       "51509    0.0\n",
       "Name: status_group, dtype: float64"
      ]
     },
     "execution_count": 2450,
     "metadata": {},
     "output_type": "execute_result"
    }
   ],
   "source": [
    "#Ensuring that the target was not transformed\n",
    "y_train.head()"
   ]
  },
  {
   "cell_type": "code",
   "execution_count": 2451,
   "metadata": {},
   "outputs": [
    {
     "name": "stdout",
     "output_type": "stream",
     "text": [
      "['amount_tsh', 'gps_height', 'longitude', 'latitude', 'population', 'waterpoint_age', 'years_since_inspected', 'used_pump', 'consistent_payment', 'good_qual_sufficient', 'above_avg_pop']\n",
      "11\n"
     ]
    }
   ],
   "source": [
    "#Pulling a fresh list of numeric features as we made some changes during EDA\n",
    "numeric_feats = X.select_dtypes(include='number').columns.tolist()\n",
    "print(numeric_feats)\n",
    "print(len(numeric_feats))\n"
   ]
  },
  {
   "cell_type": "code",
   "execution_count": 2452,
   "metadata": {},
   "outputs": [
    {
     "name": "stdout",
     "output_type": "stream",
     "text": [
      "['funder', 'installer', 'basin', 'subvillage', 'region', 'region_code', 'district_code', 'lga', 'ward', 'public_meeting', 'scheme_management', 'permit', 'construction_year', 'extraction_type_group', 'management', 'management_group', 'payment_type', 'water_quality', 'quality_group', 'quantity_group', 'source', 'source_class', 'waterpoint_type', 'water_quant_class']\n",
      "24\n"
     ]
    }
   ],
   "source": [
    "categorical_feats = X.select_dtypes(exclude='number').columns.tolist()\n",
    "print(categorical_feats)\n",
    "print(len(categorical_feats))"
   ]
  },
  {
   "cell_type": "code",
   "execution_count": 2453,
   "metadata": {},
   "outputs": [],
   "source": [
    "#Create numeric and categorical pipelines\n",
    "numeric_pipeline = Pipeline(steps=[\n",
    "    ('impute', IterativeImputer()),\n",
    "    ('scale', StandardScaler())])\n",
    "\n",
    "categorical_pipeline = Pipeline(steps=[\n",
    "    ('cat_encode', ce.CatBoostEncoder()),\n",
    "    #('mestimate_encode', ce.MEstimateEncoder()),\n",
    "    ('impute', SimpleImputer(strategy='most_frequent')),\n",
    "])\n",
    "\n"
   ]
  },
  {
   "cell_type": "code",
   "execution_count": 2454,
   "metadata": {},
   "outputs": [],
   "source": [
    "#Creating Full Pipeline\n",
    "full_processor = ColumnTransformer(transformers=[\n",
    "    ('categorical', categorical_pipeline, categorical_feats),\n",
    "    ('numeric', numeric_pipeline, numeric_feats)\n",
    "])\n",
    "\n",
    "#Original 07/20 - just flipped order above as a test\n",
    "#full_processor = ColumnTransformer(transformers=[\n",
    "#    ('numeric', numeric_pipeline, numeric_feats),\n",
    "#    ('categorical', categorical_pipeline, categorical_feats)\n",
    "#])"
   ]
  },
  {
   "cell_type": "code",
   "execution_count": 2455,
   "metadata": {},
   "outputs": [
    {
     "data": {
      "text/plain": [
       "array([[ 0.52960859,  0.52960859,  0.52960859, ..., -0.73852293,\n",
       "        -1.00519024,  1.54102573],\n",
       "       [ 0.52960859,  0.52960859,  0.52960859, ..., -0.73852293,\n",
       "        -1.00519024,  1.54102573],\n",
       "       [ 0.76480429,  0.52960859,  0.52960859, ..., -0.73852293,\n",
       "         0.99483656, -0.64891843],\n",
       "       ...,\n",
       "       [ 0.68620804,  0.55063458,  0.60028455, ..., -0.73852293,\n",
       "        -1.00519024, -0.64891843],\n",
       "       [ 0.50316273,  0.50436233,  0.4942992 , ..., -0.73852293,\n",
       "        -1.00519024, -0.64891843],\n",
       "       [ 0.68581991,  0.55059501,  0.60021124, ..., -0.73852293,\n",
       "        -1.00519024,  1.54102573]])"
      ]
     },
     "execution_count": 2455,
     "metadata": {},
     "output_type": "execute_result"
    }
   ],
   "source": [
    "#Fit entire data pipeline\n",
    "full_processor.fit_transform(X_train, y_train)"
   ]
  },
  {
   "cell_type": "code",
   "execution_count": 2456,
   "metadata": {},
   "outputs": [
    {
     "name": "stderr",
     "output_type": "stream",
     "text": [
      "C:\\Users\\Matth\\Anaconda3\\lib\\site-packages\\sklearn\\compose\\_column_transformer.py:437: FutureWarning: Given feature/column names or counts do not match the ones for the data given during fit. This will fail from v0.24.\n",
      "  warnings.warn(\"Given feature/column names or counts do not match \"\n"
     ]
    }
   ],
   "source": [
    "#Can now do the same to transform X_val & X_test\n",
    "X_train_transformed = full_processor.transform(X_train)\n",
    "X_val_transformed = full_processor.transform(X_val)\n",
    "X_test_transformed = full_processor.transform(X_test)\n",
    "X_final_test_transformed = full_processor.transform(final_test_features)\n"
   ]
  },
  {
   "cell_type": "code",
   "execution_count": 1772,
   "metadata": {},
   "outputs": [
    {
     "data": {
      "text/plain": [
       "((47520, 34), (5940, 34), (5940, 34))"
      ]
     },
     "execution_count": 1772,
     "metadata": {},
     "output_type": "execute_result"
    }
   ],
   "source": [
    "#Checking shape of transformed data\n",
    "X_train_transformed.shape, X_val_transformed.shape, X_test_transformed.shape"
   ]
  },
  {
   "cell_type": "code",
   "execution_count": 1773,
   "metadata": {},
   "outputs": [
    {
     "data": {
      "text/plain": [
       "6067     1.0\n",
       "40148    2.0\n",
       "54201    1.0\n",
       "17897    1.0\n",
       "51509    0.0\n",
       "Name: status_group, dtype: float64"
      ]
     },
     "execution_count": 1773,
     "metadata": {},
     "output_type": "execute_result"
    }
   ],
   "source": [
    "#Ensuring that y_train remains as is\n",
    "y_train.head()"
   ]
  },
  {
   "cell_type": "code",
   "execution_count": 1774,
   "metadata": {},
   "outputs": [],
   "source": [
    "#Before fitting models, would like to know what PCA on our features would look like\n",
    "#Ie how small can we reduce our total # of features to\n",
    "#**this is purely for exploration purposes; we will tune a grid during hypeparam tuning to find optimal num\n",
    "\n",
    "pca = PCA(.95)\n",
    "X_train_pca = pca.fit_transform(X_train_transformed)"
   ]
  },
  {
   "cell_type": "code",
   "execution_count": 1775,
   "metadata": {},
   "outputs": [
    {
     "name": "stdout",
     "output_type": "stream",
     "text": [
      "[0.1950521  0.13843777 0.11641173 0.10052602 0.09186901 0.08575538\n",
      " 0.0693445  0.06391683 0.05418865 0.0429103 ]\n",
      "10\n"
     ]
    }
   ],
   "source": [
    "#We can see that to retain 95% of the variance, we can reduce down to 6 components \n",
    "explained_variance = pca.explained_variance_ratio_\n",
    "print(explained_variance)\n",
    "print(pca.n_components_)"
   ]
  },
  {
   "cell_type": "code",
   "execution_count": 1776,
   "metadata": {},
   "outputs": [
    {
     "data": {
      "text/plain": [
       "RandomForestClassifier(class_weight='balanced')"
      ]
     },
     "execution_count": 1776,
     "metadata": {},
     "output_type": "execute_result"
    }
   ],
   "source": [
    "#Lets all do a quick RF for the purposes of viewing the feature importance plot\n",
    "\n",
    "rf_feat = RandomForestClassifier(class_weight='balanced')\n",
    "rf_feat.fit(X_train_transformed, y_train)"
   ]
  },
  {
   "cell_type": "code",
   "execution_count": 1777,
   "metadata": {},
   "outputs": [
    {
     "name": "stdout",
     "output_type": "stream",
     "text": [
      "[0.03661441 0.02671144 0.01545334 0.01950888 0.01973228 0.01848878\n",
      " 0.04357477 0.0089782  0.00847473 0.01442134 0.00780574 0.0327446\n",
      " 0.04230892 0.01229317 0.00618821 0.02042689 0.00711731 0.00623161\n",
      " 0.06905574 0.02065271 0.00850595 0.03339832 0.01532449 0.06728788\n",
      " 0.0818235  0.09311578 0.09359217 0.06980099 0.06578071 0.00576141\n",
      " 0.00662998 0.00747733 0.00871445 0.00600396]\n"
     ]
    }
   ],
   "source": [
    "#A few features towards the bottom right that stand out\n",
    "print(rf_feat.feature_importances_)"
   ]
  },
  {
   "cell_type": "code",
   "execution_count": 1778,
   "metadata": {},
   "outputs": [
    {
     "data": {
      "image/png": "[encoded data removed]",
      "text/plain": [
       "<Figure size 432x288 with 1 Axes>"
      ]
     },
     "metadata": {
      "needs_background": "light"
     },
     "output_type": "display_data"
    }
   ],
   "source": [
    "#Plotting feature importance\n",
    "#We can see that Source Class, Waterpoint Type, Source and Management Group appear to be important\n",
    "#Feature Engineering could be done to these to make additional valuable features\n",
    "feat_importances = pd.Series(rf_feat.feature_importances_, index=X.columns)\n",
    "fig = feat_importances.nlargest(15).plot(kind='barh')\n",
    "plt.title('Feature Importance')\n",
    "plt.xlabel('Relative Importance')\n",
    "plt.ylabel('Feature')\n",
    "\n",
    "\n",
    "plt.savefig('feature_importance.png', bbox_inches=\"tight\", dpi=300)"
   ]
  },
  {
   "cell_type": "code",
   "execution_count": 1945,
   "metadata": {},
   "outputs": [
    {
     "data": {
      "text/plain": [
       "<matplotlib.axes._subplots.AxesSubplot at 0x2544001d970>"
      ]
     },
     "execution_count": 1945,
     "metadata": {},
     "output_type": "execute_result"
    },
    {
     "data": {
      "image/png": "[encoded data removed]",
      "text/plain": [
       "<Figure size 576x396 with 1 Axes>"
      ]
     },
     "metadata": {},
     "output_type": "display_data"
    }
   ],
   "source": [
    "from yellowbrick.model_selection import FeatureImportances\n",
    "\n",
    "viz = FeatureImportances(rf_feat, topn=15, title='Feature Importance of Top 15 Features', xlabel='Relative Importance', colormap='GnBu')\n",
    "viz.fit(X, y)\n",
    "\n",
    "viz.show(outpath=\"feat_importances_2.png\")"
   ]
  },
  {
   "cell_type": "code",
   "execution_count": 915,
   "metadata": {},
   "outputs": [
    {
     "data": {
      "image/png": "[encoded data removed]",
      "text/plain": [
       "<Figure size 1152x576 with 1 Axes>"
      ]
     },
     "metadata": {
      "needs_background": "light"
     },
     "output_type": "display_data"
    }
   ],
   "source": [
    "#Lets also try some clustering below\n",
    "import scipy.cluster \n",
    "\n",
    "#Setting up hierarchical algorithm\n",
    "aggl = scipy.cluster.hierarchy.linkage(X_train_transformed, method='ward', metric='euclidean')\n",
    "\n",
    "#Plotting the dendrogram\n",
    "plt.figure(figsize=(16, 8));\n",
    "plt.grid(False)\n",
    "plt.title(\"Water Pump Dendogram\");  \n",
    "dend = scipy.cluster.hierarchy.dendrogram(aggl)\n",
    "\n",
    "#aggl = scipy.cluster.hierarchy.linkage(X, method='ward', metric='euclidean')\n",
    "\n",
    "# Plot the dendogram\n",
    "#plt.figure(figsize=(16, 8));\n",
    "#plt.grid(False)\n",
    "#plt.title(\"Mall Dendogram\");  \n",
    "#dend = scipy.cluster.hierarchy.dendrogram(aggl);"
   ]
  },
  {
   "cell_type": "code",
   "execution_count": 918,
   "metadata": {},
   "outputs": [
    {
     "data": {
      "text/plain": [
       "AgglomerativeClustering(n_clusters=5)"
      ]
     },
     "execution_count": 918,
     "metadata": {},
     "output_type": "execute_result"
    }
   ],
   "source": [
    "#Trying different types of clustering\n",
    "from sklearn.metrics import silhouette_score, \n",
    "from sklearn.cluster import KMeans, DBSCAN, AgglomerativeClustering\n",
    "\n",
    "#Trying agglomerative hierarchical clustering again\n",
    "agg = AgglomerativeClustering(n_clusters=5, affinity='euclidean', linkage ='ward')\n",
    "%time agg.fit(X_train_transformed)\n"
   ]
  },
  {
   "cell_type": "code",
   "execution_count": 919,
   "metadata": {},
   "outputs": [
    {
     "data": {
      "text/plain": [
       "0.15453087936752494"
      ]
     },
     "execution_count": 919,
     "metadata": {},
     "output_type": "execute_result"
    }
   ],
   "source": [
    "#Weak score\n",
    "silhouette_score(X_train_transformed, agg.labels_)"
   ]
  },
  {
   "cell_type": "code",
   "execution_count": 165,
   "metadata": {},
   "outputs": [],
   "source": [
    "#Now lets try a RF\n",
    "\n",
    "#Going to try with PCA and variance reduction\n",
    "rf = RandomForestClassifier(class_weight='balanced')\n",
    "\n",
    "rf_pipeline = Pipeline(steps=[\n",
    "    ('preprocess', full_processor),\n",
    "    ('pca', PCA(n_components=6)),\n",
    "    ('clf', rf)\n",
    "])\n",
    "\n",
    "#Original working as of 07/21 - trying to add in PCA and variance reduction above\n",
    "#rf_pipeline = Pipeline(steps=[\n",
    "#    ('preprocess', full_processor),\n",
    "#    ('clf', rf)\n",
    "#])\n"
   ]
  },
  {
   "cell_type": "code",
   "execution_count": 5440,
   "metadata": {},
   "outputs": [
    {
     "data": {
      "text/plain": [
       "Pipeline(steps=[('preprocess',\n",
       "                 ColumnTransformer(transformers=[('categorical',\n",
       "                                                  Pipeline(steps=[('mestimate_encode',\n",
       "                                                                   MEstimateEncoder()),\n",
       "                                                                  ('impute',\n",
       "                                                                   SimpleImputer(strategy='most_frequent'))]),\n",
       "                                                  ['basin', 'region_code',\n",
       "                                                   'district_code', 'lga',\n",
       "                                                   'ward', 'public_meeting',\n",
       "                                                   'scheme_management',\n",
       "                                                   'permit',\n",
       "                                                   'construction_year',\n",
       "                                                   'extraction_type',\n",
       "                                                   'extraction_type_class',\n",
       "                                                   'man...\n",
       "                                                   'source_class',\n",
       "                                                   'waterpoint_type',\n",
       "                                                   'water_quant_class']),\n",
       "                                                 ('numeric',\n",
       "                                                  Pipeline(steps=[('impute',\n",
       "                                                                   IterativeImputer()),\n",
       "                                                                  ('scale',\n",
       "                                                                   StandardScaler())]),\n",
       "                                                  ['gps_height', 'longitude',\n",
       "                                                   'latitude', 'population',\n",
       "                                                   'years_since_inspected',\n",
       "                                                   'used_pump',\n",
       "                                                   'consistent_payment',\n",
       "                                                   'above_avg_pop'])])),\n",
       "                ('pca', PCA(n_components=6)),\n",
       "                ('clf', RandomForestClassifier(class_weight='balanced'))])"
      ]
     },
     "execution_count": 5440,
     "metadata": {},
     "output_type": "execute_result"
    }
   ],
   "source": [
    "rf_pipeline.fit(X_train, y_train)"
   ]
  },
  {
   "cell_type": "code",
   "execution_count": 4704,
   "metadata": {},
   "outputs": [
    {
     "name": "stdout",
     "output_type": "stream",
     "text": [
      "0.591875456493373\n"
     ]
    }
   ],
   "source": [
    "base_rf_preds = rf_pipeline.predict(X_val)\n",
    "#Not great results \n",
    "print(f1_score(y_val, base_rf_preds, average='macro'))\n"
   ]
  },
  {
   "cell_type": "code",
   "execution_count": 4397,
   "metadata": {},
   "outputs": [
    {
     "name": "stderr",
     "output_type": "stream",
     "text": [
      "[Parallel(n_jobs=1)]: Using backend SequentialBackend with 1 concurrent workers.\n",
      "[Parallel(n_jobs=1)]: Done  10 out of  10 | elapsed:  2.7min finished\n"
     ]
    }
   ],
   "source": [
    "#Now lets try using cross-validation\n",
    "#Creating a baseline model using CV\n",
    "rf_base_cv_scores = cross_validate(rf_pipeline, X_train, y_train,\n",
    "                                  scoring='f1_macro', cv=10, n_jobs=-1, verbose=1)\n"
   ]
  },
  {
   "cell_type": "code",
   "execution_count": 4398,
   "metadata": {},
   "outputs": [
    {
     "data": {
      "text/plain": [
       "0.6343143223925056"
      ]
     },
     "execution_count": 4398,
     "metadata": {},
     "output_type": "execute_result"
    }
   ],
   "source": [
    "#Very similar results to baseline fit\n",
    "rf_base_cv_scores = pd.DataFrame(rf_base_cv_scores)\n",
    "\n",
    "rf_base_cv_scores['test_score'].mean()"
   ]
  },
  {
   "cell_type": "code",
   "execution_count": 4399,
   "metadata": {},
   "outputs": [
    {
     "name": "stdout",
     "output_type": "stream",
     "text": [
      "Fitting 5 folds for each of 12 candidates, totalling 60 fits\n"
     ]
    },
    {
     "name": "stderr",
     "output_type": "stream",
     "text": [
      "[Parallel(n_jobs=-1)]: Using backend LokyBackend with 8 concurrent workers.\n",
      "[Parallel(n_jobs=-1)]: Done  34 tasks      | elapsed: 12.2min\n",
      "[Parallel(n_jobs=-1)]: Done  60 out of  60 | elapsed: 28.1min finished\n"
     ]
    },
    {
     "name": "stdout",
     "output_type": "stream",
     "text": [
      "Wall time: 29min 6s\n"
     ]
    }
   ],
   "source": [
    "#Now lets try using a gridsearch to find the optimal params\n",
    "#Defining a grid\n",
    "\n",
    "rf_grid = {\n",
    "    'clf__n_estimators':[500,1000],\n",
    "    'clf__max_depth':[10],\n",
    "    'clf__criterion': ['gini', 'entropy'],\n",
    "    'pca__n_components':[5,10,15,20]\n",
    "}\n",
    "\n",
    "rf_model = GridSearchCV(rf_pipeline, param_grid=rf_grid,\n",
    "                        cv=5, n_jobs=-1,\n",
    "                        scoring = 'f1_macro',\n",
    "                        return_train_score=True,\n",
    "                        verbose=1)\n",
    "\n",
    "%time rf_grid_model = rf_model.fit(X_train, y_train)\n",
    "\n",
    "#Use below to to run even more params & change cv=10\n",
    "#    'clf__n_estimators':[500,1000],\n",
    "#    'clf__max_depth':[None, 3, 10],\n",
    "#    'clf__criterion': ['gini', 'entropy']"
   ]
  },
  {
   "cell_type": "code",
   "execution_count": 4400,
   "metadata": {},
   "outputs": [
    {
     "name": "stdout",
     "output_type": "stream",
     "text": [
      "0.6013265273870619\n",
      "{'clf__criterion': 'gini', 'clf__max_depth': 10, 'clf__n_estimators': 500, 'pca__n_components': 15}\n"
     ]
    }
   ],
   "source": [
    "#Viewing results of grid search\n",
    "print(rf_grid_model.best_score_)\n",
    "print(rf_grid_model.best_params_)"
   ]
  },
  {
   "cell_type": "code",
   "execution_count": 4401,
   "metadata": {},
   "outputs": [
    {
     "name": "stdout",
     "output_type": "stream",
     "text": [
      "0.5969390417857979\n",
      "              precision    recall  f1-score   support\n",
      "\n",
      "           0       0.76      0.76      0.76      3253\n",
      "           1       0.85      0.59      0.69      2268\n",
      "           2       0.23      0.62      0.34       419\n",
      "\n",
      "    accuracy                           0.68      5940\n",
      "   macro avg       0.61      0.66      0.60      5940\n",
      "weighted avg       0.76      0.68      0.70      5940\n",
      "\n",
      "[[2466  204  583]\n",
      " [ 658 1331  279]\n",
      " [ 122   36  261]]\n"
     ]
    }
   ],
   "source": [
    "rf_grid_preds = rf_grid_model.predict(X_val)\n",
    "\n",
    "print(f1_score(y_val,rf_grid_preds, average='macro'))\n",
    "print(classification_report(y_val, rf_grid_preds))\n",
    "print(confusion_matrix(y_val, rf_grid_preds))"
   ]
  },
  {
   "cell_type": "code",
   "execution_count": 1779,
   "metadata": {},
   "outputs": [],
   "source": [
    "#Going to try an RF again, this time with M-Estimate encoding and no PCA\n",
    "#Also trying RFE method\n",
    "rf = RandomForestClassifier(class_weight='balanced')\n",
    "\n",
    "#rfe = RFE(estimator=RandomForestClassifier(), n_features_to_select=15) - removed; worse performance by 0.07 with it\n",
    "\n",
    "#Create numeric and categorical pipelines\n",
    "numeric_pipeline = Pipeline(steps=[\n",
    "    ('impute', IterativeImputer()),\n",
    "    ('scale', StandardScaler())])\n",
    "\n",
    "categorical_pipeline_2 = Pipeline(steps=[\n",
    "    ('mestimate_encode', ce.MEstimateEncoder()),\n",
    "    ('impute', SimpleImputer(strategy='most_frequent'))])\n",
    "\n",
    "#Creating Full Pipeline\n",
    "full_processor_2 = ColumnTransformer(transformers=[\n",
    "    ('categorical', categorical_pipeline_2, categorical_feats),\n",
    "    ('numeric', numeric_pipeline, numeric_feats)\n",
    "])\n",
    "\n",
    "rf_pipeline_2 = Pipeline(steps=[\n",
    "    ('preprocess', full_processor_2),\n",
    "    ('clf', rf)\n",
    "])"
   ]
  },
  {
   "cell_type": "code",
   "execution_count": 1780,
   "metadata": {},
   "outputs": [
    {
     "data": {
      "text/plain": [
       "Pipeline(steps=[('preprocess',\n",
       "                 ColumnTransformer(transformers=[('categorical',\n",
       "                                                  Pipeline(steps=[('mestimate_encode',\n",
       "                                                                   MEstimateEncoder()),\n",
       "                                                                  ('impute',\n",
       "                                                                   SimpleImputer(strategy='most_frequent'))]),\n",
       "                                                  ['funder', 'installer',\n",
       "                                                   'basin', 'region',\n",
       "                                                   'region_code',\n",
       "                                                   'district_code', 'lga',\n",
       "                                                   'ward', 'public_meeting',\n",
       "                                                   'scheme_management',\n",
       "                                                   'permit',\n",
       "                                                   'construction_year',\n",
       "                                                   'extraction_type...\n",
       "                                                   'waterpoint_type',\n",
       "                                                   'water_quant_class']),\n",
       "                                                 ('numeric',\n",
       "                                                  Pipeline(steps=[('impute',\n",
       "                                                                   IterativeImputer()),\n",
       "                                                                  ('scale',\n",
       "                                                                   StandardScaler())]),\n",
       "                                                  ['amount_tsh', 'gps_height',\n",
       "                                                   'longitude', 'latitude',\n",
       "                                                   'population',\n",
       "                                                   'waterpoint_age',\n",
       "                                                   'years_since_inspected',\n",
       "                                                   'used_pump',\n",
       "                                                   'consistent_payment',\n",
       "                                                   'good_qual_sufficient',\n",
       "                                                   'above_avg_pop'])])),\n",
       "                ('clf', RandomForestClassifier(class_weight='balanced'))])"
      ]
     },
     "execution_count": 1780,
     "metadata": {},
     "output_type": "execute_result"
    }
   ],
   "source": [
    "rf_pipeline_2.fit(X_train, y_train)"
   ]
  },
  {
   "cell_type": "code",
   "execution_count": 1781,
   "metadata": {},
   "outputs": [
    {
     "name": "stdout",
     "output_type": "stream",
     "text": [
      "0.684101288905209\n",
      "              precision    recall  f1-score   support\n",
      "\n",
      "         0.0       0.80      0.88      0.84      3253\n",
      "         1.0       0.84      0.77      0.80      2268\n",
      "         2.0       0.51      0.34      0.41       419\n",
      "\n",
      "    accuracy                           0.80      5940\n",
      "   macro avg       0.72      0.66      0.68      5940\n",
      "weighted avg       0.80      0.80      0.80      5940\n",
      "\n"
     ]
    }
   ],
   "source": [
    "#Big Improvement to 0.69 Macro F1\n",
    "rf_mest_base_preds = rf_pipeline_2.predict(X_val)\n",
    "\n",
    "print(f1_score(y_val, rf_mest_base_preds, average='macro'))\n",
    "print(classification_report(y_val, rf_mest_base_preds))"
   ]
  },
  {
   "cell_type": "code",
   "execution_count": 1782,
   "metadata": {},
   "outputs": [
    {
     "name": "stderr",
     "output_type": "stream",
     "text": [
      "[Parallel(n_jobs=-1)]: Using backend LokyBackend with 8 concurrent workers.\n",
      "[Parallel(n_jobs=-1)]: Done   2 out of   5 | elapsed:   18.6s remaining:   28.0s\n",
      "[Parallel(n_jobs=-1)]: Done   5 out of   5 | elapsed:   18.9s finished\n"
     ]
    }
   ],
   "source": [
    "#Seeing score with cross val\n",
    "rf_mest_base_cv = cross_validate(rf_pipeline_2, X_train, y_train,\n",
    "                                cv=5, scoring='f1_macro', n_jobs=-1, verbose=1)"
   ]
  },
  {
   "cell_type": "code",
   "execution_count": 1784,
   "metadata": {},
   "outputs": [
    {
     "data": {
      "text/plain": [
       "0.6863339078465434"
      ]
     },
     "execution_count": 1784,
     "metadata": {},
     "output_type": "execute_result"
    }
   ],
   "source": [
    "#Remains consistent with CV\n",
    "rf_mest_base_cv['test_score'].mean()"
   ]
  },
  {
   "cell_type": "code",
   "execution_count": 1785,
   "metadata": {},
   "outputs": [],
   "source": [
    "#Curious to see if base case gets better with PCA involved\n",
    "rf_pipeline_3 = Pipeline(steps=[\n",
    "    ('preprocess', full_processor_2),\n",
    "    ('pca', PCA(n_components=15)),\n",
    "    ('clf', rf)\n",
    "])"
   ]
  },
  {
   "cell_type": "code",
   "execution_count": 1786,
   "metadata": {},
   "outputs": [
    {
     "data": {
      "text/plain": [
       "Pipeline(steps=[('preprocess',\n",
       "                 ColumnTransformer(transformers=[('categorical',\n",
       "                                                  Pipeline(steps=[('mestimate_encode',\n",
       "                                                                   MEstimateEncoder()),\n",
       "                                                                  ('impute',\n",
       "                                                                   SimpleImputer(strategy='most_frequent'))]),\n",
       "                                                  ['funder', 'installer',\n",
       "                                                   'basin', 'region',\n",
       "                                                   'region_code',\n",
       "                                                   'district_code', 'lga',\n",
       "                                                   'ward', 'public_meeting',\n",
       "                                                   'scheme_management',\n",
       "                                                   'permit',\n",
       "                                                   'construction_year',\n",
       "                                                   'extraction_type...\n",
       "                                                 ('numeric',\n",
       "                                                  Pipeline(steps=[('impute',\n",
       "                                                                   IterativeImputer()),\n",
       "                                                                  ('scale',\n",
       "                                                                   StandardScaler())]),\n",
       "                                                  ['amount_tsh', 'gps_height',\n",
       "                                                   'longitude', 'latitude',\n",
       "                                                   'population',\n",
       "                                                   'waterpoint_age',\n",
       "                                                   'years_since_inspected',\n",
       "                                                   'used_pump',\n",
       "                                                   'consistent_payment',\n",
       "                                                   'good_qual_sufficient',\n",
       "                                                   'above_avg_pop'])])),\n",
       "                ('pca', PCA(n_components=15)),\n",
       "                ('clf', RandomForestClassifier(class_weight='balanced'))])"
      ]
     },
     "execution_count": 1786,
     "metadata": {},
     "output_type": "execute_result"
    }
   ],
   "source": [
    "rf_pipeline_3.fit(X_train, y_train)"
   ]
  },
  {
   "cell_type": "code",
   "execution_count": 1787,
   "metadata": {},
   "outputs": [
    {
     "name": "stdout",
     "output_type": "stream",
     "text": [
      "0.6621520388962474\n",
      "              precision    recall  f1-score   support\n",
      "\n",
      "         0.0       0.79      0.87      0.83      3253\n",
      "         1.0       0.81      0.74      0.78      2268\n",
      "         2.0       0.50      0.31      0.38       419\n",
      "\n",
      "    accuracy                           0.78      5940\n",
      "   macro avg       0.70      0.64      0.66      5940\n",
      "weighted avg       0.78      0.78      0.78      5940\n",
      "\n"
     ]
    }
   ],
   "source": [
    "#Slight decrease with PCA involved; lets see what happens with CV\n",
    "rf_mest_base_preds_2 = rf_pipeline_3.predict(X_val)\n",
    "\n",
    "print(f1_score(y_val, rf_mest_base_preds_2, average='macro'))\n",
    "print(classification_report(y_val, rf_mest_base_preds_2))"
   ]
  },
  {
   "cell_type": "code",
   "execution_count": 4445,
   "metadata": {},
   "outputs": [
    {
     "name": "stderr",
     "output_type": "stream",
     "text": [
      "[Parallel(n_jobs=-1)]: Using backend LokyBackend with 8 concurrent workers.\n",
      "[Parallel(n_jobs=-1)]: Done   2 out of   5 | elapsed:   21.3s remaining:   32.1s\n",
      "[Parallel(n_jobs=-1)]: Done   5 out of   5 | elapsed:   23.6s finished\n"
     ]
    }
   ],
   "source": [
    "#Score held with CV; improvement over catboost encoding\n",
    "rf_mest_base_cv_2 = cross_validate(rf_pipeline_3, X_train, y_train,\n",
    "                                cv=5, scoring='f1_macro', n_jobs=-1, verbose=1,\n",
    "                                  return_train_score=True, return_estimator=True)"
   ]
  },
  {
   "cell_type": "code",
   "execution_count": 4446,
   "metadata": {},
   "outputs": [
    {
     "name": "stdout",
     "output_type": "stream",
     "text": [
      "0.6665519257894752\n"
     ]
    }
   ],
   "source": [
    "#Slight decrease to without PCA\n",
    "print(rf_mest_base_cv_2['test_score'].mean())"
   ]
  },
  {
   "cell_type": "code",
   "execution_count": 4447,
   "metadata": {},
   "outputs": [
    {
     "data": {
      "text/html": [
       "<div>\n",
       "<style scoped>\n",
       "    .dataframe tbody tr th:only-of-type {\n",
       "        vertical-align: middle;\n",
       "    }\n",
       "\n",
       "    .dataframe tbody tr th {\n",
       "        vertical-align: top;\n",
       "    }\n",
       "\n",
       "    .dataframe thead th {\n",
       "        text-align: right;\n",
       "    }\n",
       "</style>\n",
       "<table border=\"1\" class=\"dataframe\">\n",
       "  <thead>\n",
       "    <tr style=\"text-align: right;\">\n",
       "      <th></th>\n",
       "      <th>fit_time</th>\n",
       "      <th>score_time</th>\n",
       "      <th>estimator</th>\n",
       "      <th>test_score</th>\n",
       "      <th>train_score</th>\n",
       "    </tr>\n",
       "  </thead>\n",
       "  <tbody>\n",
       "    <tr>\n",
       "      <th>0</th>\n",
       "      <td>19.035858</td>\n",
       "      <td>0.442816</td>\n",
       "      <td>(ColumnTransformer(transformers=[('categorical...</td>\n",
       "      <td>0.674507</td>\n",
       "      <td>0.993478</td>\n",
       "    </tr>\n",
       "    <tr>\n",
       "      <th>1</th>\n",
       "      <td>19.096695</td>\n",
       "      <td>0.408906</td>\n",
       "      <td>(ColumnTransformer(transformers=[('categorical...</td>\n",
       "      <td>0.659089</td>\n",
       "      <td>0.994367</td>\n",
       "    </tr>\n",
       "    <tr>\n",
       "      <th>2</th>\n",
       "      <td>18.965045</td>\n",
       "      <td>0.416886</td>\n",
       "      <td>(ColumnTransformer(transformers=[('categorical...</td>\n",
       "      <td>0.674003</td>\n",
       "      <td>0.994383</td>\n",
       "    </tr>\n",
       "    <tr>\n",
       "      <th>3</th>\n",
       "      <td>18.667333</td>\n",
       "      <td>0.371007</td>\n",
       "      <td>(ColumnTransformer(transformers=[('categorical...</td>\n",
       "      <td>0.657838</td>\n",
       "      <td>0.993734</td>\n",
       "    </tr>\n",
       "    <tr>\n",
       "      <th>4</th>\n",
       "      <td>18.752108</td>\n",
       "      <td>0.389955</td>\n",
       "      <td>(ColumnTransformer(transformers=[('categorical...</td>\n",
       "      <td>0.667323</td>\n",
       "      <td>0.993569</td>\n",
       "    </tr>\n",
       "  </tbody>\n",
       "</table>\n",
       "</div>"
      ],
      "text/plain": [
       "    fit_time  score_time                                          estimator  \\\n",
       "0  19.035858    0.442816  (ColumnTransformer(transformers=[('categorical...   \n",
       "1  19.096695    0.408906  (ColumnTransformer(transformers=[('categorical...   \n",
       "2  18.965045    0.416886  (ColumnTransformer(transformers=[('categorical...   \n",
       "3  18.667333    0.371007  (ColumnTransformer(transformers=[('categorical...   \n",
       "4  18.752108    0.389955  (ColumnTransformer(transformers=[('categorical...   \n",
       "\n",
       "   test_score  train_score  \n",
       "0    0.674507     0.993478  \n",
       "1    0.659089     0.994367  \n",
       "2    0.674003     0.994383  \n",
       "3    0.657838     0.993734  \n",
       "4    0.667323     0.993569  "
      ]
     },
     "execution_count": 4447,
     "metadata": {},
     "output_type": "execute_result"
    }
   ],
   "source": [
    "#Significant drop from train fold to test score; could be overfitting? Maybe due to target leakage from encoding method\n",
    "rf_mest_base_cv_df = pd.DataFrame(rf_mest_base_cv_2)\n",
    "rf_mest_base_cv_df.head()"
   ]
  },
  {
   "cell_type": "code",
   "execution_count": 6793,
   "metadata": {},
   "outputs": [
    {
     "name": "stdout",
     "output_type": "stream",
     "text": [
      "Fitting 10 folds for each of 12 candidates, totalling 120 fits\n"
     ]
    },
    {
     "name": "stderr",
     "output_type": "stream",
     "text": [
      "[Parallel(n_jobs=-1)]: Using backend LokyBackend with 8 concurrent workers.\n",
      "[Parallel(n_jobs=-1)]: Done  25 tasks      | elapsed:  9.6min\n",
      "[Parallel(n_jobs=-1)]: Done 120 out of 120 | elapsed: 33.0min finished\n"
     ]
    },
    {
     "name": "stdout",
     "output_type": "stream",
     "text": [
      "Wall time: 33min 50s\n"
     ]
    }
   ],
   "source": [
    "#Now lets try a basic gridsearch\n",
    "#Use pipeline WITHOUT PCA\n",
    "rf_grid = {\n",
    "    'clf__n_estimators':[500,750,1000],\n",
    "    'clf__max_depth':[None,5,10,20],\n",
    "    'clf__criterion': ['gini']\n",
    "}\n",
    "\n",
    "rf_model_2 = GridSearchCV(rf_pipeline_2, param_grid=rf_grid,\n",
    "                        cv=10, n_jobs=-1,\n",
    "                        scoring = 'f1_macro',\n",
    "                        return_train_score=True,\n",
    "                        verbose=2)\n",
    "\n",
    "%time rf_grid_model_2 = rf_model_2.fit(X_train, y_train)\n"
   ]
  },
  {
   "cell_type": "code",
   "execution_count": 6794,
   "metadata": {},
   "outputs": [
    {
     "name": "stdout",
     "output_type": "stream",
     "text": [
      "0.6984917288903942\n",
      "{'clf__criterion': 'gini', 'clf__max_depth': 20, 'clf__n_estimators': 500}\n"
     ]
    }
   ],
   "source": [
    "#Viewing results of grid search\n",
    "#Better with base params; find out what they are\n",
    "print(rf_grid_model_2.best_score_)\n",
    "print(rf_grid_model_2.best_params_)"
   ]
  },
  {
   "cell_type": "code",
   "execution_count": 6795,
   "metadata": {},
   "outputs": [
    {
     "name": "stdout",
     "output_type": "stream",
     "text": [
      "0.6949820682558506\n",
      "              precision    recall  f1-score   support\n",
      "\n",
      "         0.0       0.82      0.86      0.84      3253\n",
      "         1.0       0.85      0.77      0.80      2268\n",
      "         2.0       0.42      0.47      0.44       419\n",
      "\n",
      "    accuracy                           0.80      5940\n",
      "   macro avg       0.69      0.70      0.69      5940\n",
      "weighted avg       0.80      0.80      0.80      5940\n",
      "\n",
      "[[2792  261  200]\n",
      " [ 461 1736   71]\n",
      " [ 171   51  197]]\n"
     ]
    }
   ],
   "source": [
    "#Now predict on validation set\n",
    "#Generalized well to validation set\n",
    "\n",
    "rf_grid_model_2_preds = rf_grid_model_2.predict(X_val)\n",
    "\n",
    "print(f1_score(y_val, rf_grid_model_2_preds, average='macro'))\n",
    "print(classification_report(y_val, rf_grid_model_2_preds))\n",
    "print(confusion_matrix(y_val, rf_grid_model_2_preds))\n"
   ]
  },
  {
   "cell_type": "code",
   "execution_count": 6798,
   "metadata": {},
   "outputs": [
    {
     "name": "stdout",
     "output_type": "stream",
     "text": [
      "0.7048076673310173\n",
      "              precision    recall  f1-score   support\n",
      "\n",
      "         0.0       0.82      0.86      0.84      3199\n",
      "         1.0       0.86      0.78      0.82      2297\n",
      "         2.0       0.44      0.48      0.46       444\n",
      "\n",
      "    accuracy                           0.80      5940\n",
      "   macro avg       0.71      0.71      0.70      5940\n",
      "weighted avg       0.81      0.80      0.80      5940\n",
      "\n",
      "[[2757  236  206]\n",
      " [ 438 1796   63]\n",
      " [ 167   66  211]]\n"
     ]
    }
   ],
   "source": [
    "#Veryfying on test set\n",
    "\n",
    "rf_grid_model_2_final_preds = rf_grid_model_2.predict(X_test)\n",
    "\n",
    "print(f1_score(y_test, rf_grid_model_2_final_preds, average='macro'))\n",
    "print(classification_report(y_test, rf_grid_model_2_final_preds))\n",
    "print(confusion_matrix(y_test, rf_grid_model_2_final_preds))\n"
   ]
  },
  {
   "cell_type": "code",
   "execution_count": 1788,
   "metadata": {},
   "outputs": [],
   "source": [
    "#Now refitting on entire training using the best params\n",
    "\n",
    "rf_final = RandomForestClassifier(class_weight='balanced', criterion='gini', max_depth=20, n_estimators=500)\n",
    "\n",
    "rf_pipeline_final = Pipeline(steps=[\n",
    "    ('preprocess', full_processor_2),\n",
    "    ('clf', rf_final)\n",
    "])"
   ]
  },
  {
   "cell_type": "code",
   "execution_count": 1789,
   "metadata": {},
   "outputs": [
    {
     "data": {
      "text/plain": [
       "Pipeline(steps=[('preprocess',\n",
       "                 ColumnTransformer(transformers=[('categorical',\n",
       "                                                  Pipeline(steps=[('mestimate_encode',\n",
       "                                                                   MEstimateEncoder()),\n",
       "                                                                  ('impute',\n",
       "                                                                   SimpleImputer(strategy='most_frequent'))]),\n",
       "                                                  ['funder', 'installer',\n",
       "                                                   'basin', 'region',\n",
       "                                                   'region_code',\n",
       "                                                   'district_code', 'lga',\n",
       "                                                   'ward', 'public_meeting',\n",
       "                                                   'scheme_management',\n",
       "                                                   'permit',\n",
       "                                                   'construction_year',\n",
       "                                                   'extraction_type...\n",
       "                                                 ('numeric',\n",
       "                                                  Pipeline(steps=[('impute',\n",
       "                                                                   IterativeImputer()),\n",
       "                                                                  ('scale',\n",
       "                                                                   StandardScaler())]),\n",
       "                                                  ['amount_tsh', 'gps_height',\n",
       "                                                   'longitude', 'latitude',\n",
       "                                                   'population',\n",
       "                                                   'waterpoint_age',\n",
       "                                                   'years_since_inspected',\n",
       "                                                   'used_pump',\n",
       "                                                   'consistent_payment',\n",
       "                                                   'good_qual_sufficient',\n",
       "                                                   'above_avg_pop'])])),\n",
       "                ('clf',\n",
       "                 RandomForestClassifier(class_weight='balanced', max_depth=20,\n",
       "                                        n_estimators=500))])"
      ]
     },
     "execution_count": 1789,
     "metadata": {},
     "output_type": "execute_result"
    }
   ],
   "source": [
    "rf_pipeline_final.fit(X_train, y_train)"
   ]
  },
  {
   "cell_type": "code",
   "execution_count": 1790,
   "metadata": {},
   "outputs": [
    {
     "name": "stderr",
     "output_type": "stream",
     "text": [
      "[Parallel(n_jobs=-1)]: Using backend LokyBackend with 8 concurrent workers.\n",
      "[Parallel(n_jobs=-1)]: Done   2 out of   5 | elapsed:  1.2min remaining:  1.9min\n",
      "[Parallel(n_jobs=-1)]: Done   5 out of   5 | elapsed:  1.3min finished\n"
     ]
    }
   ],
   "source": [
    "#Running CV\n",
    "\n",
    "rf_final_pipe_cv = cross_validate(rf_pipeline_final, X_train, y_train,\n",
    "                                cv=5, scoring='f1_macro', n_jobs=-1, verbose=1,\n",
    "                                  return_train_score=True, return_estimator=True)"
   ]
  },
  {
   "cell_type": "code",
   "execution_count": 1791,
   "metadata": {},
   "outputs": [
    {
     "name": "stdout",
     "output_type": "stream",
     "text": [
      "0.6962508521738812\n"
     ]
    }
   ],
   "source": [
    "#Viewing CV results\n",
    "print(rf_final_pipe_cv['test_score'].mean())"
   ]
  },
  {
   "cell_type": "code",
   "execution_count": 1792,
   "metadata": {},
   "outputs": [
    {
     "name": "stdout",
     "output_type": "stream",
     "text": [
      "0.6955537521898251\n",
      "              precision    recall  f1-score   support\n",
      "\n",
      "         0.0       0.81      0.87      0.84      3253\n",
      "         1.0       0.85      0.77      0.81      2268\n",
      "         2.0       0.43      0.45      0.44       419\n",
      "\n",
      "    accuracy                           0.80      5940\n",
      "   macro avg       0.70      0.69      0.70      5940\n",
      "weighted avg       0.80      0.80      0.80      5940\n",
      "\n",
      "[[2815  251  187]\n",
      " [ 468 1736   64]\n",
      " [ 177   52  190]]\n"
     ]
    }
   ],
   "source": [
    "#Predicting on validation set\n",
    "rf_final_pipe_val_preds = rf_pipeline_final.predict(X_val)\n",
    "\n",
    "print(f1_score(y_val, rf_final_pipe_val_preds, average='macro'))\n",
    "print(classification_report(y_val, rf_final_pipe_val_preds))\n",
    "print(confusion_matrix(y_val, rf_final_pipe_val_preds))"
   ]
  },
  {
   "cell_type": "code",
   "execution_count": 1793,
   "metadata": {},
   "outputs": [
    {
     "name": "stdout",
     "output_type": "stream",
     "text": [
      "0.7099132634420702\n",
      "              precision    recall  f1-score   support\n",
      "\n",
      "         0.0       0.82      0.88      0.85      3199\n",
      "         1.0       0.86      0.78      0.82      2297\n",
      "         2.0       0.47      0.46      0.47       444\n",
      "\n",
      "    accuracy                           0.81      5940\n",
      "   macro avg       0.72      0.71      0.71      5940\n",
      "weighted avg       0.81      0.81      0.81      5940\n",
      "\n",
      "[[2805  225  169]\n",
      " [ 447 1790   60]\n",
      " [ 174   66  204]]\n"
     ]
    }
   ],
   "source": [
    "#Predicting on test set\n",
    "\n",
    "rf_final_pipe_test_preds = rf_pipeline_final.predict(X_test)\n",
    "\n",
    "print(f1_score(y_test, rf_final_pipe_test_preds, average='macro'))\n",
    "print(classification_report(y_test, rf_final_pipe_test_preds))\n",
    "print(confusion_matrix(y_test, rf_final_pipe_test_preds))"
   ]
  },
  {
   "cell_type": "code",
   "execution_count": 4485,
   "metadata": {},
   "outputs": [
    {
     "data": {
      "text/plain": [
       "array([0.06005424, 0.06002445, 0.05128704, 0.05387507, 0.05806035,\n",
       "       0.07295881, 0.11234697, 0.07654609, 0.12818089, 0.0537668 ,\n",
       "       0.05895946, 0.0517    , 0.04997545, 0.05657436, 0.05569002])"
      ]
     },
     "execution_count": 4485,
     "metadata": {},
     "output_type": "execute_result"
    }
   ],
   "source": [
    "#Lets look at feature importances\n",
    "rf_feat_imp = rf_pipeline_2.named_steps['clf'].feature_importances_\n",
    "rf_feat_imp"
   ]
  },
  {
   "cell_type": "code",
   "execution_count": 5243,
   "metadata": {},
   "outputs": [
    {
     "name": "stdout",
     "output_type": "stream",
     "text": [
      "Fitting 5 folds for each of 100 candidates, totalling 500 fits\n"
     ]
    },
    {
     "name": "stderr",
     "output_type": "stream",
     "text": [
      "[Parallel(n_jobs=-1)]: Using backend LokyBackend with 8 concurrent workers.\n",
      "[Parallel(n_jobs=-1)]: Done  34 tasks      | elapsed:  3.5min\n",
      "[Parallel(n_jobs=-1)]: Done 184 tasks      | elapsed: 16.5min\n",
      "[Parallel(n_jobs=-1)]: Done 434 tasks      | elapsed: 37.9min\n",
      "[Parallel(n_jobs=-1)]: Done 500 out of 500 | elapsed: 42.4min finished\n"
     ]
    },
    {
     "name": "stdout",
     "output_type": "stream",
     "text": [
      "Wall time: 42min 54s\n"
     ]
    }
   ],
   "source": [
    "#Trying again, this time with random search\n",
    "from sklearn.model_selection import RandomizedSearchCV\n",
    "from scipy.stats import randint, uniform\n",
    "\n",
    "rf_rand_grid = {\n",
    "    'clf__n_estimators': [100,250,400,500,700,1000],\n",
    "    'clf__max_depth': [None, 5, 10, 20, 30],\n",
    "    'clf__min_samples_split': [2,6,10,20],\n",
    "    'clf__min_samples_leaf': [1,4,8,15],\n",
    "    'clf__criterion': ['gini', 'entropy'],\n",
    "    'clf__max_leaf_nodes': [5,15,30,45]\n",
    "}\n",
    "\n",
    "rf_model_5 = RandomizedSearchCV(rf_pipeline_2, param_distributions=rf_rand_grid, n_iter= 100,\n",
    "                        cv=5, n_jobs=-1,\n",
    "                        scoring = 'f1_macro',\n",
    "                        return_train_score=True,\n",
    "                        verbose=1)\n",
    "\n",
    "%time rf_grid_model_5 = rf_model_5.fit(X_train, y_train)"
   ]
  },
  {
   "cell_type": "code",
   "execution_count": 5245,
   "metadata": {},
   "outputs": [
    {
     "name": "stdout",
     "output_type": "stream",
     "text": [
      "0.5807996546522447\n",
      "{'clf__n_estimators': 700, 'clf__min_samples_split': 20, 'clf__min_samples_leaf': 15, 'clf__max_leaf_nodes': 45, 'clf__max_depth': 30, 'clf__criterion': 'gini'}\n"
     ]
    }
   ],
   "source": [
    "print(rf_grid_model_5.best_score_)\n",
    "print(rf_grid_model_5.best_params_)"
   ]
  },
  {
   "cell_type": "code",
   "execution_count": 5247,
   "metadata": {},
   "outputs": [
    {
     "name": "stdout",
     "output_type": "stream",
     "text": [
      "              precision    recall  f1-score   support\n",
      "\n",
      "           0       0.76      0.70      0.73      3253\n",
      "           1       0.83      0.56      0.67      2268\n",
      "           2       0.21      0.70      0.32       419\n",
      "\n",
      "    accuracy                           0.64      5940\n",
      "   macro avg       0.60      0.65      0.57      5940\n",
      "weighted avg       0.74      0.64      0.67      5940\n",
      "\n",
      "[[2272  224  757]\n",
      " [ 644 1259  365]\n",
      " [  92   35  292]]\n"
     ]
    }
   ],
   "source": [
    "rf_grid_5_preds = rf_grid_model_5.predict(X_val)\n",
    "\n",
    "print(classification_report(y_val, rf_grid_5_preds))\n",
    "print(confusion_matrix(y_val, rf_grid_5_preds))"
   ]
  },
  {
   "cell_type": "markdown",
   "metadata": {},
   "source": [
    "# Lets try this one more time, this time adding in a feature selection method\n",
    "from sklearn.feature_selection import SelectKBest, chi2, f_classif\n",
    "rf_pipeline_4 = Pipeline(steps=[\n",
    "    ('preprocess', full_processor_2),\n",
    "    ('feature_selection', SelectKBest(f_classif, k=20)),\n",
    "    ('clf', rf)\n",
    "])"
   ]
  },
  {
   "cell_type": "code",
   "execution_count": 5213,
   "metadata": {},
   "outputs": [
    {
     "data": {
      "text/plain": [
       "Pipeline(steps=[('preprocess',\n",
       "                 ColumnTransformer(transformers=[('categorical',\n",
       "                                                  Pipeline(steps=[('mestimate_encode',\n",
       "                                                                   MEstimateEncoder()),\n",
       "                                                                  ('impute',\n",
       "                                                                   SimpleImputer(strategy='most_frequent'))]),\n",
       "                                                  ['basin', 'region_code',\n",
       "                                                   'district_code', 'lga',\n",
       "                                                   'ward', 'public_meeting',\n",
       "                                                   'scheme_management',\n",
       "                                                   'permit',\n",
       "                                                   'construction_year',\n",
       "                                                   'extraction_type',\n",
       "                                                   'extraction_type_class',\n",
       "                                                   'man...\n",
       "                                                   'waterpoint_type',\n",
       "                                                   'water_quant_class']),\n",
       "                                                 ('numeric',\n",
       "                                                  Pipeline(steps=[('impute',\n",
       "                                                                   IterativeImputer()),\n",
       "                                                                  ('scale',\n",
       "                                                                   StandardScaler())]),\n",
       "                                                  ['gps_height', 'longitude',\n",
       "                                                   'latitude', 'population',\n",
       "                                                   'years_since_inspected',\n",
       "                                                   'used_pump',\n",
       "                                                   'consistent_payment',\n",
       "                                                   'above_avg_pop'])])),\n",
       "                ('feature_selection', SelectKBest(k=20)),\n",
       "                ('clf', RandomForestClassifier(class_weight='balanced'))])"
      ]
     },
     "execution_count": 5213,
     "metadata": {},
     "output_type": "execute_result"
    }
   ],
   "source": [
    "rf_pipeline_4.fit(X_train, y_train)"
   ]
  },
  {
   "cell_type": "code",
   "execution_count": 5214,
   "metadata": {},
   "outputs": [
    {
     "name": "stdout",
     "output_type": "stream",
     "text": [
      "0.6609636251863825\n",
      "              precision    recall  f1-score   support\n",
      "\n",
      "           0       0.81      0.82      0.81      3253\n",
      "           1       0.79      0.76      0.78      2268\n",
      "           2       0.39      0.40      0.39       419\n",
      "\n",
      "    accuracy                           0.77      5940\n",
      "   macro avg       0.66      0.66      0.66      5940\n",
      "weighted avg       0.77      0.77      0.77      5940\n",
      "\n"
     ]
    }
   ],
   "source": [
    "#Bit of a dip in performance compared to as is\n",
    "rf_pipe4_base_preds = rf_pipeline_4.predict(X_val)\n",
    "\n",
    "print(f1_score(y_val, rf_pipe4_base_preds, average='macro'))\n",
    "print(classification_report(y_val, rf_pipe4_base_preds))"
   ]
  },
  {
   "cell_type": "code",
   "execution_count": 5446,
   "metadata": {},
   "outputs": [
    {
     "name": "stderr",
     "output_type": "stream",
     "text": [
      "C:\\Users\\Matth\\Anaconda3\\lib\\site-packages\\sklearn\\compose\\_column_transformer.py:437: FutureWarning: Given feature/column names or counts do not match the ones for the data given during fit. This will fail from v0.24.\n",
      "  warnings.warn(\"Given feature/column names or counts do not match \"\n"
     ]
    },
    {
     "name": "stdout",
     "output_type": "stream",
     "text": [
      "[0. 2. 0. ... 0. 0. 1.]\n"
     ]
    }
   ],
   "source": [
    "#Making preds on final dataset\n",
    "#Going to use RF pipeline 2\n",
    "\n",
    "final_preds_1 = rf_pipeline_2.predict(final_test_features)\n",
    "print(final_preds_1)"
   ]
  },
  {
   "cell_type": "code",
   "execution_count": 176,
   "metadata": {},
   "outputs": [],
   "source": [
    "#Creating submission file\n",
    "\n",
    "submission_1 = pd.DataFrame({'id': test_features.iloc[:,0], 'status_group': final_preds_1})\n",
    "\n",
    "def convert_status(df):\n",
    "    if df['status_group'] == 0.0:\n",
    "        return 'functional'\n",
    "    elif df['status_group'] == 1.0:\n",
    "        return 'non functional'\n",
    "    elif df['status_group'] == 2.0:\n",
    "        return 'functional needs repair'"
   ]
  },
  {
   "cell_type": "code",
   "execution_count": 5470,
   "metadata": {},
   "outputs": [
    {
     "data": {
      "text/html": [
       "<div>\n",
       "<style scoped>\n",
       "    .dataframe tbody tr th:only-of-type {\n",
       "        vertical-align: middle;\n",
       "    }\n",
       "\n",
       "    .dataframe tbody tr th {\n",
       "        vertical-align: top;\n",
       "    }\n",
       "\n",
       "    .dataframe thead th {\n",
       "        text-align: right;\n",
       "    }\n",
       "</style>\n",
       "<table border=\"1\" class=\"dataframe\">\n",
       "  <thead>\n",
       "    <tr style=\"text-align: right;\">\n",
       "      <th></th>\n",
       "      <th>id</th>\n",
       "      <th>status_group</th>\n",
       "    </tr>\n",
       "  </thead>\n",
       "  <tbody>\n",
       "    <tr>\n",
       "      <th>0</th>\n",
       "      <td>50785</td>\n",
       "      <td>0.0</td>\n",
       "    </tr>\n",
       "    <tr>\n",
       "      <th>1</th>\n",
       "      <td>51630</td>\n",
       "      <td>2.0</td>\n",
       "    </tr>\n",
       "    <tr>\n",
       "      <th>2</th>\n",
       "      <td>17168</td>\n",
       "      <td>0.0</td>\n",
       "    </tr>\n",
       "    <tr>\n",
       "      <th>3</th>\n",
       "      <td>45559</td>\n",
       "      <td>1.0</td>\n",
       "    </tr>\n",
       "    <tr>\n",
       "      <th>4</th>\n",
       "      <td>49871</td>\n",
       "      <td>0.0</td>\n",
       "    </tr>\n",
       "  </tbody>\n",
       "</table>\n",
       "</div>"
      ],
      "text/plain": [
       "      id  status_group\n",
       "0  50785           0.0\n",
       "1  51630           2.0\n",
       "2  17168           0.0\n",
       "3  45559           1.0\n",
       "4  49871           0.0"
      ]
     },
     "execution_count": 5470,
     "metadata": {},
     "output_type": "execute_result"
    }
   ],
   "source": [
    "submission_1.head()"
   ]
  },
  {
   "cell_type": "code",
   "execution_count": 5471,
   "metadata": {},
   "outputs": [],
   "source": [
    "submission_1['status_group'] = submission_1.apply(convert_status, axis=1)"
   ]
  },
  {
   "cell_type": "code",
   "execution_count": 5473,
   "metadata": {},
   "outputs": [
    {
     "name": "stdout",
     "output_type": "stream",
     "text": [
      "14850\n"
     ]
    },
    {
     "data": {
      "text/html": [
       "<div>\n",
       "<style scoped>\n",
       "    .dataframe tbody tr th:only-of-type {\n",
       "        vertical-align: middle;\n",
       "    }\n",
       "\n",
       "    .dataframe tbody tr th {\n",
       "        vertical-align: top;\n",
       "    }\n",
       "\n",
       "    .dataframe thead th {\n",
       "        text-align: right;\n",
       "    }\n",
       "</style>\n",
       "<table border=\"1\" class=\"dataframe\">\n",
       "  <thead>\n",
       "    <tr style=\"text-align: right;\">\n",
       "      <th></th>\n",
       "      <th>id</th>\n",
       "      <th>status_group</th>\n",
       "    </tr>\n",
       "  </thead>\n",
       "  <tbody>\n",
       "    <tr>\n",
       "      <th>0</th>\n",
       "      <td>50785</td>\n",
       "      <td>functional</td>\n",
       "    </tr>\n",
       "    <tr>\n",
       "      <th>1</th>\n",
       "      <td>51630</td>\n",
       "      <td>functional needs repair</td>\n",
       "    </tr>\n",
       "    <tr>\n",
       "      <th>2</th>\n",
       "      <td>17168</td>\n",
       "      <td>functional</td>\n",
       "    </tr>\n",
       "    <tr>\n",
       "      <th>3</th>\n",
       "      <td>45559</td>\n",
       "      <td>non functional</td>\n",
       "    </tr>\n",
       "    <tr>\n",
       "      <th>4</th>\n",
       "      <td>49871</td>\n",
       "      <td>functional</td>\n",
       "    </tr>\n",
       "  </tbody>\n",
       "</table>\n",
       "</div>"
      ],
      "text/plain": [
       "      id             status_group\n",
       "0  50785               functional\n",
       "1  51630  functional needs repair\n",
       "2  17168               functional\n",
       "3  45559           non functional\n",
       "4  49871               functional"
      ]
     },
     "execution_count": 5473,
     "metadata": {},
     "output_type": "execute_result"
    }
   ],
   "source": [
    "#Viewing Converted results\n",
    "print(len(submission_1))\n",
    "submission_1.head()"
   ]
  },
  {
   "cell_type": "code",
   "execution_count": 5474,
   "metadata": {},
   "outputs": [],
   "source": [
    "#Pushing to CSV\n",
    "submission_1.to_csv('rf_preds_pipe2.csv', index=False)"
   ]
  },
  {
   "cell_type": "code",
   "execution_count": 1794,
   "metadata": {},
   "outputs": [
    {
     "name": "stderr",
     "output_type": "stream",
     "text": [
      "C:\\Users\\Matth\\Anaconda3\\lib\\site-packages\\sklearn\\compose\\_column_transformer.py:437: FutureWarning: Given feature/column names or counts do not match the ones for the data given during fit. This will fail from v0.24.\n",
      "  warnings.warn(\"Given feature/column names or counts do not match \"\n"
     ]
    },
    {
     "name": "stdout",
     "output_type": "stream",
     "text": [
      "[0. 0. 0. ... 0. 0. 1.]\n"
     ]
    }
   ],
   "source": [
    "#Creating more submissions, this time from the best performing pipeline (rf_pipeline_final)\n",
    "\n",
    "final_preds_2 = rf_pipeline_final.predict(final_test_features)\n",
    "print(final_preds_2)"
   ]
  },
  {
   "cell_type": "code",
   "execution_count": 1795,
   "metadata": {},
   "outputs": [
    {
     "data": {
      "text/html": [
       "<div>\n",
       "<style scoped>\n",
       "    .dataframe tbody tr th:only-of-type {\n",
       "        vertical-align: middle;\n",
       "    }\n",
       "\n",
       "    .dataframe tbody tr th {\n",
       "        vertical-align: top;\n",
       "    }\n",
       "\n",
       "    .dataframe thead th {\n",
       "        text-align: right;\n",
       "    }\n",
       "</style>\n",
       "<table border=\"1\" class=\"dataframe\">\n",
       "  <thead>\n",
       "    <tr style=\"text-align: right;\">\n",
       "      <th></th>\n",
       "      <th>id</th>\n",
       "      <th>status_group</th>\n",
       "    </tr>\n",
       "  </thead>\n",
       "  <tbody>\n",
       "    <tr>\n",
       "      <th>0</th>\n",
       "      <td>50785</td>\n",
       "      <td>0.0</td>\n",
       "    </tr>\n",
       "    <tr>\n",
       "      <th>1</th>\n",
       "      <td>51630</td>\n",
       "      <td>0.0</td>\n",
       "    </tr>\n",
       "    <tr>\n",
       "      <th>2</th>\n",
       "      <td>17168</td>\n",
       "      <td>0.0</td>\n",
       "    </tr>\n",
       "    <tr>\n",
       "      <th>3</th>\n",
       "      <td>45559</td>\n",
       "      <td>1.0</td>\n",
       "    </tr>\n",
       "    <tr>\n",
       "      <th>4</th>\n",
       "      <td>49871</td>\n",
       "      <td>0.0</td>\n",
       "    </tr>\n",
       "  </tbody>\n",
       "</table>\n",
       "</div>"
      ],
      "text/plain": [
       "      id  status_group\n",
       "0  50785           0.0\n",
       "1  51630           0.0\n",
       "2  17168           0.0\n",
       "3  45559           1.0\n",
       "4  49871           0.0"
      ]
     },
     "execution_count": 1795,
     "metadata": {},
     "output_type": "execute_result"
    }
   ],
   "source": [
    "submission_2 = pd.DataFrame({'id': test_features.iloc[:,0], 'status_group': final_preds_2})\n",
    "\n",
    "submission_2.head()"
   ]
  },
  {
   "cell_type": "code",
   "execution_count": 1796,
   "metadata": {},
   "outputs": [],
   "source": [
    "submission_2['status_group'] = submission_2.apply(convert_status, axis=1)"
   ]
  },
  {
   "cell_type": "code",
   "execution_count": 1797,
   "metadata": {},
   "outputs": [
    {
     "name": "stdout",
     "output_type": "stream",
     "text": [
      "14850\n"
     ]
    },
    {
     "data": {
      "text/html": [
       "<div>\n",
       "<style scoped>\n",
       "    .dataframe tbody tr th:only-of-type {\n",
       "        vertical-align: middle;\n",
       "    }\n",
       "\n",
       "    .dataframe tbody tr th {\n",
       "        vertical-align: top;\n",
       "    }\n",
       "\n",
       "    .dataframe thead th {\n",
       "        text-align: right;\n",
       "    }\n",
       "</style>\n",
       "<table border=\"1\" class=\"dataframe\">\n",
       "  <thead>\n",
       "    <tr style=\"text-align: right;\">\n",
       "      <th></th>\n",
       "      <th>id</th>\n",
       "      <th>status_group</th>\n",
       "    </tr>\n",
       "  </thead>\n",
       "  <tbody>\n",
       "    <tr>\n",
       "      <th>0</th>\n",
       "      <td>50785</td>\n",
       "      <td>functional</td>\n",
       "    </tr>\n",
       "    <tr>\n",
       "      <th>1</th>\n",
       "      <td>51630</td>\n",
       "      <td>functional</td>\n",
       "    </tr>\n",
       "    <tr>\n",
       "      <th>2</th>\n",
       "      <td>17168</td>\n",
       "      <td>functional</td>\n",
       "    </tr>\n",
       "    <tr>\n",
       "      <th>3</th>\n",
       "      <td>45559</td>\n",
       "      <td>non functional</td>\n",
       "    </tr>\n",
       "    <tr>\n",
       "      <th>4</th>\n",
       "      <td>49871</td>\n",
       "      <td>functional</td>\n",
       "    </tr>\n",
       "  </tbody>\n",
       "</table>\n",
       "</div>"
      ],
      "text/plain": [
       "      id    status_group\n",
       "0  50785      functional\n",
       "1  51630      functional\n",
       "2  17168      functional\n",
       "3  45559  non functional\n",
       "4  49871      functional"
      ]
     },
     "execution_count": 1797,
     "metadata": {},
     "output_type": "execute_result"
    }
   ],
   "source": [
    "#Viewing Converted results\n",
    "print(len(submission_2))\n",
    "submission_2.head()"
   ]
  },
  {
   "cell_type": "code",
   "execution_count": 1798,
   "metadata": {},
   "outputs": [],
   "source": [
    "#Pushing to CSV\n",
    "submission_2.to_csv('rf_finalpipe_preds_2.csv', index=False)"
   ]
  },
  {
   "cell_type": "code",
   "execution_count": 5215,
   "metadata": {},
   "outputs": [],
   "source": [
    "#Now lets try an XGboost model\n",
    "from xgboost import XGBClassifier\n",
    "\n",
    "xgb = XGBClassifier()"
   ]
  },
  {
   "cell_type": "code",
   "execution_count": 6465,
   "metadata": {},
   "outputs": [],
   "source": [
    "#Setting up base XGB pipe\n",
    "\n",
    "xgb_pipeline = Pipeline(steps=[\n",
    "    ('preprocess', full_processor_2),\n",
    "    ('clf', xgb)\n",
    "])\n"
   ]
  },
  {
   "cell_type": "code",
   "execution_count": 6466,
   "metadata": {},
   "outputs": [
    {
     "name": "stderr",
     "output_type": "stream",
     "text": [
      "C:\\Users\\Matth\\Anaconda3\\lib\\site-packages\\xgboost\\sklearn.py:1146: UserWarning: The use of label encoder in XGBClassifier is deprecated and will be removed in a future release. To remove this warning, do the following: 1) Pass option use_label_encoder=False when constructing XGBClassifier object; and 2) Encode your labels (y) as integers starting with 0, i.e. 0, 1, 2, ..., [num_class - 1].\n",
      "  warnings.warn(label_encoder_deprecation_msg, UserWarning)\n"
     ]
    },
    {
     "name": "stdout",
     "output_type": "stream",
     "text": [
      "0.6612133225020422\n",
      "              precision    recall  f1-score   support\n",
      "\n",
      "         0.0       0.78      0.91      0.84      3253\n",
      "         1.0       0.84      0.74      0.78      2268\n",
      "         2.0       0.64      0.25      0.36       419\n",
      "\n",
      "    accuracy                           0.80      5940\n",
      "   macro avg       0.75      0.63      0.66      5940\n",
      "weighted avg       0.79      0.80      0.78      5940\n",
      "\n"
     ]
    }
   ],
   "source": [
    "#Fitting the baseline model\n",
    "#Slightly worse than base RF\n",
    "xgb_pipeline.fit(X_train, y_train)\n",
    "\n",
    "base_xgb_preds = xgb_pipeline.predict(X_val)\n",
    "\n",
    "#Not great results but better than RF\n",
    "print(f1_score(y_val, base_xgb_preds, average='macro'))\n",
    "print(classification_report(y_val, base_xgb_preds))"
   ]
  },
  {
   "cell_type": "code",
   "execution_count": 5218,
   "metadata": {},
   "outputs": [
    {
     "name": "stderr",
     "output_type": "stream",
     "text": [
      "C:\\Users\\Matth\\Anaconda3\\lib\\site-packages\\xgboost\\sklearn.py:1146: UserWarning: The use of label encoder in XGBClassifier is deprecated and will be removed in a future release. To remove this warning, do the following: 1) Pass option use_label_encoder=False when constructing XGBClassifier object; and 2) Encode your labels (y) as integers starting with 0, i.e. 0, 1, 2, ..., [num_class - 1].\n",
      "  warnings.warn(label_encoder_deprecation_msg, UserWarning)\n"
     ]
    },
    {
     "name": "stdout",
     "output_type": "stream",
     "text": [
      "[22:12:59] WARNING: C:/Users/Administrator/workspace/xgboost-win64_release_1.4.0/src/learner.cc:1095: Starting in XGBoost 1.3.0, the default evaluation metric used with the objective 'multi:softprob' was changed from 'merror' to 'mlogloss'. Explicitly set eval_metric if you'd like to restore the old behavior.\n"
     ]
    },
    {
     "name": "stderr",
     "output_type": "stream",
     "text": [
      "C:\\Users\\Matth\\Anaconda3\\lib\\site-packages\\xgboost\\sklearn.py:1146: UserWarning: The use of label encoder in XGBClassifier is deprecated and will be removed in a future release. To remove this warning, do the following: 1) Pass option use_label_encoder=False when constructing XGBClassifier object; and 2) Encode your labels (y) as integers starting with 0, i.e. 0, 1, 2, ..., [num_class - 1].\n",
      "  warnings.warn(label_encoder_deprecation_msg, UserWarning)\n"
     ]
    },
    {
     "name": "stdout",
     "output_type": "stream",
     "text": [
      "[22:13:08] WARNING: C:/Users/Administrator/workspace/xgboost-win64_release_1.4.0/src/learner.cc:1095: Starting in XGBoost 1.3.0, the default evaluation metric used with the objective 'multi:softprob' was changed from 'merror' to 'mlogloss'. Explicitly set eval_metric if you'd like to restore the old behavior.\n"
     ]
    },
    {
     "name": "stderr",
     "output_type": "stream",
     "text": [
      "C:\\Users\\Matth\\Anaconda3\\lib\\site-packages\\xgboost\\sklearn.py:1146: UserWarning: The use of label encoder in XGBClassifier is deprecated and will be removed in a future release. To remove this warning, do the following: 1) Pass option use_label_encoder=False when constructing XGBClassifier object; and 2) Encode your labels (y) as integers starting with 0, i.e. 0, 1, 2, ..., [num_class - 1].\n",
      "  warnings.warn(label_encoder_deprecation_msg, UserWarning)\n"
     ]
    },
    {
     "name": "stdout",
     "output_type": "stream",
     "text": [
      "[22:13:17] WARNING: C:/Users/Administrator/workspace/xgboost-win64_release_1.4.0/src/learner.cc:1095: Starting in XGBoost 1.3.0, the default evaluation metric used with the objective 'multi:softprob' was changed from 'merror' to 'mlogloss'. Explicitly set eval_metric if you'd like to restore the old behavior.\n"
     ]
    },
    {
     "name": "stderr",
     "output_type": "stream",
     "text": [
      "C:\\Users\\Matth\\Anaconda3\\lib\\site-packages\\xgboost\\sklearn.py:1146: UserWarning: The use of label encoder in XGBClassifier is deprecated and will be removed in a future release. To remove this warning, do the following: 1) Pass option use_label_encoder=False when constructing XGBClassifier object; and 2) Encode your labels (y) as integers starting with 0, i.e. 0, 1, 2, ..., [num_class - 1].\n",
      "  warnings.warn(label_encoder_deprecation_msg, UserWarning)\n"
     ]
    },
    {
     "name": "stdout",
     "output_type": "stream",
     "text": [
      "[22:13:27] WARNING: C:/Users/Administrator/workspace/xgboost-win64_release_1.4.0/src/learner.cc:1095: Starting in XGBoost 1.3.0, the default evaluation metric used with the objective 'multi:softprob' was changed from 'merror' to 'mlogloss'. Explicitly set eval_metric if you'd like to restore the old behavior.\n"
     ]
    },
    {
     "name": "stderr",
     "output_type": "stream",
     "text": [
      "C:\\Users\\Matth\\Anaconda3\\lib\\site-packages\\xgboost\\sklearn.py:1146: UserWarning: The use of label encoder in XGBClassifier is deprecated and will be removed in a future release. To remove this warning, do the following: 1) Pass option use_label_encoder=False when constructing XGBClassifier object; and 2) Encode your labels (y) as integers starting with 0, i.e. 0, 1, 2, ..., [num_class - 1].\n",
      "  warnings.warn(label_encoder_deprecation_msg, UserWarning)\n"
     ]
    },
    {
     "name": "stdout",
     "output_type": "stream",
     "text": [
      "[22:13:37] WARNING: C:/Users/Administrator/workspace/xgboost-win64_release_1.4.0/src/learner.cc:1095: Starting in XGBoost 1.3.0, the default evaluation metric used with the objective 'multi:softprob' was changed from 'merror' to 'mlogloss'. Explicitly set eval_metric if you'd like to restore the old behavior.\n"
     ]
    }
   ],
   "source": [
    "#Now lets try with cross validation\n",
    "xgb_base_cv_scores = cross_validate(xgb_pipeline, X_train, y_train,\n",
    "                                   scoring='f1_macro', cv=5)\n"
   ]
  },
  {
   "cell_type": "code",
   "execution_count": 4887,
   "metadata": {},
   "outputs": [
    {
     "data": {
      "text/plain": [
       "0.6633689811900869"
      ]
     },
     "execution_count": 4887,
     "metadata": {},
     "output_type": "execute_result"
    }
   ],
   "source": [
    "#Similar to above; still slightly worse than RF\n",
    "xgb_base_cv_scores = pd.DataFrame(xgb_base_cv_scores)\n",
    "xgb_base_cv_scores['test_score'].mean()"
   ]
  },
  {
   "cell_type": "code",
   "execution_count": 5284,
   "metadata": {},
   "outputs": [
    {
     "name": "stdout",
     "output_type": "stream",
     "text": [
      "Fitting 5 folds for each of 108 candidates, totalling 540 fits\n"
     ]
    },
    {
     "name": "stderr",
     "output_type": "stream",
     "text": [
      "[Parallel(n_jobs=-1)]: Using backend LokyBackend with 8 concurrent workers.\n",
      "[Parallel(n_jobs=-1)]: Done  25 tasks      | elapsed:  1.2min\n",
      "[Parallel(n_jobs=-1)]: Done 146 tasks      | elapsed:  7.8min\n",
      "[Parallel(n_jobs=-1)]: Done 349 tasks      | elapsed: 21.0min\n",
      "[Parallel(n_jobs=-1)]: Done 540 out of 540 | elapsed: 35.7min finished\n",
      "C:\\Users\\Matth\\Anaconda3\\lib\\site-packages\\xgboost\\sklearn.py:1146: UserWarning: The use of label encoder in XGBClassifier is deprecated and will be removed in a future release. To remove this warning, do the following: 1) Pass option use_label_encoder=False when constructing XGBClassifier object; and 2) Encode your labels (y) as integers starting with 0, i.e. 0, 1, 2, ..., [num_class - 1].\n",
      "  warnings.warn(label_encoder_deprecation_msg, UserWarning)\n"
     ]
    }
   ],
   "source": [
    "#Now trying XGB grid search\n",
    "\n",
    "xgb_param_grid = {\n",
    "             'clf__min_child_weight': [1,5,10],\n",
    "             'clf__n_estimators' :[100],\n",
    "             'clf__max_depth': [3,4,5],  \n",
    "             'clf__gamma': [0,0.5,4],\n",
    "             'clf__subsample': [0.8,1.0], \n",
    "             'clf__colsample_bytree': [0.6,1],\n",
    "             }\n",
    "\n",
    "\n",
    "xgb_grid = GridSearchCV(xgb_pipeline, param_grid=xgb_param_grid,\n",
    "                       cv=5, scoring='f1_macro',\n",
    "                       n_jobs=-1, verbose=2)\n",
    "\n",
    "\n",
    "xgb_grid_model = xgb_grid.fit(X_train, y_train)"
   ]
  },
  {
   "cell_type": "code",
   "execution_count": 5285,
   "metadata": {},
   "outputs": [
    {
     "name": "stdout",
     "output_type": "stream",
     "text": [
      "0.644956579123741\n",
      "{'clf__colsample_bytree': 0.6, 'clf__gamma': 0, 'clf__max_depth': 5, 'clf__min_child_weight': 1, 'clf__n_estimators': 100, 'clf__subsample': 0.8}\n"
     ]
    }
   ],
   "source": [
    "#Slightly worse than base performance; 0.64\n",
    "print(xgb_grid_model.best_score_)\n",
    "print(xgb_grid_model.best_params_)"
   ]
  },
  {
   "cell_type": "code",
   "execution_count": 2373,
   "metadata": {},
   "outputs": [
    {
     "name": "stdout",
     "output_type": "stream",
     "text": [
      "0.12154882154882155\n",
      "0.1111111111111111\n"
     ]
    }
   ],
   "source": [
    "#Creating classification rate metric (what is actually used in the comp)\n",
    "#def classification_rate(y, y_pred):\n",
    "#    return np.sum(y==y_pred)/len(y)\n",
    "\n",
    "#print(classification_rate(y_val, base_xgb_preds))\n",
    "#print(classification_rate(y_val, rf_grid_preds))"
   ]
  },
  {
   "cell_type": "code",
   "execution_count": 1799,
   "metadata": {},
   "outputs": [],
   "source": [
    "#Trying Extra Trees\n",
    "from sklearn.ensemble import ExtraTreesClassifier\n",
    "\n",
    "etc = ExtraTreesClassifier()\n",
    "\n",
    "etc_pipeline = Pipeline(steps=[\n",
    "    ('preprocess', full_processor_2),\n",
    "    ('clf', etc)\n",
    "])"
   ]
  },
  {
   "cell_type": "code",
   "execution_count": 1800,
   "metadata": {},
   "outputs": [
    {
     "data": {
      "text/plain": [
       "Pipeline(steps=[('preprocess',\n",
       "                 ColumnTransformer(transformers=[('categorical',\n",
       "                                                  Pipeline(steps=[('mestimate_encode',\n",
       "                                                                   MEstimateEncoder()),\n",
       "                                                                  ('impute',\n",
       "                                                                   SimpleImputer(strategy='most_frequent'))]),\n",
       "                                                  ['funder', 'installer',\n",
       "                                                   'basin', 'region',\n",
       "                                                   'region_code',\n",
       "                                                   'district_code', 'lga',\n",
       "                                                   'ward', 'public_meeting',\n",
       "                                                   'scheme_management',\n",
       "                                                   'permit',\n",
       "                                                   'construction_year',\n",
       "                                                   'extraction_type...\n",
       "                                                   'source_class',\n",
       "                                                   'waterpoint_type',\n",
       "                                                   'water_quant_class']),\n",
       "                                                 ('numeric',\n",
       "                                                  Pipeline(steps=[('impute',\n",
       "                                                                   IterativeImputer()),\n",
       "                                                                  ('scale',\n",
       "                                                                   StandardScaler())]),\n",
       "                                                  ['amount_tsh', 'gps_height',\n",
       "                                                   'longitude', 'latitude',\n",
       "                                                   'population',\n",
       "                                                   'waterpoint_age',\n",
       "                                                   'years_since_inspected',\n",
       "                                                   'used_pump',\n",
       "                                                   'consistent_payment',\n",
       "                                                   'good_qual_sufficient',\n",
       "                                                   'above_avg_pop'])])),\n",
       "                ('clf', ExtraTreesClassifier())])"
      ]
     },
     "execution_count": 1800,
     "metadata": {},
     "output_type": "execute_result"
    }
   ],
   "source": [
    "etc_pipeline.fit(X_train, y_train)"
   ]
  },
  {
   "cell_type": "code",
   "execution_count": 1801,
   "metadata": {},
   "outputs": [
    {
     "name": "stdout",
     "output_type": "stream",
     "text": [
      "0.6818116135761739\n",
      "              precision    recall  f1-score   support\n",
      "\n",
      "         0.0       0.81      0.86      0.84      3253\n",
      "         1.0       0.81      0.77      0.79      2268\n",
      "         2.0       0.49      0.37      0.42       419\n",
      "\n",
      "    accuracy                           0.79      5940\n",
      "   macro avg       0.70      0.67      0.68      5940\n",
      "weighted avg       0.79      0.79      0.79      5940\n",
      "\n"
     ]
    }
   ],
   "source": [
    "etc_base_preds = etc_pipeline.predict(X_val)\n",
    "\n",
    "print(f1_score(y_val, etc_base_preds, average='macro'))\n",
    "print(classification_report(y_val, etc_base_preds))"
   ]
  },
  {
   "cell_type": "code",
   "execution_count": 1802,
   "metadata": {},
   "outputs": [
    {
     "name": "stderr",
     "output_type": "stream",
     "text": [
      "[Parallel(n_jobs=-1)]: Using backend LokyBackend with 8 concurrent workers.\n",
      "[Parallel(n_jobs=-1)]: Done   2 out of   5 | elapsed:   15.0s remaining:   22.6s\n",
      "[Parallel(n_jobs=-1)]: Done   5 out of   5 | elapsed:   15.3s finished\n"
     ]
    },
    {
     "data": {
      "text/plain": [
       "0.6791428057642681"
      ]
     },
     "execution_count": 1802,
     "metadata": {},
     "output_type": "execute_result"
    }
   ],
   "source": [
    "#Performance not bad, similar to that of RF\n",
    "etc_base_cv = cross_validate(etc_pipeline, X_train, y_train,\n",
    "                             cv=5, scoring='f1_macro', n_jobs=-1, verbose=1)\n",
    "\n",
    "etc_base_cv['test_score'].mean()"
   ]
  },
  {
   "cell_type": "code",
   "execution_count": 183,
   "metadata": {},
   "outputs": [
    {
     "name": "stdout",
     "output_type": "stream",
     "text": [
      "Fitting 5 folds for each of 9 candidates, totalling 45 fits\n"
     ]
    },
    {
     "name": "stderr",
     "output_type": "stream",
     "text": [
      "[Parallel(n_jobs=-1)]: Using backend LokyBackend with 8 concurrent workers.\n",
      "[Parallel(n_jobs=-1)]: Done  25 tasks      | elapsed:  4.2min\n",
      "[Parallel(n_jobs=-1)]: Done  45 out of  45 | elapsed:  7.7min finished\n"
     ]
    },
    {
     "name": "stdout",
     "output_type": "stream",
     "text": [
      "Wall time: 8min 41s\n"
     ]
    }
   ],
   "source": [
    "#Seems not bad; lets try with a grid search\n",
    "etc_grid = {\n",
    "    'clf__n_estimators':[300,500,1000],\n",
    "    'clf__max_depth':[None,5,20],\n",
    "    'clf__criterion': ['gini']\n",
    "}\n",
    "\n",
    "etc_model = GridSearchCV(etc_pipeline, param_grid=etc_grid,\n",
    "                        cv=5, n_jobs=-1,\n",
    "                        scoring = 'f1_macro',\n",
    "                        return_train_score=True,\n",
    "                        verbose=2)\n",
    "\n",
    "%time etc_grid_model = etc_model.fit(X_train, y_train)"
   ]
  },
  {
   "cell_type": "code",
   "execution_count": 184,
   "metadata": {},
   "outputs": [
    {
     "name": "stdout",
     "output_type": "stream",
     "text": [
      "0.6809497895799794\n",
      "{'clf__criterion': 'gini', 'clf__max_depth': None, 'clf__n_estimators': 1000}\n"
     ]
    }
   ],
   "source": [
    "print(etc_model.best_score_)\n",
    "print(etc_model.best_params_)"
   ]
  },
  {
   "cell_type": "code",
   "execution_count": 5229,
   "metadata": {},
   "outputs": [
    {
     "name": "stdout",
     "output_type": "stream",
     "text": [
      "Fitting 5 folds for each of 324 candidates, totalling 1620 fits\n"
     ]
    },
    {
     "name": "stderr",
     "output_type": "stream",
     "text": [
      "[Parallel(n_jobs=-1)]: Using backend LokyBackend with 8 concurrent workers.\n",
      "[Parallel(n_jobs=-1)]: Done  25 tasks      | elapsed:   46.3s\n",
      "[Parallel(n_jobs=-1)]: Done 146 tasks      | elapsed:  4.9min\n",
      "[Parallel(n_jobs=-1)]: Done 349 tasks      | elapsed: 13.4min\n",
      "[Parallel(n_jobs=-1)]: Done 632 tasks      | elapsed: 28.8min\n",
      "[Parallel(n_jobs=-1)]: Done 997 tasks      | elapsed: 40.0min\n",
      "[Parallel(n_jobs=-1)]: Done 1442 tasks      | elapsed: 56.1min\n",
      "[Parallel(n_jobs=-1)]: Done 1620 out of 1620 | elapsed: 63.3min finished\n"
     ]
    },
    {
     "name": "stdout",
     "output_type": "stream",
     "text": [
      "Wall time: 1h 3min 29s\n"
     ]
    }
   ],
   "source": [
    "#Lets do another grid search with results of the previous one in mind\n",
    "#Side note, was very quick to compute\n",
    "\n",
    "etc_grid_2 = {\n",
    "    'clf__n_estimators':[150, 300, 450, 600],\n",
    "    'clf__max_depth':[None, 2, 4],\n",
    "    'clf__criterion': ['gini'],\n",
    "    'clf__max_leaf_nodes':[5,10,50],\n",
    "    'clf__min_samples_leaf':[1,10,50],\n",
    "    'clf__min_samples_split':[2,10,50]   \n",
    "}\n",
    "\n",
    "etc_model_2 = GridSearchCV(etc_pipeline, param_grid=etc_grid_2,\n",
    "                        cv=5, n_jobs=-1,\n",
    "                        scoring = 'f1_macro',\n",
    "                        return_train_score=True,\n",
    "                        verbose=2)\n",
    "\n",
    "%time etc_grid_model_2 = etc_model_2.fit(X_train, y_train)\n"
   ]
  },
  {
   "cell_type": "code",
   "execution_count": 5230,
   "metadata": {},
   "outputs": [
    {
     "name": "stdout",
     "output_type": "stream",
     "text": [
      "0.501965157631506\n",
      "{'clf__criterion': 'gini', 'clf__max_depth': None, 'clf__max_leaf_nodes': 50, 'clf__min_samples_leaf': 50, 'clf__min_samples_split': 10, 'clf__n_estimators': 150}\n"
     ]
    }
   ],
   "source": [
    "print(etc_grid_model_2.best_score_)\n",
    "print(etc_grid_model_2.best_params_)"
   ]
  },
  {
   "cell_type": "code",
   "execution_count": 1876,
   "metadata": {},
   "outputs": [
    {
     "data": {
      "text/plain": [
       "Pipeline(steps=[('preprocess',\n",
       "                 ColumnTransformer(transformers=[('categorical',\n",
       "                                                  Pipeline(steps=[('mestimate_encode',\n",
       "                                                                   MEstimateEncoder()),\n",
       "                                                                  ('impute',\n",
       "                                                                   SimpleImputer(strategy='most_frequent'))]),\n",
       "                                                  ['funder', 'installer',\n",
       "                                                   'basin', 'region',\n",
       "                                                   'region_code',\n",
       "                                                   'district_code', 'lga',\n",
       "                                                   'ward', 'public_meeting',\n",
       "                                                   'scheme_management',\n",
       "                                                   'permit',\n",
       "                                                   'construction_year',\n",
       "                                                   'extraction_type...\n",
       "                                                   'water_quant_class']),\n",
       "                                                 ('numeric',\n",
       "                                                  Pipeline(steps=[('impute',\n",
       "                                                                   IterativeImputer()),\n",
       "                                                                  ('scale',\n",
       "                                                                   StandardScaler())]),\n",
       "                                                  ['amount_tsh', 'gps_height',\n",
       "                                                   'longitude', 'latitude',\n",
       "                                                   'population',\n",
       "                                                   'waterpoint_age',\n",
       "                                                   'years_since_inspected',\n",
       "                                                   'used_pump',\n",
       "                                                   'consistent_payment',\n",
       "                                                   'good_qual_sufficient',\n",
       "                                                   'above_avg_pop'])])),\n",
       "                ('clf',\n",
       "                 ExtraTreesClassifier(class_weight='balanced',\n",
       "                                      n_estimators=1000))])"
      ]
     },
     "execution_count": 1876,
     "metadata": {},
     "output_type": "execute_result"
    }
   ],
   "source": [
    "#Creating final ET pipeline based on results of CV\n",
    "\n",
    "etc = ExtraTreesClassifier(class_weight='balanced', max_depth=None, criterion='gini', n_estimators= 1000)\n",
    "\n",
    "etc_pipeline_final = Pipeline(steps=[\n",
    "    ('preprocess', full_processor_2),\n",
    "    ('clf', etc)\n",
    "])\n",
    "\n",
    "etc_pipeline_final.fit(X_train, y_train)"
   ]
  },
  {
   "cell_type": "code",
   "execution_count": 1877,
   "metadata": {},
   "outputs": [
    {
     "name": "stdout",
     "output_type": "stream",
     "text": [
      "0.6787171434722374\n",
      "              precision    recall  f1-score   support\n",
      "\n",
      "         0.0       0.81      0.86      0.83      3253\n",
      "         1.0       0.82      0.77      0.79      2268\n",
      "         2.0       0.46      0.37      0.41       419\n",
      "\n",
      "    accuracy                           0.79      5940\n",
      "   macro avg       0.69      0.67      0.68      5940\n",
      "weighted avg       0.79      0.79      0.79      5940\n",
      "\n",
      "[[2801  327  125]\n",
      " [ 465 1743   60]\n",
      " [ 196   67  156]]\n"
     ]
    }
   ],
   "source": [
    "#Predicting on validation\n",
    "\n",
    "etc_val_preds = etc_pipeline_final.predict(X_val)\n",
    "\n",
    "\n",
    "print(f1_score(y_val, etc_val_preds, average='macro'))\n",
    "print(classification_report(y_val, etc_val_preds))\n",
    "print(confusion_matrix(y_val, etc_val_preds))"
   ]
  },
  {
   "cell_type": "code",
   "execution_count": 1878,
   "metadata": {},
   "outputs": [
    {
     "name": "stdout",
     "output_type": "stream",
     "text": [
      "0.6896231738370054\n",
      "              precision    recall  f1-score   support\n",
      "\n",
      "         0.0       0.81      0.86      0.83      3199\n",
      "         1.0       0.82      0.78      0.80      2297\n",
      "         2.0       0.49      0.39      0.44       444\n",
      "\n",
      "    accuracy                           0.79      5940\n",
      "   macro avg       0.71      0.68      0.69      5940\n",
      "weighted avg       0.79      0.79      0.79      5940\n",
      "\n",
      "[[2754  311  134]\n",
      " [ 460 1787   50]\n",
      " [ 190   79  175]]\n"
     ]
    }
   ],
   "source": [
    "#Predicting on Test\n",
    "\n",
    "etc_test_preds = etc_pipeline_final.predict(X_test)\n",
    "\n",
    "\n",
    "print(f1_score(y_test, etc_test_preds, average='macro'))\n",
    "print(classification_report(y_test, etc_test_preds))\n",
    "print(confusion_matrix(y_test, etc_test_preds))"
   ]
  },
  {
   "cell_type": "code",
   "execution_count": 1803,
   "metadata": {},
   "outputs": [],
   "source": [
    "#Trying a catboost model\n",
    "from catboost import CatBoostClassifier\n",
    "\n",
    "cbc = CatBoostClassifier(iterations=2000,\n",
    "                        loss_function='MultiClass')\n"
   ]
  },
  {
   "cell_type": "code",
   "execution_count": 1804,
   "metadata": {},
   "outputs": [],
   "source": [
    "#Creating catboost pipeline\n",
    "cbc_pipeline = Pipeline(steps=[\n",
    "    ('preprocess', full_processor),\n",
    "    ('clf', cbc)\n",
    "])\n"
   ]
  },
  {
   "cell_type": "code",
   "execution_count": 1805,
   "metadata": {},
   "outputs": [
    {
     "name": "stdout",
     "output_type": "stream",
     "text": [
      "Learning rate set to 0.053638\n",
      "0:\tlearn: 1.0596408\ttotal: 54.9ms\tremaining: 1m 49s\n",
      "1:\tlearn: 1.0253897\ttotal: 78.4ms\tremaining: 1m 18s\n",
      "2:\tlearn: 0.9943951\ttotal: 103ms\tremaining: 1m 8s\n",
      "3:\tlearn: 0.9677365\ttotal: 129ms\tremaining: 1m 4s\n",
      "4:\tlearn: 0.9433976\ttotal: 153ms\tremaining: 1m 1s\n",
      "5:\tlearn: 0.9213887\ttotal: 177ms\tremaining: 58.7s\n",
      "6:\tlearn: 0.9024664\ttotal: 209ms\tremaining: 59.6s\n",
      "7:\tlearn: 0.8846765\ttotal: 241ms\tremaining: 1m\n",
      "8:\tlearn: 0.8685240\ttotal: 271ms\tremaining: 59.9s\n",
      "9:\tlearn: 0.8541622\ttotal: 301ms\tremaining: 59.9s\n",
      "10:\tlearn: 0.8402480\ttotal: 331ms\tremaining: 59.8s\n",
      "11:\tlearn: 0.8266436\ttotal: 352ms\tremaining: 58.3s\n",
      "12:\tlearn: 0.8147355\ttotal: 371ms\tremaining: 56.7s\n",
      "13:\tlearn: 0.8036201\ttotal: 399ms\tremaining: 56.6s\n",
      "14:\tlearn: 0.7939610\ttotal: 424ms\tremaining: 56.1s\n",
      "15:\tlearn: 0.7847029\ttotal: 449ms\tremaining: 55.7s\n",
      "16:\tlearn: 0.7764370\ttotal: 472ms\tremaining: 55s\n",
      "17:\tlearn: 0.7687464\ttotal: 501ms\tremaining: 55.2s\n",
      "18:\tlearn: 0.7607165\ttotal: 525ms\tremaining: 54.7s\n",
      "19:\tlearn: 0.7540058\ttotal: 551ms\tremaining: 54.6s\n",
      "20:\tlearn: 0.7477634\ttotal: 582ms\tremaining: 54.8s\n",
      "21:\tlearn: 0.7419462\ttotal: 607ms\tremaining: 54.6s\n",
      "22:\tlearn: 0.7368420\ttotal: 632ms\tremaining: 54.3s\n",
      "23:\tlearn: 0.7317777\ttotal: 660ms\tremaining: 54.3s\n",
      "24:\tlearn: 0.7265016\ttotal: 687ms\tremaining: 54.3s\n",
      "25:\tlearn: 0.7216062\ttotal: 711ms\tremaining: 54s\n",
      "26:\tlearn: 0.7173594\ttotal: 733ms\tremaining: 53.5s\n",
      "27:\tlearn: 0.7135582\ttotal: 760ms\tremaining: 53.5s\n",
      "28:\tlearn: 0.7093590\ttotal: 786ms\tremaining: 53.4s\n",
      "29:\tlearn: 0.7060991\ttotal: 813ms\tremaining: 53.4s\n",
      "30:\tlearn: 0.7025252\ttotal: 836ms\tremaining: 53.1s\n",
      "31:\tlearn: 0.6992148\ttotal: 862ms\tremaining: 53s\n",
      "32:\tlearn: 0.6958914\ttotal: 886ms\tremaining: 52.8s\n",
      "33:\tlearn: 0.6927658\ttotal: 908ms\tremaining: 52.5s\n",
      "34:\tlearn: 0.6897069\ttotal: 930ms\tremaining: 52.2s\n",
      "35:\tlearn: 0.6872964\ttotal: 956ms\tremaining: 52.1s\n",
      "36:\tlearn: 0.6844192\ttotal: 986ms\tremaining: 52.3s\n",
      "37:\tlearn: 0.6819681\ttotal: 1.02s\tremaining: 52.7s\n",
      "38:\tlearn: 0.6796369\ttotal: 1.05s\tremaining: 52.7s\n",
      "39:\tlearn: 0.6773696\ttotal: 1.07s\tremaining: 52.7s\n",
      "40:\tlearn: 0.6756859\ttotal: 1.1s\tremaining: 52.4s\n",
      "41:\tlearn: 0.6734110\ttotal: 1.12s\tremaining: 52.2s\n",
      "42:\tlearn: 0.6715311\ttotal: 1.14s\tremaining: 52.1s\n",
      "43:\tlearn: 0.6697712\ttotal: 1.17s\tremaining: 52s\n",
      "44:\tlearn: 0.6679872\ttotal: 1.19s\tremaining: 51.8s\n",
      "45:\tlearn: 0.6663601\ttotal: 1.22s\tremaining: 51.8s\n",
      "46:\tlearn: 0.6646922\ttotal: 1.25s\tremaining: 51.8s\n",
      "47:\tlearn: 0.6632404\ttotal: 1.27s\tremaining: 51.8s\n",
      "48:\tlearn: 0.6617549\ttotal: 1.29s\tremaining: 51.5s\n",
      "49:\tlearn: 0.6599006\ttotal: 1.32s\tremaining: 51.3s\n",
      "50:\tlearn: 0.6585636\ttotal: 1.34s\tremaining: 51.3s\n",
      "51:\tlearn: 0.6568612\ttotal: 1.37s\tremaining: 51.2s\n",
      "52:\tlearn: 0.6555739\ttotal: 1.39s\tremaining: 51.1s\n",
      "53:\tlearn: 0.6543014\ttotal: 1.42s\tremaining: 51s\n",
      "54:\tlearn: 0.6530531\ttotal: 1.44s\tremaining: 51s\n",
      "55:\tlearn: 0.6520988\ttotal: 1.47s\tremaining: 50.9s\n",
      "56:\tlearn: 0.6510638\ttotal: 1.49s\tremaining: 50.7s\n",
      "57:\tlearn: 0.6496058\ttotal: 1.51s\tremaining: 50.5s\n",
      "58:\tlearn: 0.6484637\ttotal: 1.54s\tremaining: 50.7s\n",
      "59:\tlearn: 0.6473387\ttotal: 1.57s\tremaining: 50.8s\n",
      "60:\tlearn: 0.6463604\ttotal: 1.59s\tremaining: 50.7s\n",
      "61:\tlearn: 0.6455996\ttotal: 1.62s\tremaining: 50.6s\n",
      "62:\tlearn: 0.6444918\ttotal: 1.65s\tremaining: 50.6s\n",
      "63:\tlearn: 0.6436254\ttotal: 1.67s\tremaining: 50.6s\n",
      "64:\tlearn: 0.6428343\ttotal: 1.69s\tremaining: 50.4s\n",
      "65:\tlearn: 0.6421453\ttotal: 1.72s\tremaining: 50.3s\n",
      "66:\tlearn: 0.6409933\ttotal: 1.74s\tremaining: 50.2s\n",
      "67:\tlearn: 0.6400640\ttotal: 1.76s\tremaining: 50.1s\n",
      "68:\tlearn: 0.6392295\ttotal: 1.79s\tremaining: 50s\n",
      "69:\tlearn: 0.6384348\ttotal: 1.81s\tremaining: 49.9s\n",
      "70:\tlearn: 0.6376651\ttotal: 1.84s\tremaining: 49.9s\n",
      "71:\tlearn: 0.6369441\ttotal: 1.86s\tremaining: 49.8s\n",
      "72:\tlearn: 0.6360900\ttotal: 1.88s\tremaining: 49.7s\n",
      "73:\tlearn: 0.6353462\ttotal: 1.91s\tremaining: 49.7s\n",
      "74:\tlearn: 0.6346986\ttotal: 1.93s\tremaining: 49.6s\n",
      "75:\tlearn: 0.6337167\ttotal: 1.96s\tremaining: 49.6s\n",
      "76:\tlearn: 0.6328897\ttotal: 1.98s\tremaining: 49.5s\n",
      "77:\tlearn: 0.6322035\ttotal: 2.01s\tremaining: 49.5s\n",
      "78:\tlearn: 0.6314847\ttotal: 2.03s\tremaining: 49.4s\n",
      "79:\tlearn: 0.6309297\ttotal: 2.05s\tremaining: 49.2s\n",
      "80:\tlearn: 0.6301970\ttotal: 2.07s\tremaining: 49.1s\n",
      "81:\tlearn: 0.6298063\ttotal: 2.1s\tremaining: 49.1s\n",
      "82:\tlearn: 0.6291522\ttotal: 2.12s\tremaining: 49s\n",
      "83:\tlearn: 0.6281349\ttotal: 2.15s\tremaining: 48.9s\n",
      "84:\tlearn: 0.6275875\ttotal: 2.17s\tremaining: 48.9s\n",
      "85:\tlearn: 0.6271439\ttotal: 2.2s\tremaining: 48.9s\n",
      "86:\tlearn: 0.6266478\ttotal: 2.22s\tremaining: 48.9s\n",
      "87:\tlearn: 0.6260333\ttotal: 2.24s\tremaining: 48.7s\n",
      "88:\tlearn: 0.6255452\ttotal: 2.27s\tremaining: 48.7s\n",
      "89:\tlearn: 0.6251170\ttotal: 2.29s\tremaining: 48.7s\n",
      "90:\tlearn: 0.6240489\ttotal: 2.32s\tremaining: 48.7s\n",
      "91:\tlearn: 0.6235883\ttotal: 2.34s\tremaining: 48.6s\n",
      "92:\tlearn: 0.6230490\ttotal: 2.37s\tremaining: 48.6s\n",
      "93:\tlearn: 0.6225575\ttotal: 2.4s\tremaining: 48.6s\n",
      "94:\tlearn: 0.6219067\ttotal: 2.42s\tremaining: 48.6s\n",
      "95:\tlearn: 0.6214183\ttotal: 2.44s\tremaining: 48.4s\n",
      "96:\tlearn: 0.6209604\ttotal: 2.46s\tremaining: 48.3s\n",
      "97:\tlearn: 0.6204905\ttotal: 2.49s\tremaining: 48.3s\n",
      "98:\tlearn: 0.6199101\ttotal: 2.52s\tremaining: 48.4s\n",
      "99:\tlearn: 0.6191128\ttotal: 2.55s\tremaining: 48.5s\n",
      "100:\tlearn: 0.6187070\ttotal: 2.58s\tremaining: 48.5s\n",
      "101:\tlearn: 0.6182842\ttotal: 2.61s\tremaining: 48.5s\n",
      "102:\tlearn: 0.6178139\ttotal: 2.63s\tremaining: 48.4s\n",
      "103:\tlearn: 0.6171414\ttotal: 2.65s\tremaining: 48.4s\n",
      "104:\tlearn: 0.6166540\ttotal: 2.68s\tremaining: 48.4s\n",
      "105:\tlearn: 0.6159601\ttotal: 2.7s\tremaining: 48.3s\n",
      "106:\tlearn: 0.6155782\ttotal: 2.73s\tremaining: 48.3s\n",
      "107:\tlearn: 0.6153104\ttotal: 2.75s\tremaining: 48.3s\n",
      "108:\tlearn: 0.6147614\ttotal: 2.78s\tremaining: 48.3s\n",
      "109:\tlearn: 0.6144388\ttotal: 2.8s\tremaining: 48.2s\n",
      "110:\tlearn: 0.6137862\ttotal: 2.83s\tremaining: 48.1s\n",
      "111:\tlearn: 0.6131872\ttotal: 2.85s\tremaining: 48.1s\n",
      "112:\tlearn: 0.6127384\ttotal: 2.88s\tremaining: 48s\n",
      "113:\tlearn: 0.6123533\ttotal: 2.9s\tremaining: 48s\n",
      "114:\tlearn: 0.6117587\ttotal: 2.93s\tremaining: 48s\n",
      "115:\tlearn: 0.6114562\ttotal: 2.95s\tremaining: 48s\n",
      "116:\tlearn: 0.6110693\ttotal: 2.98s\tremaining: 48s\n",
      "117:\tlearn: 0.6105143\ttotal: 3.01s\tremaining: 48s\n",
      "118:\tlearn: 0.6101146\ttotal: 3.03s\tremaining: 47.9s\n",
      "119:\tlearn: 0.6098871\ttotal: 3.05s\tremaining: 47.8s\n",
      "120:\tlearn: 0.6096429\ttotal: 3.08s\tremaining: 47.8s\n",
      "121:\tlearn: 0.6093795\ttotal: 3.1s\tremaining: 47.7s\n",
      "122:\tlearn: 0.6090977\ttotal: 3.12s\tremaining: 47.7s\n",
      "123:\tlearn: 0.6086749\ttotal: 3.15s\tremaining: 47.6s\n",
      "124:\tlearn: 0.6083010\ttotal: 3.18s\tremaining: 47.7s\n",
      "125:\tlearn: 0.6079660\ttotal: 3.21s\tremaining: 47.7s\n",
      "126:\tlearn: 0.6074535\ttotal: 3.23s\tremaining: 47.6s\n",
      "127:\tlearn: 0.6069925\ttotal: 3.25s\tremaining: 47.6s\n",
      "128:\tlearn: 0.6065846\ttotal: 3.28s\tremaining: 47.5s\n",
      "129:\tlearn: 0.6063064\ttotal: 3.3s\tremaining: 47.5s\n",
      "130:\tlearn: 0.6060416\ttotal: 3.33s\tremaining: 47.5s\n",
      "131:\tlearn: 0.6056515\ttotal: 3.35s\tremaining: 47.5s\n",
      "132:\tlearn: 0.6053258\ttotal: 3.38s\tremaining: 47.4s\n",
      "133:\tlearn: 0.6047867\ttotal: 3.4s\tremaining: 47.4s\n",
      "134:\tlearn: 0.6045674\ttotal: 3.43s\tremaining: 47.3s\n",
      "135:\tlearn: 0.6042569\ttotal: 3.45s\tremaining: 47.3s\n",
      "136:\tlearn: 0.6038879\ttotal: 3.48s\tremaining: 47.3s\n",
      "137:\tlearn: 0.6034810\ttotal: 3.5s\tremaining: 47.2s\n",
      "138:\tlearn: 0.6030411\ttotal: 3.53s\tremaining: 47.3s\n",
      "139:\tlearn: 0.6026186\ttotal: 3.56s\tremaining: 47.3s\n",
      "140:\tlearn: 0.6023562\ttotal: 3.59s\tremaining: 47.3s\n",
      "141:\tlearn: 0.6021244\ttotal: 3.61s\tremaining: 47.3s\n",
      "142:\tlearn: 0.6017602\ttotal: 3.64s\tremaining: 47.2s\n",
      "143:\tlearn: 0.6014582\ttotal: 3.66s\tremaining: 47.2s\n",
      "144:\tlearn: 0.6011588\ttotal: 3.69s\tremaining: 47.2s\n",
      "145:\tlearn: 0.6007187\ttotal: 3.71s\tremaining: 47.2s\n",
      "146:\tlearn: 0.6001797\ttotal: 3.74s\tremaining: 47.2s\n",
      "147:\tlearn: 0.5999024\ttotal: 3.77s\tremaining: 47.2s\n",
      "148:\tlearn: 0.5996349\ttotal: 3.79s\tremaining: 47.1s\n",
      "149:\tlearn: 0.5993471\ttotal: 3.82s\tremaining: 47.1s\n",
      "150:\tlearn: 0.5990605\ttotal: 3.84s\tremaining: 47s\n",
      "151:\tlearn: 0.5986943\ttotal: 3.87s\tremaining: 47s\n",
      "152:\tlearn: 0.5985131\ttotal: 3.9s\tremaining: 47s\n",
      "153:\tlearn: 0.5981164\ttotal: 3.92s\tremaining: 47s\n",
      "154:\tlearn: 0.5979033\ttotal: 3.94s\tremaining: 47s\n",
      "155:\tlearn: 0.5974859\ttotal: 3.97s\tremaining: 47s\n",
      "156:\tlearn: 0.5970610\ttotal: 4s\tremaining: 47s\n",
      "157:\tlearn: 0.5966286\ttotal: 4.02s\tremaining: 46.9s\n",
      "158:\tlearn: 0.5961643\ttotal: 4.05s\tremaining: 46.9s\n",
      "159:\tlearn: 0.5959673\ttotal: 4.08s\tremaining: 46.9s\n",
      "160:\tlearn: 0.5956837\ttotal: 4.1s\tremaining: 46.8s\n",
      "161:\tlearn: 0.5953180\ttotal: 4.13s\tremaining: 46.8s\n",
      "162:\tlearn: 0.5949930\ttotal: 4.15s\tremaining: 46.8s\n",
      "163:\tlearn: 0.5948109\ttotal: 4.18s\tremaining: 46.8s\n",
      "164:\tlearn: 0.5945003\ttotal: 4.2s\tremaining: 46.7s\n",
      "165:\tlearn: 0.5942229\ttotal: 4.22s\tremaining: 46.6s\n",
      "166:\tlearn: 0.5939884\ttotal: 4.25s\tremaining: 46.6s\n",
      "167:\tlearn: 0.5936942\ttotal: 4.27s\tremaining: 46.6s\n",
      "168:\tlearn: 0.5934432\ttotal: 4.3s\tremaining: 46.6s\n",
      "169:\tlearn: 0.5931875\ttotal: 4.33s\tremaining: 46.6s\n",
      "170:\tlearn: 0.5928999\ttotal: 4.35s\tremaining: 46.6s\n",
      "171:\tlearn: 0.5925709\ttotal: 4.38s\tremaining: 46.5s\n",
      "172:\tlearn: 0.5922451\ttotal: 4.4s\tremaining: 46.5s\n",
      "173:\tlearn: 0.5918858\ttotal: 4.42s\tremaining: 46.4s\n",
      "174:\tlearn: 0.5917216\ttotal: 4.45s\tremaining: 46.4s\n",
      "175:\tlearn: 0.5915351\ttotal: 4.47s\tremaining: 46.4s\n",
      "176:\tlearn: 0.5913052\ttotal: 4.5s\tremaining: 46.4s\n",
      "177:\tlearn: 0.5910519\ttotal: 4.53s\tremaining: 46.4s\n",
      "178:\tlearn: 0.5905429\ttotal: 4.56s\tremaining: 46.4s\n",
      "179:\tlearn: 0.5903603\ttotal: 4.59s\tremaining: 46.4s\n",
      "180:\tlearn: 0.5901053\ttotal: 4.61s\tremaining: 46.3s\n",
      "181:\tlearn: 0.5898921\ttotal: 4.63s\tremaining: 46.3s\n",
      "182:\tlearn: 0.5895949\ttotal: 4.66s\tremaining: 46.3s\n",
      "183:\tlearn: 0.5893201\ttotal: 4.68s\tremaining: 46.2s\n",
      "184:\tlearn: 0.5889923\ttotal: 4.71s\tremaining: 46.2s\n",
      "185:\tlearn: 0.5888872\ttotal: 4.73s\tremaining: 46.2s\n",
      "186:\tlearn: 0.5887220\ttotal: 4.76s\tremaining: 46.1s\n",
      "187:\tlearn: 0.5883646\ttotal: 4.78s\tremaining: 46.1s\n",
      "188:\tlearn: 0.5880391\ttotal: 4.8s\tremaining: 46s\n",
      "189:\tlearn: 0.5875510\ttotal: 4.83s\tremaining: 46.1s\n",
      "190:\tlearn: 0.5872367\ttotal: 4.86s\tremaining: 46s\n",
      "191:\tlearn: 0.5870074\ttotal: 4.88s\tremaining: 46s\n",
      "192:\tlearn: 0.5866878\ttotal: 4.91s\tremaining: 45.9s\n",
      "193:\tlearn: 0.5862186\ttotal: 4.94s\tremaining: 46s\n",
      "194:\tlearn: 0.5860412\ttotal: 4.96s\tremaining: 45.9s\n",
      "195:\tlearn: 0.5857447\ttotal: 4.99s\tremaining: 45.9s\n",
      "196:\tlearn: 0.5855301\ttotal: 5s\tremaining: 45.8s\n",
      "197:\tlearn: 0.5853960\ttotal: 5.03s\tremaining: 45.8s\n",
      "198:\tlearn: 0.5852441\ttotal: 5.05s\tremaining: 45.7s\n",
      "199:\tlearn: 0.5850628\ttotal: 5.08s\tremaining: 45.7s\n",
      "200:\tlearn: 0.5848016\ttotal: 5.1s\tremaining: 45.7s\n",
      "201:\tlearn: 0.5845787\ttotal: 5.13s\tremaining: 45.6s\n",
      "202:\tlearn: 0.5844283\ttotal: 5.15s\tremaining: 45.6s\n",
      "203:\tlearn: 0.5841922\ttotal: 5.18s\tremaining: 45.6s\n",
      "204:\tlearn: 0.5840110\ttotal: 5.2s\tremaining: 45.5s\n",
      "205:\tlearn: 0.5836670\ttotal: 5.22s\tremaining: 45.5s\n",
      "206:\tlearn: 0.5834208\ttotal: 5.25s\tremaining: 45.5s\n",
      "207:\tlearn: 0.5831279\ttotal: 5.28s\tremaining: 45.5s\n",
      "208:\tlearn: 0.5828598\ttotal: 5.3s\tremaining: 45.4s\n",
      "209:\tlearn: 0.5826659\ttotal: 5.33s\tremaining: 45.4s\n",
      "210:\tlearn: 0.5821726\ttotal: 5.36s\tremaining: 45.4s\n",
      "211:\tlearn: 0.5819454\ttotal: 5.38s\tremaining: 45.4s\n",
      "212:\tlearn: 0.5816697\ttotal: 5.4s\tremaining: 45.3s\n",
      "213:\tlearn: 0.5814278\ttotal: 5.43s\tremaining: 45.3s\n",
      "214:\tlearn: 0.5812648\ttotal: 5.45s\tremaining: 45.3s\n",
      "215:\tlearn: 0.5809631\ttotal: 5.49s\tremaining: 45.3s\n",
      "216:\tlearn: 0.5807266\ttotal: 5.52s\tremaining: 45.3s\n",
      "217:\tlearn: 0.5805332\ttotal: 5.54s\tremaining: 45.3s\n",
      "218:\tlearn: 0.5802006\ttotal: 5.57s\tremaining: 45.3s\n",
      "219:\tlearn: 0.5798381\ttotal: 5.59s\tremaining: 45.3s\n",
      "220:\tlearn: 0.5795756\ttotal: 5.62s\tremaining: 45.3s\n",
      "221:\tlearn: 0.5792753\ttotal: 5.65s\tremaining: 45.2s\n",
      "222:\tlearn: 0.5788122\ttotal: 5.67s\tremaining: 45.2s\n",
      "223:\tlearn: 0.5785347\ttotal: 5.71s\tremaining: 45.2s\n",
      "224:\tlearn: 0.5781881\ttotal: 5.73s\tremaining: 45.2s\n",
      "225:\tlearn: 0.5778911\ttotal: 5.75s\tremaining: 45.2s\n",
      "226:\tlearn: 0.5776629\ttotal: 5.78s\tremaining: 45.1s\n",
      "227:\tlearn: 0.5774156\ttotal: 5.8s\tremaining: 45.1s\n",
      "228:\tlearn: 0.5771758\ttotal: 5.83s\tremaining: 45.1s\n",
      "229:\tlearn: 0.5769206\ttotal: 5.85s\tremaining: 45s\n",
      "230:\tlearn: 0.5766515\ttotal: 5.88s\tremaining: 45s\n",
      "231:\tlearn: 0.5763835\ttotal: 5.91s\tremaining: 45s\n",
      "232:\tlearn: 0.5762520\ttotal: 5.93s\tremaining: 45s\n",
      "233:\tlearn: 0.5760201\ttotal: 5.96s\tremaining: 44.9s\n",
      "234:\tlearn: 0.5758747\ttotal: 5.98s\tremaining: 44.9s\n",
      "235:\tlearn: 0.5755974\ttotal: 6s\tremaining: 44.9s\n",
      "236:\tlearn: 0.5751233\ttotal: 6.03s\tremaining: 44.9s\n",
      "237:\tlearn: 0.5748708\ttotal: 6.05s\tremaining: 44.8s\n",
      "238:\tlearn: 0.5747708\ttotal: 6.08s\tremaining: 44.8s\n",
      "239:\tlearn: 0.5745296\ttotal: 6.11s\tremaining: 44.8s\n",
      "240:\tlearn: 0.5743248\ttotal: 6.13s\tremaining: 44.7s\n",
      "241:\tlearn: 0.5741162\ttotal: 6.15s\tremaining: 44.7s\n",
      "242:\tlearn: 0.5736896\ttotal: 6.18s\tremaining: 44.7s\n",
      "243:\tlearn: 0.5734757\ttotal: 6.2s\tremaining: 44.6s\n",
      "244:\tlearn: 0.5732318\ttotal: 6.22s\tremaining: 44.6s\n",
      "245:\tlearn: 0.5729061\ttotal: 6.25s\tremaining: 44.6s\n",
      "246:\tlearn: 0.5724823\ttotal: 6.28s\tremaining: 44.6s\n",
      "247:\tlearn: 0.5723656\ttotal: 6.3s\tremaining: 44.5s\n",
      "248:\tlearn: 0.5721684\ttotal: 6.33s\tremaining: 44.5s\n",
      "249:\tlearn: 0.5718867\ttotal: 6.35s\tremaining: 44.5s\n",
      "250:\tlearn: 0.5715660\ttotal: 6.38s\tremaining: 44.5s\n",
      "251:\tlearn: 0.5711465\ttotal: 6.41s\tremaining: 44.5s\n",
      "252:\tlearn: 0.5709580\ttotal: 6.44s\tremaining: 44.5s\n",
      "253:\tlearn: 0.5706767\ttotal: 6.47s\tremaining: 44.5s\n",
      "254:\tlearn: 0.5703235\ttotal: 6.5s\tremaining: 44.5s\n",
      "255:\tlearn: 0.5699652\ttotal: 6.53s\tremaining: 44.5s\n",
      "256:\tlearn: 0.5696525\ttotal: 6.55s\tremaining: 44.5s\n",
      "257:\tlearn: 0.5693306\ttotal: 6.58s\tremaining: 44.4s\n",
      "258:\tlearn: 0.5691206\ttotal: 6.61s\tremaining: 44.4s\n",
      "259:\tlearn: 0.5688996\ttotal: 6.63s\tremaining: 44.4s\n",
      "260:\tlearn: 0.5686783\ttotal: 6.67s\tremaining: 44.4s\n",
      "261:\tlearn: 0.5684181\ttotal: 6.69s\tremaining: 44.4s\n",
      "262:\tlearn: 0.5682167\ttotal: 6.71s\tremaining: 44.3s\n",
      "263:\tlearn: 0.5680475\ttotal: 6.74s\tremaining: 44.3s\n",
      "264:\tlearn: 0.5675873\ttotal: 6.76s\tremaining: 44.3s\n",
      "265:\tlearn: 0.5673134\ttotal: 6.79s\tremaining: 44.3s\n",
      "266:\tlearn: 0.5670681\ttotal: 6.82s\tremaining: 44.2s\n",
      "267:\tlearn: 0.5667695\ttotal: 6.84s\tremaining: 44.2s\n",
      "268:\tlearn: 0.5665085\ttotal: 6.87s\tremaining: 44.2s\n",
      "269:\tlearn: 0.5663304\ttotal: 6.89s\tremaining: 44.1s\n",
      "270:\tlearn: 0.5662147\ttotal: 6.91s\tremaining: 44.1s\n",
      "271:\tlearn: 0.5660617\ttotal: 6.94s\tremaining: 44.1s\n",
      "272:\tlearn: 0.5657546\ttotal: 6.97s\tremaining: 44.1s\n",
      "273:\tlearn: 0.5656023\ttotal: 6.99s\tremaining: 44.1s\n",
      "274:\tlearn: 0.5653035\ttotal: 7.02s\tremaining: 44s\n",
      "275:\tlearn: 0.5651674\ttotal: 7.04s\tremaining: 44s\n",
      "276:\tlearn: 0.5647897\ttotal: 7.06s\tremaining: 43.9s\n",
      "277:\tlearn: 0.5646355\ttotal: 7.09s\tremaining: 43.9s\n",
      "278:\tlearn: 0.5644699\ttotal: 7.12s\tremaining: 43.9s\n",
      "279:\tlearn: 0.5642291\ttotal: 7.14s\tremaining: 43.9s\n",
      "280:\tlearn: 0.5640247\ttotal: 7.17s\tremaining: 43.8s\n",
      "281:\tlearn: 0.5637893\ttotal: 7.19s\tremaining: 43.8s\n",
      "282:\tlearn: 0.5636222\ttotal: 7.22s\tremaining: 43.8s\n",
      "283:\tlearn: 0.5634538\ttotal: 7.24s\tremaining: 43.8s\n",
      "284:\tlearn: 0.5630852\ttotal: 7.27s\tremaining: 43.7s\n",
      "285:\tlearn: 0.5628982\ttotal: 7.29s\tremaining: 43.7s\n",
      "286:\tlearn: 0.5627193\ttotal: 7.32s\tremaining: 43.7s\n",
      "287:\tlearn: 0.5624203\ttotal: 7.34s\tremaining: 43.6s\n",
      "288:\tlearn: 0.5622452\ttotal: 7.37s\tremaining: 43.6s\n",
      "289:\tlearn: 0.5620623\ttotal: 7.39s\tremaining: 43.6s\n",
      "290:\tlearn: 0.5618860\ttotal: 7.42s\tremaining: 43.6s\n",
      "291:\tlearn: 0.5616193\ttotal: 7.45s\tremaining: 43.6s\n",
      "292:\tlearn: 0.5614186\ttotal: 7.48s\tremaining: 43.6s\n",
      "293:\tlearn: 0.5612757\ttotal: 7.51s\tremaining: 43.6s\n",
      "294:\tlearn: 0.5611618\ttotal: 7.53s\tremaining: 43.5s\n",
      "295:\tlearn: 0.5609706\ttotal: 7.56s\tremaining: 43.5s\n",
      "296:\tlearn: 0.5607682\ttotal: 7.58s\tremaining: 43.5s\n",
      "297:\tlearn: 0.5604319\ttotal: 7.61s\tremaining: 43.5s\n",
      "298:\tlearn: 0.5603500\ttotal: 7.63s\tremaining: 43.4s\n",
      "299:\tlearn: 0.5601866\ttotal: 7.66s\tremaining: 43.4s\n",
      "300:\tlearn: 0.5600275\ttotal: 7.68s\tremaining: 43.4s\n",
      "301:\tlearn: 0.5598430\ttotal: 7.7s\tremaining: 43.3s\n",
      "302:\tlearn: 0.5596861\ttotal: 7.73s\tremaining: 43.3s\n",
      "303:\tlearn: 0.5594890\ttotal: 7.75s\tremaining: 43.3s\n",
      "304:\tlearn: 0.5592097\ttotal: 7.78s\tremaining: 43.2s\n",
      "305:\tlearn: 0.5589864\ttotal: 7.81s\tremaining: 43.2s\n",
      "306:\tlearn: 0.5587416\ttotal: 7.83s\tremaining: 43.2s\n",
      "307:\tlearn: 0.5584939\ttotal: 7.85s\tremaining: 43.1s\n",
      "308:\tlearn: 0.5582338\ttotal: 7.88s\tremaining: 43.1s\n",
      "309:\tlearn: 0.5580969\ttotal: 7.9s\tremaining: 43.1s\n",
      "310:\tlearn: 0.5579150\ttotal: 7.93s\tremaining: 43.1s\n",
      "311:\tlearn: 0.5577058\ttotal: 7.96s\tremaining: 43s\n",
      "312:\tlearn: 0.5575357\ttotal: 7.98s\tremaining: 43s\n",
      "313:\tlearn: 0.5574104\ttotal: 8.01s\tremaining: 43s\n",
      "314:\tlearn: 0.5572709\ttotal: 8.03s\tremaining: 43s\n",
      "315:\tlearn: 0.5571065\ttotal: 8.05s\tremaining: 42.9s\n",
      "316:\tlearn: 0.5569110\ttotal: 8.08s\tremaining: 42.9s\n",
      "317:\tlearn: 0.5566631\ttotal: 8.11s\tremaining: 42.9s\n",
      "318:\tlearn: 0.5563986\ttotal: 8.13s\tremaining: 42.9s\n",
      "319:\tlearn: 0.5562496\ttotal: 8.15s\tremaining: 42.8s\n",
      "320:\tlearn: 0.5559379\ttotal: 8.18s\tremaining: 42.8s\n",
      "321:\tlearn: 0.5558094\ttotal: 8.21s\tremaining: 42.8s\n",
      "322:\tlearn: 0.5556045\ttotal: 8.23s\tremaining: 42.8s\n",
      "323:\tlearn: 0.5554878\ttotal: 8.26s\tremaining: 42.7s\n",
      "324:\tlearn: 0.5552679\ttotal: 8.28s\tremaining: 42.7s\n",
      "325:\tlearn: 0.5551022\ttotal: 8.31s\tremaining: 42.7s\n",
      "326:\tlearn: 0.5549335\ttotal: 8.33s\tremaining: 42.6s\n",
      "327:\tlearn: 0.5548124\ttotal: 8.36s\tremaining: 42.6s\n",
      "328:\tlearn: 0.5546967\ttotal: 8.38s\tremaining: 42.6s\n",
      "329:\tlearn: 0.5544186\ttotal: 8.42s\tremaining: 42.6s\n",
      "330:\tlearn: 0.5541949\ttotal: 8.45s\tremaining: 42.6s\n",
      "331:\tlearn: 0.5540002\ttotal: 8.48s\tremaining: 42.6s\n",
      "332:\tlearn: 0.5537515\ttotal: 8.5s\tremaining: 42.6s\n",
      "333:\tlearn: 0.5534892\ttotal: 8.53s\tremaining: 42.6s\n",
      "334:\tlearn: 0.5534110\ttotal: 8.55s\tremaining: 42.5s\n",
      "335:\tlearn: 0.5532855\ttotal: 8.58s\tremaining: 42.5s\n",
      "336:\tlearn: 0.5531158\ttotal: 8.61s\tremaining: 42.5s\n",
      "337:\tlearn: 0.5527653\ttotal: 8.64s\tremaining: 42.5s\n",
      "338:\tlearn: 0.5525831\ttotal: 8.66s\tremaining: 42.4s\n",
      "339:\tlearn: 0.5524210\ttotal: 8.69s\tremaining: 42.4s\n",
      "340:\tlearn: 0.5522843\ttotal: 8.71s\tremaining: 42.4s\n",
      "341:\tlearn: 0.5521432\ttotal: 8.73s\tremaining: 42.3s\n",
      "342:\tlearn: 0.5519626\ttotal: 8.76s\tremaining: 42.3s\n",
      "343:\tlearn: 0.5517709\ttotal: 8.79s\tremaining: 42.3s\n",
      "344:\tlearn: 0.5515811\ttotal: 8.82s\tremaining: 42.3s\n",
      "345:\tlearn: 0.5513795\ttotal: 8.84s\tremaining: 42.3s\n",
      "346:\tlearn: 0.5512577\ttotal: 8.87s\tremaining: 42.2s\n",
      "347:\tlearn: 0.5510844\ttotal: 8.89s\tremaining: 42.2s\n",
      "348:\tlearn: 0.5509704\ttotal: 8.92s\tremaining: 42.2s\n",
      "349:\tlearn: 0.5508603\ttotal: 8.94s\tremaining: 42.2s\n",
      "350:\tlearn: 0.5506240\ttotal: 8.97s\tremaining: 42.1s\n",
      "351:\tlearn: 0.5504438\ttotal: 9s\tremaining: 42.1s\n",
      "352:\tlearn: 0.5502519\ttotal: 9.02s\tremaining: 42.1s\n",
      "353:\tlearn: 0.5500868\ttotal: 9.05s\tremaining: 42.1s\n",
      "354:\tlearn: 0.5499317\ttotal: 9.07s\tremaining: 42s\n",
      "355:\tlearn: 0.5498051\ttotal: 9.1s\tremaining: 42s\n",
      "356:\tlearn: 0.5495435\ttotal: 9.12s\tremaining: 42s\n",
      "357:\tlearn: 0.5493642\ttotal: 9.15s\tremaining: 42s\n",
      "358:\tlearn: 0.5491963\ttotal: 9.17s\tremaining: 41.9s\n",
      "359:\tlearn: 0.5489464\ttotal: 9.2s\tremaining: 41.9s\n",
      "360:\tlearn: 0.5487059\ttotal: 9.22s\tremaining: 41.9s\n",
      "361:\tlearn: 0.5485338\ttotal: 9.26s\tremaining: 41.9s\n",
      "362:\tlearn: 0.5483909\ttotal: 9.28s\tremaining: 41.9s\n",
      "363:\tlearn: 0.5482447\ttotal: 9.3s\tremaining: 41.8s\n",
      "364:\tlearn: 0.5480308\ttotal: 9.33s\tremaining: 41.8s\n",
      "365:\tlearn: 0.5478582\ttotal: 9.36s\tremaining: 41.8s\n",
      "366:\tlearn: 0.5474833\ttotal: 9.39s\tremaining: 41.8s\n",
      "367:\tlearn: 0.5473293\ttotal: 9.41s\tremaining: 41.8s\n",
      "368:\tlearn: 0.5471659\ttotal: 9.45s\tremaining: 41.8s\n",
      "369:\tlearn: 0.5469887\ttotal: 9.48s\tremaining: 41.7s\n",
      "370:\tlearn: 0.5469105\ttotal: 9.5s\tremaining: 41.7s\n",
      "371:\tlearn: 0.5468325\ttotal: 9.53s\tremaining: 41.7s\n",
      "372:\tlearn: 0.5466742\ttotal: 9.55s\tremaining: 41.7s\n",
      "373:\tlearn: 0.5465953\ttotal: 9.58s\tremaining: 41.7s\n",
      "374:\tlearn: 0.5464293\ttotal: 9.61s\tremaining: 41.6s\n",
      "375:\tlearn: 0.5462692\ttotal: 9.63s\tremaining: 41.6s\n",
      "376:\tlearn: 0.5460744\ttotal: 9.66s\tremaining: 41.6s\n",
      "377:\tlearn: 0.5458944\ttotal: 9.69s\tremaining: 41.6s\n",
      "378:\tlearn: 0.5457168\ttotal: 9.71s\tremaining: 41.5s\n",
      "379:\tlearn: 0.5454453\ttotal: 9.74s\tremaining: 41.5s\n",
      "380:\tlearn: 0.5452087\ttotal: 9.77s\tremaining: 41.5s\n",
      "381:\tlearn: 0.5449331\ttotal: 9.8s\tremaining: 41.5s\n",
      "382:\tlearn: 0.5447920\ttotal: 9.83s\tremaining: 41.5s\n",
      "383:\tlearn: 0.5446123\ttotal: 9.85s\tremaining: 41.5s\n",
      "384:\tlearn: 0.5445400\ttotal: 9.88s\tremaining: 41.4s\n",
      "385:\tlearn: 0.5442712\ttotal: 9.9s\tremaining: 41.4s\n",
      "386:\tlearn: 0.5441456\ttotal: 9.93s\tremaining: 41.4s\n",
      "387:\tlearn: 0.5440528\ttotal: 9.95s\tremaining: 41.3s\n",
      "388:\tlearn: 0.5438430\ttotal: 9.98s\tremaining: 41.3s\n",
      "389:\tlearn: 0.5437091\ttotal: 10s\tremaining: 41.3s\n",
      "390:\tlearn: 0.5435719\ttotal: 10s\tremaining: 41.3s\n",
      "391:\tlearn: 0.5434595\ttotal: 10.1s\tremaining: 41.2s\n",
      "392:\tlearn: 0.5432392\ttotal: 10.1s\tremaining: 41.2s\n",
      "393:\tlearn: 0.5429709\ttotal: 10.1s\tremaining: 41.2s\n",
      "394:\tlearn: 0.5428552\ttotal: 10.1s\tremaining: 41.2s\n",
      "395:\tlearn: 0.5427432\ttotal: 10.2s\tremaining: 41.1s\n",
      "396:\tlearn: 0.5425423\ttotal: 10.2s\tremaining: 41.1s\n",
      "397:\tlearn: 0.5423755\ttotal: 10.2s\tremaining: 41.1s\n",
      "398:\tlearn: 0.5422776\ttotal: 10.2s\tremaining: 41.1s\n",
      "399:\tlearn: 0.5421669\ttotal: 10.3s\tremaining: 41s\n",
      "400:\tlearn: 0.5420490\ttotal: 10.3s\tremaining: 41s\n",
      "401:\tlearn: 0.5418593\ttotal: 10.3s\tremaining: 41s\n",
      "402:\tlearn: 0.5417676\ttotal: 10.3s\tremaining: 41s\n",
      "403:\tlearn: 0.5415913\ttotal: 10.4s\tremaining: 40.9s\n",
      "404:\tlearn: 0.5414702\ttotal: 10.4s\tremaining: 40.9s\n",
      "405:\tlearn: 0.5413108\ttotal: 10.4s\tremaining: 40.9s\n",
      "406:\tlearn: 0.5410722\ttotal: 10.5s\tremaining: 40.9s\n",
      "407:\tlearn: 0.5409438\ttotal: 10.5s\tremaining: 40.9s\n",
      "408:\tlearn: 0.5407152\ttotal: 10.5s\tremaining: 40.9s\n",
      "409:\tlearn: 0.5406108\ttotal: 10.5s\tremaining: 40.9s\n",
      "410:\tlearn: 0.5405014\ttotal: 10.6s\tremaining: 40.8s\n",
      "411:\tlearn: 0.5403378\ttotal: 10.6s\tremaining: 40.8s\n",
      "412:\tlearn: 0.5401283\ttotal: 10.6s\tremaining: 40.8s\n",
      "413:\tlearn: 0.5398639\ttotal: 10.6s\tremaining: 40.8s\n",
      "414:\tlearn: 0.5397535\ttotal: 10.7s\tremaining: 40.8s\n",
      "415:\tlearn: 0.5396013\ttotal: 10.7s\tremaining: 40.7s\n",
      "416:\tlearn: 0.5395054\ttotal: 10.7s\tremaining: 40.7s\n",
      "417:\tlearn: 0.5393383\ttotal: 10.8s\tremaining: 40.7s\n",
      "418:\tlearn: 0.5391567\ttotal: 10.8s\tremaining: 40.7s\n",
      "419:\tlearn: 0.5390395\ttotal: 10.8s\tremaining: 40.6s\n",
      "420:\tlearn: 0.5388800\ttotal: 10.8s\tremaining: 40.6s\n",
      "421:\tlearn: 0.5386963\ttotal: 10.9s\tremaining: 40.6s\n",
      "422:\tlearn: 0.5384838\ttotal: 10.9s\tremaining: 40.6s\n",
      "423:\tlearn: 0.5383681\ttotal: 10.9s\tremaining: 40.6s\n",
      "424:\tlearn: 0.5380744\ttotal: 10.9s\tremaining: 40.5s\n",
      "425:\tlearn: 0.5378907\ttotal: 11s\tremaining: 40.5s\n",
      "426:\tlearn: 0.5376413\ttotal: 11s\tremaining: 40.5s\n",
      "427:\tlearn: 0.5374521\ttotal: 11s\tremaining: 40.5s\n",
      "428:\tlearn: 0.5374027\ttotal: 11s\tremaining: 40.4s\n",
      "429:\tlearn: 0.5372516\ttotal: 11.1s\tremaining: 40.4s\n",
      "430:\tlearn: 0.5370327\ttotal: 11.1s\tremaining: 40.4s\n",
      "431:\tlearn: 0.5369203\ttotal: 11.1s\tremaining: 40.4s\n",
      "432:\tlearn: 0.5367744\ttotal: 11.1s\tremaining: 40.3s\n",
      "433:\tlearn: 0.5365958\ttotal: 11.2s\tremaining: 40.3s\n",
      "434:\tlearn: 0.5364912\ttotal: 11.2s\tremaining: 40.3s\n",
      "435:\tlearn: 0.5363854\ttotal: 11.2s\tremaining: 40.3s\n",
      "436:\tlearn: 0.5361722\ttotal: 11.3s\tremaining: 40.3s\n",
      "437:\tlearn: 0.5360467\ttotal: 11.3s\tremaining: 40.2s\n",
      "438:\tlearn: 0.5358978\ttotal: 11.3s\tremaining: 40.2s\n",
      "439:\tlearn: 0.5357883\ttotal: 11.3s\tremaining: 40.2s\n",
      "440:\tlearn: 0.5356964\ttotal: 11.4s\tremaining: 40.2s\n",
      "441:\tlearn: 0.5355887\ttotal: 11.4s\tremaining: 40.2s\n",
      "442:\tlearn: 0.5354384\ttotal: 11.4s\tremaining: 40.2s\n",
      "443:\tlearn: 0.5352434\ttotal: 11.5s\tremaining: 40.2s\n",
      "444:\tlearn: 0.5351459\ttotal: 11.5s\tremaining: 40.1s\n",
      "445:\tlearn: 0.5350602\ttotal: 11.5s\tremaining: 40.1s\n",
      "446:\tlearn: 0.5349286\ttotal: 11.5s\tremaining: 40.1s\n",
      "447:\tlearn: 0.5348044\ttotal: 11.6s\tremaining: 40.1s\n",
      "448:\tlearn: 0.5346415\ttotal: 11.6s\tremaining: 40s\n",
      "449:\tlearn: 0.5345177\ttotal: 11.6s\tremaining: 40s\n",
      "450:\tlearn: 0.5343802\ttotal: 11.6s\tremaining: 40s\n",
      "451:\tlearn: 0.5342190\ttotal: 11.7s\tremaining: 40s\n",
      "452:\tlearn: 0.5340115\ttotal: 11.7s\tremaining: 40s\n",
      "453:\tlearn: 0.5338529\ttotal: 11.7s\tremaining: 39.9s\n",
      "454:\tlearn: 0.5336303\ttotal: 11.8s\tremaining: 39.9s\n",
      "455:\tlearn: 0.5335247\ttotal: 11.8s\tremaining: 39.9s\n",
      "456:\tlearn: 0.5332582\ttotal: 11.8s\tremaining: 39.9s\n",
      "457:\tlearn: 0.5331299\ttotal: 11.8s\tremaining: 39.8s\n",
      "458:\tlearn: 0.5329853\ttotal: 11.9s\tremaining: 39.8s\n",
      "459:\tlearn: 0.5328578\ttotal: 11.9s\tremaining: 39.8s\n",
      "460:\tlearn: 0.5326832\ttotal: 11.9s\tremaining: 39.8s\n",
      "461:\tlearn: 0.5325723\ttotal: 11.9s\tremaining: 39.7s\n",
      "462:\tlearn: 0.5322654\ttotal: 12s\tremaining: 39.7s\n",
      "463:\tlearn: 0.5320461\ttotal: 12s\tremaining: 39.7s\n",
      "464:\tlearn: 0.5318896\ttotal: 12s\tremaining: 39.7s\n",
      "465:\tlearn: 0.5317736\ttotal: 12.1s\tremaining: 39.7s\n",
      "466:\tlearn: 0.5316749\ttotal: 12.1s\tremaining: 39.6s\n",
      "467:\tlearn: 0.5316047\ttotal: 12.1s\tremaining: 39.6s\n",
      "468:\tlearn: 0.5314080\ttotal: 12.1s\tremaining: 39.6s\n",
      "469:\tlearn: 0.5312520\ttotal: 12.2s\tremaining: 39.6s\n",
      "470:\tlearn: 0.5311102\ttotal: 12.2s\tremaining: 39.5s\n",
      "471:\tlearn: 0.5310165\ttotal: 12.2s\tremaining: 39.5s\n",
      "472:\tlearn: 0.5309146\ttotal: 12.2s\tremaining: 39.5s\n",
      "473:\tlearn: 0.5308237\ttotal: 12.3s\tremaining: 39.5s\n",
      "474:\tlearn: 0.5306789\ttotal: 12.3s\tremaining: 39.4s\n",
      "475:\tlearn: 0.5305080\ttotal: 12.3s\tremaining: 39.4s\n",
      "476:\tlearn: 0.5303517\ttotal: 12.3s\tremaining: 39.4s\n",
      "477:\tlearn: 0.5302109\ttotal: 12.4s\tremaining: 39.4s\n",
      "478:\tlearn: 0.5300984\ttotal: 12.4s\tremaining: 39.4s\n",
      "479:\tlearn: 0.5299795\ttotal: 12.4s\tremaining: 39.4s\n",
      "480:\tlearn: 0.5299152\ttotal: 12.5s\tremaining: 39.3s\n",
      "481:\tlearn: 0.5297979\ttotal: 12.5s\tremaining: 39.3s\n",
      "482:\tlearn: 0.5297166\ttotal: 12.5s\tremaining: 39.3s\n",
      "483:\tlearn: 0.5295685\ttotal: 12.5s\tremaining: 39.3s\n",
      "484:\tlearn: 0.5293983\ttotal: 12.6s\tremaining: 39.3s\n",
      "485:\tlearn: 0.5292692\ttotal: 12.6s\tremaining: 39.3s\n",
      "486:\tlearn: 0.5291295\ttotal: 12.6s\tremaining: 39.2s\n",
      "487:\tlearn: 0.5290162\ttotal: 12.7s\tremaining: 39.2s\n",
      "488:\tlearn: 0.5289157\ttotal: 12.7s\tremaining: 39.2s\n",
      "489:\tlearn: 0.5288370\ttotal: 12.7s\tremaining: 39.1s\n",
      "490:\tlearn: 0.5286898\ttotal: 12.7s\tremaining: 39.1s\n",
      "491:\tlearn: 0.5285815\ttotal: 12.8s\tremaining: 39.1s\n",
      "492:\tlearn: 0.5284338\ttotal: 12.8s\tremaining: 39.1s\n",
      "493:\tlearn: 0.5283118\ttotal: 12.8s\tremaining: 39s\n",
      "494:\tlearn: 0.5282197\ttotal: 12.8s\tremaining: 39.1s\n",
      "495:\tlearn: 0.5280840\ttotal: 12.9s\tremaining: 39.1s\n",
      "496:\tlearn: 0.5279546\ttotal: 12.9s\tremaining: 39.1s\n",
      "497:\tlearn: 0.5278103\ttotal: 13s\tremaining: 39.1s\n",
      "498:\tlearn: 0.5277299\ttotal: 13s\tremaining: 39.1s\n",
      "499:\tlearn: 0.5276302\ttotal: 13s\tremaining: 39.1s\n",
      "500:\tlearn: 0.5274715\ttotal: 13.1s\tremaining: 39.1s\n",
      "501:\tlearn: 0.5273410\ttotal: 13.1s\tremaining: 39.1s\n",
      "502:\tlearn: 0.5271686\ttotal: 13.1s\tremaining: 39s\n",
      "503:\tlearn: 0.5270422\ttotal: 13.1s\tremaining: 39s\n",
      "504:\tlearn: 0.5268899\ttotal: 13.2s\tremaining: 39s\n",
      "505:\tlearn: 0.5267223\ttotal: 13.2s\tremaining: 39s\n",
      "506:\tlearn: 0.5265729\ttotal: 13.2s\tremaining: 38.9s\n",
      "507:\tlearn: 0.5264663\ttotal: 13.3s\tremaining: 38.9s\n",
      "508:\tlearn: 0.5263211\ttotal: 13.3s\tremaining: 38.9s\n",
      "509:\tlearn: 0.5261886\ttotal: 13.3s\tremaining: 38.9s\n",
      "510:\tlearn: 0.5260435\ttotal: 13.3s\tremaining: 38.9s\n",
      "511:\tlearn: 0.5258851\ttotal: 13.4s\tremaining: 38.8s\n",
      "512:\tlearn: 0.5257353\ttotal: 13.4s\tremaining: 38.8s\n",
      "513:\tlearn: 0.5256297\ttotal: 13.4s\tremaining: 38.8s\n",
      "514:\tlearn: 0.5255379\ttotal: 13.5s\tremaining: 38.8s\n",
      "515:\tlearn: 0.5254263\ttotal: 13.5s\tremaining: 38.8s\n",
      "516:\tlearn: 0.5253342\ttotal: 13.5s\tremaining: 38.8s\n",
      "517:\tlearn: 0.5251150\ttotal: 13.5s\tremaining: 38.8s\n",
      "518:\tlearn: 0.5249009\ttotal: 13.6s\tremaining: 38.8s\n",
      "519:\tlearn: 0.5247327\ttotal: 13.6s\tremaining: 38.7s\n",
      "520:\tlearn: 0.5245807\ttotal: 13.6s\tremaining: 38.7s\n",
      "521:\tlearn: 0.5244596\ttotal: 13.7s\tremaining: 38.7s\n",
      "522:\tlearn: 0.5243440\ttotal: 13.7s\tremaining: 38.7s\n",
      "523:\tlearn: 0.5241706\ttotal: 13.7s\tremaining: 38.7s\n",
      "524:\tlearn: 0.5240769\ttotal: 13.8s\tremaining: 38.6s\n",
      "525:\tlearn: 0.5239916\ttotal: 13.8s\tremaining: 38.6s\n",
      "526:\tlearn: 0.5238627\ttotal: 13.8s\tremaining: 38.6s\n",
      "527:\tlearn: 0.5237774\ttotal: 13.8s\tremaining: 38.6s\n",
      "528:\tlearn: 0.5235828\ttotal: 13.9s\tremaining: 38.5s\n",
      "529:\tlearn: 0.5234847\ttotal: 13.9s\tremaining: 38.5s\n",
      "530:\tlearn: 0.5233761\ttotal: 13.9s\tremaining: 38.5s\n",
      "531:\tlearn: 0.5232373\ttotal: 13.9s\tremaining: 38.5s\n",
      "532:\tlearn: 0.5231706\ttotal: 14s\tremaining: 38.5s\n",
      "533:\tlearn: 0.5230248\ttotal: 14s\tremaining: 38.5s\n",
      "534:\tlearn: 0.5228120\ttotal: 14.1s\tremaining: 38.5s\n",
      "535:\tlearn: 0.5227439\ttotal: 14.1s\tremaining: 38.4s\n",
      "536:\tlearn: 0.5226251\ttotal: 14.1s\tremaining: 38.4s\n",
      "537:\tlearn: 0.5224566\ttotal: 14.1s\tremaining: 38.4s\n",
      "538:\tlearn: 0.5223381\ttotal: 14.2s\tremaining: 38.4s\n",
      "539:\tlearn: 0.5221733\ttotal: 14.2s\tremaining: 38.4s\n",
      "540:\tlearn: 0.5220535\ttotal: 14.2s\tremaining: 38.3s\n",
      "541:\tlearn: 0.5219684\ttotal: 14.2s\tremaining: 38.3s\n",
      "542:\tlearn: 0.5218200\ttotal: 14.3s\tremaining: 38.3s\n",
      "543:\tlearn: 0.5216463\ttotal: 14.3s\tremaining: 38.3s\n",
      "544:\tlearn: 0.5215337\ttotal: 14.3s\tremaining: 38.2s\n",
      "545:\tlearn: 0.5214167\ttotal: 14.3s\tremaining: 38.2s\n",
      "546:\tlearn: 0.5212951\ttotal: 14.4s\tremaining: 38.2s\n",
      "547:\tlearn: 0.5211719\ttotal: 14.4s\tremaining: 38.2s\n",
      "548:\tlearn: 0.5210810\ttotal: 14.4s\tremaining: 38.2s\n",
      "549:\tlearn: 0.5209673\ttotal: 14.5s\tremaining: 38.2s\n",
      "550:\tlearn: 0.5208910\ttotal: 14.5s\tremaining: 38.1s\n",
      "551:\tlearn: 0.5207652\ttotal: 14.5s\tremaining: 38.1s\n",
      "552:\tlearn: 0.5206462\ttotal: 14.6s\tremaining: 38.1s\n",
      "553:\tlearn: 0.5205354\ttotal: 14.6s\tremaining: 38.1s\n",
      "554:\tlearn: 0.5204424\ttotal: 14.6s\tremaining: 38s\n",
      "555:\tlearn: 0.5203205\ttotal: 14.6s\tremaining: 38s\n",
      "556:\tlearn: 0.5202273\ttotal: 14.7s\tremaining: 38s\n",
      "557:\tlearn: 0.5201231\ttotal: 14.7s\tremaining: 38s\n",
      "558:\tlearn: 0.5199695\ttotal: 14.7s\tremaining: 38s\n",
      "559:\tlearn: 0.5198371\ttotal: 14.8s\tremaining: 38s\n",
      "560:\tlearn: 0.5196991\ttotal: 14.8s\tremaining: 37.9s\n",
      "561:\tlearn: 0.5195703\ttotal: 14.8s\tremaining: 37.9s\n",
      "562:\tlearn: 0.5194420\ttotal: 14.8s\tremaining: 37.9s\n",
      "563:\tlearn: 0.5191831\ttotal: 14.9s\tremaining: 37.9s\n",
      "564:\tlearn: 0.5190838\ttotal: 14.9s\tremaining: 37.9s\n",
      "565:\tlearn: 0.5189539\ttotal: 14.9s\tremaining: 37.8s\n",
      "566:\tlearn: 0.5188462\ttotal: 15s\tremaining: 37.8s\n",
      "567:\tlearn: 0.5187477\ttotal: 15s\tremaining: 37.8s\n",
      "568:\tlearn: 0.5186629\ttotal: 15s\tremaining: 37.7s\n",
      "569:\tlearn: 0.5184984\ttotal: 15s\tremaining: 37.7s\n",
      "570:\tlearn: 0.5184144\ttotal: 15.1s\tremaining: 37.7s\n",
      "571:\tlearn: 0.5182882\ttotal: 15.1s\tremaining: 37.8s\n",
      "572:\tlearn: 0.5182019\ttotal: 15.2s\tremaining: 37.8s\n",
      "573:\tlearn: 0.5180590\ttotal: 15.2s\tremaining: 37.8s\n",
      "574:\tlearn: 0.5178927\ttotal: 15.2s\tremaining: 37.8s\n",
      "575:\tlearn: 0.5178245\ttotal: 15.3s\tremaining: 37.8s\n",
      "576:\tlearn: 0.5176645\ttotal: 15.3s\tremaining: 37.8s\n",
      "577:\tlearn: 0.5175458\ttotal: 15.4s\tremaining: 37.9s\n",
      "578:\tlearn: 0.5174620\ttotal: 15.4s\tremaining: 37.9s\n",
      "579:\tlearn: 0.5173471\ttotal: 15.5s\tremaining: 37.9s\n",
      "580:\tlearn: 0.5172100\ttotal: 15.5s\tremaining: 37.9s\n",
      "581:\tlearn: 0.5170855\ttotal: 15.5s\tremaining: 37.9s\n",
      "582:\tlearn: 0.5169731\ttotal: 15.6s\tremaining: 37.9s\n",
      "583:\tlearn: 0.5169102\ttotal: 15.6s\tremaining: 37.9s\n",
      "584:\tlearn: 0.5167414\ttotal: 15.7s\tremaining: 37.9s\n",
      "585:\tlearn: 0.5165834\ttotal: 15.7s\tremaining: 37.9s\n",
      "586:\tlearn: 0.5164381\ttotal: 15.8s\tremaining: 38s\n",
      "587:\tlearn: 0.5163493\ttotal: 15.8s\tremaining: 38s\n",
      "588:\tlearn: 0.5162479\ttotal: 15.9s\tremaining: 38s\n",
      "589:\tlearn: 0.5161199\ttotal: 15.9s\tremaining: 38s\n",
      "590:\tlearn: 0.5159798\ttotal: 15.9s\tremaining: 37.9s\n",
      "591:\tlearn: 0.5158416\ttotal: 16s\tremaining: 37.9s\n",
      "592:\tlearn: 0.5156596\ttotal: 16s\tremaining: 37.9s\n",
      "593:\tlearn: 0.5155743\ttotal: 16s\tremaining: 37.9s\n",
      "594:\tlearn: 0.5154600\ttotal: 16.1s\tremaining: 37.9s\n",
      "595:\tlearn: 0.5152666\ttotal: 16.1s\tremaining: 37.9s\n",
      "596:\tlearn: 0.5151460\ttotal: 16.1s\tremaining: 37.9s\n",
      "597:\tlearn: 0.5150919\ttotal: 16.1s\tremaining: 37.9s\n",
      "598:\tlearn: 0.5150232\ttotal: 16.2s\tremaining: 37.9s\n",
      "599:\tlearn: 0.5149507\ttotal: 16.2s\tremaining: 37.8s\n",
      "600:\tlearn: 0.5148684\ttotal: 16.3s\tremaining: 37.8s\n",
      "601:\tlearn: 0.5147036\ttotal: 16.3s\tremaining: 37.8s\n",
      "602:\tlearn: 0.5145836\ttotal: 16.3s\tremaining: 37.8s\n",
      "603:\tlearn: 0.5144268\ttotal: 16.4s\tremaining: 37.8s\n",
      "604:\tlearn: 0.5142734\ttotal: 16.4s\tremaining: 37.8s\n",
      "605:\tlearn: 0.5141993\ttotal: 16.4s\tremaining: 37.8s\n",
      "606:\tlearn: 0.5141392\ttotal: 16.5s\tremaining: 37.8s\n",
      "607:\tlearn: 0.5139987\ttotal: 16.5s\tremaining: 37.8s\n",
      "608:\tlearn: 0.5138882\ttotal: 16.5s\tremaining: 37.7s\n",
      "609:\tlearn: 0.5138028\ttotal: 16.6s\tremaining: 37.7s\n",
      "610:\tlearn: 0.5136959\ttotal: 16.6s\tremaining: 37.7s\n",
      "611:\tlearn: 0.5135961\ttotal: 16.6s\tremaining: 37.7s\n",
      "612:\tlearn: 0.5134666\ttotal: 16.7s\tremaining: 37.7s\n",
      "613:\tlearn: 0.5133278\ttotal: 16.7s\tremaining: 37.7s\n",
      "614:\tlearn: 0.5132500\ttotal: 16.7s\tremaining: 37.7s\n",
      "615:\tlearn: 0.5131682\ttotal: 16.8s\tremaining: 37.6s\n",
      "616:\tlearn: 0.5131134\ttotal: 16.8s\tremaining: 37.6s\n",
      "617:\tlearn: 0.5130501\ttotal: 16.8s\tremaining: 37.6s\n",
      "618:\tlearn: 0.5129676\ttotal: 16.9s\tremaining: 37.6s\n",
      "619:\tlearn: 0.5128264\ttotal: 16.9s\tremaining: 37.6s\n",
      "620:\tlearn: 0.5126847\ttotal: 16.9s\tremaining: 37.6s\n",
      "621:\tlearn: 0.5125825\ttotal: 17s\tremaining: 37.6s\n",
      "622:\tlearn: 0.5124955\ttotal: 17s\tremaining: 37.6s\n",
      "623:\tlearn: 0.5123688\ttotal: 17s\tremaining: 37.5s\n",
      "624:\tlearn: 0.5122994\ttotal: 17.1s\tremaining: 37.5s\n",
      "625:\tlearn: 0.5122068\ttotal: 17.1s\tremaining: 37.5s\n",
      "626:\tlearn: 0.5121173\ttotal: 17.1s\tremaining: 37.5s\n",
      "627:\tlearn: 0.5120277\ttotal: 17.2s\tremaining: 37.5s\n",
      "628:\tlearn: 0.5118167\ttotal: 17.2s\tremaining: 37.5s\n",
      "629:\tlearn: 0.5117190\ttotal: 17.2s\tremaining: 37.5s\n",
      "630:\tlearn: 0.5116355\ttotal: 17.3s\tremaining: 37.4s\n",
      "631:\tlearn: 0.5115297\ttotal: 17.3s\tremaining: 37.4s\n",
      "632:\tlearn: 0.5113783\ttotal: 17.3s\tremaining: 37.4s\n",
      "633:\tlearn: 0.5112654\ttotal: 17.4s\tremaining: 37.4s\n",
      "634:\tlearn: 0.5111509\ttotal: 17.4s\tremaining: 37.4s\n",
      "635:\tlearn: 0.5110405\ttotal: 17.4s\tremaining: 37.4s\n",
      "636:\tlearn: 0.5109310\ttotal: 17.5s\tremaining: 37.3s\n",
      "637:\tlearn: 0.5107890\ttotal: 17.5s\tremaining: 37.3s\n",
      "638:\tlearn: 0.5106294\ttotal: 17.5s\tremaining: 37.3s\n",
      "639:\tlearn: 0.5105411\ttotal: 17.5s\tremaining: 37.3s\n",
      "640:\tlearn: 0.5104323\ttotal: 17.6s\tremaining: 37.2s\n",
      "641:\tlearn: 0.5102841\ttotal: 17.6s\tremaining: 37.2s\n",
      "642:\tlearn: 0.5101968\ttotal: 17.6s\tremaining: 37.2s\n",
      "643:\tlearn: 0.5101096\ttotal: 17.7s\tremaining: 37.2s\n",
      "644:\tlearn: 0.5100419\ttotal: 17.7s\tremaining: 37.1s\n",
      "645:\tlearn: 0.5099633\ttotal: 17.7s\tremaining: 37.1s\n",
      "646:\tlearn: 0.5098646\ttotal: 17.7s\tremaining: 37.1s\n",
      "647:\tlearn: 0.5097438\ttotal: 17.8s\tremaining: 37.1s\n",
      "648:\tlearn: 0.5096059\ttotal: 17.8s\tremaining: 37s\n",
      "649:\tlearn: 0.5095434\ttotal: 17.8s\tremaining: 37s\n",
      "650:\tlearn: 0.5094138\ttotal: 17.8s\tremaining: 37s\n",
      "651:\tlearn: 0.5092524\ttotal: 17.9s\tremaining: 37s\n",
      "652:\tlearn: 0.5091263\ttotal: 17.9s\tremaining: 36.9s\n",
      "653:\tlearn: 0.5090382\ttotal: 17.9s\tremaining: 36.9s\n",
      "654:\tlearn: 0.5089513\ttotal: 18s\tremaining: 36.9s\n",
      "655:\tlearn: 0.5088296\ttotal: 18s\tremaining: 36.9s\n",
      "656:\tlearn: 0.5087094\ttotal: 18s\tremaining: 36.8s\n",
      "657:\tlearn: 0.5086577\ttotal: 18.1s\tremaining: 36.8s\n",
      "658:\tlearn: 0.5085929\ttotal: 18.1s\tremaining: 36.8s\n",
      "659:\tlearn: 0.5085205\ttotal: 18.1s\tremaining: 36.8s\n",
      "660:\tlearn: 0.5084045\ttotal: 18.1s\tremaining: 36.7s\n",
      "661:\tlearn: 0.5082265\ttotal: 18.2s\tremaining: 36.7s\n",
      "662:\tlearn: 0.5080528\ttotal: 18.2s\tremaining: 36.7s\n",
      "663:\tlearn: 0.5079323\ttotal: 18.2s\tremaining: 36.7s\n",
      "664:\tlearn: 0.5078000\ttotal: 18.3s\tremaining: 36.6s\n",
      "665:\tlearn: 0.5076872\ttotal: 18.3s\tremaining: 36.6s\n",
      "666:\tlearn: 0.5075524\ttotal: 18.3s\tremaining: 36.6s\n",
      "667:\tlearn: 0.5074427\ttotal: 18.4s\tremaining: 36.7s\n",
      "668:\tlearn: 0.5073665\ttotal: 18.4s\tremaining: 36.7s\n",
      "669:\tlearn: 0.5072149\ttotal: 18.5s\tremaining: 36.6s\n",
      "670:\tlearn: 0.5071163\ttotal: 18.5s\tremaining: 36.6s\n",
      "671:\tlearn: 0.5070181\ttotal: 18.5s\tremaining: 36.6s\n",
      "672:\tlearn: 0.5068991\ttotal: 18.5s\tremaining: 36.6s\n",
      "673:\tlearn: 0.5068091\ttotal: 18.6s\tremaining: 36.5s\n",
      "674:\tlearn: 0.5067301\ttotal: 18.6s\tremaining: 36.5s\n",
      "675:\tlearn: 0.5066361\ttotal: 18.6s\tremaining: 36.5s\n",
      "676:\tlearn: 0.5065338\ttotal: 18.6s\tremaining: 36.4s\n",
      "677:\tlearn: 0.5064484\ttotal: 18.7s\tremaining: 36.4s\n",
      "678:\tlearn: 0.5063747\ttotal: 18.7s\tremaining: 36.4s\n",
      "679:\tlearn: 0.5061943\ttotal: 18.7s\tremaining: 36.4s\n",
      "680:\tlearn: 0.5061640\ttotal: 18.8s\tremaining: 36.3s\n",
      "681:\tlearn: 0.5060865\ttotal: 18.8s\tremaining: 36.3s\n",
      "682:\tlearn: 0.5060067\ttotal: 18.8s\tremaining: 36.3s\n",
      "683:\tlearn: 0.5058958\ttotal: 18.8s\tremaining: 36.3s\n",
      "684:\tlearn: 0.5058117\ttotal: 18.9s\tremaining: 36.2s\n",
      "685:\tlearn: 0.5057317\ttotal: 18.9s\tremaining: 36.2s\n",
      "686:\tlearn: 0.5055895\ttotal: 18.9s\tremaining: 36.1s\n",
      "687:\tlearn: 0.5055353\ttotal: 18.9s\tremaining: 36.1s\n",
      "688:\tlearn: 0.5054636\ttotal: 19s\tremaining: 36.1s\n",
      "689:\tlearn: 0.5053291\ttotal: 19s\tremaining: 36s\n",
      "690:\tlearn: 0.5052318\ttotal: 19s\tremaining: 36s\n",
      "691:\tlearn: 0.5051539\ttotal: 19s\tremaining: 36s\n",
      "692:\tlearn: 0.5050157\ttotal: 19.1s\tremaining: 35.9s\n",
      "693:\tlearn: 0.5048664\ttotal: 19.1s\tremaining: 35.9s\n",
      "694:\tlearn: 0.5047887\ttotal: 19.1s\tremaining: 35.9s\n",
      "695:\tlearn: 0.5047271\ttotal: 19.1s\tremaining: 35.9s\n",
      "696:\tlearn: 0.5045774\ttotal: 19.2s\tremaining: 35.8s\n",
      "697:\tlearn: 0.5045210\ttotal: 19.2s\tremaining: 35.8s\n",
      "698:\tlearn: 0.5044136\ttotal: 19.2s\tremaining: 35.8s\n",
      "699:\tlearn: 0.5042922\ttotal: 19.2s\tremaining: 35.7s\n",
      "700:\tlearn: 0.5041841\ttotal: 19.3s\tremaining: 35.7s\n",
      "701:\tlearn: 0.5041277\ttotal: 19.3s\tremaining: 35.7s\n",
      "702:\tlearn: 0.5040186\ttotal: 19.3s\tremaining: 35.7s\n",
      "703:\tlearn: 0.5039294\ttotal: 19.4s\tremaining: 35.7s\n",
      "704:\tlearn: 0.5038558\ttotal: 19.4s\tremaining: 35.6s\n",
      "705:\tlearn: 0.5037497\ttotal: 19.4s\tremaining: 35.6s\n",
      "706:\tlearn: 0.5036485\ttotal: 19.4s\tremaining: 35.6s\n",
      "707:\tlearn: 0.5034971\ttotal: 19.5s\tremaining: 35.5s\n",
      "708:\tlearn: 0.5034193\ttotal: 19.5s\tremaining: 35.5s\n",
      "709:\tlearn: 0.5033262\ttotal: 19.5s\tremaining: 35.5s\n",
      "710:\tlearn: 0.5032669\ttotal: 19.6s\tremaining: 35.4s\n",
      "711:\tlearn: 0.5031568\ttotal: 19.6s\tremaining: 35.4s\n",
      "712:\tlearn: 0.5030335\ttotal: 19.6s\tremaining: 35.4s\n",
      "713:\tlearn: 0.5029320\ttotal: 19.6s\tremaining: 35.4s\n",
      "714:\tlearn: 0.5028704\ttotal: 19.7s\tremaining: 35.3s\n",
      "715:\tlearn: 0.5027589\ttotal: 19.7s\tremaining: 35.3s\n",
      "716:\tlearn: 0.5027048\ttotal: 19.7s\tremaining: 35.3s\n",
      "717:\tlearn: 0.5026073\ttotal: 19.7s\tremaining: 35.2s\n",
      "718:\tlearn: 0.5024106\ttotal: 19.8s\tremaining: 35.2s\n",
      "719:\tlearn: 0.5023370\ttotal: 19.8s\tremaining: 35.2s\n",
      "720:\tlearn: 0.5023088\ttotal: 19.9s\tremaining: 35.3s\n",
      "721:\tlearn: 0.5021959\ttotal: 19.9s\tremaining: 35.3s\n",
      "722:\tlearn: 0.5020912\ttotal: 20s\tremaining: 35.2s\n",
      "723:\tlearn: 0.5019971\ttotal: 20s\tremaining: 35.2s\n",
      "724:\tlearn: 0.5018727\ttotal: 20s\tremaining: 35.2s\n",
      "725:\tlearn: 0.5017721\ttotal: 20s\tremaining: 35.2s\n",
      "726:\tlearn: 0.5017091\ttotal: 20.1s\tremaining: 35.1s\n",
      "727:\tlearn: 0.5015911\ttotal: 20.1s\tremaining: 35.1s\n",
      "728:\tlearn: 0.5014747\ttotal: 20.1s\tremaining: 35.1s\n",
      "729:\tlearn: 0.5013646\ttotal: 20.1s\tremaining: 35.1s\n",
      "730:\tlearn: 0.5012632\ttotal: 20.2s\tremaining: 35s\n",
      "731:\tlearn: 0.5011960\ttotal: 20.2s\tremaining: 35s\n",
      "732:\tlearn: 0.5010622\ttotal: 20.2s\tremaining: 35s\n",
      "733:\tlearn: 0.5009728\ttotal: 20.3s\tremaining: 35s\n",
      "734:\tlearn: 0.5008946\ttotal: 20.3s\tremaining: 35s\n",
      "735:\tlearn: 0.5007744\ttotal: 20.4s\tremaining: 35s\n",
      "736:\tlearn: 0.5007129\ttotal: 20.4s\tremaining: 35s\n",
      "737:\tlearn: 0.5006496\ttotal: 20.5s\tremaining: 35s\n",
      "738:\tlearn: 0.5005697\ttotal: 20.5s\tremaining: 35s\n",
      "739:\tlearn: 0.5005148\ttotal: 20.6s\tremaining: 35s\n",
      "740:\tlearn: 0.5004128\ttotal: 20.6s\tremaining: 35s\n",
      "741:\tlearn: 0.5003169\ttotal: 20.6s\tremaining: 35s\n",
      "742:\tlearn: 0.5002455\ttotal: 20.7s\tremaining: 35s\n",
      "743:\tlearn: 0.5001167\ttotal: 20.7s\tremaining: 35s\n",
      "744:\tlearn: 0.5000295\ttotal: 20.8s\tremaining: 35s\n",
      "745:\tlearn: 0.4999477\ttotal: 20.9s\tremaining: 35.1s\n",
      "746:\tlearn: 0.4998853\ttotal: 20.9s\tremaining: 35.1s\n",
      "747:\tlearn: 0.4997886\ttotal: 20.9s\tremaining: 35.1s\n",
      "748:\tlearn: 0.4997249\ttotal: 21s\tremaining: 35s\n",
      "749:\tlearn: 0.4996696\ttotal: 21s\tremaining: 35s\n",
      "750:\tlearn: 0.4996010\ttotal: 21.1s\tremaining: 35s\n",
      "751:\tlearn: 0.4995241\ttotal: 21.1s\tremaining: 35s\n",
      "752:\tlearn: 0.4994125\ttotal: 21.1s\tremaining: 35s\n",
      "753:\tlearn: 0.4992539\ttotal: 21.2s\tremaining: 35s\n",
      "754:\tlearn: 0.4991837\ttotal: 21.2s\tremaining: 35s\n",
      "755:\tlearn: 0.4991050\ttotal: 21.2s\tremaining: 34.9s\n",
      "756:\tlearn: 0.4989923\ttotal: 21.3s\tremaining: 35s\n",
      "757:\tlearn: 0.4988657\ttotal: 21.4s\tremaining: 35s\n",
      "758:\tlearn: 0.4987941\ttotal: 21.4s\tremaining: 35s\n",
      "759:\tlearn: 0.4987372\ttotal: 21.5s\tremaining: 35.1s\n",
      "760:\tlearn: 0.4986387\ttotal: 21.6s\tremaining: 35.1s\n",
      "761:\tlearn: 0.4985516\ttotal: 21.6s\tremaining: 35.1s\n",
      "762:\tlearn: 0.4984655\ttotal: 21.6s\tremaining: 35.1s\n",
      "763:\tlearn: 0.4983684\ttotal: 21.7s\tremaining: 35.1s\n",
      "764:\tlearn: 0.4982333\ttotal: 21.7s\tremaining: 35.1s\n",
      "765:\tlearn: 0.4981699\ttotal: 21.8s\tremaining: 35s\n",
      "766:\tlearn: 0.4980402\ttotal: 21.8s\tremaining: 35s\n",
      "767:\tlearn: 0.4979189\ttotal: 21.8s\tremaining: 35s\n",
      "768:\tlearn: 0.4978677\ttotal: 21.9s\tremaining: 35s\n",
      "769:\tlearn: 0.4977997\ttotal: 21.9s\tremaining: 35s\n",
      "770:\tlearn: 0.4977003\ttotal: 21.9s\tremaining: 35s\n",
      "771:\tlearn: 0.4975929\ttotal: 22s\tremaining: 34.9s\n",
      "772:\tlearn: 0.4974532\ttotal: 22s\tremaining: 34.9s\n",
      "773:\tlearn: 0.4973757\ttotal: 22s\tremaining: 34.9s\n",
      "774:\tlearn: 0.4972298\ttotal: 22s\tremaining: 34.8s\n",
      "775:\tlearn: 0.4971950\ttotal: 22.1s\tremaining: 34.8s\n",
      "776:\tlearn: 0.4971163\ttotal: 22.1s\tremaining: 34.8s\n",
      "777:\tlearn: 0.4970437\ttotal: 22.1s\tremaining: 34.7s\n",
      "778:\tlearn: 0.4969044\ttotal: 22.1s\tremaining: 34.7s\n",
      "779:\tlearn: 0.4967734\ttotal: 22.2s\tremaining: 34.7s\n",
      "780:\tlearn: 0.4966603\ttotal: 22.2s\tremaining: 34.7s\n",
      "781:\tlearn: 0.4965613\ttotal: 22.2s\tremaining: 34.6s\n",
      "782:\tlearn: 0.4964579\ttotal: 22.3s\tremaining: 34.6s\n",
      "783:\tlearn: 0.4963512\ttotal: 22.3s\tremaining: 34.6s\n",
      "784:\tlearn: 0.4962217\ttotal: 22.3s\tremaining: 34.6s\n",
      "785:\tlearn: 0.4961477\ttotal: 22.4s\tremaining: 34.6s\n",
      "786:\tlearn: 0.4960594\ttotal: 22.4s\tremaining: 34.5s\n",
      "787:\tlearn: 0.4959598\ttotal: 22.4s\tremaining: 34.5s\n",
      "788:\tlearn: 0.4958905\ttotal: 22.5s\tremaining: 34.5s\n",
      "789:\tlearn: 0.4958340\ttotal: 22.5s\tremaining: 34.5s\n",
      "790:\tlearn: 0.4957316\ttotal: 22.5s\tremaining: 34.4s\n",
      "791:\tlearn: 0.4956027\ttotal: 22.6s\tremaining: 34.4s\n",
      "792:\tlearn: 0.4955485\ttotal: 22.6s\tremaining: 34.4s\n",
      "793:\tlearn: 0.4954827\ttotal: 22.6s\tremaining: 34.4s\n",
      "794:\tlearn: 0.4953989\ttotal: 22.6s\tremaining: 34.3s\n",
      "795:\tlearn: 0.4953293\ttotal: 22.7s\tremaining: 34.3s\n",
      "796:\tlearn: 0.4951991\ttotal: 22.7s\tremaining: 34.3s\n",
      "797:\tlearn: 0.4951149\ttotal: 22.7s\tremaining: 34.2s\n",
      "798:\tlearn: 0.4950097\ttotal: 22.8s\tremaining: 34.2s\n",
      "799:\tlearn: 0.4949344\ttotal: 22.8s\tremaining: 34.2s\n",
      "800:\tlearn: 0.4947579\ttotal: 22.8s\tremaining: 34.1s\n",
      "801:\tlearn: 0.4946251\ttotal: 22.8s\tremaining: 34.1s\n",
      "802:\tlearn: 0.4945565\ttotal: 22.9s\tremaining: 34.1s\n",
      "803:\tlearn: 0.4944887\ttotal: 22.9s\tremaining: 34.1s\n",
      "804:\tlearn: 0.4943801\ttotal: 22.9s\tremaining: 34s\n",
      "805:\tlearn: 0.4942989\ttotal: 22.9s\tremaining: 34s\n",
      "806:\tlearn: 0.4942441\ttotal: 23s\tremaining: 34s\n",
      "807:\tlearn: 0.4941639\ttotal: 23s\tremaining: 33.9s\n",
      "808:\tlearn: 0.4940936\ttotal: 23s\tremaining: 33.9s\n",
      "809:\tlearn: 0.4940070\ttotal: 23s\tremaining: 33.9s\n",
      "810:\tlearn: 0.4939299\ttotal: 23.1s\tremaining: 33.8s\n",
      "811:\tlearn: 0.4938528\ttotal: 23.1s\tremaining: 33.8s\n",
      "812:\tlearn: 0.4937996\ttotal: 23.1s\tremaining: 33.7s\n",
      "813:\tlearn: 0.4937157\ttotal: 23.1s\tremaining: 33.7s\n",
      "814:\tlearn: 0.4936268\ttotal: 23.2s\tremaining: 33.7s\n",
      "815:\tlearn: 0.4935007\ttotal: 23.2s\tremaining: 33.7s\n",
      "816:\tlearn: 0.4934524\ttotal: 23.2s\tremaining: 33.6s\n",
      "817:\tlearn: 0.4933653\ttotal: 23.3s\tremaining: 33.6s\n",
      "818:\tlearn: 0.4932835\ttotal: 23.3s\tremaining: 33.6s\n",
      "819:\tlearn: 0.4931879\ttotal: 23.3s\tremaining: 33.5s\n",
      "820:\tlearn: 0.4931031\ttotal: 23.3s\tremaining: 33.5s\n",
      "821:\tlearn: 0.4929921\ttotal: 23.4s\tremaining: 33.5s\n",
      "822:\tlearn: 0.4929107\ttotal: 23.4s\tremaining: 33.4s\n",
      "823:\tlearn: 0.4928333\ttotal: 23.4s\tremaining: 33.4s\n",
      "824:\tlearn: 0.4927859\ttotal: 23.4s\tremaining: 33.4s\n",
      "825:\tlearn: 0.4926535\ttotal: 23.5s\tremaining: 33.3s\n",
      "826:\tlearn: 0.4925894\ttotal: 23.5s\tremaining: 33.3s\n",
      "827:\tlearn: 0.4924527\ttotal: 23.5s\tremaining: 33.3s\n",
      "828:\tlearn: 0.4923607\ttotal: 23.5s\tremaining: 33.2s\n",
      "829:\tlearn: 0.4922881\ttotal: 23.6s\tremaining: 33.2s\n",
      "830:\tlearn: 0.4922070\ttotal: 23.6s\tremaining: 33.2s\n",
      "831:\tlearn: 0.4921105\ttotal: 23.6s\tremaining: 33.1s\n",
      "832:\tlearn: 0.4920376\ttotal: 23.6s\tremaining: 33.1s\n",
      "833:\tlearn: 0.4919145\ttotal: 23.6s\tremaining: 33.1s\n",
      "834:\tlearn: 0.4918744\ttotal: 23.7s\tremaining: 33s\n",
      "835:\tlearn: 0.4917751\ttotal: 23.7s\tremaining: 33s\n",
      "836:\tlearn: 0.4916905\ttotal: 23.7s\tremaining: 33s\n",
      "837:\tlearn: 0.4916270\ttotal: 23.7s\tremaining: 32.9s\n",
      "838:\tlearn: 0.4915345\ttotal: 23.8s\tremaining: 32.9s\n",
      "839:\tlearn: 0.4914165\ttotal: 23.8s\tremaining: 32.9s\n",
      "840:\tlearn: 0.4913593\ttotal: 23.8s\tremaining: 32.8s\n",
      "841:\tlearn: 0.4912730\ttotal: 23.8s\tremaining: 32.8s\n",
      "842:\tlearn: 0.4911682\ttotal: 23.9s\tremaining: 32.8s\n",
      "843:\tlearn: 0.4910865\ttotal: 23.9s\tremaining: 32.7s\n",
      "844:\tlearn: 0.4909655\ttotal: 23.9s\tremaining: 32.7s\n",
      "845:\tlearn: 0.4908364\ttotal: 23.9s\tremaining: 32.7s\n",
      "846:\tlearn: 0.4907623\ttotal: 24s\tremaining: 32.6s\n",
      "847:\tlearn: 0.4906854\ttotal: 24s\tremaining: 32.6s\n",
      "848:\tlearn: 0.4905729\ttotal: 24s\tremaining: 32.6s\n",
      "849:\tlearn: 0.4904466\ttotal: 24s\tremaining: 32.5s\n",
      "850:\tlearn: 0.4903713\ttotal: 24.1s\tremaining: 32.5s\n",
      "851:\tlearn: 0.4903027\ttotal: 24.1s\tremaining: 32.5s\n",
      "852:\tlearn: 0.4902240\ttotal: 24.1s\tremaining: 32.4s\n",
      "853:\tlearn: 0.4901192\ttotal: 24.2s\tremaining: 32.4s\n",
      "854:\tlearn: 0.4900547\ttotal: 24.2s\tremaining: 32.4s\n",
      "855:\tlearn: 0.4899282\ttotal: 24.2s\tremaining: 32.4s\n",
      "856:\tlearn: 0.4898571\ttotal: 24.3s\tremaining: 32.3s\n",
      "857:\tlearn: 0.4897654\ttotal: 24.3s\tremaining: 32.3s\n",
      "858:\tlearn: 0.4897184\ttotal: 24.3s\tremaining: 32.3s\n",
      "859:\tlearn: 0.4896384\ttotal: 24.4s\tremaining: 32.3s\n",
      "860:\tlearn: 0.4895448\ttotal: 24.4s\tremaining: 32.3s\n",
      "861:\tlearn: 0.4894277\ttotal: 24.4s\tremaining: 32.3s\n",
      "862:\tlearn: 0.4893802\ttotal: 24.5s\tremaining: 32.2s\n",
      "863:\tlearn: 0.4892778\ttotal: 24.5s\tremaining: 32.2s\n",
      "864:\tlearn: 0.4891398\ttotal: 24.5s\tremaining: 32.2s\n",
      "865:\tlearn: 0.4890890\ttotal: 24.6s\tremaining: 32.2s\n",
      "866:\tlearn: 0.4890214\ttotal: 24.6s\tremaining: 32.1s\n",
      "867:\tlearn: 0.4889423\ttotal: 24.6s\tremaining: 32.1s\n",
      "868:\tlearn: 0.4888682\ttotal: 24.6s\tremaining: 32.1s\n",
      "869:\tlearn: 0.4887476\ttotal: 24.7s\tremaining: 32s\n",
      "870:\tlearn: 0.4885950\ttotal: 24.7s\tremaining: 32s\n",
      "871:\tlearn: 0.4884828\ttotal: 24.7s\tremaining: 32s\n",
      "872:\tlearn: 0.4884338\ttotal: 24.7s\tremaining: 31.9s\n",
      "873:\tlearn: 0.4883453\ttotal: 24.8s\tremaining: 31.9s\n",
      "874:\tlearn: 0.4882800\ttotal: 24.8s\tremaining: 31.9s\n",
      "875:\tlearn: 0.4882236\ttotal: 24.8s\tremaining: 31.9s\n",
      "876:\tlearn: 0.4881391\ttotal: 24.9s\tremaining: 31.9s\n",
      "877:\tlearn: 0.4880610\ttotal: 24.9s\tremaining: 31.8s\n",
      "878:\tlearn: 0.4879958\ttotal: 25s\tremaining: 31.8s\n",
      "879:\tlearn: 0.4879136\ttotal: 25s\tremaining: 31.8s\n",
      "880:\tlearn: 0.4877750\ttotal: 25.1s\tremaining: 31.8s\n",
      "881:\tlearn: 0.4876998\ttotal: 25.1s\tremaining: 31.8s\n",
      "882:\tlearn: 0.4876528\ttotal: 25.1s\tremaining: 31.8s\n",
      "883:\tlearn: 0.4875763\ttotal: 25.2s\tremaining: 31.8s\n",
      "884:\tlearn: 0.4874315\ttotal: 25.2s\tremaining: 31.8s\n",
      "885:\tlearn: 0.4873387\ttotal: 25.3s\tremaining: 31.8s\n",
      "886:\tlearn: 0.4872613\ttotal: 25.3s\tremaining: 31.8s\n",
      "887:\tlearn: 0.4872080\ttotal: 25.4s\tremaining: 31.8s\n",
      "888:\tlearn: 0.4871249\ttotal: 25.4s\tremaining: 31.8s\n",
      "889:\tlearn: 0.4870320\ttotal: 25.5s\tremaining: 31.7s\n",
      "890:\tlearn: 0.4869667\ttotal: 25.5s\tremaining: 31.7s\n",
      "891:\tlearn: 0.4869209\ttotal: 25.5s\tremaining: 31.7s\n",
      "892:\tlearn: 0.4868074\ttotal: 25.5s\tremaining: 31.7s\n",
      "893:\tlearn: 0.4867582\ttotal: 25.6s\tremaining: 31.6s\n",
      "894:\tlearn: 0.4866663\ttotal: 25.6s\tremaining: 31.6s\n",
      "895:\tlearn: 0.4865908\ttotal: 25.6s\tremaining: 31.6s\n",
      "896:\tlearn: 0.4865213\ttotal: 25.6s\tremaining: 31.5s\n",
      "897:\tlearn: 0.4864650\ttotal: 25.7s\tremaining: 31.5s\n",
      "898:\tlearn: 0.4863743\ttotal: 25.7s\tremaining: 31.5s\n",
      "899:\tlearn: 0.4862801\ttotal: 25.7s\tremaining: 31.4s\n",
      "900:\tlearn: 0.4861688\ttotal: 25.7s\tremaining: 31.4s\n",
      "901:\tlearn: 0.4861151\ttotal: 25.8s\tremaining: 31.4s\n",
      "902:\tlearn: 0.4860251\ttotal: 25.8s\tremaining: 31.4s\n",
      "903:\tlearn: 0.4859146\ttotal: 25.8s\tremaining: 31.3s\n",
      "904:\tlearn: 0.4858406\ttotal: 25.9s\tremaining: 31.3s\n",
      "905:\tlearn: 0.4857648\ttotal: 25.9s\tremaining: 31.3s\n",
      "906:\tlearn: 0.4856770\ttotal: 25.9s\tremaining: 31.2s\n",
      "907:\tlearn: 0.4856240\ttotal: 25.9s\tremaining: 31.2s\n",
      "908:\tlearn: 0.4855678\ttotal: 26s\tremaining: 31.2s\n",
      "909:\tlearn: 0.4854545\ttotal: 26s\tremaining: 31.1s\n",
      "910:\tlearn: 0.4853225\ttotal: 26s\tremaining: 31.1s\n",
      "911:\tlearn: 0.4852332\ttotal: 26.1s\tremaining: 31.1s\n",
      "912:\tlearn: 0.4851934\ttotal: 26.1s\tremaining: 31.1s\n",
      "913:\tlearn: 0.4851438\ttotal: 26.1s\tremaining: 31s\n",
      "914:\tlearn: 0.4850579\ttotal: 26.1s\tremaining: 31s\n",
      "915:\tlearn: 0.4850049\ttotal: 26.2s\tremaining: 31s\n",
      "916:\tlearn: 0.4848893\ttotal: 26.2s\tremaining: 30.9s\n",
      "917:\tlearn: 0.4847809\ttotal: 26.2s\tremaining: 30.9s\n",
      "918:\tlearn: 0.4846976\ttotal: 26.3s\tremaining: 30.9s\n",
      "919:\tlearn: 0.4846278\ttotal: 26.3s\tremaining: 30.9s\n",
      "920:\tlearn: 0.4845574\ttotal: 26.3s\tremaining: 30.8s\n",
      "921:\tlearn: 0.4844554\ttotal: 26.3s\tremaining: 30.8s\n",
      "922:\tlearn: 0.4843684\ttotal: 26.4s\tremaining: 30.8s\n",
      "923:\tlearn: 0.4843229\ttotal: 26.4s\tremaining: 30.7s\n",
      "924:\tlearn: 0.4842481\ttotal: 26.4s\tremaining: 30.7s\n",
      "925:\tlearn: 0.4841357\ttotal: 26.5s\tremaining: 30.7s\n",
      "926:\tlearn: 0.4840336\ttotal: 26.5s\tremaining: 30.6s\n",
      "927:\tlearn: 0.4839667\ttotal: 26.5s\tremaining: 30.6s\n",
      "928:\tlearn: 0.4838451\ttotal: 26.5s\tremaining: 30.6s\n",
      "929:\tlearn: 0.4837418\ttotal: 26.5s\tremaining: 30.5s\n",
      "930:\tlearn: 0.4836672\ttotal: 26.6s\tremaining: 30.5s\n",
      "931:\tlearn: 0.4835998\ttotal: 26.6s\tremaining: 30.5s\n",
      "932:\tlearn: 0.4835215\ttotal: 26.6s\tremaining: 30.4s\n",
      "933:\tlearn: 0.4834815\ttotal: 26.6s\tremaining: 30.4s\n",
      "934:\tlearn: 0.4833811\ttotal: 26.7s\tremaining: 30.4s\n",
      "935:\tlearn: 0.4833053\ttotal: 26.7s\tremaining: 30.3s\n",
      "936:\tlearn: 0.4831917\ttotal: 26.7s\tremaining: 30.3s\n",
      "937:\tlearn: 0.4830602\ttotal: 26.7s\tremaining: 30.3s\n",
      "938:\tlearn: 0.4829946\ttotal: 26.8s\tremaining: 30.2s\n",
      "939:\tlearn: 0.4829284\ttotal: 26.8s\tremaining: 30.2s\n",
      "940:\tlearn: 0.4828794\ttotal: 26.8s\tremaining: 30.2s\n",
      "941:\tlearn: 0.4827626\ttotal: 26.8s\tremaining: 30.1s\n",
      "942:\tlearn: 0.4826467\ttotal: 26.9s\tremaining: 30.1s\n",
      "943:\tlearn: 0.4825704\ttotal: 26.9s\tremaining: 30.1s\n",
      "944:\tlearn: 0.4825107\ttotal: 26.9s\tremaining: 30s\n",
      "945:\tlearn: 0.4824513\ttotal: 26.9s\tremaining: 30s\n",
      "946:\tlearn: 0.4823412\ttotal: 27s\tremaining: 30s\n",
      "947:\tlearn: 0.4822880\ttotal: 27s\tremaining: 29.9s\n",
      "948:\tlearn: 0.4822004\ttotal: 27s\tremaining: 29.9s\n",
      "949:\tlearn: 0.4821515\ttotal: 27s\tremaining: 29.9s\n",
      "950:\tlearn: 0.4820885\ttotal: 27.1s\tremaining: 29.9s\n",
      "951:\tlearn: 0.4820509\ttotal: 27.1s\tremaining: 29.8s\n",
      "952:\tlearn: 0.4819534\ttotal: 27.1s\tremaining: 29.8s\n",
      "953:\tlearn: 0.4818634\ttotal: 27.1s\tremaining: 29.8s\n",
      "954:\tlearn: 0.4818222\ttotal: 27.2s\tremaining: 29.7s\n",
      "955:\tlearn: 0.4817565\ttotal: 27.2s\tremaining: 29.7s\n",
      "956:\tlearn: 0.4816258\ttotal: 27.2s\tremaining: 29.7s\n",
      "957:\tlearn: 0.4815706\ttotal: 27.2s\tremaining: 29.6s\n",
      "958:\tlearn: 0.4814608\ttotal: 27.3s\tremaining: 29.6s\n",
      "959:\tlearn: 0.4814314\ttotal: 27.3s\tremaining: 29.6s\n",
      "960:\tlearn: 0.4813348\ttotal: 27.3s\tremaining: 29.5s\n",
      "961:\tlearn: 0.4812512\ttotal: 27.3s\tremaining: 29.5s\n",
      "962:\tlearn: 0.4811754\ttotal: 27.4s\tremaining: 29.5s\n",
      "963:\tlearn: 0.4810933\ttotal: 27.4s\tremaining: 29.4s\n",
      "964:\tlearn: 0.4810456\ttotal: 27.4s\tremaining: 29.4s\n",
      "965:\tlearn: 0.4809118\ttotal: 27.4s\tremaining: 29.4s\n",
      "966:\tlearn: 0.4808497\ttotal: 27.5s\tremaining: 29.3s\n",
      "967:\tlearn: 0.4807394\ttotal: 27.5s\tremaining: 29.3s\n",
      "968:\tlearn: 0.4806541\ttotal: 27.5s\tremaining: 29.3s\n",
      "969:\tlearn: 0.4806052\ttotal: 27.5s\tremaining: 29.2s\n",
      "970:\tlearn: 0.4805413\ttotal: 27.6s\tremaining: 29.2s\n",
      "971:\tlearn: 0.4804818\ttotal: 27.6s\tremaining: 29.2s\n",
      "972:\tlearn: 0.4803642\ttotal: 27.6s\tremaining: 29.1s\n",
      "973:\tlearn: 0.4802707\ttotal: 27.6s\tremaining: 29.1s\n",
      "974:\tlearn: 0.4801642\ttotal: 27.6s\tremaining: 29.1s\n",
      "975:\tlearn: 0.4800058\ttotal: 27.7s\tremaining: 29s\n",
      "976:\tlearn: 0.4799218\ttotal: 27.7s\tremaining: 29s\n",
      "977:\tlearn: 0.4798514\ttotal: 27.7s\tremaining: 29s\n",
      "978:\tlearn: 0.4797978\ttotal: 27.7s\tremaining: 28.9s\n",
      "979:\tlearn: 0.4796991\ttotal: 27.8s\tremaining: 28.9s\n",
      "980:\tlearn: 0.4796562\ttotal: 27.8s\tremaining: 28.9s\n",
      "981:\tlearn: 0.4795521\ttotal: 27.8s\tremaining: 28.8s\n",
      "982:\tlearn: 0.4794874\ttotal: 27.8s\tremaining: 28.8s\n",
      "983:\tlearn: 0.4793735\ttotal: 27.9s\tremaining: 28.8s\n",
      "984:\tlearn: 0.4792704\ttotal: 27.9s\tremaining: 28.7s\n",
      "985:\tlearn: 0.4791469\ttotal: 27.9s\tremaining: 28.7s\n",
      "986:\tlearn: 0.4790708\ttotal: 27.9s\tremaining: 28.7s\n",
      "987:\tlearn: 0.4790033\ttotal: 28s\tremaining: 28.6s\n",
      "988:\tlearn: 0.4788862\ttotal: 28s\tremaining: 28.6s\n",
      "989:\tlearn: 0.4788354\ttotal: 28s\tremaining: 28.6s\n",
      "990:\tlearn: 0.4787466\ttotal: 28s\tremaining: 28.6s\n",
      "991:\tlearn: 0.4786670\ttotal: 28.1s\tremaining: 28.5s\n",
      "992:\tlearn: 0.4785829\ttotal: 28.1s\tremaining: 28.5s\n",
      "993:\tlearn: 0.4785111\ttotal: 28.1s\tremaining: 28.5s\n",
      "994:\tlearn: 0.4783939\ttotal: 28.2s\tremaining: 28.5s\n",
      "995:\tlearn: 0.4783352\ttotal: 28.2s\tremaining: 28.4s\n",
      "996:\tlearn: 0.4782957\ttotal: 28.2s\tremaining: 28.4s\n",
      "997:\tlearn: 0.4781922\ttotal: 28.3s\tremaining: 28.4s\n",
      "998:\tlearn: 0.4781104\ttotal: 28.3s\tremaining: 28.3s\n",
      "999:\tlearn: 0.4780278\ttotal: 28.3s\tremaining: 28.3s\n",
      "1000:\tlearn: 0.4779446\ttotal: 28.3s\tremaining: 28.3s\n",
      "1001:\tlearn: 0.4778506\ttotal: 28.4s\tremaining: 28.2s\n",
      "1002:\tlearn: 0.4778059\ttotal: 28.4s\tremaining: 28.2s\n",
      "1003:\tlearn: 0.4777293\ttotal: 28.4s\tremaining: 28.2s\n",
      "1004:\tlearn: 0.4776461\ttotal: 28.4s\tremaining: 28.2s\n",
      "1005:\tlearn: 0.4775728\ttotal: 28.5s\tremaining: 28.1s\n",
      "1006:\tlearn: 0.4774765\ttotal: 28.5s\tremaining: 28.1s\n",
      "1007:\tlearn: 0.4773684\ttotal: 28.5s\tremaining: 28.1s\n",
      "1008:\tlearn: 0.4772392\ttotal: 28.5s\tremaining: 28s\n",
      "1009:\tlearn: 0.4771547\ttotal: 28.6s\tremaining: 28s\n",
      "1010:\tlearn: 0.4770939\ttotal: 28.6s\tremaining: 28s\n",
      "1011:\tlearn: 0.4770115\ttotal: 28.6s\tremaining: 27.9s\n",
      "1012:\tlearn: 0.4769384\ttotal: 28.6s\tremaining: 27.9s\n",
      "1013:\tlearn: 0.4768644\ttotal: 28.7s\tremaining: 27.9s\n",
      "1014:\tlearn: 0.4767609\ttotal: 28.7s\tremaining: 27.8s\n",
      "1015:\tlearn: 0.4767082\ttotal: 28.7s\tremaining: 27.8s\n",
      "1016:\tlearn: 0.4766590\ttotal: 28.7s\tremaining: 27.8s\n",
      "1017:\tlearn: 0.4765519\ttotal: 28.8s\tremaining: 27.7s\n",
      "1018:\tlearn: 0.4764874\ttotal: 28.8s\tremaining: 27.7s\n",
      "1019:\tlearn: 0.4764138\ttotal: 28.8s\tremaining: 27.7s\n",
      "1020:\tlearn: 0.4763232\ttotal: 28.8s\tremaining: 27.6s\n",
      "1021:\tlearn: 0.4762688\ttotal: 28.9s\tremaining: 27.6s\n",
      "1022:\tlearn: 0.4761969\ttotal: 28.9s\tremaining: 27.6s\n",
      "1023:\tlearn: 0.4761187\ttotal: 28.9s\tremaining: 27.6s\n",
      "1024:\tlearn: 0.4760244\ttotal: 28.9s\tremaining: 27.5s\n",
      "1025:\tlearn: 0.4759162\ttotal: 29s\tremaining: 27.5s\n",
      "1026:\tlearn: 0.4758381\ttotal: 29s\tremaining: 27.5s\n",
      "1027:\tlearn: 0.4757606\ttotal: 29s\tremaining: 27.4s\n",
      "1028:\tlearn: 0.4756548\ttotal: 29s\tremaining: 27.4s\n",
      "1029:\tlearn: 0.4755357\ttotal: 29.1s\tremaining: 27.4s\n",
      "1030:\tlearn: 0.4754399\ttotal: 29.1s\tremaining: 27.3s\n",
      "1031:\tlearn: 0.4753825\ttotal: 29.1s\tremaining: 27.3s\n",
      "1032:\tlearn: 0.4753080\ttotal: 29.2s\tremaining: 27.3s\n",
      "1033:\tlearn: 0.4752172\ttotal: 29.2s\tremaining: 27.3s\n",
      "1034:\tlearn: 0.4751479\ttotal: 29.2s\tremaining: 27.2s\n",
      "1035:\tlearn: 0.4750771\ttotal: 29.2s\tremaining: 27.2s\n",
      "1036:\tlearn: 0.4749721\ttotal: 29.3s\tremaining: 27.2s\n",
      "1037:\tlearn: 0.4748924\ttotal: 29.3s\tremaining: 27.1s\n",
      "1038:\tlearn: 0.4748010\ttotal: 29.3s\tremaining: 27.1s\n",
      "1039:\tlearn: 0.4747095\ttotal: 29.4s\tremaining: 27.1s\n",
      "1040:\tlearn: 0.4746454\ttotal: 29.4s\tremaining: 27.1s\n",
      "1041:\tlearn: 0.4745784\ttotal: 29.4s\tremaining: 27.1s\n",
      "1042:\tlearn: 0.4744489\ttotal: 29.5s\tremaining: 27s\n",
      "1043:\tlearn: 0.4743860\ttotal: 29.5s\tremaining: 27s\n",
      "1044:\tlearn: 0.4743359\ttotal: 29.5s\tremaining: 27s\n",
      "1045:\tlearn: 0.4742597\ttotal: 29.6s\tremaining: 27s\n",
      "1046:\tlearn: 0.4741965\ttotal: 29.6s\tremaining: 26.9s\n",
      "1047:\tlearn: 0.4740876\ttotal: 29.6s\tremaining: 26.9s\n",
      "1048:\tlearn: 0.4740384\ttotal: 29.7s\tremaining: 26.9s\n",
      "1049:\tlearn: 0.4739582\ttotal: 29.7s\tremaining: 26.9s\n",
      "1050:\tlearn: 0.4738663\ttotal: 29.7s\tremaining: 26.8s\n",
      "1051:\tlearn: 0.4738014\ttotal: 29.7s\tremaining: 26.8s\n",
      "1052:\tlearn: 0.4737378\ttotal: 29.8s\tremaining: 26.8s\n",
      "1053:\tlearn: 0.4736548\ttotal: 29.8s\tremaining: 26.7s\n",
      "1054:\tlearn: 0.4735587\ttotal: 29.8s\tremaining: 26.7s\n",
      "1055:\tlearn: 0.4734829\ttotal: 29.8s\tremaining: 26.7s\n",
      "1056:\tlearn: 0.4733690\ttotal: 29.9s\tremaining: 26.7s\n",
      "1057:\tlearn: 0.4732621\ttotal: 29.9s\tremaining: 26.6s\n",
      "1058:\tlearn: 0.4731818\ttotal: 29.9s\tremaining: 26.6s\n",
      "1059:\tlearn: 0.4731175\ttotal: 29.9s\tremaining: 26.6s\n",
      "1060:\tlearn: 0.4730668\ttotal: 30s\tremaining: 26.5s\n",
      "1061:\tlearn: 0.4729115\ttotal: 30s\tremaining: 26.5s\n",
      "1062:\tlearn: 0.4727973\ttotal: 30s\tremaining: 26.5s\n",
      "1063:\tlearn: 0.4727376\ttotal: 30s\tremaining: 26.4s\n",
      "1064:\tlearn: 0.4726146\ttotal: 30.1s\tremaining: 26.4s\n",
      "1065:\tlearn: 0.4725439\ttotal: 30.1s\tremaining: 26.4s\n",
      "1066:\tlearn: 0.4724590\ttotal: 30.1s\tremaining: 26.3s\n",
      "1067:\tlearn: 0.4723681\ttotal: 30.2s\tremaining: 26.3s\n",
      "1068:\tlearn: 0.4722698\ttotal: 30.2s\tremaining: 26.3s\n",
      "1069:\tlearn: 0.4721922\ttotal: 30.2s\tremaining: 26.3s\n",
      "1070:\tlearn: 0.4721414\ttotal: 30.2s\tremaining: 26.2s\n",
      "1071:\tlearn: 0.4720441\ttotal: 30.3s\tremaining: 26.2s\n",
      "1072:\tlearn: 0.4719317\ttotal: 30.3s\tremaining: 26.2s\n",
      "1073:\tlearn: 0.4718667\ttotal: 30.3s\tremaining: 26.1s\n",
      "1074:\tlearn: 0.4718120\ttotal: 30.3s\tremaining: 26.1s\n",
      "1075:\tlearn: 0.4717398\ttotal: 30.4s\tremaining: 26.1s\n",
      "1076:\tlearn: 0.4716619\ttotal: 30.4s\tremaining: 26s\n",
      "1077:\tlearn: 0.4715597\ttotal: 30.4s\tremaining: 26s\n",
      "1078:\tlearn: 0.4715007\ttotal: 30.4s\tremaining: 26s\n",
      "1079:\tlearn: 0.4714266\ttotal: 30.5s\tremaining: 25.9s\n",
      "1080:\tlearn: 0.4713532\ttotal: 30.5s\tremaining: 25.9s\n",
      "1081:\tlearn: 0.4713137\ttotal: 30.5s\tremaining: 25.9s\n",
      "1082:\tlearn: 0.4712480\ttotal: 30.5s\tremaining: 25.8s\n",
      "1083:\tlearn: 0.4711569\ttotal: 30.5s\tremaining: 25.8s\n",
      "1084:\tlearn: 0.4711006\ttotal: 30.6s\tremaining: 25.8s\n",
      "1085:\tlearn: 0.4710154\ttotal: 30.6s\tremaining: 25.8s\n",
      "1086:\tlearn: 0.4709220\ttotal: 30.6s\tremaining: 25.7s\n",
      "1087:\tlearn: 0.4708721\ttotal: 30.6s\tremaining: 25.7s\n",
      "1088:\tlearn: 0.4707927\ttotal: 30.7s\tremaining: 25.7s\n",
      "1089:\tlearn: 0.4707084\ttotal: 30.7s\tremaining: 25.6s\n",
      "1090:\tlearn: 0.4705894\ttotal: 30.7s\tremaining: 25.6s\n",
      "1091:\tlearn: 0.4705113\ttotal: 30.7s\tremaining: 25.6s\n",
      "1092:\tlearn: 0.4703815\ttotal: 30.8s\tremaining: 25.5s\n",
      "1093:\tlearn: 0.4703349\ttotal: 30.8s\tremaining: 25.5s\n",
      "1094:\tlearn: 0.4702704\ttotal: 30.8s\tremaining: 25.5s\n",
      "1095:\tlearn: 0.4701723\ttotal: 30.8s\tremaining: 25.4s\n",
      "1096:\tlearn: 0.4701011\ttotal: 30.9s\tremaining: 25.4s\n",
      "1097:\tlearn: 0.4700505\ttotal: 30.9s\tremaining: 25.4s\n",
      "1098:\tlearn: 0.4699779\ttotal: 30.9s\tremaining: 25.3s\n",
      "1099:\tlearn: 0.4699155\ttotal: 30.9s\tremaining: 25.3s\n",
      "1100:\tlearn: 0.4698425\ttotal: 31s\tremaining: 25.3s\n",
      "1101:\tlearn: 0.4697492\ttotal: 31s\tremaining: 25.3s\n",
      "1102:\tlearn: 0.4696863\ttotal: 31s\tremaining: 25.2s\n",
      "1103:\tlearn: 0.4695813\ttotal: 31s\tremaining: 25.2s\n",
      "1104:\tlearn: 0.4695289\ttotal: 31.1s\tremaining: 25.2s\n",
      "1105:\tlearn: 0.4694613\ttotal: 31.1s\tremaining: 25.1s\n",
      "1106:\tlearn: 0.4693974\ttotal: 31.1s\tremaining: 25.1s\n",
      "1107:\tlearn: 0.4693186\ttotal: 31.2s\tremaining: 25.1s\n",
      "1108:\tlearn: 0.4692279\ttotal: 31.2s\tremaining: 25.1s\n",
      "1109:\tlearn: 0.4691622\ttotal: 31.2s\tremaining: 25.1s\n",
      "1110:\tlearn: 0.4690812\ttotal: 31.3s\tremaining: 25s\n",
      "1111:\tlearn: 0.4690280\ttotal: 31.3s\tremaining: 25s\n",
      "1112:\tlearn: 0.4689623\ttotal: 31.3s\tremaining: 25s\n",
      "1113:\tlearn: 0.4688946\ttotal: 31.4s\tremaining: 25s\n",
      "1114:\tlearn: 0.4688132\ttotal: 31.4s\tremaining: 24.9s\n",
      "1115:\tlearn: 0.4687538\ttotal: 31.4s\tremaining: 24.9s\n",
      "1116:\tlearn: 0.4686433\ttotal: 31.5s\tremaining: 24.9s\n",
      "1117:\tlearn: 0.4686051\ttotal: 31.5s\tremaining: 24.9s\n",
      "1118:\tlearn: 0.4685224\ttotal: 31.5s\tremaining: 24.8s\n",
      "1119:\tlearn: 0.4684726\ttotal: 31.6s\tremaining: 24.8s\n",
      "1120:\tlearn: 0.4684041\ttotal: 31.6s\tremaining: 24.8s\n",
      "1121:\tlearn: 0.4683017\ttotal: 31.6s\tremaining: 24.8s\n",
      "1122:\tlearn: 0.4682077\ttotal: 31.7s\tremaining: 24.7s\n",
      "1123:\tlearn: 0.4681333\ttotal: 31.7s\tremaining: 24.7s\n",
      "1124:\tlearn: 0.4679743\ttotal: 31.7s\tremaining: 24.7s\n",
      "1125:\tlearn: 0.4679306\ttotal: 31.8s\tremaining: 24.7s\n",
      "1126:\tlearn: 0.4678534\ttotal: 31.8s\tremaining: 24.6s\n",
      "1127:\tlearn: 0.4677382\ttotal: 31.8s\tremaining: 24.6s\n",
      "1128:\tlearn: 0.4676709\ttotal: 31.9s\tremaining: 24.6s\n",
      "1129:\tlearn: 0.4676134\ttotal: 31.9s\tremaining: 24.6s\n",
      "1130:\tlearn: 0.4675467\ttotal: 31.9s\tremaining: 24.5s\n",
      "1131:\tlearn: 0.4675161\ttotal: 31.9s\tremaining: 24.5s\n",
      "1132:\tlearn: 0.4674314\ttotal: 32s\tremaining: 24.5s\n",
      "1133:\tlearn: 0.4673465\ttotal: 32s\tremaining: 24.4s\n",
      "1134:\tlearn: 0.4672880\ttotal: 32s\tremaining: 24.4s\n",
      "1135:\tlearn: 0.4671819\ttotal: 32.1s\tremaining: 24.4s\n",
      "1136:\tlearn: 0.4671109\ttotal: 32.1s\tremaining: 24.4s\n",
      "1137:\tlearn: 0.4670274\ttotal: 32.1s\tremaining: 24.3s\n",
      "1138:\tlearn: 0.4669541\ttotal: 32.1s\tremaining: 24.3s\n",
      "1139:\tlearn: 0.4668745\ttotal: 32.2s\tremaining: 24.3s\n",
      "1140:\tlearn: 0.4667736\ttotal: 32.2s\tremaining: 24.3s\n",
      "1141:\tlearn: 0.4666700\ttotal: 32.2s\tremaining: 24.2s\n",
      "1142:\tlearn: 0.4665767\ttotal: 32.3s\tremaining: 24.2s\n",
      "1143:\tlearn: 0.4664641\ttotal: 32.3s\tremaining: 24.2s\n",
      "1144:\tlearn: 0.4664194\ttotal: 32.3s\tremaining: 24.1s\n",
      "1145:\tlearn: 0.4663403\ttotal: 32.4s\tremaining: 24.1s\n",
      "1146:\tlearn: 0.4662614\ttotal: 32.4s\tremaining: 24.1s\n",
      "1147:\tlearn: 0.4661958\ttotal: 32.4s\tremaining: 24s\n",
      "1148:\tlearn: 0.4661246\ttotal: 32.4s\tremaining: 24s\n",
      "1149:\tlearn: 0.4660783\ttotal: 32.5s\tremaining: 24s\n",
      "1150:\tlearn: 0.4660023\ttotal: 32.5s\tremaining: 24s\n",
      "1151:\tlearn: 0.4658964\ttotal: 32.5s\tremaining: 23.9s\n",
      "1152:\tlearn: 0.4658194\ttotal: 32.5s\tremaining: 23.9s\n",
      "1153:\tlearn: 0.4657756\ttotal: 32.5s\tremaining: 23.9s\n",
      "1154:\tlearn: 0.4656905\ttotal: 32.6s\tremaining: 23.8s\n",
      "1155:\tlearn: 0.4656536\ttotal: 32.6s\tremaining: 23.8s\n",
      "1156:\tlearn: 0.4655466\ttotal: 32.6s\tremaining: 23.8s\n",
      "1157:\tlearn: 0.4654820\ttotal: 32.6s\tremaining: 23.7s\n",
      "1158:\tlearn: 0.4654145\ttotal: 32.7s\tremaining: 23.7s\n",
      "1159:\tlearn: 0.4653402\ttotal: 32.7s\tremaining: 23.7s\n",
      "1160:\tlearn: 0.4652727\ttotal: 32.7s\tremaining: 23.6s\n",
      "1161:\tlearn: 0.4652030\ttotal: 32.7s\tremaining: 23.6s\n",
      "1162:\tlearn: 0.4651071\ttotal: 32.8s\tremaining: 23.6s\n",
      "1163:\tlearn: 0.4650250\ttotal: 32.8s\tremaining: 23.5s\n",
      "1164:\tlearn: 0.4649564\ttotal: 32.8s\tremaining: 23.5s\n",
      "1165:\tlearn: 0.4649077\ttotal: 32.8s\tremaining: 23.5s\n",
      "1166:\tlearn: 0.4648451\ttotal: 32.9s\tremaining: 23.5s\n",
      "1167:\tlearn: 0.4647582\ttotal: 32.9s\tremaining: 23.4s\n",
      "1168:\tlearn: 0.4647149\ttotal: 32.9s\tremaining: 23.4s\n",
      "1169:\tlearn: 0.4646501\ttotal: 32.9s\tremaining: 23.4s\n",
      "1170:\tlearn: 0.4645750\ttotal: 32.9s\tremaining: 23.3s\n",
      "1171:\tlearn: 0.4645247\ttotal: 33s\tremaining: 23.3s\n",
      "1172:\tlearn: 0.4644768\ttotal: 33s\tremaining: 23.3s\n",
      "1173:\tlearn: 0.4644023\ttotal: 33s\tremaining: 23.2s\n",
      "1174:\tlearn: 0.4643290\ttotal: 33s\tremaining: 23.2s\n",
      "1175:\tlearn: 0.4642390\ttotal: 33.1s\tremaining: 23.2s\n",
      "1176:\tlearn: 0.4641399\ttotal: 33.1s\tremaining: 23.1s\n",
      "1177:\tlearn: 0.4640764\ttotal: 33.1s\tremaining: 23.1s\n",
      "1178:\tlearn: 0.4639956\ttotal: 33.2s\tremaining: 23.1s\n",
      "1179:\tlearn: 0.4639029\ttotal: 33.2s\tremaining: 23.1s\n",
      "1180:\tlearn: 0.4637995\ttotal: 33.2s\tremaining: 23s\n",
      "1181:\tlearn: 0.4637118\ttotal: 33.2s\tremaining: 23s\n",
      "1182:\tlearn: 0.4636635\ttotal: 33.3s\tremaining: 23s\n",
      "1183:\tlearn: 0.4636134\ttotal: 33.3s\tremaining: 22.9s\n",
      "1184:\tlearn: 0.4635599\ttotal: 33.3s\tremaining: 22.9s\n",
      "1185:\tlearn: 0.4634879\ttotal: 33.3s\tremaining: 22.9s\n",
      "1186:\tlearn: 0.4634008\ttotal: 33.4s\tremaining: 22.8s\n",
      "1187:\tlearn: 0.4633144\ttotal: 33.4s\tremaining: 22.8s\n",
      "1188:\tlearn: 0.4632534\ttotal: 33.4s\tremaining: 22.8s\n",
      "1189:\tlearn: 0.4631977\ttotal: 33.4s\tremaining: 22.8s\n",
      "1190:\tlearn: 0.4631338\ttotal: 33.4s\tremaining: 22.7s\n",
      "1191:\tlearn: 0.4630755\ttotal: 33.5s\tremaining: 22.7s\n",
      "1192:\tlearn: 0.4629761\ttotal: 33.5s\tremaining: 22.7s\n",
      "1193:\tlearn: 0.4628887\ttotal: 33.5s\tremaining: 22.6s\n",
      "1194:\tlearn: 0.4627958\ttotal: 33.5s\tremaining: 22.6s\n",
      "1195:\tlearn: 0.4627474\ttotal: 33.6s\tremaining: 22.6s\n",
      "1196:\tlearn: 0.4626528\ttotal: 33.6s\tremaining: 22.5s\n",
      "1197:\tlearn: 0.4625703\ttotal: 33.6s\tremaining: 22.5s\n",
      "1198:\tlearn: 0.4624809\ttotal: 33.7s\tremaining: 22.5s\n",
      "1199:\tlearn: 0.4624181\ttotal: 33.7s\tremaining: 22.4s\n",
      "1200:\tlearn: 0.4623644\ttotal: 33.7s\tremaining: 22.4s\n",
      "1201:\tlearn: 0.4622968\ttotal: 33.7s\tremaining: 22.4s\n",
      "1202:\tlearn: 0.4621523\ttotal: 33.7s\tremaining: 22.4s\n",
      "1203:\tlearn: 0.4620352\ttotal: 33.8s\tremaining: 22.3s\n",
      "1204:\tlearn: 0.4619691\ttotal: 33.8s\tremaining: 22.3s\n",
      "1205:\tlearn: 0.4618925\ttotal: 33.8s\tremaining: 22.3s\n",
      "1206:\tlearn: 0.4618448\ttotal: 33.8s\tremaining: 22.2s\n",
      "1207:\tlearn: 0.4617053\ttotal: 33.9s\tremaining: 22.2s\n",
      "1208:\tlearn: 0.4616048\ttotal: 33.9s\tremaining: 22.2s\n",
      "1209:\tlearn: 0.4615463\ttotal: 33.9s\tremaining: 22.1s\n",
      "1210:\tlearn: 0.4614598\ttotal: 33.9s\tremaining: 22.1s\n",
      "1211:\tlearn: 0.4613573\ttotal: 34s\tremaining: 22.1s\n",
      "1212:\tlearn: 0.4613021\ttotal: 34s\tremaining: 22.1s\n",
      "1213:\tlearn: 0.4612456\ttotal: 34s\tremaining: 22s\n",
      "1214:\tlearn: 0.4611837\ttotal: 34s\tremaining: 22s\n",
      "1215:\tlearn: 0.4610767\ttotal: 34.1s\tremaining: 22s\n",
      "1216:\tlearn: 0.4610212\ttotal: 34.1s\tremaining: 21.9s\n",
      "1217:\tlearn: 0.4609454\ttotal: 34.1s\tremaining: 21.9s\n",
      "1218:\tlearn: 0.4608438\ttotal: 34.1s\tremaining: 21.9s\n",
      "1219:\tlearn: 0.4607684\ttotal: 34.2s\tremaining: 21.8s\n",
      "1220:\tlearn: 0.4607094\ttotal: 34.2s\tremaining: 21.8s\n",
      "1221:\tlearn: 0.4606399\ttotal: 34.2s\tremaining: 21.8s\n",
      "1222:\tlearn: 0.4605531\ttotal: 34.3s\tremaining: 21.8s\n",
      "1223:\tlearn: 0.4604950\ttotal: 34.3s\tremaining: 21.7s\n",
      "1224:\tlearn: 0.4604411\ttotal: 34.3s\tremaining: 21.7s\n",
      "1225:\tlearn: 0.4603723\ttotal: 34.3s\tremaining: 21.7s\n",
      "1226:\tlearn: 0.4603159\ttotal: 34.4s\tremaining: 21.6s\n",
      "1227:\tlearn: 0.4602028\ttotal: 34.4s\tremaining: 21.6s\n",
      "1228:\tlearn: 0.4601242\ttotal: 34.4s\tremaining: 21.6s\n",
      "1229:\tlearn: 0.4600623\ttotal: 34.4s\tremaining: 21.6s\n",
      "1230:\tlearn: 0.4600043\ttotal: 34.5s\tremaining: 21.5s\n",
      "1231:\tlearn: 0.4599225\ttotal: 34.5s\tremaining: 21.5s\n",
      "1232:\tlearn: 0.4598623\ttotal: 34.5s\tremaining: 21.5s\n",
      "1233:\tlearn: 0.4597972\ttotal: 34.5s\tremaining: 21.4s\n",
      "1234:\tlearn: 0.4597205\ttotal: 34.5s\tremaining: 21.4s\n",
      "1235:\tlearn: 0.4596568\ttotal: 34.6s\tremaining: 21.4s\n",
      "1236:\tlearn: 0.4595935\ttotal: 34.6s\tremaining: 21.3s\n",
      "1237:\tlearn: 0.4594860\ttotal: 34.6s\tremaining: 21.3s\n",
      "1238:\tlearn: 0.4593736\ttotal: 34.6s\tremaining: 21.3s\n",
      "1239:\tlearn: 0.4592831\ttotal: 34.7s\tremaining: 21.2s\n",
      "1240:\tlearn: 0.4591933\ttotal: 34.7s\tremaining: 21.2s\n",
      "1241:\tlearn: 0.4590828\ttotal: 34.7s\tremaining: 21.2s\n",
      "1242:\tlearn: 0.4590082\ttotal: 34.7s\tremaining: 21.2s\n",
      "1243:\tlearn: 0.4589259\ttotal: 34.8s\tremaining: 21.1s\n",
      "1244:\tlearn: 0.4588601\ttotal: 34.8s\tremaining: 21.1s\n",
      "1245:\tlearn: 0.4588011\ttotal: 34.8s\tremaining: 21.1s\n",
      "1246:\tlearn: 0.4587307\ttotal: 34.8s\tremaining: 21s\n",
      "1247:\tlearn: 0.4586927\ttotal: 34.9s\tremaining: 21s\n",
      "1248:\tlearn: 0.4586278\ttotal: 34.9s\tremaining: 21s\n",
      "1249:\tlearn: 0.4585360\ttotal: 34.9s\tremaining: 21s\n",
      "1250:\tlearn: 0.4584815\ttotal: 34.9s\tremaining: 20.9s\n",
      "1251:\tlearn: 0.4584085\ttotal: 35s\tremaining: 20.9s\n",
      "1252:\tlearn: 0.4583390\ttotal: 35s\tremaining: 20.9s\n",
      "1253:\tlearn: 0.4582716\ttotal: 35s\tremaining: 20.8s\n",
      "1254:\tlearn: 0.4582106\ttotal: 35s\tremaining: 20.8s\n",
      "1255:\tlearn: 0.4581463\ttotal: 35.1s\tremaining: 20.8s\n",
      "1256:\tlearn: 0.4580969\ttotal: 35.1s\tremaining: 20.7s\n",
      "1257:\tlearn: 0.4579732\ttotal: 35.1s\tremaining: 20.7s\n",
      "1258:\tlearn: 0.4579260\ttotal: 35.1s\tremaining: 20.7s\n",
      "1259:\tlearn: 0.4578834\ttotal: 35.2s\tremaining: 20.7s\n",
      "1260:\tlearn: 0.4578070\ttotal: 35.2s\tremaining: 20.6s\n",
      "1261:\tlearn: 0.4577097\ttotal: 35.2s\tremaining: 20.6s\n",
      "1262:\tlearn: 0.4576704\ttotal: 35.3s\tremaining: 20.6s\n",
      "1263:\tlearn: 0.4575999\ttotal: 35.3s\tremaining: 20.6s\n",
      "1264:\tlearn: 0.4575524\ttotal: 35.3s\tremaining: 20.5s\n",
      "1265:\tlearn: 0.4574980\ttotal: 35.4s\tremaining: 20.5s\n",
      "1266:\tlearn: 0.4574179\ttotal: 35.4s\tremaining: 20.5s\n",
      "1267:\tlearn: 0.4573541\ttotal: 35.4s\tremaining: 20.5s\n",
      "1268:\tlearn: 0.4572940\ttotal: 35.5s\tremaining: 20.4s\n",
      "1269:\tlearn: 0.4572240\ttotal: 35.5s\tremaining: 20.4s\n",
      "1270:\tlearn: 0.4571473\ttotal: 35.5s\tremaining: 20.4s\n",
      "1271:\tlearn: 0.4571157\ttotal: 35.6s\tremaining: 20.4s\n",
      "1272:\tlearn: 0.4570114\ttotal: 35.6s\tremaining: 20.3s\n",
      "1273:\tlearn: 0.4569380\ttotal: 35.6s\tremaining: 20.3s\n",
      "1274:\tlearn: 0.4568698\ttotal: 35.7s\tremaining: 20.3s\n",
      "1275:\tlearn: 0.4567809\ttotal: 35.7s\tremaining: 20.3s\n",
      "1276:\tlearn: 0.4567153\ttotal: 35.7s\tremaining: 20.2s\n",
      "1277:\tlearn: 0.4566534\ttotal: 35.8s\tremaining: 20.2s\n",
      "1278:\tlearn: 0.4565462\ttotal: 35.8s\tremaining: 20.2s\n",
      "1279:\tlearn: 0.4564805\ttotal: 35.8s\tremaining: 20.1s\n",
      "1280:\tlearn: 0.4564234\ttotal: 35.8s\tremaining: 20.1s\n",
      "1281:\tlearn: 0.4563623\ttotal: 35.9s\tremaining: 20.1s\n",
      "1282:\tlearn: 0.4563133\ttotal: 35.9s\tremaining: 20.1s\n",
      "1283:\tlearn: 0.4562457\ttotal: 35.9s\tremaining: 20s\n",
      "1284:\tlearn: 0.4561775\ttotal: 35.9s\tremaining: 20s\n",
      "1285:\tlearn: 0.4561140\ttotal: 36s\tremaining: 20s\n",
      "1286:\tlearn: 0.4560386\ttotal: 36s\tremaining: 19.9s\n",
      "1287:\tlearn: 0.4559806\ttotal: 36s\tremaining: 19.9s\n",
      "1288:\tlearn: 0.4559463\ttotal: 36s\tremaining: 19.9s\n",
      "1289:\tlearn: 0.4558553\ttotal: 36.1s\tremaining: 19.9s\n",
      "1290:\tlearn: 0.4558024\ttotal: 36.1s\tremaining: 19.8s\n",
      "1291:\tlearn: 0.4557307\ttotal: 36.1s\tremaining: 19.8s\n",
      "1292:\tlearn: 0.4556598\ttotal: 36.1s\tremaining: 19.8s\n",
      "1293:\tlearn: 0.4556023\ttotal: 36.2s\tremaining: 19.7s\n",
      "1294:\tlearn: 0.4555425\ttotal: 36.2s\tremaining: 19.7s\n",
      "1295:\tlearn: 0.4554845\ttotal: 36.2s\tremaining: 19.7s\n",
      "1296:\tlearn: 0.4554174\ttotal: 36.2s\tremaining: 19.6s\n",
      "1297:\tlearn: 0.4553513\ttotal: 36.3s\tremaining: 19.6s\n",
      "1298:\tlearn: 0.4552987\ttotal: 36.3s\tremaining: 19.6s\n",
      "1299:\tlearn: 0.4552185\ttotal: 36.3s\tremaining: 19.6s\n",
      "1300:\tlearn: 0.4551394\ttotal: 36.3s\tremaining: 19.5s\n",
      "1301:\tlearn: 0.4550159\ttotal: 36.4s\tremaining: 19.5s\n",
      "1302:\tlearn: 0.4549402\ttotal: 36.4s\tremaining: 19.5s\n",
      "1303:\tlearn: 0.4548796\ttotal: 36.4s\tremaining: 19.4s\n",
      "1304:\tlearn: 0.4548015\ttotal: 36.4s\tremaining: 19.4s\n",
      "1305:\tlearn: 0.4547299\ttotal: 36.5s\tremaining: 19.4s\n",
      "1306:\tlearn: 0.4546832\ttotal: 36.5s\tremaining: 19.3s\n",
      "1307:\tlearn: 0.4546313\ttotal: 36.5s\tremaining: 19.3s\n",
      "1308:\tlearn: 0.4545623\ttotal: 36.5s\tremaining: 19.3s\n",
      "1309:\tlearn: 0.4545246\ttotal: 36.6s\tremaining: 19.3s\n",
      "1310:\tlearn: 0.4544652\ttotal: 36.6s\tremaining: 19.2s\n",
      "1311:\tlearn: 0.4543962\ttotal: 36.6s\tremaining: 19.2s\n",
      "1312:\tlearn: 0.4543040\ttotal: 36.6s\tremaining: 19.2s\n",
      "1313:\tlearn: 0.4542020\ttotal: 36.7s\tremaining: 19.1s\n",
      "1314:\tlearn: 0.4540938\ttotal: 36.7s\tremaining: 19.1s\n",
      "1315:\tlearn: 0.4540213\ttotal: 36.7s\tremaining: 19.1s\n",
      "1316:\tlearn: 0.4539417\ttotal: 36.7s\tremaining: 19.1s\n",
      "1317:\tlearn: 0.4538769\ttotal: 36.8s\tremaining: 19s\n",
      "1318:\tlearn: 0.4538336\ttotal: 36.8s\tremaining: 19s\n",
      "1319:\tlearn: 0.4537788\ttotal: 36.8s\tremaining: 19s\n",
      "1320:\tlearn: 0.4537268\ttotal: 36.8s\tremaining: 18.9s\n",
      "1321:\tlearn: 0.4536690\ttotal: 36.9s\tremaining: 18.9s\n",
      "1322:\tlearn: 0.4535767\ttotal: 36.9s\tremaining: 18.9s\n",
      "1323:\tlearn: 0.4535229\ttotal: 36.9s\tremaining: 18.8s\n",
      "1324:\tlearn: 0.4534737\ttotal: 36.9s\tremaining: 18.8s\n",
      "1325:\tlearn: 0.4533511\ttotal: 36.9s\tremaining: 18.8s\n",
      "1326:\tlearn: 0.4533247\ttotal: 37s\tremaining: 18.8s\n",
      "1327:\tlearn: 0.4532766\ttotal: 37s\tremaining: 18.7s\n",
      "1328:\tlearn: 0.4532310\ttotal: 37s\tremaining: 18.7s\n",
      "1329:\tlearn: 0.4531413\ttotal: 37.1s\tremaining: 18.7s\n",
      "1330:\tlearn: 0.4531095\ttotal: 37.1s\tremaining: 18.6s\n",
      "1331:\tlearn: 0.4530526\ttotal: 37.1s\tremaining: 18.6s\n",
      "1332:\tlearn: 0.4530100\ttotal: 37.1s\tremaining: 18.6s\n",
      "1333:\tlearn: 0.4529443\ttotal: 37.2s\tremaining: 18.5s\n",
      "1334:\tlearn: 0.4528885\ttotal: 37.2s\tremaining: 18.5s\n",
      "1335:\tlearn: 0.4528161\ttotal: 37.2s\tremaining: 18.5s\n",
      "1336:\tlearn: 0.4527360\ttotal: 37.2s\tremaining: 18.5s\n",
      "1337:\tlearn: 0.4526544\ttotal: 37.3s\tremaining: 18.4s\n",
      "1338:\tlearn: 0.4525817\ttotal: 37.3s\tremaining: 18.4s\n",
      "1339:\tlearn: 0.4524823\ttotal: 37.3s\tremaining: 18.4s\n",
      "1340:\tlearn: 0.4524290\ttotal: 37.3s\tremaining: 18.3s\n",
      "1341:\tlearn: 0.4523457\ttotal: 37.4s\tremaining: 18.3s\n",
      "1342:\tlearn: 0.4522829\ttotal: 37.4s\tremaining: 18.3s\n",
      "1343:\tlearn: 0.4522240\ttotal: 37.4s\tremaining: 18.3s\n",
      "1344:\tlearn: 0.4521489\ttotal: 37.4s\tremaining: 18.2s\n",
      "1345:\tlearn: 0.4520948\ttotal: 37.4s\tremaining: 18.2s\n",
      "1346:\tlearn: 0.4520401\ttotal: 37.5s\tremaining: 18.2s\n",
      "1347:\tlearn: 0.4519769\ttotal: 37.5s\tremaining: 18.1s\n",
      "1348:\tlearn: 0.4518818\ttotal: 37.5s\tremaining: 18.1s\n",
      "1349:\tlearn: 0.4518065\ttotal: 37.5s\tremaining: 18.1s\n",
      "1350:\tlearn: 0.4517397\ttotal: 37.6s\tremaining: 18.1s\n",
      "1351:\tlearn: 0.4516735\ttotal: 37.6s\tremaining: 18s\n",
      "1352:\tlearn: 0.4515823\ttotal: 37.6s\tremaining: 18s\n",
      "1353:\tlearn: 0.4515080\ttotal: 37.7s\tremaining: 18s\n",
      "1354:\tlearn: 0.4514458\ttotal: 37.7s\tremaining: 17.9s\n",
      "1355:\tlearn: 0.4513524\ttotal: 37.7s\tremaining: 17.9s\n",
      "1356:\tlearn: 0.4513111\ttotal: 37.7s\tremaining: 17.9s\n",
      "1357:\tlearn: 0.4512201\ttotal: 37.8s\tremaining: 17.8s\n",
      "1358:\tlearn: 0.4511797\ttotal: 37.8s\tremaining: 17.8s\n",
      "1359:\tlearn: 0.4510974\ttotal: 37.8s\tremaining: 17.8s\n",
      "1360:\tlearn: 0.4510441\ttotal: 37.8s\tremaining: 17.8s\n",
      "1361:\tlearn: 0.4509942\ttotal: 37.9s\tremaining: 17.7s\n",
      "1362:\tlearn: 0.4509370\ttotal: 37.9s\tremaining: 17.7s\n",
      "1363:\tlearn: 0.4508451\ttotal: 37.9s\tremaining: 17.7s\n",
      "1364:\tlearn: 0.4507480\ttotal: 37.9s\tremaining: 17.6s\n",
      "1365:\tlearn: 0.4506468\ttotal: 38s\tremaining: 17.6s\n",
      "1366:\tlearn: 0.4505820\ttotal: 38s\tremaining: 17.6s\n",
      "1367:\tlearn: 0.4505286\ttotal: 38s\tremaining: 17.6s\n",
      "1368:\tlearn: 0.4504464\ttotal: 38s\tremaining: 17.5s\n",
      "1369:\tlearn: 0.4503722\ttotal: 38.1s\tremaining: 17.5s\n",
      "1370:\tlearn: 0.4502921\ttotal: 38.1s\tremaining: 17.5s\n",
      "1371:\tlearn: 0.4502094\ttotal: 38.1s\tremaining: 17.4s\n",
      "1372:\tlearn: 0.4501112\ttotal: 38.1s\tremaining: 17.4s\n",
      "1373:\tlearn: 0.4500125\ttotal: 38.2s\tremaining: 17.4s\n",
      "1374:\tlearn: 0.4499190\ttotal: 38.2s\tremaining: 17.4s\n",
      "1375:\tlearn: 0.4498194\ttotal: 38.2s\tremaining: 17.3s\n",
      "1376:\tlearn: 0.4497197\ttotal: 38.3s\tremaining: 17.3s\n",
      "1377:\tlearn: 0.4496504\ttotal: 38.3s\tremaining: 17.3s\n",
      "1378:\tlearn: 0.4496086\ttotal: 38.3s\tremaining: 17.2s\n",
      "1379:\tlearn: 0.4495383\ttotal: 38.3s\tremaining: 17.2s\n",
      "1380:\tlearn: 0.4494642\ttotal: 38.3s\tremaining: 17.2s\n",
      "1381:\tlearn: 0.4494171\ttotal: 38.4s\tremaining: 17.2s\n",
      "1382:\tlearn: 0.4493658\ttotal: 38.4s\tremaining: 17.1s\n",
      "1383:\tlearn: 0.4493245\ttotal: 38.4s\tremaining: 17.1s\n",
      "1384:\tlearn: 0.4492279\ttotal: 38.4s\tremaining: 17.1s\n",
      "1385:\tlearn: 0.4491686\ttotal: 38.5s\tremaining: 17s\n",
      "1386:\tlearn: 0.4491280\ttotal: 38.5s\tremaining: 17s\n",
      "1387:\tlearn: 0.4490576\ttotal: 38.5s\tremaining: 17s\n",
      "1388:\tlearn: 0.4490053\ttotal: 38.5s\tremaining: 17s\n",
      "1389:\tlearn: 0.4488794\ttotal: 38.6s\tremaining: 16.9s\n",
      "1390:\tlearn: 0.4488136\ttotal: 38.6s\tremaining: 16.9s\n",
      "1391:\tlearn: 0.4487501\ttotal: 38.6s\tremaining: 16.9s\n",
      "1392:\tlearn: 0.4486856\ttotal: 38.6s\tremaining: 16.8s\n",
      "1393:\tlearn: 0.4486151\ttotal: 38.7s\tremaining: 16.8s\n",
      "1394:\tlearn: 0.4485381\ttotal: 38.7s\tremaining: 16.8s\n",
      "1395:\tlearn: 0.4484558\ttotal: 38.7s\tremaining: 16.7s\n",
      "1396:\tlearn: 0.4483629\ttotal: 38.7s\tremaining: 16.7s\n",
      "1397:\tlearn: 0.4482748\ttotal: 38.8s\tremaining: 16.7s\n",
      "1398:\tlearn: 0.4481847\ttotal: 38.8s\tremaining: 16.7s\n",
      "1399:\tlearn: 0.4481393\ttotal: 38.8s\tremaining: 16.6s\n",
      "1400:\tlearn: 0.4480944\ttotal: 38.8s\tremaining: 16.6s\n",
      "1401:\tlearn: 0.4480035\ttotal: 38.9s\tremaining: 16.6s\n",
      "1402:\tlearn: 0.4479205\ttotal: 38.9s\tremaining: 16.5s\n",
      "1403:\tlearn: 0.4478430\ttotal: 38.9s\tremaining: 16.5s\n",
      "1404:\tlearn: 0.4477856\ttotal: 38.9s\tremaining: 16.5s\n",
      "1405:\tlearn: 0.4477166\ttotal: 39s\tremaining: 16.5s\n",
      "1406:\tlearn: 0.4476856\ttotal: 39s\tremaining: 16.4s\n",
      "1407:\tlearn: 0.4476254\ttotal: 39s\tremaining: 16.4s\n",
      "1408:\tlearn: 0.4475068\ttotal: 39.1s\tremaining: 16.4s\n",
      "1409:\tlearn: 0.4474184\ttotal: 39.1s\tremaining: 16.4s\n",
      "1410:\tlearn: 0.4473186\ttotal: 39.1s\tremaining: 16.3s\n",
      "1411:\tlearn: 0.4472624\ttotal: 39.1s\tremaining: 16.3s\n",
      "1412:\tlearn: 0.4471859\ttotal: 39.2s\tremaining: 16.3s\n",
      "1413:\tlearn: 0.4471396\ttotal: 39.2s\tremaining: 16.2s\n",
      "1414:\tlearn: 0.4470906\ttotal: 39.2s\tremaining: 16.2s\n",
      "1415:\tlearn: 0.4470366\ttotal: 39.2s\tremaining: 16.2s\n",
      "1416:\tlearn: 0.4470007\ttotal: 39.2s\tremaining: 16.1s\n",
      "1417:\tlearn: 0.4469258\ttotal: 39.3s\tremaining: 16.1s\n",
      "1418:\tlearn: 0.4468689\ttotal: 39.3s\tremaining: 16.1s\n",
      "1419:\tlearn: 0.4468081\ttotal: 39.3s\tremaining: 16.1s\n",
      "1420:\tlearn: 0.4467539\ttotal: 39.4s\tremaining: 16s\n",
      "1421:\tlearn: 0.4467053\ttotal: 39.4s\tremaining: 16s\n",
      "1422:\tlearn: 0.4466228\ttotal: 39.4s\tremaining: 16s\n",
      "1423:\tlearn: 0.4465805\ttotal: 39.4s\tremaining: 16s\n",
      "1424:\tlearn: 0.4465275\ttotal: 39.5s\tremaining: 15.9s\n",
      "1425:\tlearn: 0.4464445\ttotal: 39.5s\tremaining: 15.9s\n",
      "1426:\tlearn: 0.4463807\ttotal: 39.5s\tremaining: 15.9s\n",
      "1427:\tlearn: 0.4463226\ttotal: 39.5s\tremaining: 15.8s\n",
      "1428:\tlearn: 0.4462840\ttotal: 39.6s\tremaining: 15.8s\n",
      "1429:\tlearn: 0.4462290\ttotal: 39.6s\tremaining: 15.8s\n",
      "1430:\tlearn: 0.4461466\ttotal: 39.6s\tremaining: 15.7s\n",
      "1431:\tlearn: 0.4460503\ttotal: 39.6s\tremaining: 15.7s\n",
      "1432:\tlearn: 0.4459867\ttotal: 39.7s\tremaining: 15.7s\n",
      "1433:\tlearn: 0.4458751\ttotal: 39.7s\tremaining: 15.7s\n",
      "1434:\tlearn: 0.4458201\ttotal: 39.7s\tremaining: 15.6s\n",
      "1435:\tlearn: 0.4457393\ttotal: 39.7s\tremaining: 15.6s\n",
      "1436:\tlearn: 0.4456532\ttotal: 39.8s\tremaining: 15.6s\n",
      "1437:\tlearn: 0.4455818\ttotal: 39.8s\tremaining: 15.6s\n",
      "1438:\tlearn: 0.4455191\ttotal: 39.8s\tremaining: 15.5s\n",
      "1439:\tlearn: 0.4454925\ttotal: 39.8s\tremaining: 15.5s\n",
      "1440:\tlearn: 0.4454614\ttotal: 39.9s\tremaining: 15.5s\n",
      "1441:\tlearn: 0.4453964\ttotal: 39.9s\tremaining: 15.4s\n",
      "1442:\tlearn: 0.4453510\ttotal: 39.9s\tremaining: 15.4s\n",
      "1443:\tlearn: 0.4452467\ttotal: 39.9s\tremaining: 15.4s\n",
      "1444:\tlearn: 0.4451998\ttotal: 40s\tremaining: 15.3s\n",
      "1445:\tlearn: 0.4451520\ttotal: 40s\tremaining: 15.3s\n",
      "1446:\tlearn: 0.4450821\ttotal: 40s\tremaining: 15.3s\n",
      "1447:\tlearn: 0.4450165\ttotal: 40s\tremaining: 15.3s\n",
      "1448:\tlearn: 0.4449461\ttotal: 40.1s\tremaining: 15.2s\n",
      "1449:\tlearn: 0.4448977\ttotal: 40.1s\tremaining: 15.2s\n",
      "1450:\tlearn: 0.4448004\ttotal: 40.1s\tremaining: 15.2s\n",
      "1451:\tlearn: 0.4447318\ttotal: 40.1s\tremaining: 15.1s\n",
      "1452:\tlearn: 0.4446711\ttotal: 40.2s\tremaining: 15.1s\n",
      "1453:\tlearn: 0.4446084\ttotal: 40.2s\tremaining: 15.1s\n",
      "1454:\tlearn: 0.4445536\ttotal: 40.2s\tremaining: 15.1s\n",
      "1455:\tlearn: 0.4444923\ttotal: 40.2s\tremaining: 15s\n",
      "1456:\tlearn: 0.4444371\ttotal: 40.3s\tremaining: 15s\n",
      "1457:\tlearn: 0.4444000\ttotal: 40.3s\tremaining: 15s\n",
      "1458:\tlearn: 0.4443339\ttotal: 40.3s\tremaining: 14.9s\n",
      "1459:\tlearn: 0.4442974\ttotal: 40.3s\tremaining: 14.9s\n",
      "1460:\tlearn: 0.4442391\ttotal: 40.4s\tremaining: 14.9s\n",
      "1461:\tlearn: 0.4441767\ttotal: 40.4s\tremaining: 14.9s\n",
      "1462:\tlearn: 0.4440927\ttotal: 40.4s\tremaining: 14.8s\n",
      "1463:\tlearn: 0.4440209\ttotal: 40.4s\tremaining: 14.8s\n",
      "1464:\tlearn: 0.4439623\ttotal: 40.5s\tremaining: 14.8s\n",
      "1465:\tlearn: 0.4438745\ttotal: 40.5s\tremaining: 14.7s\n",
      "1466:\tlearn: 0.4437995\ttotal: 40.5s\tremaining: 14.7s\n",
      "1467:\tlearn: 0.4437534\ttotal: 40.5s\tremaining: 14.7s\n",
      "1468:\tlearn: 0.4437189\ttotal: 40.6s\tremaining: 14.7s\n",
      "1469:\tlearn: 0.4436789\ttotal: 40.6s\tremaining: 14.6s\n",
      "1470:\tlearn: 0.4436214\ttotal: 40.6s\tremaining: 14.6s\n",
      "1471:\tlearn: 0.4435596\ttotal: 40.6s\tremaining: 14.6s\n",
      "1472:\tlearn: 0.4434658\ttotal: 40.7s\tremaining: 14.5s\n",
      "1473:\tlearn: 0.4434185\ttotal: 40.7s\tremaining: 14.5s\n",
      "1474:\tlearn: 0.4433662\ttotal: 40.7s\tremaining: 14.5s\n",
      "1475:\tlearn: 0.4433154\ttotal: 40.7s\tremaining: 14.5s\n",
      "1476:\tlearn: 0.4432441\ttotal: 40.8s\tremaining: 14.4s\n",
      "1477:\tlearn: 0.4431819\ttotal: 40.8s\tremaining: 14.4s\n",
      "1478:\tlearn: 0.4431334\ttotal: 40.8s\tremaining: 14.4s\n",
      "1479:\tlearn: 0.4430579\ttotal: 40.8s\tremaining: 14.3s\n",
      "1480:\tlearn: 0.4429757\ttotal: 40.9s\tremaining: 14.3s\n",
      "1481:\tlearn: 0.4429388\ttotal: 40.9s\tremaining: 14.3s\n",
      "1482:\tlearn: 0.4428924\ttotal: 40.9s\tremaining: 14.3s\n",
      "1483:\tlearn: 0.4428057\ttotal: 40.9s\tremaining: 14.2s\n",
      "1484:\tlearn: 0.4427754\ttotal: 41s\tremaining: 14.2s\n",
      "1485:\tlearn: 0.4426626\ttotal: 41s\tremaining: 14.2s\n",
      "1486:\tlearn: 0.4426078\ttotal: 41s\tremaining: 14.1s\n",
      "1487:\tlearn: 0.4425573\ttotal: 41s\tremaining: 14.1s\n",
      "1488:\tlearn: 0.4425194\ttotal: 41.1s\tremaining: 14.1s\n",
      "1489:\tlearn: 0.4424288\ttotal: 41.1s\tremaining: 14.1s\n",
      "1490:\tlearn: 0.4423304\ttotal: 41.1s\tremaining: 14s\n",
      "1491:\tlearn: 0.4422506\ttotal: 41.1s\tremaining: 14s\n",
      "1492:\tlearn: 0.4421623\ttotal: 41.2s\tremaining: 14s\n",
      "1493:\tlearn: 0.4420915\ttotal: 41.2s\tremaining: 13.9s\n",
      "1494:\tlearn: 0.4420227\ttotal: 41.2s\tremaining: 13.9s\n",
      "1495:\tlearn: 0.4419751\ttotal: 41.2s\tremaining: 13.9s\n",
      "1496:\tlearn: 0.4419278\ttotal: 41.3s\tremaining: 13.9s\n",
      "1497:\tlearn: 0.4418428\ttotal: 41.3s\tremaining: 13.8s\n",
      "1498:\tlearn: 0.4417600\ttotal: 41.3s\tremaining: 13.8s\n",
      "1499:\tlearn: 0.4417011\ttotal: 41.4s\tremaining: 13.8s\n",
      "1500:\tlearn: 0.4416692\ttotal: 41.4s\tremaining: 13.8s\n",
      "1501:\tlearn: 0.4415896\ttotal: 41.4s\tremaining: 13.7s\n",
      "1502:\tlearn: 0.4415043\ttotal: 41.4s\tremaining: 13.7s\n",
      "1503:\tlearn: 0.4414297\ttotal: 41.5s\tremaining: 13.7s\n",
      "1504:\tlearn: 0.4413882\ttotal: 41.5s\tremaining: 13.6s\n",
      "1505:\tlearn: 0.4413204\ttotal: 41.5s\tremaining: 13.6s\n",
      "1506:\tlearn: 0.4412573\ttotal: 41.5s\tremaining: 13.6s\n",
      "1507:\tlearn: 0.4411337\ttotal: 41.6s\tremaining: 13.6s\n",
      "1508:\tlearn: 0.4410319\ttotal: 41.6s\tremaining: 13.5s\n",
      "1509:\tlearn: 0.4409668\ttotal: 41.6s\tremaining: 13.5s\n",
      "1510:\tlearn: 0.4408357\ttotal: 41.6s\tremaining: 13.5s\n",
      "1511:\tlearn: 0.4407710\ttotal: 41.7s\tremaining: 13.4s\n",
      "1512:\tlearn: 0.4406913\ttotal: 41.7s\tremaining: 13.4s\n",
      "1513:\tlearn: 0.4406351\ttotal: 41.7s\tremaining: 13.4s\n",
      "1514:\tlearn: 0.4405627\ttotal: 41.8s\tremaining: 13.4s\n",
      "1515:\tlearn: 0.4404766\ttotal: 41.8s\tremaining: 13.3s\n",
      "1516:\tlearn: 0.4404320\ttotal: 41.8s\tremaining: 13.3s\n",
      "1517:\tlearn: 0.4403295\ttotal: 41.8s\tremaining: 13.3s\n",
      "1518:\tlearn: 0.4402699\ttotal: 41.9s\tremaining: 13.3s\n",
      "1519:\tlearn: 0.4401897\ttotal: 41.9s\tremaining: 13.2s\n",
      "1520:\tlearn: 0.4401220\ttotal: 41.9s\tremaining: 13.2s\n",
      "1521:\tlearn: 0.4400343\ttotal: 42s\tremaining: 13.2s\n",
      "1522:\tlearn: 0.4399712\ttotal: 42s\tremaining: 13.2s\n",
      "1523:\tlearn: 0.4398975\ttotal: 42s\tremaining: 13.1s\n",
      "1524:\tlearn: 0.4398371\ttotal: 42.1s\tremaining: 13.1s\n",
      "1525:\tlearn: 0.4397502\ttotal: 42.1s\tremaining: 13.1s\n",
      "1526:\tlearn: 0.4397116\ttotal: 42.1s\tremaining: 13.1s\n",
      "1527:\tlearn: 0.4396713\ttotal: 42.2s\tremaining: 13s\n",
      "1528:\tlearn: 0.4396073\ttotal: 42.2s\tremaining: 13s\n",
      "1529:\tlearn: 0.4395647\ttotal: 42.2s\tremaining: 13s\n",
      "1530:\tlearn: 0.4394929\ttotal: 42.3s\tremaining: 12.9s\n",
      "1531:\tlearn: 0.4394235\ttotal: 42.3s\tremaining: 12.9s\n",
      "1532:\tlearn: 0.4393531\ttotal: 42.3s\tremaining: 12.9s\n",
      "1533:\tlearn: 0.4392770\ttotal: 42.3s\tremaining: 12.9s\n",
      "1534:\tlearn: 0.4392320\ttotal: 42.4s\tremaining: 12.8s\n",
      "1535:\tlearn: 0.4391529\ttotal: 42.4s\tremaining: 12.8s\n",
      "1536:\tlearn: 0.4390941\ttotal: 42.4s\tremaining: 12.8s\n",
      "1537:\tlearn: 0.4390410\ttotal: 42.5s\tremaining: 12.8s\n",
      "1538:\tlearn: 0.4389559\ttotal: 42.5s\tremaining: 12.7s\n",
      "1539:\tlearn: 0.4389037\ttotal: 42.5s\tremaining: 12.7s\n",
      "1540:\tlearn: 0.4388379\ttotal: 42.5s\tremaining: 12.7s\n",
      "1541:\tlearn: 0.4387588\ttotal: 42.6s\tremaining: 12.6s\n",
      "1542:\tlearn: 0.4386941\ttotal: 42.6s\tremaining: 12.6s\n",
      "1543:\tlearn: 0.4386551\ttotal: 42.6s\tremaining: 12.6s\n",
      "1544:\tlearn: 0.4386183\ttotal: 42.6s\tremaining: 12.6s\n",
      "1545:\tlearn: 0.4385631\ttotal: 42.7s\tremaining: 12.5s\n",
      "1546:\tlearn: 0.4385208\ttotal: 42.7s\tremaining: 12.5s\n",
      "1547:\tlearn: 0.4384615\ttotal: 42.7s\tremaining: 12.5s\n",
      "1548:\tlearn: 0.4383887\ttotal: 42.7s\tremaining: 12.4s\n",
      "1549:\tlearn: 0.4383198\ttotal: 42.7s\tremaining: 12.4s\n",
      "1550:\tlearn: 0.4382484\ttotal: 42.8s\tremaining: 12.4s\n",
      "1551:\tlearn: 0.4381516\ttotal: 42.8s\tremaining: 12.4s\n",
      "1552:\tlearn: 0.4380627\ttotal: 42.8s\tremaining: 12.3s\n",
      "1553:\tlearn: 0.4379917\ttotal: 42.8s\tremaining: 12.3s\n",
      "1554:\tlearn: 0.4379635\ttotal: 42.9s\tremaining: 12.3s\n",
      "1555:\tlearn: 0.4378960\ttotal: 42.9s\tremaining: 12.2s\n",
      "1556:\tlearn: 0.4377814\ttotal: 42.9s\tremaining: 12.2s\n",
      "1557:\tlearn: 0.4377180\ttotal: 43s\tremaining: 12.2s\n",
      "1558:\tlearn: 0.4376545\ttotal: 43s\tremaining: 12.2s\n",
      "1559:\tlearn: 0.4376099\ttotal: 43s\tremaining: 12.1s\n",
      "1560:\tlearn: 0.4375176\ttotal: 43s\tremaining: 12.1s\n",
      "1561:\tlearn: 0.4374367\ttotal: 43.1s\tremaining: 12.1s\n",
      "1562:\tlearn: 0.4374014\ttotal: 43.1s\tremaining: 12s\n",
      "1563:\tlearn: 0.4373509\ttotal: 43.1s\tremaining: 12s\n",
      "1564:\tlearn: 0.4373011\ttotal: 43.1s\tremaining: 12s\n",
      "1565:\tlearn: 0.4372184\ttotal: 43.2s\tremaining: 12s\n",
      "1566:\tlearn: 0.4371614\ttotal: 43.2s\tremaining: 11.9s\n",
      "1567:\tlearn: 0.4370694\ttotal: 43.2s\tremaining: 11.9s\n",
      "1568:\tlearn: 0.4370065\ttotal: 43.2s\tremaining: 11.9s\n",
      "1569:\tlearn: 0.4369415\ttotal: 43.3s\tremaining: 11.8s\n",
      "1570:\tlearn: 0.4368920\ttotal: 43.3s\tremaining: 11.8s\n",
      "1571:\tlearn: 0.4368422\ttotal: 43.3s\tremaining: 11.8s\n",
      "1572:\tlearn: 0.4367921\ttotal: 43.3s\tremaining: 11.8s\n",
      "1573:\tlearn: 0.4367368\ttotal: 43.4s\tremaining: 11.7s\n",
      "1574:\tlearn: 0.4366883\ttotal: 43.4s\tremaining: 11.7s\n",
      "1575:\tlearn: 0.4366142\ttotal: 43.4s\tremaining: 11.7s\n",
      "1576:\tlearn: 0.4365724\ttotal: 43.5s\tremaining: 11.7s\n",
      "1577:\tlearn: 0.4365111\ttotal: 43.5s\tremaining: 11.6s\n",
      "1578:\tlearn: 0.4364100\ttotal: 43.5s\tremaining: 11.6s\n",
      "1579:\tlearn: 0.4363322\ttotal: 43.5s\tremaining: 11.6s\n",
      "1580:\tlearn: 0.4362200\ttotal: 43.6s\tremaining: 11.5s\n",
      "1581:\tlearn: 0.4361842\ttotal: 43.6s\tremaining: 11.5s\n",
      "1582:\tlearn: 0.4360456\ttotal: 43.6s\tremaining: 11.5s\n",
      "1583:\tlearn: 0.4359607\ttotal: 43.6s\tremaining: 11.5s\n",
      "1584:\tlearn: 0.4359095\ttotal: 43.7s\tremaining: 11.4s\n",
      "1585:\tlearn: 0.4358284\ttotal: 43.7s\tremaining: 11.4s\n",
      "1586:\tlearn: 0.4357753\ttotal: 43.7s\tremaining: 11.4s\n",
      "1587:\tlearn: 0.4357143\ttotal: 43.8s\tremaining: 11.4s\n",
      "1588:\tlearn: 0.4356330\ttotal: 43.8s\tremaining: 11.3s\n",
      "1589:\tlearn: 0.4355679\ttotal: 43.8s\tremaining: 11.3s\n",
      "1590:\tlearn: 0.4354680\ttotal: 43.8s\tremaining: 11.3s\n",
      "1591:\tlearn: 0.4354154\ttotal: 43.9s\tremaining: 11.2s\n",
      "1592:\tlearn: 0.4353706\ttotal: 43.9s\tremaining: 11.2s\n",
      "1593:\tlearn: 0.4353201\ttotal: 43.9s\tremaining: 11.2s\n",
      "1594:\tlearn: 0.4352725\ttotal: 44s\tremaining: 11.2s\n",
      "1595:\tlearn: 0.4352129\ttotal: 44s\tremaining: 11.1s\n",
      "1596:\tlearn: 0.4351826\ttotal: 44s\tremaining: 11.1s\n",
      "1597:\tlearn: 0.4350967\ttotal: 44s\tremaining: 11.1s\n",
      "1598:\tlearn: 0.4350581\ttotal: 44.1s\tremaining: 11s\n",
      "1599:\tlearn: 0.4349830\ttotal: 44.1s\tremaining: 11s\n",
      "1600:\tlearn: 0.4349289\ttotal: 44.1s\tremaining: 11s\n",
      "1601:\tlearn: 0.4348548\ttotal: 44.1s\tremaining: 11s\n",
      "1602:\tlearn: 0.4347887\ttotal: 44.2s\tremaining: 10.9s\n",
      "1603:\tlearn: 0.4347249\ttotal: 44.2s\tremaining: 10.9s\n",
      "1604:\tlearn: 0.4346744\ttotal: 44.2s\tremaining: 10.9s\n",
      "1605:\tlearn: 0.4346177\ttotal: 44.2s\tremaining: 10.9s\n",
      "1606:\tlearn: 0.4345269\ttotal: 44.3s\tremaining: 10.8s\n",
      "1607:\tlearn: 0.4344671\ttotal: 44.3s\tremaining: 10.8s\n",
      "1608:\tlearn: 0.4344043\ttotal: 44.3s\tremaining: 10.8s\n",
      "1609:\tlearn: 0.4343491\ttotal: 44.4s\tremaining: 10.7s\n",
      "1610:\tlearn: 0.4342867\ttotal: 44.4s\tremaining: 10.7s\n",
      "1611:\tlearn: 0.4342290\ttotal: 44.4s\tremaining: 10.7s\n",
      "1612:\tlearn: 0.4341786\ttotal: 44.4s\tremaining: 10.7s\n",
      "1613:\tlearn: 0.4341127\ttotal: 44.5s\tremaining: 10.6s\n",
      "1614:\tlearn: 0.4340851\ttotal: 44.5s\tremaining: 10.6s\n",
      "1615:\tlearn: 0.4340465\ttotal: 44.5s\tremaining: 10.6s\n",
      "1616:\tlearn: 0.4339639\ttotal: 44.6s\tremaining: 10.6s\n",
      "1617:\tlearn: 0.4339251\ttotal: 44.6s\tremaining: 10.5s\n",
      "1618:\tlearn: 0.4338529\ttotal: 44.6s\tremaining: 10.5s\n",
      "1619:\tlearn: 0.4337886\ttotal: 44.6s\tremaining: 10.5s\n",
      "1620:\tlearn: 0.4336916\ttotal: 44.7s\tremaining: 10.4s\n",
      "1621:\tlearn: 0.4336416\ttotal: 44.7s\tremaining: 10.4s\n",
      "1622:\tlearn: 0.4335576\ttotal: 44.7s\tremaining: 10.4s\n",
      "1623:\tlearn: 0.4335047\ttotal: 44.7s\tremaining: 10.4s\n",
      "1624:\tlearn: 0.4334617\ttotal: 44.8s\tremaining: 10.3s\n",
      "1625:\tlearn: 0.4333870\ttotal: 44.8s\tremaining: 10.3s\n",
      "1626:\tlearn: 0.4333150\ttotal: 44.8s\tremaining: 10.3s\n",
      "1627:\tlearn: 0.4332559\ttotal: 44.8s\tremaining: 10.2s\n",
      "1628:\tlearn: 0.4331651\ttotal: 44.9s\tremaining: 10.2s\n",
      "1629:\tlearn: 0.4331036\ttotal: 44.9s\tremaining: 10.2s\n",
      "1630:\tlearn: 0.4330489\ttotal: 44.9s\tremaining: 10.2s\n",
      "1631:\tlearn: 0.4329838\ttotal: 45s\tremaining: 10.1s\n",
      "1632:\tlearn: 0.4328582\ttotal: 45s\tremaining: 10.1s\n",
      "1633:\tlearn: 0.4328120\ttotal: 45s\tremaining: 10.1s\n",
      "1634:\tlearn: 0.4327360\ttotal: 45.1s\tremaining: 10.1s\n",
      "1635:\tlearn: 0.4327063\ttotal: 45.1s\tremaining: 10s\n",
      "1636:\tlearn: 0.4326356\ttotal: 45.1s\tremaining: 10s\n",
      "1637:\tlearn: 0.4325980\ttotal: 45.1s\tremaining: 9.98s\n",
      "1638:\tlearn: 0.4325496\ttotal: 45.2s\tremaining: 9.95s\n",
      "1639:\tlearn: 0.4324650\ttotal: 45.2s\tremaining: 9.92s\n",
      "1640:\tlearn: 0.4324158\ttotal: 45.2s\tremaining: 9.9s\n",
      "1641:\tlearn: 0.4323355\ttotal: 45.3s\tremaining: 9.87s\n",
      "1642:\tlearn: 0.4322335\ttotal: 45.3s\tremaining: 9.84s\n",
      "1643:\tlearn: 0.4321640\ttotal: 45.3s\tremaining: 9.81s\n",
      "1644:\tlearn: 0.4321083\ttotal: 45.3s\tremaining: 9.79s\n",
      "1645:\tlearn: 0.4320364\ttotal: 45.4s\tremaining: 9.76s\n",
      "1646:\tlearn: 0.4319732\ttotal: 45.4s\tremaining: 9.73s\n",
      "1647:\tlearn: 0.4319045\ttotal: 45.4s\tremaining: 9.7s\n",
      "1648:\tlearn: 0.4318567\ttotal: 45.4s\tremaining: 9.67s\n",
      "1649:\tlearn: 0.4317837\ttotal: 45.5s\tremaining: 9.64s\n",
      "1650:\tlearn: 0.4317044\ttotal: 45.5s\tremaining: 9.62s\n",
      "1651:\tlearn: 0.4316433\ttotal: 45.5s\tremaining: 9.59s\n",
      "1652:\tlearn: 0.4315896\ttotal: 45.5s\tremaining: 9.56s\n",
      "1653:\tlearn: 0.4315301\ttotal: 45.6s\tremaining: 9.53s\n",
      "1654:\tlearn: 0.4314741\ttotal: 45.6s\tremaining: 9.51s\n",
      "1655:\tlearn: 0.4313781\ttotal: 45.6s\tremaining: 9.48s\n",
      "1656:\tlearn: 0.4313437\ttotal: 45.7s\tremaining: 9.46s\n",
      "1657:\tlearn: 0.4312727\ttotal: 45.7s\tremaining: 9.43s\n",
      "1658:\tlearn: 0.4312286\ttotal: 45.7s\tremaining: 9.4s\n",
      "1659:\tlearn: 0.4311776\ttotal: 45.8s\tremaining: 9.38s\n",
      "1660:\tlearn: 0.4311203\ttotal: 45.8s\tremaining: 9.35s\n",
      "1661:\tlearn: 0.4310357\ttotal: 45.8s\tremaining: 9.32s\n",
      "1662:\tlearn: 0.4309623\ttotal: 45.9s\tremaining: 9.29s\n",
      "1663:\tlearn: 0.4309007\ttotal: 45.9s\tremaining: 9.27s\n",
      "1664:\tlearn: 0.4308302\ttotal: 45.9s\tremaining: 9.24s\n",
      "1665:\tlearn: 0.4307596\ttotal: 46s\tremaining: 9.21s\n",
      "1666:\tlearn: 0.4307110\ttotal: 46s\tremaining: 9.19s\n",
      "1667:\tlearn: 0.4306196\ttotal: 46s\tremaining: 9.16s\n",
      "1668:\tlearn: 0.4305431\ttotal: 46s\tremaining: 9.13s\n",
      "1669:\tlearn: 0.4304533\ttotal: 46.1s\tremaining: 9.11s\n",
      "1670:\tlearn: 0.4304054\ttotal: 46.1s\tremaining: 9.08s\n",
      "1671:\tlearn: 0.4303415\ttotal: 46.1s\tremaining: 9.05s\n",
      "1672:\tlearn: 0.4302527\ttotal: 46.2s\tremaining: 9.02s\n",
      "1673:\tlearn: 0.4301924\ttotal: 46.2s\tremaining: 9s\n",
      "1674:\tlearn: 0.4301253\ttotal: 46.2s\tremaining: 8.97s\n",
      "1675:\tlearn: 0.4300890\ttotal: 46.3s\tremaining: 8.94s\n",
      "1676:\tlearn: 0.4300117\ttotal: 46.3s\tremaining: 8.91s\n",
      "1677:\tlearn: 0.4299567\ttotal: 46.3s\tremaining: 8.89s\n",
      "1678:\tlearn: 0.4298680\ttotal: 46.3s\tremaining: 8.86s\n",
      "1679:\tlearn: 0.4298368\ttotal: 46.4s\tremaining: 8.83s\n",
      "1680:\tlearn: 0.4297797\ttotal: 46.4s\tremaining: 8.81s\n",
      "1681:\tlearn: 0.4297465\ttotal: 46.4s\tremaining: 8.78s\n",
      "1682:\tlearn: 0.4296702\ttotal: 46.5s\tremaining: 8.75s\n",
      "1683:\tlearn: 0.4296109\ttotal: 46.5s\tremaining: 8.73s\n",
      "1684:\tlearn: 0.4295443\ttotal: 46.5s\tremaining: 8.7s\n",
      "1685:\tlearn: 0.4294662\ttotal: 46.6s\tremaining: 8.67s\n",
      "1686:\tlearn: 0.4294260\ttotal: 46.6s\tremaining: 8.65s\n",
      "1687:\tlearn: 0.4293607\ttotal: 46.6s\tremaining: 8.62s\n",
      "1688:\tlearn: 0.4293059\ttotal: 46.7s\tremaining: 8.59s\n",
      "1689:\tlearn: 0.4292542\ttotal: 46.7s\tremaining: 8.56s\n",
      "1690:\tlearn: 0.4292225\ttotal: 46.7s\tremaining: 8.54s\n",
      "1691:\tlearn: 0.4292036\ttotal: 46.7s\tremaining: 8.51s\n",
      "1692:\tlearn: 0.4291451\ttotal: 46.8s\tremaining: 8.48s\n",
      "1693:\tlearn: 0.4290770\ttotal: 46.8s\tremaining: 8.46s\n",
      "1694:\tlearn: 0.4289844\ttotal: 46.9s\tremaining: 8.43s\n",
      "1695:\tlearn: 0.4289116\ttotal: 46.9s\tremaining: 8.4s\n",
      "1696:\tlearn: 0.4288688\ttotal: 46.9s\tremaining: 8.38s\n",
      "1697:\tlearn: 0.4288272\ttotal: 47s\tremaining: 8.35s\n",
      "1698:\tlearn: 0.4287609\ttotal: 47s\tremaining: 8.33s\n",
      "1699:\tlearn: 0.4287037\ttotal: 47s\tremaining: 8.3s\n",
      "1700:\tlearn: 0.4286063\ttotal: 47.1s\tremaining: 8.27s\n",
      "1701:\tlearn: 0.4285604\ttotal: 47.1s\tremaining: 8.25s\n",
      "1702:\tlearn: 0.4284951\ttotal: 47.1s\tremaining: 8.22s\n",
      "1703:\tlearn: 0.4284366\ttotal: 47.2s\tremaining: 8.19s\n",
      "1704:\tlearn: 0.4283960\ttotal: 47.2s\tremaining: 8.17s\n",
      "1705:\tlearn: 0.4283090\ttotal: 47.2s\tremaining: 8.14s\n",
      "1706:\tlearn: 0.4282605\ttotal: 47.3s\tremaining: 8.12s\n",
      "1707:\tlearn: 0.4282119\ttotal: 47.3s\tremaining: 8.09s\n",
      "1708:\tlearn: 0.4281539\ttotal: 47.3s\tremaining: 8.06s\n",
      "1709:\tlearn: 0.4281151\ttotal: 47.4s\tremaining: 8.03s\n",
      "1710:\tlearn: 0.4280642\ttotal: 47.4s\tremaining: 8.01s\n",
      "1711:\tlearn: 0.4279906\ttotal: 47.4s\tremaining: 7.98s\n",
      "1712:\tlearn: 0.4279209\ttotal: 47.5s\tremaining: 7.95s\n",
      "1713:\tlearn: 0.4278529\ttotal: 47.5s\tremaining: 7.93s\n",
      "1714:\tlearn: 0.4277959\ttotal: 47.6s\tremaining: 7.9s\n",
      "1715:\tlearn: 0.4277635\ttotal: 47.6s\tremaining: 7.88s\n",
      "1716:\tlearn: 0.4277214\ttotal: 47.6s\tremaining: 7.85s\n",
      "1717:\tlearn: 0.4276233\ttotal: 47.7s\tremaining: 7.82s\n",
      "1718:\tlearn: 0.4275716\ttotal: 47.7s\tremaining: 7.8s\n",
      "1719:\tlearn: 0.4275164\ttotal: 47.7s\tremaining: 7.77s\n",
      "1720:\tlearn: 0.4274391\ttotal: 47.8s\tremaining: 7.74s\n",
      "1721:\tlearn: 0.4273821\ttotal: 47.8s\tremaining: 7.72s\n",
      "1722:\tlearn: 0.4273131\ttotal: 47.8s\tremaining: 7.69s\n",
      "1723:\tlearn: 0.4272322\ttotal: 47.9s\tremaining: 7.66s\n",
      "1724:\tlearn: 0.4271421\ttotal: 47.9s\tremaining: 7.64s\n",
      "1725:\tlearn: 0.4270851\ttotal: 47.9s\tremaining: 7.61s\n",
      "1726:\tlearn: 0.4270259\ttotal: 48s\tremaining: 7.58s\n",
      "1727:\tlearn: 0.4269555\ttotal: 48s\tremaining: 7.56s\n",
      "1728:\tlearn: 0.4268932\ttotal: 48s\tremaining: 7.53s\n",
      "1729:\tlearn: 0.4268326\ttotal: 48.1s\tremaining: 7.5s\n",
      "1730:\tlearn: 0.4267716\ttotal: 48.1s\tremaining: 7.48s\n",
      "1731:\tlearn: 0.4266983\ttotal: 48.1s\tremaining: 7.45s\n",
      "1732:\tlearn: 0.4265773\ttotal: 48.2s\tremaining: 7.42s\n",
      "1733:\tlearn: 0.4265031\ttotal: 48.2s\tremaining: 7.4s\n",
      "1734:\tlearn: 0.4264387\ttotal: 48.3s\tremaining: 7.37s\n",
      "1735:\tlearn: 0.4263765\ttotal: 48.3s\tremaining: 7.34s\n",
      "1736:\tlearn: 0.4263309\ttotal: 48.3s\tremaining: 7.32s\n",
      "1737:\tlearn: 0.4262832\ttotal: 48.4s\tremaining: 7.29s\n",
      "1738:\tlearn: 0.4262216\ttotal: 48.4s\tremaining: 7.26s\n",
      "1739:\tlearn: 0.4261791\ttotal: 48.4s\tremaining: 7.23s\n",
      "1740:\tlearn: 0.4261318\ttotal: 48.4s\tremaining: 7.2s\n",
      "1741:\tlearn: 0.4260514\ttotal: 48.5s\tremaining: 7.18s\n",
      "1742:\tlearn: 0.4259748\ttotal: 48.5s\tremaining: 7.15s\n",
      "1743:\tlearn: 0.4259179\ttotal: 48.5s\tremaining: 7.12s\n",
      "1744:\tlearn: 0.4258318\ttotal: 48.5s\tremaining: 7.09s\n",
      "1745:\tlearn: 0.4257635\ttotal: 48.6s\tremaining: 7.06s\n",
      "1746:\tlearn: 0.4257097\ttotal: 48.6s\tremaining: 7.04s\n",
      "1747:\tlearn: 0.4256651\ttotal: 48.6s\tremaining: 7.01s\n",
      "1748:\tlearn: 0.4256163\ttotal: 48.6s\tremaining: 6.98s\n",
      "1749:\tlearn: 0.4255445\ttotal: 48.7s\tremaining: 6.95s\n",
      "1750:\tlearn: 0.4254802\ttotal: 48.7s\tremaining: 6.93s\n",
      "1751:\tlearn: 0.4254319\ttotal: 48.8s\tremaining: 6.9s\n",
      "1752:\tlearn: 0.4254018\ttotal: 48.8s\tremaining: 6.87s\n",
      "1753:\tlearn: 0.4253670\ttotal: 48.8s\tremaining: 6.85s\n",
      "1754:\tlearn: 0.4253062\ttotal: 48.9s\tremaining: 6.82s\n",
      "1755:\tlearn: 0.4252469\ttotal: 48.9s\tremaining: 6.79s\n",
      "1756:\tlearn: 0.4251817\ttotal: 48.9s\tremaining: 6.77s\n",
      "1757:\tlearn: 0.4251227\ttotal: 49s\tremaining: 6.74s\n",
      "1758:\tlearn: 0.4250378\ttotal: 49s\tremaining: 6.71s\n",
      "1759:\tlearn: 0.4249768\ttotal: 49s\tremaining: 6.69s\n",
      "1760:\tlearn: 0.4249425\ttotal: 49.1s\tremaining: 6.66s\n",
      "1761:\tlearn: 0.4248922\ttotal: 49.1s\tremaining: 6.63s\n",
      "1762:\tlearn: 0.4248383\ttotal: 49.2s\tremaining: 6.61s\n",
      "1763:\tlearn: 0.4247763\ttotal: 49.2s\tremaining: 6.58s\n",
      "1764:\tlearn: 0.4247082\ttotal: 49.2s\tremaining: 6.55s\n",
      "1765:\tlearn: 0.4246640\ttotal: 49.2s\tremaining: 6.53s\n",
      "1766:\tlearn: 0.4246243\ttotal: 49.3s\tremaining: 6.5s\n",
      "1767:\tlearn: 0.4245754\ttotal: 49.3s\tremaining: 6.47s\n",
      "1768:\tlearn: 0.4245507\ttotal: 49.3s\tremaining: 6.44s\n",
      "1769:\tlearn: 0.4244514\ttotal: 49.3s\tremaining: 6.41s\n",
      "1770:\tlearn: 0.4243692\ttotal: 49.4s\tremaining: 6.38s\n",
      "1771:\tlearn: 0.4242997\ttotal: 49.4s\tremaining: 6.36s\n",
      "1772:\tlearn: 0.4242204\ttotal: 49.4s\tremaining: 6.33s\n",
      "1773:\tlearn: 0.4241624\ttotal: 49.5s\tremaining: 6.3s\n",
      "1774:\tlearn: 0.4241111\ttotal: 49.5s\tremaining: 6.27s\n",
      "1775:\tlearn: 0.4240519\ttotal: 49.5s\tremaining: 6.24s\n",
      "1776:\tlearn: 0.4239901\ttotal: 49.5s\tremaining: 6.21s\n",
      "1777:\tlearn: 0.4239392\ttotal: 49.6s\tremaining: 6.19s\n",
      "1778:\tlearn: 0.4238644\ttotal: 49.6s\tremaining: 6.16s\n",
      "1779:\tlearn: 0.4238164\ttotal: 49.6s\tremaining: 6.13s\n",
      "1780:\tlearn: 0.4237233\ttotal: 49.6s\tremaining: 6.1s\n",
      "1781:\tlearn: 0.4236273\ttotal: 49.7s\tremaining: 6.07s\n",
      "1782:\tlearn: 0.4235564\ttotal: 49.7s\tremaining: 6.05s\n",
      "1783:\tlearn: 0.4234909\ttotal: 49.7s\tremaining: 6.02s\n",
      "1784:\tlearn: 0.4234573\ttotal: 49.7s\tremaining: 5.99s\n",
      "1785:\tlearn: 0.4233840\ttotal: 49.8s\tremaining: 5.96s\n",
      "1786:\tlearn: 0.4233462\ttotal: 49.8s\tremaining: 5.93s\n",
      "1787:\tlearn: 0.4232922\ttotal: 49.8s\tremaining: 5.91s\n",
      "1788:\tlearn: 0.4232139\ttotal: 49.9s\tremaining: 5.88s\n",
      "1789:\tlearn: 0.4231466\ttotal: 49.9s\tremaining: 5.85s\n",
      "1790:\tlearn: 0.4230974\ttotal: 49.9s\tremaining: 5.82s\n",
      "1791:\tlearn: 0.4230339\ttotal: 49.9s\tremaining: 5.8s\n",
      "1792:\tlearn: 0.4229779\ttotal: 50s\tremaining: 5.77s\n",
      "1793:\tlearn: 0.4229203\ttotal: 50s\tremaining: 5.74s\n",
      "1794:\tlearn: 0.4228833\ttotal: 50s\tremaining: 5.71s\n",
      "1795:\tlearn: 0.4228410\ttotal: 50.1s\tremaining: 5.69s\n",
      "1796:\tlearn: 0.4227623\ttotal: 50.1s\tremaining: 5.66s\n",
      "1797:\tlearn: 0.4227141\ttotal: 50.1s\tremaining: 5.63s\n",
      "1798:\tlearn: 0.4226356\ttotal: 50.2s\tremaining: 5.61s\n",
      "1799:\tlearn: 0.4225656\ttotal: 50.2s\tremaining: 5.58s\n",
      "1800:\tlearn: 0.4225018\ttotal: 50.2s\tremaining: 5.55s\n",
      "1801:\tlearn: 0.4224103\ttotal: 50.3s\tremaining: 5.52s\n",
      "1802:\tlearn: 0.4223700\ttotal: 50.3s\tremaining: 5.5s\n",
      "1803:\tlearn: 0.4222986\ttotal: 50.3s\tremaining: 5.47s\n",
      "1804:\tlearn: 0.4222443\ttotal: 50.4s\tremaining: 5.44s\n",
      "1805:\tlearn: 0.4221986\ttotal: 50.4s\tremaining: 5.41s\n",
      "1806:\tlearn: 0.4221285\ttotal: 50.4s\tremaining: 5.39s\n",
      "1807:\tlearn: 0.4220476\ttotal: 50.5s\tremaining: 5.36s\n",
      "1808:\tlearn: 0.4220112\ttotal: 50.5s\tremaining: 5.33s\n",
      "1809:\tlearn: 0.4219620\ttotal: 50.5s\tremaining: 5.3s\n",
      "1810:\tlearn: 0.4219117\ttotal: 50.5s\tremaining: 5.27s\n",
      "1811:\tlearn: 0.4218561\ttotal: 50.6s\tremaining: 5.25s\n",
      "1812:\tlearn: 0.4217966\ttotal: 50.6s\tremaining: 5.22s\n",
      "1813:\tlearn: 0.4217628\ttotal: 50.6s\tremaining: 5.19s\n",
      "1814:\tlearn: 0.4217222\ttotal: 50.6s\tremaining: 5.16s\n",
      "1815:\tlearn: 0.4216660\ttotal: 50.7s\tremaining: 5.13s\n",
      "1816:\tlearn: 0.4216181\ttotal: 50.7s\tremaining: 5.1s\n",
      "1817:\tlearn: 0.4215615\ttotal: 50.7s\tremaining: 5.08s\n",
      "1818:\tlearn: 0.4214691\ttotal: 50.7s\tremaining: 5.05s\n",
      "1819:\tlearn: 0.4214056\ttotal: 50.8s\tremaining: 5.02s\n",
      "1820:\tlearn: 0.4213583\ttotal: 50.8s\tremaining: 4.99s\n",
      "1821:\tlearn: 0.4213194\ttotal: 50.8s\tremaining: 4.96s\n",
      "1822:\tlearn: 0.4212498\ttotal: 50.9s\tremaining: 4.94s\n",
      "1823:\tlearn: 0.4212272\ttotal: 50.9s\tremaining: 4.91s\n",
      "1824:\tlearn: 0.4211720\ttotal: 50.9s\tremaining: 4.88s\n",
      "1825:\tlearn: 0.4211233\ttotal: 50.9s\tremaining: 4.85s\n",
      "1826:\tlearn: 0.4210240\ttotal: 51s\tremaining: 4.83s\n",
      "1827:\tlearn: 0.4209386\ttotal: 51s\tremaining: 4.8s\n",
      "1828:\tlearn: 0.4208685\ttotal: 51s\tremaining: 4.77s\n",
      "1829:\tlearn: 0.4207941\ttotal: 51s\tremaining: 4.74s\n",
      "1830:\tlearn: 0.4207438\ttotal: 51.1s\tremaining: 4.71s\n",
      "1831:\tlearn: 0.4206968\ttotal: 51.1s\tremaining: 4.68s\n",
      "1832:\tlearn: 0.4206370\ttotal: 51.1s\tremaining: 4.66s\n",
      "1833:\tlearn: 0.4205779\ttotal: 51.1s\tremaining: 4.63s\n",
      "1834:\tlearn: 0.4205385\ttotal: 51.2s\tremaining: 4.6s\n",
      "1835:\tlearn: 0.4204662\ttotal: 51.2s\tremaining: 4.57s\n",
      "1836:\tlearn: 0.4203961\ttotal: 51.2s\tremaining: 4.54s\n",
      "1837:\tlearn: 0.4203648\ttotal: 51.2s\tremaining: 4.51s\n",
      "1838:\tlearn: 0.4203250\ttotal: 51.2s\tremaining: 4.49s\n",
      "1839:\tlearn: 0.4202824\ttotal: 51.3s\tremaining: 4.46s\n",
      "1840:\tlearn: 0.4202453\ttotal: 51.3s\tremaining: 4.43s\n",
      "1841:\tlearn: 0.4202050\ttotal: 51.3s\tremaining: 4.4s\n",
      "1842:\tlearn: 0.4201332\ttotal: 51.3s\tremaining: 4.37s\n",
      "1843:\tlearn: 0.4200906\ttotal: 51.4s\tremaining: 4.34s\n",
      "1844:\tlearn: 0.4200531\ttotal: 51.4s\tremaining: 4.32s\n",
      "1845:\tlearn: 0.4199823\ttotal: 51.4s\tremaining: 4.29s\n",
      "1846:\tlearn: 0.4199542\ttotal: 51.4s\tremaining: 4.26s\n",
      "1847:\tlearn: 0.4198467\ttotal: 51.5s\tremaining: 4.23s\n",
      "1848:\tlearn: 0.4198097\ttotal: 51.5s\tremaining: 4.21s\n",
      "1849:\tlearn: 0.4197683\ttotal: 51.5s\tremaining: 4.18s\n",
      "1850:\tlearn: 0.4196985\ttotal: 51.5s\tremaining: 4.15s\n",
      "1851:\tlearn: 0.4196364\ttotal: 51.6s\tremaining: 4.12s\n",
      "1852:\tlearn: 0.4195392\ttotal: 51.6s\tremaining: 4.09s\n",
      "1853:\tlearn: 0.4194596\ttotal: 51.6s\tremaining: 4.07s\n",
      "1854:\tlearn: 0.4194193\ttotal: 51.6s\tremaining: 4.04s\n",
      "1855:\tlearn: 0.4193753\ttotal: 51.7s\tremaining: 4.01s\n",
      "1856:\tlearn: 0.4193266\ttotal: 51.7s\tremaining: 3.98s\n",
      "1857:\tlearn: 0.4192693\ttotal: 51.7s\tremaining: 3.95s\n",
      "1858:\tlearn: 0.4191990\ttotal: 51.8s\tremaining: 3.92s\n",
      "1859:\tlearn: 0.4191563\ttotal: 51.8s\tremaining: 3.9s\n",
      "1860:\tlearn: 0.4190999\ttotal: 51.8s\tremaining: 3.87s\n",
      "1861:\tlearn: 0.4190488\ttotal: 51.8s\tremaining: 3.84s\n",
      "1862:\tlearn: 0.4190083\ttotal: 51.9s\tremaining: 3.81s\n",
      "1863:\tlearn: 0.4189694\ttotal: 51.9s\tremaining: 3.79s\n",
      "1864:\tlearn: 0.4189182\ttotal: 51.9s\tremaining: 3.76s\n",
      "1865:\tlearn: 0.4188866\ttotal: 51.9s\tremaining: 3.73s\n",
      "1866:\tlearn: 0.4188487\ttotal: 52s\tremaining: 3.7s\n",
      "1867:\tlearn: 0.4187941\ttotal: 52s\tremaining: 3.67s\n",
      "1868:\tlearn: 0.4187214\ttotal: 52s\tremaining: 3.65s\n",
      "1869:\tlearn: 0.4186410\ttotal: 52s\tremaining: 3.62s\n",
      "1870:\tlearn: 0.4185735\ttotal: 52.1s\tremaining: 3.59s\n",
      "1871:\tlearn: 0.4185247\ttotal: 52.1s\tremaining: 3.56s\n",
      "1872:\tlearn: 0.4184727\ttotal: 52.1s\tremaining: 3.53s\n",
      "1873:\tlearn: 0.4183823\ttotal: 52.1s\tremaining: 3.5s\n",
      "1874:\tlearn: 0.4183268\ttotal: 52.2s\tremaining: 3.48s\n",
      "1875:\tlearn: 0.4182769\ttotal: 52.2s\tremaining: 3.45s\n",
      "1876:\tlearn: 0.4182507\ttotal: 52.2s\tremaining: 3.42s\n",
      "1877:\tlearn: 0.4181669\ttotal: 52.2s\tremaining: 3.39s\n",
      "1878:\tlearn: 0.4181253\ttotal: 52.3s\tremaining: 3.37s\n",
      "1879:\tlearn: 0.4180322\ttotal: 52.3s\tremaining: 3.34s\n",
      "1880:\tlearn: 0.4180017\ttotal: 52.3s\tremaining: 3.31s\n",
      "1881:\tlearn: 0.4179329\ttotal: 52.4s\tremaining: 3.28s\n",
      "1882:\tlearn: 0.4178872\ttotal: 52.4s\tremaining: 3.25s\n",
      "1883:\tlearn: 0.4178260\ttotal: 52.4s\tremaining: 3.23s\n",
      "1884:\tlearn: 0.4177863\ttotal: 52.4s\tremaining: 3.2s\n",
      "1885:\tlearn: 0.4177240\ttotal: 52.5s\tremaining: 3.17s\n",
      "1886:\tlearn: 0.4176622\ttotal: 52.5s\tremaining: 3.14s\n",
      "1887:\tlearn: 0.4176135\ttotal: 52.5s\tremaining: 3.12s\n",
      "1888:\tlearn: 0.4175436\ttotal: 52.5s\tremaining: 3.09s\n",
      "1889:\tlearn: 0.4174754\ttotal: 52.6s\tremaining: 3.06s\n",
      "1890:\tlearn: 0.4173992\ttotal: 52.6s\tremaining: 3.03s\n",
      "1891:\tlearn: 0.4173573\ttotal: 52.6s\tremaining: 3s\n",
      "1892:\tlearn: 0.4172875\ttotal: 52.6s\tremaining: 2.98s\n",
      "1893:\tlearn: 0.4172312\ttotal: 52.7s\tremaining: 2.95s\n",
      "1894:\tlearn: 0.4171792\ttotal: 52.7s\tremaining: 2.92s\n",
      "1895:\tlearn: 0.4171050\ttotal: 52.7s\tremaining: 2.89s\n",
      "1896:\tlearn: 0.4170698\ttotal: 52.7s\tremaining: 2.86s\n",
      "1897:\tlearn: 0.4170085\ttotal: 52.8s\tremaining: 2.83s\n",
      "1898:\tlearn: 0.4169290\ttotal: 52.8s\tremaining: 2.81s\n",
      "1899:\tlearn: 0.4168929\ttotal: 52.8s\tremaining: 2.78s\n",
      "1900:\tlearn: 0.4168472\ttotal: 52.9s\tremaining: 2.75s\n",
      "1901:\tlearn: 0.4167628\ttotal: 52.9s\tremaining: 2.73s\n",
      "1902:\tlearn: 0.4167337\ttotal: 52.9s\tremaining: 2.7s\n",
      "1903:\tlearn: 0.4166829\ttotal: 52.9s\tremaining: 2.67s\n",
      "1904:\tlearn: 0.4166310\ttotal: 53s\tremaining: 2.64s\n",
      "1905:\tlearn: 0.4165970\ttotal: 53s\tremaining: 2.62s\n",
      "1906:\tlearn: 0.4165148\ttotal: 53.1s\tremaining: 2.59s\n",
      "1907:\tlearn: 0.4164594\ttotal: 53.1s\tremaining: 2.56s\n",
      "1908:\tlearn: 0.4164096\ttotal: 53.1s\tremaining: 2.53s\n",
      "1909:\tlearn: 0.4163431\ttotal: 53.2s\tremaining: 2.5s\n",
      "1910:\tlearn: 0.4163011\ttotal: 53.2s\tremaining: 2.48s\n",
      "1911:\tlearn: 0.4162682\ttotal: 53.2s\tremaining: 2.45s\n",
      "1912:\tlearn: 0.4162310\ttotal: 53.3s\tremaining: 2.42s\n",
      "1913:\tlearn: 0.4161917\ttotal: 53.3s\tremaining: 2.39s\n",
      "1914:\tlearn: 0.4161520\ttotal: 53.3s\tremaining: 2.37s\n",
      "1915:\tlearn: 0.4160507\ttotal: 53.3s\tremaining: 2.34s\n",
      "1916:\tlearn: 0.4159817\ttotal: 53.4s\tremaining: 2.31s\n",
      "1917:\tlearn: 0.4159387\ttotal: 53.4s\tremaining: 2.28s\n",
      "1918:\tlearn: 0.4158524\ttotal: 53.4s\tremaining: 2.25s\n",
      "1919:\tlearn: 0.4158116\ttotal: 53.4s\tremaining: 2.23s\n",
      "1920:\tlearn: 0.4157490\ttotal: 53.5s\tremaining: 2.2s\n",
      "1921:\tlearn: 0.4157170\ttotal: 53.5s\tremaining: 2.17s\n",
      "1922:\tlearn: 0.4156261\ttotal: 53.5s\tremaining: 2.14s\n",
      "1923:\tlearn: 0.4155886\ttotal: 53.6s\tremaining: 2.12s\n",
      "1924:\tlearn: 0.4155428\ttotal: 53.6s\tremaining: 2.09s\n",
      "1925:\tlearn: 0.4154781\ttotal: 53.6s\tremaining: 2.06s\n",
      "1926:\tlearn: 0.4153985\ttotal: 53.6s\tremaining: 2.03s\n",
      "1927:\tlearn: 0.4153554\ttotal: 53.7s\tremaining: 2s\n",
      "1928:\tlearn: 0.4152694\ttotal: 53.7s\tremaining: 1.98s\n",
      "1929:\tlearn: 0.4152450\ttotal: 53.7s\tremaining: 1.95s\n",
      "1930:\tlearn: 0.4151957\ttotal: 53.8s\tremaining: 1.92s\n",
      "1931:\tlearn: 0.4151375\ttotal: 53.8s\tremaining: 1.89s\n",
      "1932:\tlearn: 0.4150951\ttotal: 53.8s\tremaining: 1.86s\n",
      "1933:\tlearn: 0.4150361\ttotal: 53.8s\tremaining: 1.84s\n",
      "1934:\tlearn: 0.4149827\ttotal: 53.9s\tremaining: 1.81s\n",
      "1935:\tlearn: 0.4149074\ttotal: 53.9s\tremaining: 1.78s\n",
      "1936:\tlearn: 0.4148662\ttotal: 53.9s\tremaining: 1.75s\n",
      "1937:\tlearn: 0.4148044\ttotal: 54s\tremaining: 1.73s\n",
      "1938:\tlearn: 0.4147452\ttotal: 54s\tremaining: 1.7s\n",
      "1939:\tlearn: 0.4146974\ttotal: 54s\tremaining: 1.67s\n",
      "1940:\tlearn: 0.4146692\ttotal: 54s\tremaining: 1.64s\n",
      "1941:\tlearn: 0.4145866\ttotal: 54.1s\tremaining: 1.61s\n",
      "1942:\tlearn: 0.4145474\ttotal: 54.1s\tremaining: 1.59s\n",
      "1943:\tlearn: 0.4145096\ttotal: 54.1s\tremaining: 1.56s\n",
      "1944:\tlearn: 0.4144745\ttotal: 54.2s\tremaining: 1.53s\n",
      "1945:\tlearn: 0.4144560\ttotal: 54.2s\tremaining: 1.5s\n",
      "1946:\tlearn: 0.4143702\ttotal: 54.2s\tremaining: 1.48s\n",
      "1947:\tlearn: 0.4143248\ttotal: 54.2s\tremaining: 1.45s\n",
      "1948:\tlearn: 0.4142871\ttotal: 54.3s\tremaining: 1.42s\n",
      "1949:\tlearn: 0.4142395\ttotal: 54.3s\tremaining: 1.39s\n",
      "1950:\tlearn: 0.4141587\ttotal: 54.3s\tremaining: 1.36s\n",
      "1951:\tlearn: 0.4140948\ttotal: 54.3s\tremaining: 1.34s\n",
      "1952:\tlearn: 0.4140266\ttotal: 54.4s\tremaining: 1.31s\n",
      "1953:\tlearn: 0.4139606\ttotal: 54.4s\tremaining: 1.28s\n",
      "1954:\tlearn: 0.4138810\ttotal: 54.4s\tremaining: 1.25s\n",
      "1955:\tlearn: 0.4138198\ttotal: 54.5s\tremaining: 1.23s\n",
      "1956:\tlearn: 0.4137777\ttotal: 54.5s\tremaining: 1.2s\n",
      "1957:\tlearn: 0.4137279\ttotal: 54.5s\tremaining: 1.17s\n",
      "1958:\tlearn: 0.4136797\ttotal: 54.6s\tremaining: 1.14s\n",
      "1959:\tlearn: 0.4136351\ttotal: 54.6s\tremaining: 1.11s\n",
      "1960:\tlearn: 0.4135542\ttotal: 54.6s\tremaining: 1.09s\n",
      "1961:\tlearn: 0.4134951\ttotal: 54.6s\tremaining: 1.06s\n",
      "1962:\tlearn: 0.4134415\ttotal: 54.7s\tremaining: 1.03s\n",
      "1963:\tlearn: 0.4133891\ttotal: 54.7s\tremaining: 1s\n",
      "1964:\tlearn: 0.4133526\ttotal: 54.7s\tremaining: 975ms\n",
      "1965:\tlearn: 0.4132938\ttotal: 54.7s\tremaining: 947ms\n",
      "1966:\tlearn: 0.4132472\ttotal: 54.8s\tremaining: 919ms\n",
      "1967:\tlearn: 0.4131885\ttotal: 54.8s\tremaining: 891ms\n",
      "1968:\tlearn: 0.4131250\ttotal: 54.8s\tremaining: 863ms\n",
      "1969:\tlearn: 0.4130909\ttotal: 54.8s\tremaining: 835ms\n",
      "1970:\tlearn: 0.4130254\ttotal: 54.9s\tremaining: 807ms\n",
      "1971:\tlearn: 0.4129476\ttotal: 54.9s\tremaining: 780ms\n",
      "1972:\tlearn: 0.4129118\ttotal: 54.9s\tremaining: 752ms\n",
      "1973:\tlearn: 0.4128343\ttotal: 54.9s\tremaining: 724ms\n",
      "1974:\tlearn: 0.4127520\ttotal: 55s\tremaining: 696ms\n",
      "1975:\tlearn: 0.4126844\ttotal: 55s\tremaining: 668ms\n",
      "1976:\tlearn: 0.4126176\ttotal: 55s\tremaining: 640ms\n",
      "1977:\tlearn: 0.4125763\ttotal: 55.1s\tremaining: 612ms\n",
      "1978:\tlearn: 0.4125334\ttotal: 55.1s\tremaining: 584ms\n",
      "1979:\tlearn: 0.4124811\ttotal: 55.1s\tremaining: 557ms\n",
      "1980:\tlearn: 0.4124391\ttotal: 55.1s\tremaining: 529ms\n",
      "1981:\tlearn: 0.4123901\ttotal: 55.2s\tremaining: 501ms\n",
      "1982:\tlearn: 0.4123376\ttotal: 55.2s\tremaining: 473ms\n",
      "1983:\tlearn: 0.4122478\ttotal: 55.2s\tremaining: 445ms\n",
      "1984:\tlearn: 0.4122062\ttotal: 55.2s\tremaining: 417ms\n",
      "1985:\tlearn: 0.4121667\ttotal: 55.3s\tremaining: 389ms\n",
      "1986:\tlearn: 0.4121383\ttotal: 55.3s\tremaining: 362ms\n",
      "1987:\tlearn: 0.4120892\ttotal: 55.3s\tremaining: 334ms\n",
      "1988:\tlearn: 0.4120504\ttotal: 55.3s\tremaining: 306ms\n",
      "1989:\tlearn: 0.4119832\ttotal: 55.3s\tremaining: 278ms\n",
      "1990:\tlearn: 0.4119465\ttotal: 55.4s\tremaining: 250ms\n",
      "1991:\tlearn: 0.4118772\ttotal: 55.4s\tremaining: 222ms\n",
      "1992:\tlearn: 0.4118323\ttotal: 55.4s\tremaining: 195ms\n",
      "1993:\tlearn: 0.4117695\ttotal: 55.4s\tremaining: 167ms\n",
      "1994:\tlearn: 0.4117369\ttotal: 55.5s\tremaining: 139ms\n",
      "1995:\tlearn: 0.4116668\ttotal: 55.5s\tremaining: 111ms\n",
      "1996:\tlearn: 0.4116046\ttotal: 55.5s\tremaining: 83.4ms\n",
      "1997:\tlearn: 0.4115683\ttotal: 55.5s\tremaining: 55.6ms\n",
      "1998:\tlearn: 0.4115017\ttotal: 55.6s\tremaining: 27.8ms\n",
      "1999:\tlearn: 0.4114235\ttotal: 55.6s\tremaining: 0us\n"
     ]
    },
    {
     "data": {
      "text/plain": [
       "Pipeline(steps=[('preprocess',\n",
       "                 ColumnTransformer(transformers=[('categorical',\n",
       "                                                  Pipeline(steps=[('mestimate_encode',\n",
       "                                                                   CatBoostEncoder()),\n",
       "                                                                  ('impute',\n",
       "                                                                   SimpleImputer(strategy='most_frequent'))]),\n",
       "                                                  ['funder', 'installer',\n",
       "                                                   'basin', 'region',\n",
       "                                                   'region_code',\n",
       "                                                   'district_code', 'lga',\n",
       "                                                   'ward', 'public_meeting',\n",
       "                                                   'scheme_management',\n",
       "                                                   'permit',\n",
       "                                                   'construction_year',\n",
       "                                                   'extraction_type_...\n",
       "                                                   'water_quant_class']),\n",
       "                                                 ('numeric',\n",
       "                                                  Pipeline(steps=[('impute',\n",
       "                                                                   IterativeImputer()),\n",
       "                                                                  ('scale',\n",
       "                                                                   StandardScaler())]),\n",
       "                                                  ['amount_tsh', 'gps_height',\n",
       "                                                   'longitude', 'latitude',\n",
       "                                                   'population',\n",
       "                                                   'waterpoint_age',\n",
       "                                                   'years_since_inspected',\n",
       "                                                   'used_pump',\n",
       "                                                   'consistent_payment',\n",
       "                                                   'good_qual_sufficient',\n",
       "                                                   'above_avg_pop'])])),\n",
       "                ('clf',\n",
       "                 <catboost.core.CatBoostClassifier object at 0x0000025294C5B130>)])"
      ]
     },
     "execution_count": 1805,
     "metadata": {},
     "output_type": "execute_result"
    }
   ],
   "source": [
    "cbc_pipeline.fit(X_train, y_train)"
   ]
  },
  {
   "cell_type": "code",
   "execution_count": 1806,
   "metadata": {},
   "outputs": [
    {
     "name": "stdout",
     "output_type": "stream",
     "text": [
      "0.6465503031373309\n",
      "              precision    recall  f1-score   support\n",
      "\n",
      "         0.0       0.77      0.89      0.83      3253\n",
      "         1.0       0.81      0.73      0.77      2268\n",
      "         2.0       0.64      0.24      0.35       419\n",
      "\n",
      "    accuracy                           0.78      5940\n",
      "   macro avg       0.74      0.62      0.65      5940\n",
      "weighted avg       0.78      0.78      0.77      5940\n",
      "\n",
      "[[2888  319   46]\n",
      " [ 604 1653   11]\n",
      " [ 241   78  100]]\n"
     ]
    }
   ],
   "source": [
    "#Make some baseline preds\n",
    "cbc_base_preds = cbc_pipeline.predict(X_val)\n",
    "\n",
    "print(f1_score(y_val, cbc_base_preds, average='macro'))\n",
    "print(classification_report(y_val, cbc_base_preds))\n",
    "print(confusion_matrix(y_val, cbc_base_preds))"
   ]
  },
  {
   "cell_type": "code",
   "execution_count": 1871,
   "metadata": {},
   "outputs": [
    {
     "name": "stdout",
     "output_type": "stream",
     "text": [
      "0.6524153886546497\n",
      "              precision    recall  f1-score   support\n",
      "\n",
      "         0.0       0.77      0.90      0.83      3199\n",
      "         1.0       0.83      0.73      0.78      2297\n",
      "         2.0       0.59      0.25      0.35       444\n",
      "\n",
      "    accuracy                           0.79      5940\n",
      "   macro avg       0.73      0.63      0.65      5940\n",
      "weighted avg       0.78      0.79      0.77      5940\n",
      "\n",
      "[[2878  271   50]\n",
      " [ 585 1686   26]\n",
      " [ 263   72  109]]\n"
     ]
    }
   ],
   "source": [
    "cbc_test_preds = cbc_pipeline.predict(X_test)\n",
    "\n",
    "print(f1_score(y_test, cbc_test_preds, average='macro'))\n",
    "print(classification_report(y_test, cbc_test_preds))\n",
    "print(confusion_matrix(y_test, cbc_test_preds))"
   ]
  },
  {
   "cell_type": "code",
   "execution_count": 5490,
   "metadata": {},
   "outputs": [
    {
     "name": "stderr",
     "output_type": "stream",
     "text": [
      "C:\\Users\\Matth\\Anaconda3\\lib\\site-packages\\sklearn\\compose\\_column_transformer.py:437: FutureWarning: Given feature/column names or counts do not match the ones for the data given during fit. This will fail from v0.24.\n",
      "  warnings.warn(\"Given feature/column names or counts do not match \"\n"
     ]
    },
    {
     "data": {
      "text/plain": [
       "array([[1.],\n",
       "       [0.],\n",
       "       [0.],\n",
       "       ...,\n",
       "       [0.],\n",
       "       [0.],\n",
       "       [1.]])"
      ]
     },
     "execution_count": 5490,
     "metadata": {},
     "output_type": "execute_result"
    }
   ],
   "source": [
    "#Now predict on final data set as a test\n",
    "cbc_base_final_pred = cbc_pipeline.predict(final_test_features)\n",
    "cbc_base_final_pred\n",
    "#combined_df['status_group'] = combined_df['status_group'].replace({'functional' : 0, 'non functional':1, 'functional needs repair':2})"
   ]
  },
  {
   "cell_type": "code",
   "execution_count": 5492,
   "metadata": {},
   "outputs": [],
   "source": [
    "#Creating DF with final results\n",
    "submission_2 = pd.DataFrame({'id': test_features.iloc[:,0], 'status_group': cbc_base_final_pred[:, 0]})\n",
    "\n",
    "submission_2['status_group'] = submission_2.apply(convert_status, axis =1)"
   ]
  },
  {
   "cell_type": "code",
   "execution_count": 5494,
   "metadata": {},
   "outputs": [
    {
     "data": {
      "text/html": [
       "<div>\n",
       "<style scoped>\n",
       "    .dataframe tbody tr th:only-of-type {\n",
       "        vertical-align: middle;\n",
       "    }\n",
       "\n",
       "    .dataframe tbody tr th {\n",
       "        vertical-align: top;\n",
       "    }\n",
       "\n",
       "    .dataframe thead th {\n",
       "        text-align: right;\n",
       "    }\n",
       "</style>\n",
       "<table border=\"1\" class=\"dataframe\">\n",
       "  <thead>\n",
       "    <tr style=\"text-align: right;\">\n",
       "      <th></th>\n",
       "      <th>id</th>\n",
       "      <th>status_group</th>\n",
       "    </tr>\n",
       "  </thead>\n",
       "  <tbody>\n",
       "    <tr>\n",
       "      <th>0</th>\n",
       "      <td>50785</td>\n",
       "      <td>non functional</td>\n",
       "    </tr>\n",
       "    <tr>\n",
       "      <th>1</th>\n",
       "      <td>51630</td>\n",
       "      <td>functional</td>\n",
       "    </tr>\n",
       "    <tr>\n",
       "      <th>2</th>\n",
       "      <td>17168</td>\n",
       "      <td>functional</td>\n",
       "    </tr>\n",
       "    <tr>\n",
       "      <th>3</th>\n",
       "      <td>45559</td>\n",
       "      <td>non functional</td>\n",
       "    </tr>\n",
       "    <tr>\n",
       "      <th>4</th>\n",
       "      <td>49871</td>\n",
       "      <td>functional</td>\n",
       "    </tr>\n",
       "  </tbody>\n",
       "</table>\n",
       "</div>"
      ],
      "text/plain": [
       "      id    status_group\n",
       "0  50785  non functional\n",
       "1  51630      functional\n",
       "2  17168      functional\n",
       "3  45559  non functional\n",
       "4  49871      functional"
      ]
     },
     "execution_count": 5494,
     "metadata": {},
     "output_type": "execute_result"
    }
   ],
   "source": [
    "submission_2.head()"
   ]
  },
  {
   "cell_type": "code",
   "execution_count": 5496,
   "metadata": {},
   "outputs": [],
   "source": [
    "#Pushing to CSV\n",
    "submission_2.to_csv('rf_preds_cat_2.csv', index=False)"
   ]
  },
  {
   "cell_type": "code",
   "execution_count": 2457,
   "metadata": {},
   "outputs": [],
   "source": [
    "#Now trying FLAML\n",
    "from flaml import AutoML\n",
    "\n",
    "automl = AutoML()"
   ]
  },
  {
   "cell_type": "code",
   "execution_count": 2458,
   "metadata": {},
   "outputs": [
    {
     "name": "stderr",
     "output_type": "stream",
     "text": [
      "[flaml.automl: 08-02 23:45:37] {911} INFO - Evaluation method: ['cv']\n",
      "[flaml.automl: 08-02 23:45:37] {606} INFO - Using StratifiedKFold\n",
      "[flaml.automl: 08-02 23:45:37] {932} INFO - Minimizing error metric: 1-macro_f1\n",
      "[flaml.automl: 08-02 23:45:37] {951} INFO - List of ML learners in AutoML Run: ['lgbm', 'xgboost', 'catboost', 'rf', 'extra_tree']\n",
      "[flaml.automl: 08-02 23:45:37] {1017} INFO - iteration 0, current learner lgbm\n",
      "[flaml.automl: 08-02 23:45:38] {1172} INFO -  at 0.5s,\tbest lgbm's error=0.5384,\tbest lgbm's error=0.5384\n",
      "[flaml.automl: 08-02 23:45:38] {1017} INFO - iteration 1, current learner lgbm\n",
      "[flaml.automl: 08-02 23:45:38] {1172} INFO -  at 0.7s,\tbest lgbm's error=0.5384,\tbest lgbm's error=0.5384\n",
      "[flaml.automl: 08-02 23:45:38] {1017} INFO - iteration 2, current learner lgbm\n",
      "[flaml.automl: 08-02 23:45:38] {1172} INFO -  at 1.1s,\tbest lgbm's error=0.5228,\tbest lgbm's error=0.5228\n",
      "[flaml.automl: 08-02 23:45:38] {1017} INFO - iteration 3, current learner lgbm\n",
      "[flaml.automl: 08-02 23:45:39] {1172} INFO -  at 1.4s,\tbest lgbm's error=0.4477,\tbest lgbm's error=0.4477\n",
      "[flaml.automl: 08-02 23:45:39] {1017} INFO - iteration 4, current learner lgbm\n",
      "[flaml.automl: 08-02 23:45:39] {1172} INFO -  at 1.6s,\tbest lgbm's error=0.4477,\tbest lgbm's error=0.4477\n",
      "[flaml.automl: 08-02 23:45:39] {1017} INFO - iteration 5, current learner lgbm\n",
      "[flaml.automl: 08-02 23:45:39] {1172} INFO -  at 1.8s,\tbest lgbm's error=0.4477,\tbest lgbm's error=0.4477\n",
      "[flaml.automl: 08-02 23:45:39] {1017} INFO - iteration 6, current learner lgbm\n",
      "[flaml.automl: 08-02 23:45:40] {1172} INFO -  at 2.2s,\tbest lgbm's error=0.4260,\tbest lgbm's error=0.4260\n",
      "[flaml.automl: 08-02 23:45:40] {1017} INFO - iteration 7, current learner xgboost\n",
      "[flaml.automl: 08-02 23:45:40] {1172} INFO -  at 2.5s,\tbest xgboost's error=0.5058,\tbest lgbm's error=0.4260\n",
      "[flaml.automl: 08-02 23:45:40] {1017} INFO - iteration 8, current learner lgbm\n",
      "[flaml.automl: 08-02 23:45:40] {1172} INFO -  at 3.0s,\tbest lgbm's error=0.4112,\tbest lgbm's error=0.4112\n",
      "[flaml.automl: 08-02 23:45:40] {1017} INFO - iteration 9, current learner lgbm\n",
      "[flaml.automl: 08-02 23:45:41] {1172} INFO -  at 3.4s,\tbest lgbm's error=0.4112,\tbest lgbm's error=0.4112\n",
      "[flaml.automl: 08-02 23:45:41] {1017} INFO - iteration 10, current learner xgboost\n",
      "[flaml.automl: 08-02 23:45:41] {1172} INFO -  at 3.6s,\tbest xgboost's error=0.5058,\tbest lgbm's error=0.4112\n",
      "[flaml.automl: 08-02 23:45:41] {1017} INFO - iteration 11, current learner xgboost\n",
      "[flaml.automl: 08-02 23:45:41] {1172} INFO -  at 3.9s,\tbest xgboost's error=0.4935,\tbest lgbm's error=0.4112\n",
      "[flaml.automl: 08-02 23:45:41] {1017} INFO - iteration 12, current learner lgbm\n",
      "[flaml.automl: 08-02 23:45:42] {1172} INFO -  at 4.6s,\tbest lgbm's error=0.3902,\tbest lgbm's error=0.3902\n",
      "[flaml.automl: 08-02 23:45:42] {1017} INFO - iteration 13, current learner xgboost\n",
      "[flaml.automl: 08-02 23:45:42] {1172} INFO -  at 4.9s,\tbest xgboost's error=0.4652,\tbest lgbm's error=0.3902\n",
      "[flaml.automl: 08-02 23:45:42] {1017} INFO - iteration 14, current learner lgbm\n",
      "[flaml.automl: 08-02 23:45:43] {1172} INFO -  at 5.2s,\tbest lgbm's error=0.3902,\tbest lgbm's error=0.3902\n",
      "[flaml.automl: 08-02 23:45:43] {1017} INFO - iteration 15, current learner xgboost\n",
      "[flaml.automl: 08-02 23:45:43] {1172} INFO -  at 5.5s,\tbest xgboost's error=0.4652,\tbest lgbm's error=0.3902\n",
      "[flaml.automl: 08-02 23:45:43] {1017} INFO - iteration 16, current learner lgbm\n",
      "[flaml.automl: 08-02 23:45:43] {1172} INFO -  at 5.8s,\tbest lgbm's error=0.3902,\tbest lgbm's error=0.3902\n",
      "[flaml.automl: 08-02 23:45:43] {1017} INFO - iteration 17, current learner xgboost\n",
      "[flaml.automl: 08-02 23:45:43] {1172} INFO -  at 6.1s,\tbest xgboost's error=0.4652,\tbest lgbm's error=0.3902\n",
      "[flaml.automl: 08-02 23:45:43] {1017} INFO - iteration 18, current learner xgboost\n",
      "[flaml.automl: 08-02 23:45:44] {1172} INFO -  at 6.5s,\tbest xgboost's error=0.4325,\tbest lgbm's error=0.3902\n",
      "[flaml.automl: 08-02 23:45:44] {1017} INFO - iteration 19, current learner extra_tree\n",
      "[flaml.automl: 08-02 23:45:44] {1172} INFO -  at 7.1s,\tbest extra_tree's error=0.3781,\tbest extra_tree's error=0.3781\n",
      "[flaml.automl: 08-02 23:45:44] {1017} INFO - iteration 20, current learner extra_tree\n",
      "[flaml.automl: 08-02 23:45:45] {1172} INFO -  at 7.6s,\tbest extra_tree's error=0.3776,\tbest extra_tree's error=0.3776\n",
      "[flaml.automl: 08-02 23:45:45] {1017} INFO - iteration 21, current learner lgbm\n",
      "[flaml.automl: 08-02 23:45:46] {1172} INFO -  at 8.6s,\tbest lgbm's error=0.3760,\tbest lgbm's error=0.3760\n",
      "[flaml.automl: 08-02 23:45:46] {1017} INFO - iteration 22, current learner xgboost\n",
      "[flaml.automl: 08-02 23:45:47] {1172} INFO -  at 9.2s,\tbest xgboost's error=0.4284,\tbest lgbm's error=0.3760\n",
      "[flaml.automl: 08-02 23:45:47] {1017} INFO - iteration 23, current learner extra_tree\n",
      "[flaml.automl: 08-02 23:45:47] {1172} INFO -  at 9.7s,\tbest extra_tree's error=0.3773,\tbest lgbm's error=0.3760\n",
      "[flaml.automl: 08-02 23:45:47] {1017} INFO - iteration 24, current learner extra_tree\n",
      "[flaml.automl: 08-02 23:45:48] {1172} INFO -  at 10.4s,\tbest extra_tree's error=0.3718,\tbest extra_tree's error=0.3718\n",
      "[flaml.automl: 08-02 23:45:48] {1017} INFO - iteration 25, current learner xgboost\n",
      "[flaml.automl: 08-02 23:45:48] {1172} INFO -  at 11.0s,\tbest xgboost's error=0.4284,\tbest extra_tree's error=0.3718\n",
      "[flaml.automl: 08-02 23:45:48] {1017} INFO - iteration 26, current learner extra_tree\n",
      "[flaml.automl: 08-02 23:45:49] {1172} INFO -  at 11.7s,\tbest extra_tree's error=0.3698,\tbest extra_tree's error=0.3698\n",
      "[flaml.automl: 08-02 23:45:49] {1017} INFO - iteration 27, current learner extra_tree\n",
      "[flaml.automl: 08-02 23:45:50] {1172} INFO -  at 12.5s,\tbest extra_tree's error=0.3672,\tbest extra_tree's error=0.3672\n",
      "[flaml.automl: 08-02 23:45:50] {1017} INFO - iteration 28, current learner extra_tree\n",
      "[flaml.automl: 08-02 23:45:50] {1172} INFO -  at 12.9s,\tbest extra_tree's error=0.3672,\tbest extra_tree's error=0.3672\n",
      "[flaml.automl: 08-02 23:45:50] {1017} INFO - iteration 29, current learner lgbm\n",
      "[flaml.automl: 08-02 23:45:51] {1172} INFO -  at 13.5s,\tbest lgbm's error=0.3743,\tbest extra_tree's error=0.3672\n",
      "[flaml.automl: 08-02 23:45:51] {1017} INFO - iteration 30, current learner lgbm\n",
      "[flaml.automl: 08-02 23:45:52] {1172} INFO -  at 14.1s,\tbest lgbm's error=0.3743,\tbest extra_tree's error=0.3672\n",
      "[flaml.automl: 08-02 23:45:52] {1017} INFO - iteration 31, current learner lgbm\n",
      "[flaml.automl: 08-02 23:45:52] {1172} INFO -  at 14.5s,\tbest lgbm's error=0.3743,\tbest extra_tree's error=0.3672\n",
      "[flaml.automl: 08-02 23:45:52] {1017} INFO - iteration 32, current learner extra_tree\n",
      "[flaml.automl: 08-02 23:45:52] {1172} INFO -  at 15.0s,\tbest extra_tree's error=0.3672,\tbest extra_tree's error=0.3672\n",
      "[flaml.automl: 08-02 23:45:52] {1017} INFO - iteration 33, current learner lgbm\n",
      "[flaml.automl: 08-02 23:45:53] {1172} INFO -  at 15.9s,\tbest lgbm's error=0.3725,\tbest extra_tree's error=0.3672\n",
      "[flaml.automl: 08-02 23:45:53] {1017} INFO - iteration 34, current learner xgboost\n",
      "[flaml.automl: 08-02 23:45:54] {1172} INFO -  at 16.7s,\tbest xgboost's error=0.3944,\tbest extra_tree's error=0.3672\n",
      "[flaml.automl: 08-02 23:45:54] {1017} INFO - iteration 35, current learner rf\n",
      "[flaml.automl: 08-02 23:45:55] {1172} INFO -  at 17.4s,\tbest rf's error=0.3881,\tbest extra_tree's error=0.3672\n",
      "[flaml.automl: 08-02 23:45:55] {1017} INFO - iteration 36, current learner extra_tree\n",
      "[flaml.automl: 08-02 23:45:56] {1172} INFO -  at 18.7s,\tbest extra_tree's error=0.3612,\tbest extra_tree's error=0.3612\n",
      "[flaml.automl: 08-02 23:45:56] {1017} INFO - iteration 37, current learner rf\n",
      "[flaml.automl: 08-02 23:45:57] {1172} INFO -  at 19.3s,\tbest rf's error=0.3881,\tbest extra_tree's error=0.3612\n",
      "[flaml.automl: 08-02 23:45:57] {1017} INFO - iteration 38, current learner rf\n",
      "[flaml.automl: 08-02 23:45:57] {1172} INFO -  at 20.1s,\tbest rf's error=0.3881,\tbest extra_tree's error=0.3612\n",
      "[flaml.automl: 08-02 23:45:57] {1017} INFO - iteration 39, current learner xgboost\n",
      "[flaml.automl: 08-02 23:45:58] {1172} INFO -  at 20.7s,\tbest xgboost's error=0.3944,\tbest extra_tree's error=0.3612\n",
      "[flaml.automl: 08-02 23:45:58] {1017} INFO - iteration 40, current learner rf\n",
      "[flaml.automl: 08-02 23:45:59] {1172} INFO -  at 21.5s,\tbest rf's error=0.3806,\tbest extra_tree's error=0.3612\n",
      "[flaml.automl: 08-02 23:45:59] {1017} INFO - iteration 41, current learner extra_tree\n",
      "[flaml.automl: 08-02 23:45:59] {1172} INFO -  at 21.9s,\tbest extra_tree's error=0.3612,\tbest extra_tree's error=0.3612\n",
      "[flaml.automl: 08-02 23:45:59] {1017} INFO - iteration 42, current learner lgbm\n",
      "[flaml.automl: 08-02 23:46:00] {1172} INFO -  at 22.4s,\tbest lgbm's error=0.3725,\tbest extra_tree's error=0.3612\n",
      "[flaml.automl: 08-02 23:46:00] {1017} INFO - iteration 43, current learner rf\n",
      "[flaml.automl: 08-02 23:46:01] {1172} INFO -  at 23.2s,\tbest rf's error=0.3806,\tbest extra_tree's error=0.3612\n",
      "[flaml.automl: 08-02 23:46:01] {1017} INFO - iteration 44, current learner extra_tree\n",
      "[flaml.automl: 08-02 23:46:01] {1172} INFO -  at 23.7s,\tbest extra_tree's error=0.3612,\tbest extra_tree's error=0.3612\n",
      "[flaml.automl: 08-02 23:46:01] {1017} INFO - iteration 45, current learner rf\n",
      "[flaml.automl: 08-02 23:46:02] {1172} INFO -  at 24.9s,\tbest rf's error=0.3806,\tbest extra_tree's error=0.3612\n",
      "[flaml.automl: 08-02 23:46:02] {1017} INFO - iteration 46, current learner xgboost\n",
      "[flaml.automl: 08-02 23:46:03] {1172} INFO -  at 25.4s,\tbest xgboost's error=0.3944,\tbest extra_tree's error=0.3612\n",
      "[flaml.automl: 08-02 23:46:03] {1017} INFO - iteration 47, current learner rf\n",
      "[flaml.automl: 08-02 23:46:04] {1172} INFO -  at 26.1s,\tbest rf's error=0.3806,\tbest extra_tree's error=0.3612\n",
      "[flaml.automl: 08-02 23:46:04] {1017} INFO - iteration 48, current learner lgbm\n",
      "[flaml.automl: 08-02 23:46:06] {1172} INFO -  at 28.8s,\tbest lgbm's error=0.3625,\tbest extra_tree's error=0.3612\n",
      "[flaml.automl: 08-02 23:46:06] {1017} INFO - iteration 49, current learner xgboost\n",
      "[flaml.automl: 08-02 23:46:08] {1172} INFO -  at 30.2s,\tbest xgboost's error=0.3923,\tbest extra_tree's error=0.3612\n",
      "[flaml.automl: 08-02 23:46:08] {1017} INFO - iteration 50, current learner extra_tree\n",
      "[flaml.automl: 08-02 23:46:09] {1172} INFO -  at 32.0s,\tbest extra_tree's error=0.3612,\tbest extra_tree's error=0.3612\n",
      "[flaml.automl: 08-02 23:46:09] {1017} INFO - iteration 51, current learner xgboost\n",
      "[flaml.automl: 08-02 23:46:10] {1172} INFO -  at 32.9s,\tbest xgboost's error=0.3923,\tbest extra_tree's error=0.3612\n",
      "[flaml.automl: 08-02 23:46:10] {1017} INFO - iteration 52, current learner xgboost\n",
      "[flaml.automl: 08-02 23:46:13] {1172} INFO -  at 35.7s,\tbest xgboost's error=0.3923,\tbest extra_tree's error=0.3612\n",
      "[flaml.automl: 08-02 23:46:13] {1017} INFO - iteration 53, current learner lgbm\n",
      "[flaml.automl: 08-02 23:46:14] {1172} INFO -  at 36.3s,\tbest lgbm's error=0.3625,\tbest extra_tree's error=0.3612\n",
      "[flaml.automl: 08-02 23:46:14] {1017} INFO - iteration 54, current learner lgbm\n",
      "[flaml.automl: 08-02 23:46:22] {1172} INFO -  at 44.1s,\tbest lgbm's error=0.3625,\tbest extra_tree's error=0.3612\n",
      "[flaml.automl: 08-02 23:46:22] {1017} INFO - iteration 55, current learner rf\n",
      "[flaml.automl: 08-02 23:46:23] {1172} INFO -  at 45.4s,\tbest rf's error=0.3751,\tbest extra_tree's error=0.3612\n",
      "[flaml.automl: 08-02 23:46:23] {1017} INFO - iteration 56, current learner xgboost\n",
      "[flaml.automl: 08-02 23:46:24] {1172} INFO -  at 46.2s,\tbest xgboost's error=0.3923,\tbest extra_tree's error=0.3612\n",
      "[flaml.automl: 08-02 23:46:24] {1017} INFO - iteration 57, current learner xgboost\n",
      "[flaml.automl: 08-02 23:46:27] {1172} INFO -  at 49.8s,\tbest xgboost's error=0.3681,\tbest extra_tree's error=0.3612\n",
      "[flaml.automl: 08-02 23:46:27] {1017} INFO - iteration 58, current learner rf\n",
      "[flaml.automl: 08-02 23:46:30] {1172} INFO -  at 52.3s,\tbest rf's error=0.3654,\tbest extra_tree's error=0.3612\n",
      "[flaml.automl: 08-02 23:46:30] {1017} INFO - iteration 59, current learner lgbm\n",
      "[flaml.automl: 08-02 23:46:31] {1172} INFO -  at 53.9s,\tbest lgbm's error=0.3625,\tbest extra_tree's error=0.3612\n",
      "[flaml.automl: 08-02 23:46:31] {1017} INFO - iteration 60, current learner rf\n",
      "[flaml.automl: 08-02 23:46:32] {1172} INFO -  at 54.9s,\tbest rf's error=0.3654,\tbest extra_tree's error=0.3612\n",
      "[flaml.automl: 08-02 23:46:32] {1017} INFO - iteration 61, current learner xgboost\n",
      "[flaml.automl: 08-02 23:46:34] {1172} INFO -  at 56.1s,\tbest xgboost's error=0.3681,\tbest extra_tree's error=0.3612\n",
      "[flaml.automl: 08-02 23:46:34] {1017} INFO - iteration 62, current learner rf\n",
      "[flaml.automl: 08-02 23:46:35] {1172} INFO -  at 57.4s,\tbest rf's error=0.3654,\tbest extra_tree's error=0.3612\n",
      "[flaml.automl: 08-02 23:46:35] {1017} INFO - iteration 63, current learner extra_tree\n",
      "[flaml.automl: 08-02 23:46:35] {1172} INFO -  at 57.9s,\tbest extra_tree's error=0.3612,\tbest extra_tree's error=0.3612\n",
      "[flaml.automl: 08-02 23:46:35] {1017} INFO - iteration 64, current learner lgbm\n",
      "[flaml.automl: 08-02 23:46:38] {1172} INFO -  at 60.8s,\tbest lgbm's error=0.3625,\tbest extra_tree's error=0.3612\n",
      "[flaml.automl: 08-02 23:46:38] {1017} INFO - iteration 65, current learner rf\n",
      "[flaml.automl: 08-02 23:46:42] {1172} INFO -  at 64.1s,\tbest rf's error=0.3654,\tbest extra_tree's error=0.3612\n",
      "[flaml.automl: 08-02 23:46:42] {1017} INFO - iteration 66, current learner extra_tree\n",
      "[flaml.automl: 08-02 23:46:44] {1172} INFO -  at 66.3s,\tbest extra_tree's error=0.3612,\tbest extra_tree's error=0.3612\n",
      "[flaml.automl: 08-02 23:46:44] {1017} INFO - iteration 67, current learner rf\n",
      "[flaml.automl: 08-02 23:46:45] {1172} INFO -  at 67.2s,\tbest rf's error=0.3654,\tbest extra_tree's error=0.3612\n",
      "[flaml.automl: 08-02 23:46:45] {1017} INFO - iteration 68, current learner lgbm\n",
      "[flaml.automl: 08-02 23:46:52] {1172} INFO -  at 74.1s,\tbest lgbm's error=0.3232,\tbest lgbm's error=0.3232\n",
      "[flaml.automl: 08-02 23:46:52] {1017} INFO - iteration 69, current learner rf\n",
      "[flaml.automl: 08-02 23:46:56] {1172} INFO -  at 79.0s,\tbest rf's error=0.3604,\tbest lgbm's error=0.3232\n",
      "[flaml.automl: 08-02 23:46:56] {1017} INFO - iteration 70, current learner extra_tree\n",
      "[flaml.automl: 08-02 23:47:02] {1172} INFO -  at 84.4s,\tbest extra_tree's error=0.3257,\tbest lgbm's error=0.3232\n",
      "[flaml.automl: 08-02 23:47:02] {1017} INFO - iteration 71, current learner catboost\n",
      "[flaml.automl: 08-02 23:47:06] {1172} INFO -  at 89.0s,\tbest catboost's error=0.4488,\tbest lgbm's error=0.3232\n",
      "[flaml.automl: 08-02 23:47:06] {1017} INFO - iteration 72, current learner catboost\n",
      "[flaml.automl: 08-02 23:47:11] {1172} INFO -  at 93.9s,\tbest catboost's error=0.4488,\tbest lgbm's error=0.3232\n",
      "[flaml.automl: 08-02 23:47:11] {1017} INFO - iteration 73, current learner extra_tree\n",
      "[flaml.automl: 08-02 23:47:16] {1172} INFO -  at 99.1s,\tbest extra_tree's error=0.3257,\tbest lgbm's error=0.3232\n",
      "[flaml.automl: 08-02 23:47:16] {1017} INFO - iteration 74, current learner catboost\n",
      "[flaml.automl: 08-02 23:47:21] {1172} INFO -  at 103.5s,\tbest catboost's error=0.4243,\tbest lgbm's error=0.3232\n",
      "[flaml.automl: 08-02 23:47:21] {1017} INFO - iteration 75, current learner extra_tree\n",
      "[flaml.automl: 08-02 23:47:32] {1172} INFO -  at 114.5s,\tbest extra_tree's error=0.3257,\tbest lgbm's error=0.3232\n",
      "[flaml.automl: 08-02 23:47:32] {1017} INFO - iteration 76, current learner xgboost\n",
      "[flaml.automl: 08-02 23:47:44] {1172} INFO -  at 126.9s,\tbest xgboost's error=0.3643,\tbest lgbm's error=0.3232\n",
      "[flaml.automl: 08-02 23:47:44] {1017} INFO - iteration 77, current learner xgboost\n",
      "[flaml.automl: 08-02 23:47:47] {1172} INFO -  at 129.8s,\tbest xgboost's error=0.3643,\tbest lgbm's error=0.3232\n",
      "[flaml.automl: 08-02 23:47:47] {1017} INFO - iteration 78, current learner rf\n",
      "[flaml.automl: 08-02 23:47:50] {1172} INFO -  at 132.8s,\tbest rf's error=0.3604,\tbest lgbm's error=0.3232\n",
      "[flaml.automl: 08-02 23:47:50] {1017} INFO - iteration 79, current learner catboost\n",
      "[flaml.automl: 08-02 23:47:54] {1172} INFO -  at 136.3s,\tbest catboost's error=0.4243,\tbest lgbm's error=0.3232\n",
      "[flaml.automl: 08-02 23:47:54] {1017} INFO - iteration 80, current learner xgboost\n",
      "[flaml.automl: 08-02 23:48:04] {1172} INFO -  at 147.0s,\tbest xgboost's error=0.3637,\tbest lgbm's error=0.3232\n",
      "[flaml.automl: 08-02 23:48:04] {1017} INFO - iteration 81, current learner extra_tree\n",
      "[flaml.automl: 08-02 23:48:07] {1172} INFO -  at 150.0s,\tbest extra_tree's error=0.3257,\tbest lgbm's error=0.3232\n",
      "[flaml.automl: 08-02 23:48:07] {1017} INFO - iteration 82, current learner catboost\n",
      "[flaml.automl: 08-02 23:48:11] {1172} INFO -  at 153.2s,\tbest catboost's error=0.4243,\tbest lgbm's error=0.3232\n",
      "[flaml.automl: 08-02 23:48:11] {1017} INFO - iteration 83, current learner rf\n",
      "[flaml.automl: 08-02 23:48:22] {1172} INFO -  at 164.6s,\tbest rf's error=0.3568,\tbest lgbm's error=0.3232\n",
      "[flaml.automl: 08-02 23:48:22] {1017} INFO - iteration 84, current learner rf\n",
      "[flaml.automl: 08-02 23:48:27] {1172} INFO -  at 169.3s,\tbest rf's error=0.3568,\tbest lgbm's error=0.3232\n",
      "[flaml.automl: 08-02 23:48:27] {1017} INFO - iteration 85, current learner extra_tree\n",
      "[flaml.automl: 08-02 23:48:41] {1172} INFO -  at 183.1s,\tbest extra_tree's error=0.3257,\tbest lgbm's error=0.3232\n",
      "[flaml.automl: 08-02 23:48:41] {1017} INFO - iteration 86, current learner catboost\n",
      "[flaml.automl: 08-02 23:48:43] {1172} INFO -  at 185.5s,\tbest catboost's error=0.4243,\tbest lgbm's error=0.3232\n",
      "[flaml.automl: 08-02 23:48:43] {1017} INFO - iteration 87, current learner rf\n",
      "[flaml.automl: 08-02 23:48:58] {1172} INFO -  at 200.7s,\tbest rf's error=0.3568,\tbest lgbm's error=0.3232\n",
      "[flaml.automl: 08-02 23:48:58] {1017} INFO - iteration 88, current learner xgboost\n",
      "[flaml.automl: 08-02 23:49:04] {1172} INFO -  at 206.2s,\tbest xgboost's error=0.3637,\tbest lgbm's error=0.3232\n",
      "[flaml.automl: 08-02 23:49:04] {1017} INFO - iteration 89, current learner xgboost\n",
      "[flaml.automl: 08-02 23:49:10] {1172} INFO -  at 212.8s,\tbest xgboost's error=0.3637,\tbest lgbm's error=0.3232\n",
      "[flaml.automl: 08-02 23:49:10] {1017} INFO - iteration 90, current learner rf\n",
      "[flaml.automl: 08-02 23:49:22] {1172} INFO -  at 225.0s,\tbest rf's error=0.3561,\tbest lgbm's error=0.3232\n",
      "[flaml.automl: 08-02 23:49:22] {1017} INFO - iteration 91, current learner catboost\n",
      "[flaml.automl: 08-02 23:49:24] {1172} INFO -  at 226.8s,\tbest catboost's error=0.4243,\tbest lgbm's error=0.3232\n",
      "[flaml.automl: 08-02 23:49:24] {1017} INFO - iteration 92, current learner extra_tree\n",
      "[flaml.automl: 08-02 23:49:33] {1172} INFO -  at 235.7s,\tbest extra_tree's error=0.3257,\tbest lgbm's error=0.3232\n",
      "[flaml.automl: 08-02 23:49:33] {1017} INFO - iteration 93, current learner catboost\n",
      "[flaml.automl: 08-02 23:49:35] {1172} INFO -  at 237.2s,\tbest catboost's error=0.4243,\tbest lgbm's error=0.3232\n",
      "[flaml.automl: 08-02 23:49:35] {1017} INFO - iteration 94, current learner catboost\n",
      "[flaml.automl: 08-02 23:49:36] {1172} INFO -  at 238.6s,\tbest catboost's error=0.4243,\tbest lgbm's error=0.3232\n",
      "[flaml.automl: 08-02 23:49:36] {1017} INFO - iteration 95, current learner lgbm\n",
      "[flaml.automl: 08-02 23:49:42] {1172} INFO -  at 244.4s,\tbest lgbm's error=0.3232,\tbest lgbm's error=0.3232\n",
      "[flaml.automl: 08-02 23:49:42] {1017} INFO - iteration 96, current learner extra_tree\n",
      "[flaml.automl: 08-02 23:49:45] {1172} INFO -  at 247.4s,\tbest extra_tree's error=0.3257,\tbest lgbm's error=0.3232\n",
      "[flaml.automl: 08-02 23:49:45] {1017} INFO - iteration 97, current learner xgboost\n",
      "[flaml.automl: 08-02 23:49:49] {1172} INFO -  at 251.9s,\tbest xgboost's error=0.3637,\tbest lgbm's error=0.3232\n",
      "[flaml.automl: 08-02 23:49:49] {1017} INFO - iteration 98, current learner catboost\n",
      "[flaml.automl: 08-02 23:49:51] {1172} INFO -  at 253.2s,\tbest catboost's error=0.4243,\tbest lgbm's error=0.3232\n",
      "[flaml.automl: 08-02 23:49:51] {1017} INFO - iteration 99, current learner xgboost\n",
      "[flaml.automl: 08-02 23:49:53] {1172} INFO -  at 256.0s,\tbest xgboost's error=0.3637,\tbest lgbm's error=0.3232\n",
      "[flaml.automl: 08-02 23:49:53] {1017} INFO - iteration 100, current learner xgboost\n",
      "[flaml.automl: 08-02 23:49:56] {1172} INFO -  at 258.8s,\tbest xgboost's error=0.3637,\tbest lgbm's error=0.3232\n",
      "[flaml.automl: 08-02 23:49:56] {1017} INFO - iteration 101, current learner extra_tree\n",
      "[flaml.automl: 08-02 23:50:09] {1172} INFO -  at 272.0s,\tbest extra_tree's error=0.3257,\tbest lgbm's error=0.3232\n",
      "[flaml.automl: 08-02 23:50:09] {1017} INFO - iteration 102, current learner catboost\n",
      "[flaml.automl: 08-02 23:50:16] {1172} INFO -  at 278.5s,\tbest catboost's error=0.4243,\tbest lgbm's error=0.3232\n",
      "[flaml.automl: 08-02 23:50:16] {1017} INFO - iteration 103, current learner lgbm\n",
      "[flaml.automl: 08-02 23:50:27] {1172} INFO -  at 289.4s,\tbest lgbm's error=0.3232,\tbest lgbm's error=0.3232\n",
      "[flaml.automl: 08-02 23:50:27] {1017} INFO - iteration 104, current learner catboost\n",
      "[flaml.automl: 08-02 23:50:31] {1172} INFO -  at 293.4s,\tbest catboost's error=0.4243,\tbest lgbm's error=0.3232\n",
      "[flaml.automl: 08-02 23:50:31] {1017} INFO - iteration 105, current learner lgbm\n",
      "[flaml.automl: 08-02 23:50:33] {1172} INFO -  at 295.7s,\tbest lgbm's error=0.3232,\tbest lgbm's error=0.3232\n",
      "[flaml.automl: 08-02 23:50:33] {1218} INFO - selected model: LGBMClassifier(colsample_bytree=0.6243045158556154,\n",
      "               learning_rate=0.3118033055964255, max_bin=64,\n",
      "               min_child_samples=39, n_estimators=52, num_leaves=147,\n",
      "               objective='multiclass', reg_alpha=0.17615692190059898,\n",
      "               reg_lambda=0.11112372147269253, subsample=0.8795964385843147)\n",
      "[flaml.automl: 08-02 23:50:33] {1228} INFO - [('lgbm', <flaml.model.LGBMEstimator object at 0x00000253FF0DB670>), ('extra_tree', <flaml.model.ExtraTreeEstimator object at 0x000002555F64DF40>), ('rf', <flaml.model.RandomForestEstimator object at 0x00000253DB65BCD0>), ('xgboost', <flaml.model.XGBoostSklearnEstimator object at 0x0000025290A97EE0>), ('catboost', <flaml.model.CatBoostEstimator object at 0x00000253DF713DC0>)]\n",
      "[flaml.automl: 08-02 23:56:37] {1245} INFO - ensemble: StackingClassifier(estimators=[('lgbm',\n",
      "                                <flaml.model.LGBMEstimator object at 0x00000253FF0DB670>),\n",
      "                               ('extra_tree',\n",
      "                                <flaml.model.ExtraTreeEstimator object at 0x000002555F64DF40>),\n",
      "                               ('rf',\n",
      "                                <flaml.model.RandomForestEstimator object at 0x00000253DB65BCD0>),\n",
      "                               ('xgboost',\n",
      "                                <flaml.model.XGBoostSklearnEstimator object at 0x0000025290A97EE0>),\n",
      "                               ('catboost',\n",
      "                                <flaml.model.CatBoostEstimator object at 0x00000253DF713DC0>)],\n",
      "                   final_estimator=<flaml.model.LGBMEstimator object at 0x00000253FF0DB670>,\n",
      "                   n_jobs=-1, passthrough=True)\n",
      "[flaml.automl: 08-02 23:56:37] {968} INFO - fit succeeded\n"
     ]
    }
   ],
   "source": [
    "automl_settings = {\n",
    "    'time_budget':300,\n",
    "    'metric': 'macro_f1',\n",
    "    'task': 'classification',\n",
    "    'estimator_list' : ['lgbm', 'xgboost', 'catboost', 'rf', 'extra_tree'],\n",
    "    'eval_method': ['cv'],\n",
    "    'n_splits': 5,\n",
    "}\n",
    "\n",
    "#ensemble = True\n",
    "#Can also try running each model individually ie estimator_list just lgbm and then put each of them into a stacking classifier \n",
    "automl.fit(X_train_transformed, y_train, **automl_settings, ensemble=True)"
   ]
  },
  {
   "cell_type": "code",
   "execution_count": 2459,
   "metadata": {},
   "outputs": [
    {
     "name": "stdout",
     "output_type": "stream",
     "text": [
      "Best ML leaner: lgbm\n",
      "Best hyperparmeter config: {'n_estimators': 52.0, 'num_leaves': 147.0, 'min_child_samples': 39.0, 'learning_rate': 0.3118033055964255, 'subsample': 0.8795964385843147, 'log_max_bin': 7.0, 'colsample_bytree': 0.6243045158556154, 'reg_alpha': 0.17615692190059898, 'reg_lambda': 0.11112372147269253, 'FLAML_sample_size': 47520}\n",
      "Best accuracy on validation data: 0.6768\n",
      "Training duration of best run: 6.971 s\n"
     ]
    }
   ],
   "source": [
    "#Viewing Performance\n",
    "print('Best ML leaner:', automl.best_estimator)\n",
    "print('Best hyperparmeter config:', automl.best_config)\n",
    "print('Best accuracy on validation data: {0:.4g}'.format(1-automl.best_loss))\n",
    "print('Training duration of best run: {0:.4g} s'.format(automl.best_config_train_time))"
   ]
  },
  {
   "cell_type": "code",
   "execution_count": 1817,
   "metadata": {},
   "outputs": [
    {
     "ename": "AttributeError",
     "evalue": "'StackingClassifier' object has no attribute 'estimator'",
     "output_type": "error",
     "traceback": [
      "\u001b[1;31m---------------------------------------------------------------------------\u001b[0m",
      "\u001b[1;31mAttributeError\u001b[0m                            Traceback (most recent call last)",
      "\u001b[1;32m<ipython-input-1817-d23c5296c9af>\u001b[0m in \u001b[0;36m<module>\u001b[1;34m\u001b[0m\n\u001b[0;32m      1\u001b[0m \u001b[1;31m#View best params\u001b[0m\u001b[1;33m\u001b[0m\u001b[1;33m\u001b[0m\u001b[1;33m\u001b[0m\u001b[0m\n\u001b[1;32m----> 2\u001b[1;33m \u001b[0mautoml\u001b[0m\u001b[1;33m.\u001b[0m\u001b[0mmodel\u001b[0m\u001b[1;33m.\u001b[0m\u001b[0mestimator\u001b[0m\u001b[1;33m\u001b[0m\u001b[1;33m\u001b[0m\u001b[0m\n\u001b[0m",
      "\u001b[1;31mAttributeError\u001b[0m: 'StackingClassifier' object has no attribute 'estimator'"
     ]
    }
   ],
   "source": [
    "#View best params\n",
    "automl.model.estimator"
   ]
  },
  {
   "cell_type": "code",
   "execution_count": 2460,
   "metadata": {},
   "outputs": [
    {
     "name": "stdout",
     "output_type": "stream",
     "text": [
      "Predicted labels [2. 0. 1. ... 0. 0. 1.]\n",
      "True labels 22298    2.0\n",
      "18599    0.0\n",
      "24339    1.0\n",
      "14342    1.0\n",
      "43671    0.0\n",
      "        ... \n",
      "44462    0.0\n",
      "30150    0.0\n",
      "40006    0.0\n",
      "31065    0.0\n",
      "52144    1.0\n",
      "Name: status_group, Length: 5940, dtype: float64\n"
     ]
    }
   ],
   "source": [
    "automl_preds_1 = automl.predict(X_val_transformed)\n",
    "print('Predicted labels', automl_preds_1)\n",
    "print('True labels', y_val)\n",
    "#automl_preds_1_proba = automl.predict_proba(X_val)[:,1]"
   ]
  },
  {
   "cell_type": "code",
   "execution_count": 2461,
   "metadata": {},
   "outputs": [
    {
     "name": "stdout",
     "output_type": "stream",
     "text": [
      "accuracy = 0.7984848484848485\n",
      "Macro F1 Score = 0.6638724700370173\n",
      "              precision    recall  f1-score   support\n",
      "\n",
      "         0.0       0.79      0.89      0.84      3253\n",
      "         1.0       0.84      0.76      0.80      2268\n",
      "         2.0       0.50      0.27      0.35       419\n",
      "\n",
      "    accuracy                           0.80      5940\n",
      "   macro avg       0.71      0.64      0.66      5940\n",
      "weighted avg       0.79      0.80      0.79      5940\n",
      "\n",
      "[[2911  259   83]\n",
      " [ 521 1718   29]\n",
      " [ 243   62  114]]\n"
     ]
    }
   ],
   "source": [
    "#Computing Metrics\n",
    "from flaml.ml import sklearn_metric_loss_score\n",
    "from flaml.ml import multi_class_curves, norm_confusion_matrix\n",
    "print('accuracy','=', 1- sklearn_metric_loss_score('accuracy', automl_preds_1, y_val))\n",
    "print('Macro F1 Score','=', 1- sklearn_metric_loss_score('macro_f1', automl_preds_1, y_val))\n",
    "print(classification_report(y_val, automl_preds_1))\n",
    "print(confusion_matrix(y_val, automl_preds_1))"
   ]
  },
  {
   "cell_type": "code",
   "execution_count": 2462,
   "metadata": {},
   "outputs": [
    {
     "name": "stdout",
     "output_type": "stream",
     "text": [
      "accuracy = 0.8015151515151515\n",
      "Macro F1 Score = 0.675243506219109\n",
      "              precision    recall  f1-score   support\n",
      "\n",
      "         0.0       0.79      0.90      0.84      3199\n",
      "         1.0       0.85      0.76      0.80      2297\n",
      "         2.0       0.54      0.29      0.38       444\n",
      "\n",
      "    accuracy                           0.80      5940\n",
      "   macro avg       0.73      0.65      0.68      5940\n",
      "weighted avg       0.80      0.80      0.79      5940\n",
      "\n",
      "[[2883  235   81]\n",
      " [ 519 1748   30]\n",
      " [ 246   68  130]]\n"
     ]
    }
   ],
   "source": [
    "#Now Predict on test set to see if generalizes well\n",
    "#Very similar to results in validation set; generalized well\n",
    "automl_preds_test_1 = automl.predict(X_test_transformed)\n",
    "automl_preds_test_probab = automl.predict_proba(X_test_transformed)\n",
    "\n",
    "print('accuracy','=', 1- sklearn_metric_loss_score('accuracy', automl_preds_test_1, y_test))\n",
    "print('Macro F1 Score','=', 1- sklearn_metric_loss_score('macro_f1', automl_preds_test_1, y_test))\n",
    "print(classification_report(y_test, automl_preds_test_1))\n",
    "print(confusion_matrix(y_test, automl_preds_test_1))"
   ]
  },
  {
   "cell_type": "code",
   "execution_count": 2465,
   "metadata": {},
   "outputs": [
    {
     "name": "stderr",
     "output_type": "stream",
     "text": [
      "C:\\Users\\Matth\\Anaconda3\\lib\\site-packages\\sklearn\\utils\\deprecation.py:86: FutureWarning: Function plot_roc_curve is deprecated; This will be removed in v0.5.0. Please use scikitplot.metrics.plot_roc instead.\n",
      "  warnings.warn(msg, category=FutureWarning)\n"
     ]
    },
    {
     "data": {
      "image/png": "[encoded data removed]",
      "text/plain": [
       "<Figure size 432x288 with 1 Axes>"
      ]
     },
     "metadata": {
      "needs_background": "light"
     },
     "output_type": "display_data"
    }
   ],
   "source": [
    "import scikitplot as skplt\n",
    "#curve = multi_class_curves(y_test, automl_preds_test_probab, curve_func=roc_curve)\n",
    "\n",
    "#y_true = # ground truth labels\n",
    "#y_probas = # predicted probabilities generated by sklearn classifier\n",
    "roc = skplt.metrics.plot_roc_curve(y_test, automl_preds_test_probab)\n",
    "plt.savefig('ROC_curve.png', bbox_inches=\"tight\", dpi=300)\n",
    "\n",
    "plt.show()"
   ]
  },
  {
   "cell_type": "code",
   "execution_count": null,
   "metadata": {},
   "outputs": [],
   "source": [
    "from yellowbrick.classifier import ROCAUC\n",
    "\n",
    "oz = ROCAUC(LogisticRegression())\n",
    "oz.fit(X_train, y_train)\n",
    "oz.score(X_test, y_test)\n",
    "oz.show()"
   ]
  },
  {
   "cell_type": "code",
   "execution_count": 1868,
   "metadata": {},
   "outputs": [
    {
     "name": "stderr",
     "output_type": "stream",
     "text": [
      "C:\\Users\\Matth\\Anaconda3\\lib\\site-packages\\IPython\\core\\displayhook.py:275: UserWarning: Output cache limit (currently 1000 entries) hit.\n",
      "Flushing oldest 200 entries.\n",
      "  warn('Output cache limit (currently {sz} entries) hit.\\n'\n"
     ]
    },
    {
     "data": {
      "text/plain": [
       "array([0., 0., 0., ..., 0., 0., 1.])"
      ]
     },
     "execution_count": 1868,
     "metadata": {},
     "output_type": "execute_result"
    }
   ],
   "source": [
    "#Make preds on final dataset\n",
    "automl_final_preds = automl.predict(X_final_test_transformed)\n",
    "\n",
    "automl_final_preds"
   ]
  },
  {
   "cell_type": "code",
   "execution_count": 1869,
   "metadata": {},
   "outputs": [],
   "source": [
    "submission_3 = pd.DataFrame({'id': test_features.iloc[:,0], 'status_group': automl_final_preds})\n",
    "\n",
    "#submission_3['status_group'] = submission_2.apply(convert_status, axis =1)"
   ]
  },
  {
   "cell_type": "code",
   "execution_count": 1870,
   "metadata": {},
   "outputs": [
    {
     "data": {
      "text/html": [
       "<div>\n",
       "<style scoped>\n",
       "    .dataframe tbody tr th:only-of-type {\n",
       "        vertical-align: middle;\n",
       "    }\n",
       "\n",
       "    .dataframe tbody tr th {\n",
       "        vertical-align: top;\n",
       "    }\n",
       "\n",
       "    .dataframe thead th {\n",
       "        text-align: right;\n",
       "    }\n",
       "</style>\n",
       "<table border=\"1\" class=\"dataframe\">\n",
       "  <thead>\n",
       "    <tr style=\"text-align: right;\">\n",
       "      <th></th>\n",
       "      <th>id</th>\n",
       "      <th>status_group</th>\n",
       "    </tr>\n",
       "  </thead>\n",
       "  <tbody>\n",
       "    <tr>\n",
       "      <th>0</th>\n",
       "      <td>50785</td>\n",
       "      <td>0.0</td>\n",
       "    </tr>\n",
       "    <tr>\n",
       "      <th>1</th>\n",
       "      <td>51630</td>\n",
       "      <td>0.0</td>\n",
       "    </tr>\n",
       "    <tr>\n",
       "      <th>2</th>\n",
       "      <td>17168</td>\n",
       "      <td>0.0</td>\n",
       "    </tr>\n",
       "    <tr>\n",
       "      <th>3</th>\n",
       "      <td>45559</td>\n",
       "      <td>1.0</td>\n",
       "    </tr>\n",
       "    <tr>\n",
       "      <th>4</th>\n",
       "      <td>49871</td>\n",
       "      <td>0.0</td>\n",
       "    </tr>\n",
       "  </tbody>\n",
       "</table>\n",
       "</div>"
      ],
      "text/plain": [
       "      id  status_group\n",
       "0  50785           0.0\n",
       "1  51630           0.0\n",
       "2  17168           0.0\n",
       "3  45559           1.0\n",
       "4  49871           0.0"
      ]
     },
     "execution_count": 1870,
     "metadata": {},
     "output_type": "execute_result"
    }
   ],
   "source": [
    "submission_3.head()"
   ]
  },
  {
   "cell_type": "code",
   "execution_count": 1829,
   "metadata": {},
   "outputs": [
    {
     "data": {
      "text/html": [
       "<div>\n",
       "<style scoped>\n",
       "    .dataframe tbody tr th:only-of-type {\n",
       "        vertical-align: middle;\n",
       "    }\n",
       "\n",
       "    .dataframe tbody tr th {\n",
       "        vertical-align: top;\n",
       "    }\n",
       "\n",
       "    .dataframe thead th {\n",
       "        text-align: right;\n",
       "    }\n",
       "</style>\n",
       "<table border=\"1\" class=\"dataframe\">\n",
       "  <thead>\n",
       "    <tr style=\"text-align: right;\">\n",
       "      <th></th>\n",
       "      <th>id</th>\n",
       "      <th>status_group</th>\n",
       "    </tr>\n",
       "  </thead>\n",
       "  <tbody>\n",
       "    <tr>\n",
       "      <th>0</th>\n",
       "      <td>50785</td>\n",
       "      <td>None</td>\n",
       "    </tr>\n",
       "    <tr>\n",
       "      <th>1</th>\n",
       "      <td>51630</td>\n",
       "      <td>None</td>\n",
       "    </tr>\n",
       "    <tr>\n",
       "      <th>2</th>\n",
       "      <td>17168</td>\n",
       "      <td>None</td>\n",
       "    </tr>\n",
       "    <tr>\n",
       "      <th>3</th>\n",
       "      <td>45559</td>\n",
       "      <td>None</td>\n",
       "    </tr>\n",
       "    <tr>\n",
       "      <th>4</th>\n",
       "      <td>49871</td>\n",
       "      <td>None</td>\n",
       "    </tr>\n",
       "  </tbody>\n",
       "</table>\n",
       "</div>"
      ],
      "text/plain": [
       "      id status_group\n",
       "0  50785         None\n",
       "1  51630         None\n",
       "2  17168         None\n",
       "3  45559         None\n",
       "4  49871         None"
      ]
     },
     "execution_count": 1829,
     "metadata": {},
     "output_type": "execute_result"
    }
   ],
   "source": [
    "#Something wrong with function in this case; not converting properly\n",
    "#submission_3['status_group'] = submission_2.apply(convert_status, axis =1)\n",
    "#submission_3.head()"
   ]
  },
  {
   "cell_type": "code",
   "execution_count": 1853,
   "metadata": {},
   "outputs": [],
   "source": [
    "#Export to csv - will fix manually\n",
    "\n",
    "submission_3.to_csv('submission_6_cat.csv', index=False)\n"
   ]
  },
  {
   "cell_type": "code",
   "execution_count": 1977,
   "metadata": {},
   "outputs": [
    {
     "data": {
      "text/html": [
       "<div>\n",
       "<style scoped>\n",
       "    .dataframe tbody tr th:only-of-type {\n",
       "        vertical-align: middle;\n",
       "    }\n",
       "\n",
       "    .dataframe tbody tr th {\n",
       "        vertical-align: top;\n",
       "    }\n",
       "\n",
       "    .dataframe thead th {\n",
       "        text-align: right;\n",
       "    }\n",
       "</style>\n",
       "<table border=\"1\" class=\"dataframe\">\n",
       "  <thead>\n",
       "    <tr style=\"text-align: right;\">\n",
       "      <th></th>\n",
       "      <th>Predictions</th>\n",
       "    </tr>\n",
       "  </thead>\n",
       "  <tbody>\n",
       "    <tr>\n",
       "      <th>0</th>\n",
       "      <td>0.0</td>\n",
       "    </tr>\n",
       "    <tr>\n",
       "      <th>1</th>\n",
       "      <td>1.0</td>\n",
       "    </tr>\n",
       "    <tr>\n",
       "      <th>2</th>\n",
       "      <td>0.0</td>\n",
       "    </tr>\n",
       "    <tr>\n",
       "      <th>3</th>\n",
       "      <td>1.0</td>\n",
       "    </tr>\n",
       "    <tr>\n",
       "      <th>4</th>\n",
       "      <td>0.0</td>\n",
       "    </tr>\n",
       "    <tr>\n",
       "      <th>...</th>\n",
       "      <td>...</td>\n",
       "    </tr>\n",
       "    <tr>\n",
       "      <th>5935</th>\n",
       "      <td>0.0</td>\n",
       "    </tr>\n",
       "    <tr>\n",
       "      <th>5936</th>\n",
       "      <td>0.0</td>\n",
       "    </tr>\n",
       "    <tr>\n",
       "      <th>5937</th>\n",
       "      <td>1.0</td>\n",
       "    </tr>\n",
       "    <tr>\n",
       "      <th>5938</th>\n",
       "      <td>1.0</td>\n",
       "    </tr>\n",
       "    <tr>\n",
       "      <th>5939</th>\n",
       "      <td>1.0</td>\n",
       "    </tr>\n",
       "  </tbody>\n",
       "</table>\n",
       "<p>5940 rows × 1 columns</p>\n",
       "</div>"
      ],
      "text/plain": [
       "      Predictions\n",
       "0             0.0\n",
       "1             1.0\n",
       "2             0.0\n",
       "3             1.0\n",
       "4             0.0\n",
       "...           ...\n",
       "5935          0.0\n",
       "5936          0.0\n",
       "5937          1.0\n",
       "5938          1.0\n",
       "5939          1.0\n",
       "\n",
       "[5940 rows x 1 columns]"
      ]
     },
     "execution_count": 1977,
     "metadata": {},
     "output_type": "execute_result"
    }
   ],
   "source": [
    "automl_preds_df = pd.DataFrame({'Predictions': automl_preds_test_1})\n",
    "\n",
    "automl_preds_df"
   ]
  },
  {
   "cell_type": "code",
   "execution_count": 1975,
   "metadata": {},
   "outputs": [
    {
     "data": {
      "text/html": [
       "<div>\n",
       "<style scoped>\n",
       "    .dataframe tbody tr th:only-of-type {\n",
       "        vertical-align: middle;\n",
       "    }\n",
       "\n",
       "    .dataframe tbody tr th {\n",
       "        vertical-align: top;\n",
       "    }\n",
       "\n",
       "    .dataframe thead th {\n",
       "        text-align: right;\n",
       "    }\n",
       "</style>\n",
       "<table border=\"1\" class=\"dataframe\">\n",
       "  <thead>\n",
       "    <tr style=\"text-align: right;\">\n",
       "      <th></th>\n",
       "      <th>y_test</th>\n",
       "    </tr>\n",
       "  </thead>\n",
       "  <tbody>\n",
       "    <tr>\n",
       "      <th>56418</th>\n",
       "      <td>0.0</td>\n",
       "    </tr>\n",
       "    <tr>\n",
       "      <th>36315</th>\n",
       "      <td>1.0</td>\n",
       "    </tr>\n",
       "    <tr>\n",
       "      <th>26050</th>\n",
       "      <td>0.0</td>\n",
       "    </tr>\n",
       "    <tr>\n",
       "      <th>40014</th>\n",
       "      <td>1.0</td>\n",
       "    </tr>\n",
       "    <tr>\n",
       "      <th>24235</th>\n",
       "      <td>0.0</td>\n",
       "    </tr>\n",
       "    <tr>\n",
       "      <th>...</th>\n",
       "      <td>...</td>\n",
       "    </tr>\n",
       "    <tr>\n",
       "      <th>12529</th>\n",
       "      <td>0.0</td>\n",
       "    </tr>\n",
       "    <tr>\n",
       "      <th>19077</th>\n",
       "      <td>0.0</td>\n",
       "    </tr>\n",
       "    <tr>\n",
       "      <th>29894</th>\n",
       "      <td>1.0</td>\n",
       "    </tr>\n",
       "    <tr>\n",
       "      <th>19975</th>\n",
       "      <td>1.0</td>\n",
       "    </tr>\n",
       "    <tr>\n",
       "      <th>32398</th>\n",
       "      <td>1.0</td>\n",
       "    </tr>\n",
       "  </tbody>\n",
       "</table>\n",
       "<p>5940 rows × 1 columns</p>\n",
       "</div>"
      ],
      "text/plain": [
       "       y_test\n",
       "56418     0.0\n",
       "36315     1.0\n",
       "26050     0.0\n",
       "40014     1.0\n",
       "24235     0.0\n",
       "...       ...\n",
       "12529     0.0\n",
       "19077     0.0\n",
       "29894     1.0\n",
       "19975     1.0\n",
       "32398     1.0\n",
       "\n",
       "[5940 rows x 1 columns]"
      ]
     },
     "execution_count": 1975,
     "metadata": {},
     "output_type": "execute_result"
    }
   ],
   "source": [
    "y_test_df = pd.DataFrame({'y_test': y_test})\n",
    "\n",
    "y_test_df"
   ]
  },
  {
   "cell_type": "code",
   "execution_count": 1978,
   "metadata": {},
   "outputs": [],
   "source": [
    "#Won't let me combine in Python - pushing to csv to manually fix and will read back in\n",
    "automl_preds_df.to_csv('automl_preds_df.csv', index=False)\n",
    "y_test_df.to_csv('y_test_df.csv', index=False)\n"
   ]
  },
  {
   "cell_type": "code",
   "execution_count": 1983,
   "metadata": {},
   "outputs": [
    {
     "data": {
      "text/html": [
       "<div>\n",
       "<style scoped>\n",
       "    .dataframe tbody tr th:only-of-type {\n",
       "        vertical-align: middle;\n",
       "    }\n",
       "\n",
       "    .dataframe tbody tr th {\n",
       "        vertical-align: top;\n",
       "    }\n",
       "\n",
       "    .dataframe thead th {\n",
       "        text-align: right;\n",
       "    }\n",
       "</style>\n",
       "<table border=\"1\" class=\"dataframe\">\n",
       "  <thead>\n",
       "    <tr style=\"text-align: right;\">\n",
       "      <th></th>\n",
       "      <th>Predictions</th>\n",
       "      <th>y_test</th>\n",
       "    </tr>\n",
       "  </thead>\n",
       "  <tbody>\n",
       "    <tr>\n",
       "      <th>0</th>\n",
       "      <td>0</td>\n",
       "      <td>0</td>\n",
       "    </tr>\n",
       "    <tr>\n",
       "      <th>1</th>\n",
       "      <td>1</td>\n",
       "      <td>1</td>\n",
       "    </tr>\n",
       "    <tr>\n",
       "      <th>2</th>\n",
       "      <td>0</td>\n",
       "      <td>0</td>\n",
       "    </tr>\n",
       "    <tr>\n",
       "      <th>3</th>\n",
       "      <td>1</td>\n",
       "      <td>1</td>\n",
       "    </tr>\n",
       "    <tr>\n",
       "      <th>4</th>\n",
       "      <td>0</td>\n",
       "      <td>0</td>\n",
       "    </tr>\n",
       "  </tbody>\n",
       "</table>\n",
       "</div>"
      ],
      "text/plain": [
       "   Predictions  y_test\n",
       "0            0       0\n",
       "1            1       1\n",
       "2            0       0\n",
       "3            1       1\n",
       "4            0       0"
      ]
     },
     "execution_count": 1983,
     "metadata": {},
     "output_type": "execute_result"
    }
   ],
   "source": [
    "impact_df = pd.read_csv(r'C:\\Users\\Matth\\Desktop\\Matthew\\Smith MMA\\MMA 869 - Machine Learning & AI\\Final Team Project\\impact_df.csv')\n",
    "\n",
    "impact_df.head()"
   ]
  },
  {
   "cell_type": "code",
   "execution_count": 1984,
   "metadata": {},
   "outputs": [],
   "source": [
    "def impact(df):\n",
    "    if df['Predictions'] == 1 and df['y_test'] == 1:\n",
    "        return 1\n",
    "    elif df['Predictions'] == 2 and df['y_test'] == 2:\n",
    "        return 1\n",
    "    elif df['Predictions'] == 1 and df['y_test'] == 2:\n",
    "        return 1\n",
    "    elif df['Predictions'] == 2 and df['y_test'] == 1:\n",
    "        return 1\n",
    "    else:\n",
    "        return 0\n",
    "    \n",
    "\n",
    "impact_df['impact'] = impact_df.apply(impact, axis = 1)"
   ]
  },
  {
   "cell_type": "code",
   "execution_count": 1985,
   "metadata": {},
   "outputs": [
    {
     "data": {
      "text/html": [
       "<div>\n",
       "<style scoped>\n",
       "    .dataframe tbody tr th:only-of-type {\n",
       "        vertical-align: middle;\n",
       "    }\n",
       "\n",
       "    .dataframe tbody tr th {\n",
       "        vertical-align: top;\n",
       "    }\n",
       "\n",
       "    .dataframe thead th {\n",
       "        text-align: right;\n",
       "    }\n",
       "</style>\n",
       "<table border=\"1\" class=\"dataframe\">\n",
       "  <thead>\n",
       "    <tr style=\"text-align: right;\">\n",
       "      <th></th>\n",
       "      <th>Predictions</th>\n",
       "      <th>y_test</th>\n",
       "      <th>impact</th>\n",
       "    </tr>\n",
       "  </thead>\n",
       "  <tbody>\n",
       "    <tr>\n",
       "      <th>0</th>\n",
       "      <td>0</td>\n",
       "      <td>0</td>\n",
       "      <td>0</td>\n",
       "    </tr>\n",
       "    <tr>\n",
       "      <th>1</th>\n",
       "      <td>1</td>\n",
       "      <td>1</td>\n",
       "      <td>1</td>\n",
       "    </tr>\n",
       "    <tr>\n",
       "      <th>2</th>\n",
       "      <td>0</td>\n",
       "      <td>0</td>\n",
       "      <td>0</td>\n",
       "    </tr>\n",
       "    <tr>\n",
       "      <th>3</th>\n",
       "      <td>1</td>\n",
       "      <td>1</td>\n",
       "      <td>1</td>\n",
       "    </tr>\n",
       "    <tr>\n",
       "      <th>4</th>\n",
       "      <td>0</td>\n",
       "      <td>0</td>\n",
       "      <td>0</td>\n",
       "    </tr>\n",
       "  </tbody>\n",
       "</table>\n",
       "</div>"
      ],
      "text/plain": [
       "   Predictions  y_test  impact\n",
       "0            0       0       0\n",
       "1            1       1       1\n",
       "2            0       0       0\n",
       "3            1       1       1\n",
       "4            0       0       0"
      ]
     },
     "execution_count": 1985,
     "metadata": {},
     "output_type": "execute_result"
    }
   ],
   "source": [
    "impact_df.head()"
   ]
  },
  {
   "cell_type": "code",
   "execution_count": 1986,
   "metadata": {},
   "outputs": [
    {
     "data": {
      "text/plain": [
       "2020"
      ]
     },
     "execution_count": 1986,
     "metadata": {},
     "output_type": "execute_result"
    }
   ],
   "source": [
    "#Good; adds up to correct amount of total TPs of identifying either Functional needs repair or Needs Repair\n",
    "impact_df['impact'].sum()"
   ]
  },
  {
   "cell_type": "code",
   "execution_count": 2298,
   "metadata": {},
   "outputs": [],
   "source": [
    "#Again Exporting to csv for the sake of time; will clean and import back\n",
    "impact_df.to_csv('impact_df_2.csv', index=False)\n",
    "X_test.to_csv('X_test.csv', index=False)"
   ]
  },
  {
   "cell_type": "code",
   "execution_count": 2008,
   "metadata": {},
   "outputs": [],
   "source": [
    "impact_df_2 = pd.read_csv(r'C:\\Users\\Matth\\Desktop\\Matthew\\Smith MMA\\MMA 869 - Machine Learning & AI\\Final Team Project\\impact_df_2.csv')"
   ]
  },
  {
   "cell_type": "code",
   "execution_count": 2009,
   "metadata": {},
   "outputs": [
    {
     "data": {
      "text/html": [
       "<div>\n",
       "<style scoped>\n",
       "    .dataframe tbody tr th:only-of-type {\n",
       "        vertical-align: middle;\n",
       "    }\n",
       "\n",
       "    .dataframe tbody tr th {\n",
       "        vertical-align: top;\n",
       "    }\n",
       "\n",
       "    .dataframe thead th {\n",
       "        text-align: right;\n",
       "    }\n",
       "</style>\n",
       "<table border=\"1\" class=\"dataframe\">\n",
       "  <thead>\n",
       "    <tr style=\"text-align: right;\">\n",
       "      <th></th>\n",
       "      <th>population</th>\n",
       "      <th>impact</th>\n",
       "    </tr>\n",
       "  </thead>\n",
       "  <tbody>\n",
       "    <tr>\n",
       "      <th>0</th>\n",
       "      <td>100.0</td>\n",
       "      <td>0</td>\n",
       "    </tr>\n",
       "    <tr>\n",
       "      <th>1</th>\n",
       "      <td>NaN</td>\n",
       "      <td>1</td>\n",
       "    </tr>\n",
       "    <tr>\n",
       "      <th>2</th>\n",
       "      <td>NaN</td>\n",
       "      <td>0</td>\n",
       "    </tr>\n",
       "    <tr>\n",
       "      <th>3</th>\n",
       "      <td>NaN</td>\n",
       "      <td>1</td>\n",
       "    </tr>\n",
       "    <tr>\n",
       "      <th>4</th>\n",
       "      <td>NaN</td>\n",
       "      <td>0</td>\n",
       "    </tr>\n",
       "  </tbody>\n",
       "</table>\n",
       "</div>"
      ],
      "text/plain": [
       "   population  impact\n",
       "0       100.0       0\n",
       "1         NaN       1\n",
       "2         NaN       0\n",
       "3         NaN       1\n",
       "4         NaN       0"
      ]
     },
     "execution_count": 2009,
     "metadata": {},
     "output_type": "execute_result"
    }
   ],
   "source": [
    "impact_df_2.head()"
   ]
  },
  {
   "cell_type": "code",
   "execution_count": 2010,
   "metadata": {},
   "outputs": [],
   "source": [
    "#imputing population\n",
    "imp = IterativeImputer()\n",
    "\n",
    "impact_df_2_transformed = imp.fit_transform(impact_df_2)"
   ]
  },
  {
   "cell_type": "code",
   "execution_count": 2011,
   "metadata": {},
   "outputs": [
    {
     "data": {
      "text/plain": [
       "array([[100.        ,   0.        ],\n",
       "       [271.63645812,   1.        ],\n",
       "       [294.74578309,   0.        ],\n",
       "       ...,\n",
       "       [  1.        ,   1.        ],\n",
       "       [  1.        ,   1.        ],\n",
       "       [ 56.        ,   1.        ]])"
      ]
     },
     "execution_count": 2011,
     "metadata": {},
     "output_type": "execute_result"
    }
   ],
   "source": [
    "impact_df_2_transformed"
   ]
  },
  {
   "cell_type": "code",
   "execution_count": 2012,
   "metadata": {},
   "outputs": [],
   "source": [
    "#Converting back to df\n",
    "\n",
    "impact_df_2_transformed = pd.DataFrame({'Population': impact_df_2_transformed[:,0],'Impact': impact_df_2_transformed[:,1] })\n"
   ]
  },
  {
   "cell_type": "code",
   "execution_count": 2014,
   "metadata": {},
   "outputs": [
    {
     "data": {
      "text/plain": [
       "Population    0\n",
       "Impact        0\n",
       "dtype: int64"
      ]
     },
     "execution_count": 2014,
     "metadata": {},
     "output_type": "execute_result"
    }
   ],
   "source": [
    "#Imputation Worked\n",
    "impact_df_2_transformed.isnull().sum()"
   ]
  },
  {
   "cell_type": "code",
   "execution_count": 2015,
   "metadata": {},
   "outputs": [
    {
     "data": {
      "text/html": [
       "<div>\n",
       "<style scoped>\n",
       "    .dataframe tbody tr th:only-of-type {\n",
       "        vertical-align: middle;\n",
       "    }\n",
       "\n",
       "    .dataframe tbody tr th {\n",
       "        vertical-align: top;\n",
       "    }\n",
       "\n",
       "    .dataframe thead th {\n",
       "        text-align: right;\n",
       "    }\n",
       "</style>\n",
       "<table border=\"1\" class=\"dataframe\">\n",
       "  <thead>\n",
       "    <tr style=\"text-align: right;\">\n",
       "      <th></th>\n",
       "      <th>Population</th>\n",
       "      <th>Impact</th>\n",
       "    </tr>\n",
       "  </thead>\n",
       "  <tbody>\n",
       "    <tr>\n",
       "      <th>0</th>\n",
       "      <td>100.000000</td>\n",
       "      <td>0.0</td>\n",
       "    </tr>\n",
       "    <tr>\n",
       "      <th>1</th>\n",
       "      <td>271.636458</td>\n",
       "      <td>1.0</td>\n",
       "    </tr>\n",
       "    <tr>\n",
       "      <th>2</th>\n",
       "      <td>294.745783</td>\n",
       "      <td>0.0</td>\n",
       "    </tr>\n",
       "    <tr>\n",
       "      <th>3</th>\n",
       "      <td>271.636458</td>\n",
       "      <td>1.0</td>\n",
       "    </tr>\n",
       "    <tr>\n",
       "      <th>4</th>\n",
       "      <td>294.745783</td>\n",
       "      <td>0.0</td>\n",
       "    </tr>\n",
       "  </tbody>\n",
       "</table>\n",
       "</div>"
      ],
      "text/plain": [
       "   Population  Impact\n",
       "0  100.000000     0.0\n",
       "1  271.636458     1.0\n",
       "2  294.745783     0.0\n",
       "3  271.636458     1.0\n",
       "4  294.745783     0.0"
      ]
     },
     "execution_count": 2015,
     "metadata": {},
     "output_type": "execute_result"
    }
   ],
   "source": [
    "impact_df_2_transformed.head()"
   ]
  },
  {
   "cell_type": "code",
   "execution_count": 2016,
   "metadata": {},
   "outputs": [],
   "source": [
    "#Exporting to excel so can create plot in R\n",
    "\n",
    "impact_df_2_transformed.to_excel('impact_df_2_transformed.xlsx', index=False)"
   ]
  }
 ],
 "metadata": {
  "kernelspec": {
   "display_name": "Python 3",
   "language": "python",
   "name": "python3"
  },
  "language_info": {
   "codemirror_mode": {
    "name": "ipython",
    "version": 3
   },
   "file_extension": ".py",
   "mimetype": "text/x-python",
   "name": "python",
   "nbconvert_exporter": "python",
   "pygments_lexer": "ipython3",
   "version": "3.8.3"
  }
 },
 "nbformat": 4,
 "nbformat_minor": 4
}
